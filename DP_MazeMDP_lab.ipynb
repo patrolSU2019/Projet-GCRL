{
 "cells": [
  {
   "cell_type": "markdown",
   "metadata": {
    "colab_type": "text",
    "id": "view-in-github"
   },
   "source": [
    "<a href=\"https://colab.research.google.com/github/zhenyuefu/RA_Labs/blob/main/DP_MazeMDP_lab.ipynb\" target=\"_parent\"><img src=\"https://colab.research.google.com/assets/colab-badge.svg\" alt=\"Open In Colab\"/></a>"
   ]
  },
  {
   "cell_type": "markdown",
   "metadata": {
    "id": "pvLBhVirapw-"
   },
   "source": [
    "# Outlook #"
   ]
  },
  {
   "cell_type": "markdown",
   "metadata": {
    "id": "CDnFYaehas2B"
   },
   "source": [
    "In this colab we investigate the **value iteration** and **policy iteration** algorithms in a maze environment using the value function V and the action-value function Q."
   ]
  },
  {
   "cell_type": "markdown",
   "metadata": {
    "id": "ILQS3CjXDRO0"
   },
   "source": [
    "# Installation #"
   ]
  },
  {
   "cell_type": "code",
   "execution_count": 2,
   "metadata": {
    "id": "CCHJW9TP6E6W"
   },
   "outputs": [],
   "source": [
    "%pip install importlib-metadata==4.13.0"
   ]
  },
  {
   "cell_type": "code",
   "execution_count": 3,
   "metadata": {
    "id": "bUpuvJWUdkH9"
   },
   "outputs": [],
   "source": [
    "if get_ipython().__class__.__module__ == \"google.colab._shell\":\n",
    "    !apt-get install ffmpeg"
   ]
  },
  {
   "cell_type": "code",
   "execution_count": 4,
   "metadata": {
    "id": "H6bDf5E_Hh-3"
   },
   "outputs": [],
   "source": [
    "%pip install git+https://github.com/osigaud/bbrl_gym"
   ]
  },
  {
   "cell_type": "code",
   "execution_count": 5,
   "metadata": {
    "colab": {
     "base_uri": "https://localhost:8080/"
    },
    "id": "PE58RHs9dEEh",
    "outputId": "0f1e80b6-0ae6-45eb-bf42-c0c210089b57"
   },
   "outputs": [
    {
     "name": "stdout",
     "output_type": "stream",
     "text": [
      "Matplotlib backend: module://matplotlib_inline.backend_inline\n"
     ]
    }
   ],
   "source": [
    "import os\n",
    "from typing import Tuple, List\n",
    "\n",
    "import numpy as np\n",
    "import matplotlib.pyplot as plt\n",
    "\n",
    "import gym\n",
    "import bbrl_gym\n",
    "\n",
    "from mazemdp.maze_plotter import show_videos\n",
    "from bbrl_gym.envs.maze_mdp import MazeMDPEnv\n",
    "\n",
    "# For visualization\n",
    "os.environ[\"VIDEO_FPS\"] = \"5\"\n",
    "if not os.path.isdir(\"./videos\"):\n",
    "    os.mkdir(\"./videos\")\n",
    "\n",
    "from IPython.display import Video\n",
    "from gym.wrappers.monitoring.video_recorder import VideoRecorder"
   ]
  },
  {
   "cell_type": "markdown",
   "metadata": {
    "id": "Sa3oM2C1CqLl"
   },
   "source": [
    "# Agents and MDPs #"
   ]
  },
  {
   "cell_type": "markdown",
   "metadata": {
    "id": "eL3B_dpu-H-f"
   },
   "source": [
    "\n",
    "A reinforcement learning agent interacts with an environment represented as a Markov Decision Process (MDP). It is defined by a tuple $(S, A, P, r, \\gamma)$ where $S$ is the state space, $A$ is the action space, $P(state_t, action_t, state_{t+1})$ is the transition function, $r(state_t, action_t)$ is the reward function and $\\gamma \\in [0, 1]$ is the discount factor.\n",
    "\n"
   ]
  },
  {
   "cell_type": "markdown",
   "metadata": {
    "id": "A-5EU9BalMQI"
   },
   "source": [
    "In what follows we import code to create an MDP corresponding to a random maze (see https://github.com/osigaud/SimpleMazeMDP for documentation)."
   ]
  },
  {
   "cell_type": "code",
   "execution_count": 6,
   "metadata": {
    "id": "OvSGrPnKlXxf"
   },
   "outputs": [
    {
     "data": {
      "application/vnd.jupyter.widget-view+json": {
       "model_id": "4a05613c62c044e7856baabd12fdfd7b",
       "version_major": 2,
       "version_minor": 0
      },
      "text/plain": [
       "Output()"
      ]
     },
     "metadata": {},
     "output_type": "display_data"
    }
   ],
   "source": [
    "env = gym.make(\"MazeMDP-v0\", kwargs={\"width\": 5, \"height\": 5, \"ratio\": 0.2})\n",
    "env.reset()\n",
    "\n",
    "# in dynamic programming, there is no agent moving in the environment\n",
    "env.set_no_agent()\n",
    "env.init_draw(\"The maze\")"
   ]
  },
  {
   "cell_type": "markdown",
   "metadata": {
    "id": "pL-L0w1ECuah"
   },
   "source": [
    "# Dynamic programming #"
   ]
  },
  {
   "cell_type": "markdown",
   "metadata": {
    "id": "jHUlXv9TCha4"
   },
   "source": [
    "\n",
    "The goal of an RL agent is to find the optimal behaviour, defined by a policy $\\pi$ that assigns an action (or distribution over actions) to each state so as to maximize the agent's total expected reward. In order to estimate how good a state is, either a state value function $V(x)$ or a state-action value function $Q(x,u)$ is used.\n",
    "\n",
    "Dynamic programming algorithms are used for planning, they require a full knowledge of the MDP from the agent (in contrast to \"true\" RL where the agent does not know the transition and reward functions).\n",
    "They find the optimal policy by computing a value function $V$ or an action-value function $Q$ over the state space or state-action space of the given MDP. **Value iteration** and **policy iteration** are two standard dynamic programming algorithms. You should study both of them using both $V$ and $Q$, as these algorithms contain the basic building blocks for most RL algorithms.\n"
   ]
  },
  {
   "cell_type": "markdown",
   "metadata": {
    "id": "LTW9XJD8DjsD"
   },
   "source": [
    "## Value Iteration ##"
   ]
  },
  {
   "cell_type": "markdown",
   "metadata": {
    "id": "jpjrIBqEDmyl"
   },
   "source": [
    "### Value Iteration with the V function ###\n"
   ]
  },
  {
   "cell_type": "markdown",
   "metadata": {
    "id": "8eSkbueDDrw2"
   },
   "source": [
    "\n",
    "When using the $V$ function, **value iteration** aims at finding the optimal values $V^*$ based on the Bellman Optimality Equation:\n",
    "$$V^*(s) = \\max_a \\big[ r(s,a) + \\gamma \\sum_{y \\in S} P(s,a,y)V^*(y) \\big],$$\n",
    "\n",
    "where:\n",
    "\n",
    "*   $r(s, a)$ is the reward obtained from taking action $a$ in state $s$,\n",
    "*   $P(s, a, y)$ is the probability of reaching state $y$ when taking action $a$ in state $s$, \n",
    "*   $\\gamma \\in [0,1]$ is a discount factor defining the relative importance of long term rewards over short term ones (the closer to 0, the more the agent focuses on immediate rewards).\n",
    "\n",
    "In practice, we start with an initial value function $V^0$ (for instance, the values of all states are 0), and then we iterate for all states $s$\n",
    "\n",
    "$$V^{i+1}(s) = \\max_a \\big[ r(s,a) + \\gamma \\sum_{y \\in S} P(s,a,y)V^i(y) \\big],$$\n",
    "\n",
    "until the values converge, that is $\\forall s, V^{i+1}(s) \\approx V^i(s)$. It is shown that at convergence, $\\forall s, V^i(s)= V^*(s)$."
   ]
  },
  {
   "cell_type": "markdown",
   "metadata": {
    "id": "8cwhDCVznRfx"
   },
   "source": [
    "To visualize the policy obtained from **value iteration**, we need to first define the `get_policy_from_V()` function"
   ]
  },
  {
   "cell_type": "code",
   "execution_count": 7,
   "metadata": {
    "id": "uLJ6ccP0aNpR"
   },
   "outputs": [],
   "source": [
    "def get_policy_from_v(mdp: MazeMDPEnv, v: np.ndarray) -> np.ndarray:\n",
    "    # Outputs a policy given the state values\n",
    "    policy = np.zeros(mdp.nb_states)  # initial state values are set to 0\n",
    "    for x in range(mdp.nb_states):  # for each state x\n",
    "        if x not in mdp.terminal_states:\n",
    "            # Compute the value of the state x for each action u of the MDP action space\n",
    "            v_temp = []\n",
    "            for u in range(mdp.action_space.n):\n",
    "                # Process sum of the values of the neighbouring states\n",
    "                summ = 0\n",
    "                for y in range(mdp.nb_states):\n",
    "                    summ = summ + mdp.P[x, u, y] * v[y]\n",
    "                v_temp.append(mdp.r[x, u] + mdp.gamma * summ)\n",
    "            policy[x] = np.argmax(v_temp)\n",
    "    return policy"
   ]
  },
  {
   "cell_type": "markdown",
   "metadata": {
    "id": "pX2cGPT9nNga"
   },
   "source": [
    "\n",
    "The `value_iteration_v(mdp)` function below provides the code of **value iteration** using the $V$ function. It is given as an example from which you can derive other instances of dynamic programming algorithms. Look at it more closely, this will help for later questions:\n",
    "\n",
    "* you can ignore the `mdp.new_render()` and `mdp.render(...)` functions which are here to provide the visualization of the iterations.\n",
    "* find in the code the loop over states, the main loop that performs these updates until the values don't change significantly anymore, the main update equation. Found them? OK, you can continue...\n"
   ]
  },
  {
   "cell_type": "code",
   "execution_count": 8,
   "metadata": {
    "id": "FUurUq7val7K"
   },
   "outputs": [],
   "source": [
    "# ----------------- Value Iteration with the V function ----------------------#\n",
    "# Given a MDP, this algorithm computes the optimal state value function V\n",
    "# It then derives the optimal policy based on this function\n",
    "# This function is given\n",
    "\n",
    "def value_iteration_v(mdp: MazeMDPEnv, render: bool = True) -> Tuple[np.ndarray, List[float]]:\n",
    "    # Value Iteration using the state value v\n",
    "    v = np.zeros(mdp.nb_states)  # initial state values are set to 0\n",
    "    v_list = []\n",
    "    stop = False\n",
    "\n",
    "    video_recorder = VideoRecorder(mdp, \"videos/ValueIterationV.mp4\", enabled=render)\n",
    "    mdp.set_title(\"Value iteration V\")\n",
    "    if render:\n",
    "        mdp.render()\n",
    "        video_recorder.capture_frame()\n",
    "    mdp.set_render_func(mdp.draw_v, lambda draw: draw(v))\n",
    "\n",
    "    while not stop:\n",
    "        v_old = v.copy()\n",
    "        if render:\n",
    "            mdp.render()\n",
    "            video_recorder.capture_frame()\n",
    "\n",
    "        for x in range(mdp.nb_states):  # for each state x\n",
    "            # Compute the value of the state x for each action u of the MDP action space\n",
    "            if x not in mdp.terminal_states:\n",
    "                v_temp = []\n",
    "                for u in range(mdp.action_space.n):\n",
    "                    # Process sum of the values of the neighbouring states\n",
    "                    summ = 0\n",
    "                    for y in range(mdp.nb_states):\n",
    "                        summ = summ + mdp.P[x, u, y] * v_old[y]\n",
    "                    v_temp.append(mdp.r[x, u] + mdp.gamma * summ)\n",
    "\n",
    "                # Select the highest state value among those computed\n",
    "                v[x] = np.max(v_temp)\n",
    "\n",
    "        # Test if convergence has been reached\n",
    "        if (np.linalg.norm(v - v_old)) < 0.01:\n",
    "            stop = True\n",
    "        v_list.append(np.linalg.norm(v))\n",
    "\n",
    "    if render:\n",
    "        policy = get_policy_from_v(mdp, v)\n",
    "        mdp.set_render_func(mdp.draw_v_pi, lambda draw: draw(v, policy))\n",
    "        mdp.render()\n",
    "        video_recorder.capture_frame()\n",
    "\n",
    "\n",
    "    video_recorder.close()\n",
    "    return v, v_list\n"
   ]
  },
  {
   "cell_type": "markdown",
   "metadata": {
    "id": "o9eR8ClAmsGH"
   },
   "source": [
    "Let us run it on the previously defined MDP"
   ]
  },
  {
   "cell_type": "code",
   "execution_count": 9,
   "metadata": {
    "colab": {
     "base_uri": "https://localhost:8080/",
     "height": 593,
     "referenced_widgets": [
      "27b477170e0f4712963509c8d9901318",
      "a8f6f0e07668421c8036aa2bb3cbe163"
     ]
    },
    "id": "2PTk3t-tmoE4",
    "outputId": "25d5ea3a-9c56-420c-eb07-14d2ebd10758"
   },
   "outputs": [
    {
     "data": {
      "application/vnd.jupyter.widget-view+json": {
       "model_id": "50cc659b177c48c7a7a991013c350e36",
       "version_major": 2,
       "version_minor": 0
      },
      "text/plain": [
       "Output()"
      ]
     },
     "metadata": {},
     "output_type": "display_data"
    }
   ],
   "source": [
    "v, v_list = value_iteration_v(env, render=True)"
   ]
  },
  {
   "cell_type": "code",
   "execution_count": 10,
   "metadata": {
    "colab": {
     "base_uri": "https://localhost:8080/",
     "height": 34
    },
    "id": "gQI6BSI99CxZ",
    "outputId": "b5e84c8e-83b2-4dc7-dce1-2b89c8e4ddf8"
   },
   "outputs": [
    {
     "data": {
      "text/html": [],
      "text/plain": [
       "<IPython.core.display.HTML object>"
      ]
     },
     "metadata": {},
     "output_type": "display_data"
    }
   ],
   "source": [
    "show_videos(\"videos/\", prefix=\"ValueiterationV\")"
   ]
  },
  {
   "cell_type": "markdown",
   "metadata": {
    "id": "MdWqPhuHE8cd"
   },
   "source": [
    "### Value iteration with the $Q$ function ###"
   ]
  },
  {
   "cell_type": "markdown",
   "metadata": {
    "id": "K09BVcjDFTSZ"
   },
   "source": [
    "\n",
    "The state-action value function $Q^{\\pi}(s,a)$ defines the value of being in state $s$, taking action $a$ then following policy $\\pi$. The Bellman Optimality Equation for $Q^*$ is\n",
    "$$ Q^*(s,a) =  r(s,a) + \\gamma \\sum_{y} P(s,a,y) \\max_{a'}Q^*(y,a'). $$ \n"
   ]
  },
  {
   "cell_type": "markdown",
   "metadata": {
    "id": "ga2GQ666FZLv"
   },
   "source": [
    "**Question:** By taking inspiration from the `value_iteration_v(mdp)` function above, fill the blank (given with '\\#Q[x,u]=...') in the code of `value_iteration_q(mdp)`."
   ]
  },
  {
   "cell_type": "code",
   "execution_count": 11,
   "metadata": {
    "id": "TnL0la4Vatk0"
   },
   "outputs": [],
   "source": [
    "# ------------------ Value Iteration with the Q function ---------------------#\n",
    "# Given a MDP, this algorithm computes the optimal action value function Q\n",
    "# It then derives the optimal policy based on this function\n",
    "\n",
    "def value_iteration_q(mdp: MazeMDPEnv, render: bool = True) -> Tuple[np.ndarray, List[float]]:\n",
    "    q = np.zeros((mdp.nb_states, mdp.action_space.n))  # initial action values are set to 0\n",
    "    q_list = []\n",
    "    stop = False\n",
    "\n",
    "    if render:\n",
    "        mdp.init_draw(\"Value iteration Q\")\n",
    "\n",
    "    while not stop:\n",
    "        qold = q.copy()\n",
    "\n",
    "        if render:\n",
    "            mdp.draw_v(q, title=\"Value iteration Q\")\n",
    "\n",
    "        for x in range(mdp.nb_states):\n",
    "            if x not in mdp.terminal_states:\n",
    "                for u in range(mdp.action_space.n):\n",
    "                    summ = 0\n",
    "                    for y in range(mdp.nb_states):\n",
    "                        summ += mdp.P[x, u, y] * np.max(qold[y, :])\n",
    "                    q[x,u] = mdp.r[x, u] + mdp.gamma * summ\n",
    "\n",
    "        if (np.linalg.norm(q - qold)) <= 0.01:\n",
    "            stop = True\n",
    "        q_list.append(np.linalg.norm(q))\n",
    "\n",
    "    if render:\n",
    "        mdp.draw_v(q, title=\"Value iteration Q\")\n",
    "        mdp.mdp.plotter.video_writer.release()\n",
    "\n",
    "    return q, q_list\n"
   ]
  },
  {
   "cell_type": "markdown",
   "metadata": {
    "id": "_RrcM7TkoPos"
   },
   "source": [
    "Once you are done, run it."
   ]
  },
  {
   "cell_type": "code",
   "execution_count": 12,
   "metadata": {
    "id": "JVLEEwPwoUee"
   },
   "outputs": [
    {
     "data": {
      "application/vnd.jupyter.widget-view+json": {
       "model_id": "c697aa0ce2f9484ebdbecfa0141e58f4",
       "version_major": 2,
       "version_minor": 0
      },
      "text/plain": [
       "Output()"
      ]
     },
     "metadata": {},
     "output_type": "display_data"
    }
   ],
   "source": [
    "q, q_list = value_iteration_q(env, render=True)"
   ]
  },
  {
   "cell_type": "code",
   "execution_count": 13,
   "metadata": {
    "id": "8ngkVo-y9gCG"
   },
   "outputs": [
    {
     "name": "stdout",
     "output_type": "stream",
     "text": [
      "Converting videos/ValueiterationQ.avi\n"
     ]
    },
    {
     "name": "stderr",
     "output_type": "stream",
     "text": [
      "ffmpeg version 5.1.2 Copyright (c) 2000-2022 the FFmpeg developers\n",
      "  built with clang version 14.0.6\n",
      "  configuration: --prefix=/Users/runner/miniforge3/conda-bld/ffmpeg_1674566267822/_h_env_placehold_placehold_placehold_placehold_placehold_placehold_placehold_placehold_placehold_placehold_placehold_placehold_placehold_placehold_placehold_placehold_placehold_placehold_placehold_pl --cc=arm64-apple-darwin20.0.0-clang --cxx=arm64-apple-darwin20.0.0-clang++ --nm=arm64-apple-darwin20.0.0-nm --ar=arm64-apple-darwin20.0.0-ar --disable-doc --disable-openssl --enable-demuxer=dash --enable-hardcoded-tables --enable-libfreetype --enable-libfontconfig --enable-libopenh264 --enable-cross-compile --arch=arm64 --target-os=darwin --cross-prefix=arm64-apple-darwin20.0.0- --host-cc=/Users/runner/miniforge3/conda-bld/ffmpeg_1674566267822/_build_env/bin/x86_64-apple-darwin13.4.0-clang --enable-neon --enable-gnutls --enable-libmp3lame --enable-libvpx --enable-pthreads --enable-gpl --enable-libx264 --enable-libx265 --enable-libaom --enable-libsvtav1 --enable-libxml2 --enable-pic --enable-shared --disable-static --enable-version3 --enable-zlib --enable-libopus --pkg-config=/Users/runner/miniforge3/conda-bld/ffmpeg_1674566267822/_build_env/bin/pkg-config\n",
      "  libavutil      57. 28.100 / 57. 28.100\n",
      "  libavcodec     59. 37.100 / 59. 37.100\n",
      "  libavformat    59. 27.100 / 59. 27.100\n",
      "  libavdevice    59.  7.100 / 59.  7.100\n",
      "  libavfilter     8. 44.100 /  8. 44.100\n",
      "  libswscale      6.  7.100 /  6.  7.100\n",
      "  libswresample   4.  7.100 /  4.  7.100\n",
      "  libpostproc    56.  6.100 / 56.  6.100\n",
      "Input #0, avi, from 'videos/ValueiterationQ.avi':\n",
      "  Metadata:\n",
      "    software        : Lavf58.76.100\n",
      "  Duration: 00:00:02.20, start: 0.000000, bitrate: 1282 kb/s\n",
      "  Stream #0:0: Video: mjpeg (Baseline) (MJPG / 0x47504A4D), yuvj420p(pc, bt470bg/unknown/unknown), 500x500, 1386 kb/s, 5 fps, 5 tbr, 5 tbn\n",
      "Stream mapping:\n",
      "  Stream #0:0 -> #0:0 (mjpeg (native) -> h264 (libx264))\n",
      "Press [q] to stop, [?] for help\n",
      "[libx264 @ 0x11d7065d0] using cpu capabilities: ARMv8 NEON\n",
      "[libx264 @ 0x11d7065d0] profile High, level 2.2, 4:2:0, 8-bit\n",
      "[libx264 @ 0x11d7065d0] 264 - core 164 r3095 baee400 - H.264/MPEG-4 AVC codec - Copyleft 2003-2022 - http://www.videolan.org/x264.html - options: cabac=1 ref=3 deblock=1:0:0 analyse=0x3:0x113 me=hex subme=7 psy=1 psy_rd=1.00:0.00 mixed_ref=1 me_range=16 chroma_me=1 trellis=1 8x8dct=1 cqm=0 deadzone=21,11 fast_pskip=1 chroma_qp_offset=-2 threads=15 lookahead_threads=2 sliced_threads=0 nr=0 decimate=1 interlaced=0 bluray_compat=0 constrained_intra=0 bframes=3 b_pyramid=2 b_adapt=1 b_bias=0 direct=1 weightb=1 open_gop=0 weightp=2 keyint=250 keyint_min=5 scenecut=40 intra_refresh=0 rc_lookahead=40 rc=crf mbtree=1 crf=19.0 qcomp=0.60 qpmin=0 qpmax=69 qpstep=4 ip_ratio=1.40 aq=1:1.00\n",
      "Output #0, mp4, to 'videos/ValueiterationQ.mp4':\n",
      "  Metadata:\n",
      "    software        : Lavf58.76.100\n",
      "    encoder         : Lavf59.27.100\n",
      "  Stream #0:0: Video: h264 (avc1 / 0x31637661), yuvj420p(pc, bt470bg/unknown/unknown, progressive), 500x500, q=2-31, 5 fps, 10240 tbn\n",
      "    Metadata:\n",
      "      encoder         : Lavc59.37.100 libx264\n",
      "    Side data:\n",
      "      cpb: bitrate max/min/avg: 0/0/0 buffer size: 0 vbv_delay: N/A\n",
      "frame=   11 fps=0.0 q=-1.0 Lsize=      85kB time=00:00:01.60 bitrate= 434.3kbits/s speed=65.4x    \n",
      "video:84kB audio:0kB subtitle:0kB other streams:0kB global headers:0kB muxing overhead: 1.084654%\n",
      "[libx264 @ 0x11d7065d0] frame I:1     Avg QP:10.69  size: 25607\n",
      "[libx264 @ 0x11d7065d0] frame P:8     Avg QP:16.31  size:  7353\n",
      "[libx264 @ 0x11d7065d0] frame B:2     Avg QP:11.42  size:   402\n",
      "[libx264 @ 0x11d7065d0] consecutive B-frames: 72.7%  0.0% 27.3%  0.0%\n",
      "[libx264 @ 0x11d7065d0] mb I  I16..4: 62.9%  5.1% 32.0%\n",
      "[libx264 @ 0x11d7065d0] mb P  I16..4:  7.5%  2.2%  2.9%  P16..4: 10.5%  2.3%  0.9%  0.0%  0.0%    skip:73.7%\n",
      "[libx264 @ 0x11d7065d0] mb B  I16..4:  1.3%  0.0%  0.0%  B16..8:  7.3%  0.3%  0.2%  direct: 0.4%  skip:90.4%  L0:47.3% L1:52.7% BI: 0.0%\n",
      "[libx264 @ 0x11d7065d0] 8x8 transform intra:11.3% inter:76.1%\n",
      "[libx264 @ 0x11d7065d0] coded y,uvDC,uvAC intra: 18.7% 19.5% 17.0% inter: 6.0% 7.3% 7.0%\n",
      "[libx264 @ 0x11d7065d0] i16 v,h,dc,p: 66% 34%  1%  0%\n",
      "[libx264 @ 0x11d7065d0] i8 v,h,dc,ddl,ddr,vr,hd,vl,hu: 28% 15% 39%  1%  2%  3%  4%  3%  5%\n",
      "[libx264 @ 0x11d7065d0] i4 v,h,dc,ddl,ddr,vr,hd,vl,hu: 37% 28% 17%  3%  2%  4%  3%  3%  3%\n",
      "[libx264 @ 0x11d7065d0] i8c dc,h,v,p: 78% 10% 11%  1%\n",
      "[libx264 @ 0x11d7065d0] Weighted P-Frames: Y:0.0% UV:0.0%\n",
      "[libx264 @ 0x11d7065d0] ref P L0: 86.6%  3.3%  7.1%  3.1%\n",
      "[libx264 @ 0x11d7065d0] ref B L0: 73.5% 15.4% 11.1%\n",
      "[libx264 @ 0x11d7065d0] kb/s:309.95\n"
     ]
    },
    {
     "data": {
      "text/html": [
       "<video alt=\"videos/ValueiterationQ.mp4\" autoplay\n",
       "                    loop controls style=\"height: 400px;\">\n",
       "                    <source src=\"data:video/mp4;base64,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\" type=\"video/mp4\" />\n",
       "                </video>"
      ],
      "text/plain": [
       "<IPython.core.display.HTML object>"
      ]
     },
     "metadata": {},
     "output_type": "display_data"
    }
   ],
   "source": [
    "show_videos(\"videos/\", prefix=\"ValueiterationQ\")"
   ]
  },
  {
   "cell_type": "markdown",
   "metadata": {
    "id": "BN6zdsd9F_dn"
   },
   "source": [
    "## Policy Iteration ##"
   ]
  },
  {
   "cell_type": "markdown",
   "metadata": {
    "id": "1R1x-PDzGH_5"
   },
   "source": [
    "\n",
    "The **policy iteration** algorithm is more complicated than **value iteration**.\n",
    "Given a MDP and a policy $\\pi$, **policy iteration** iterates the following steps: \n",
    "\n",
    "*   Evaluate policy $\\pi$: compute $V$ or $Q$ based on the policy $\\pi$;\n",
    "*   Improve policy $\\pi$: compute a better policy based on $V$ or $Q$.\n",
    "\n",
    "This process is repeated until convergence, i.e. when the policy cannot be improved anymore.\n"
   ]
  },
  {
   "cell_type": "markdown",
   "metadata": {
    "id": "XiiWPQO2GlKy"
   },
   "source": [
    "### Policy iteration with the $V$ function ###"
   ]
  },
  {
   "cell_type": "markdown",
   "metadata": {
    "id": "4L0IiPkNGryB"
   },
   "source": [
    "When using $V$, $V^{\\pi}(s)$ is the expected return when starting from state $s$ and following policy $\\pi$. It is processed based on the Bellman Optimality Equation for deterministic policies:\n",
    "\n",
    "$$V^\\pi(s) = r(s, \\pi(s)) + \\gamma \\sum_{y \\in S}P(s, \\pi(s), y)V^\\pi(y),$$\n",
    "\n",
    "\n",
    "where:\n",
    "\n",
    "*   $\\pi$ is a deterministic policy, meaning that in a state $s$, the agent always selects the same action,\n",
    "*   $V^\\pi(y)$ is the value of the state $y$ under policy $\\pi$.\n",
    "\n",
    "\n",
    "Thus, given a policy $\\pi$, one must first compute its value function $V^\\pi(s)$ for all states $s$ iterating the Bellman Optimality Equation until convergence, that is using **value iteration**.\n",
    "Then, one must determine if policy $\\pi$ can be improved based on $V$. For that, in each state $s$, one can compute the Q-value $Q(s,a)$ of applying action $a$ and then following policy $\\pi$ based on the just computed $V^\\pi$, and replace the action $\\pi(s)$ with $\\arg\\max_a Q(s,a)$.\n"
   ]
  },
  {
   "cell_type": "markdown",
   "metadata": {
    "id": "1ifSjTGpJsBd"
   },
   "source": [
    "\n",
    "In order to facilitate the coding of **policy iteration** algorithms, we first define a set of useful functions.\n",
    "\n",
    "The `improve_policy_from_v(mdp, v, policy)` function is very similar to the `get_policy_from_v(v)` function which was given above. The main difference is that it takes a policy as argument and improves this policy when possible, thus is is more in the spirit of the `policy improvement` step of **policy iteration**. But both functions can be used interchangeably.\n",
    "\n",
    "The functions `evaluate_one_step_v(mdp, v, policy)`, where `mdp` is a given MDP, `v` is some value function in this MDP and `policy` is some policy and the function `evaluate_v(mdp, policy)` are also given. These functions are used to build the value function $V^\\pi$ corresponding to policy $\\pi$.\n"
   ]
  },
  {
   "cell_type": "code",
   "execution_count": 14,
   "metadata": {
    "id": "WTHPccOTaTMM"
   },
   "outputs": [],
   "source": [
    "def improve_policy_from_v(mdp: MazeMDPEnv, v: np.ndarray, policy: np.ndarray) -> np.ndarray:\n",
    "    # Improves a policy given the state values\n",
    "    for x in range(mdp.nb_states):  # for each state x\n",
    "        # Compute the value of the state x for each action u of the MDP action space\n",
    "        if x not in mdp.terminal_states:\n",
    "            v_temp = np.zeros(mdp.action_space.n)\n",
    "            for u in range(mdp.action_space.n):\n",
    "                # Process sum of the values of the neighbouring states\n",
    "                summ = 0\n",
    "                for y in range(mdp.nb_states):\n",
    "                    summ = summ + mdp.P[x, u, y] * v[y]\n",
    "                v_temp[u] = mdp.r[x, u] + mdp.gamma * summ\n",
    "\n",
    "            for u in range(mdp.action_space.n):\n",
    "                if v_temp[u] > v_temp[policy[x]]:\n",
    "                    policy[x] = u\n",
    "    return policy"
   ]
  },
  {
   "cell_type": "code",
   "execution_count": 15,
   "metadata": {
    "id": "gTFXjB2laYEt"
   },
   "outputs": [],
   "source": [
    "def evaluate_one_step_v(mdp: MazeMDPEnv, v: np.ndarray, policy: np.ndarray) -> np.ndarray:\n",
    "    # Outputs the state value function after one step of policy evaluation\n",
    "    # Corresponds to one application of the Bellman Operator\n",
    "    v_new = np.zeros(mdp.nb_states)  # initial state values are set to 0\n",
    "    for x in range(mdp.nb_states):  # for each state x\n",
    "        # Compute the value of the state x for each action u of the MDP action space\n",
    "        if x not in mdp.terminal_states:\n",
    "            # Process sum of the values of the neighbouring states\n",
    "            summ = 0\n",
    "            for y in range(mdp.nb_states):\n",
    "                summ = summ + mdp.P[x, policy[x], y] * v[y]\n",
    "            v_new[x] = mdp.r[x, policy[x]] + mdp.gamma * summ\n",
    "    return v_new"
   ]
  },
  {
   "cell_type": "code",
   "execution_count": 16,
   "metadata": {
    "id": "8gb9BGM1aa7p"
   },
   "outputs": [],
   "source": [
    "def evaluate_v(mdp: MazeMDPEnv, policy: np.ndarray) -> np.ndarray:\n",
    "    # Outputs the state value function of a policy\n",
    "    v = np.zeros(mdp.nb_states)  # initial state values are set to 0\n",
    "    stop = False\n",
    "    while not stop:\n",
    "        vold = v.copy()\n",
    "        v = evaluate_one_step_v(mdp, vold, policy)\n",
    "\n",
    "        # Test if convergence has been reached\n",
    "        if (np.linalg.norm(v - vold)) < 0.01:\n",
    "            stop = True\n",
    "    return v"
   ]
  },
  {
   "cell_type": "markdown",
   "metadata": {
    "id": "xpvHat5dqAvl"
   },
   "source": [
    "To perform **policy iteration** we also need an initial random policy."
   ]
  },
  {
   "cell_type": "code",
   "execution_count": 17,
   "metadata": {
    "id": "E2E3k7-vdV81"
   },
   "outputs": [],
   "source": [
    "from mazemdp import random_policy"
   ]
  },
  {
   "cell_type": "markdown",
   "metadata": {
    "id": "g6gyHWWoMF4i"
   },
   "source": [
    "**Question:** By using the above functions, fill the code of the `policy_iteration_v(mdp)` function below."
   ]
  },
  {
   "cell_type": "code",
   "execution_count": 18,
   "metadata": {
    "id": "XR3FHBGZa5qp"
   },
   "outputs": [],
   "source": [
    "# ---------------- Policy Iteration with the V function -----------------#\n",
    "# Given an MDP, this algorithm simultaneously computes \n",
    "# the optimal state value function V and the optimal policy\n",
    "\n",
    "def policy_iteration_v(mdp: MazeMDPEnv, render: bool = True) -> Tuple[np.ndarray, List[float]]:\n",
    "    # policy iteration over the v function\n",
    "    v = np.zeros(mdp.nb_states)  # initial state values are set to 0\n",
    "    v_list = []\n",
    "    policy = random_policy(mdp)\n",
    "\n",
    "    stop = False\n",
    "\n",
    "    if render:\n",
    "        mdp.init_draw(\"Policy iteration V\")\n",
    "\n",
    "    while not stop:\n",
    "        vold = v.copy()\n",
    "        # Step 1 : Policy Evaluation\n",
    "        \n",
    "        v = evaluate_v(mdp, policy)\n",
    "        \n",
    "\n",
    "        if render:\n",
    "            mdp.draw_v_pi(v, policy, title=\"Policy iteration V\")\n",
    "\n",
    "        # Step 2 : Policy Improvement\n",
    "        policy = improve_policy_from_v(mdp, v, policy)\n",
    "        \n",
    "        # Check convergence\n",
    "        if (np.linalg.norm(v - vold)) < 0.01:\n",
    "            stop = True\n",
    "        v_list.append(np.linalg.norm(v))\n",
    "\n",
    "    if render:\n",
    "        mdp.draw_v_pi(v, policy, title=\"Policy iteration V\")\n",
    "        mdp.mdp.plotter.video_writer.release()\n",
    "\n",
    "    return v, v_list\n",
    "\n"
   ]
  },
  {
   "cell_type": "markdown",
   "metadata": {
    "id": "sNCykfE9qKlH"
   },
   "source": [
    "And finally run it."
   ]
  },
  {
   "cell_type": "code",
   "execution_count": 19,
   "metadata": {
    "id": "fxzgX6UFqOcX"
   },
   "outputs": [
    {
     "data": {
      "application/vnd.jupyter.widget-view+json": {
       "model_id": "91ceeeb5da7a41fab6826f6654ff93d5",
       "version_major": 2,
       "version_minor": 0
      },
      "text/plain": [
       "Output()"
      ]
     },
     "metadata": {},
     "output_type": "display_data"
    }
   ],
   "source": [
    "v, v_list = policy_iteration_v(env, render=True)"
   ]
  },
  {
   "cell_type": "markdown",
   "metadata": {
    "id": "f64zjARKIT7s"
   },
   "source": [
    "### Policy iteration with the $Q$ function ###"
   ]
  },
  {
   "cell_type": "markdown",
   "metadata": {
    "id": "hfOgv6znIbF6"
   },
   "source": [
    "\n",
    "The **policy iteration** algorithm with the $Q$ function is the same as with the $V$ function, but the policy improvement step is more straightforward.\n",
    "\n",
    "When using $Q$, the Bellman Optimality Equation with deterministic policy $\\pi$ for $Q$ becomes: \n",
    "$$Q^{\\pi}(s,a) = r(s,a) + \\gamma \\sum_{y \\in S}P(s,a,y)Q^{\\pi}(y,\\pi(y)).$$\n",
    "\n",
    "The policy can then be updated as follows:\n",
    "$$\\pi^{(t+1)}(s) = \\arg\\max_aQ^{\\pi^{(t)}}(s,a).$$\n"
   ]
  },
  {
   "cell_type": "markdown",
   "metadata": {
    "id": "_S-sF4ynqlUF"
   },
   "source": [
    "First, we need to determine a policy from the $Q$ function."
   ]
  },
  {
   "cell_type": "markdown",
   "metadata": {
    "id": "vDeb82mSJ2gJ"
   },
   "source": [
    "**Question:**  fill the `get_policy_from_q(q)` function, where $q$ is the state-action value function."
   ]
  },
  {
   "cell_type": "code",
   "execution_count": 20,
   "metadata": {
    "id": "rfNl_xDlSYIy"
   },
   "outputs": [],
   "source": [
    "def get_policy_from_q(q: np.ndarray) -> np.ndarray:\n",
    "    # Outputs a policy given the action values\n",
    "    policy = np.zeros(q.shape[0], dtype=int)\n",
    "    for x in range(q.shape[0]):\n",
    "        policy[x] = np.argmax(q[x, :])\n",
    "    return policy"
   ]
  },
  {
   "cell_type": "markdown",
   "metadata": {
    "id": "4F_ueGD5K4jI"
   },
   "source": [
    "**Question:** By drawing inspiration on the functions give with the $v$ function, fill the code of the `evaluate_one_step_q(mdp, q, policy)` function below, where $q$ is some action value function, and the `evaluate_q(mdp, policy)` function."
   ]
  },
  {
   "cell_type": "code",
   "execution_count": 21,
   "metadata": {
    "id": "7zSOoqvJafLo"
   },
   "outputs": [],
   "source": [
    "def evaluate_one_step_q(mdp: MazeMDPEnv, q: np.ndarray, policy: np.ndarray) -> np.ndarray:\n",
    "    # Outputs the state value function after one step of policy evaluation\n",
    "    qnew = np.zeros((mdp.nb_states, mdp.action_space.n))  # initial action values are set to 0\n",
    "    for x in range(mdp.nb_states):  # for each state x\n",
    "        # Compute the value of the state x for each action u of the MDP action space\n",
    "        if x not in mdp.terminal_states:\n",
    "            for u in range(mdp.action_space.n):\n",
    "                # Process sum of the values of the neighbouring states\n",
    "                summ = 0\n",
    "                for y in range(mdp.nb_states-1):\n",
    "                    summ += mdp.P[x, u, y] * q[y, policy[y]]\n",
    "                    \n",
    "                qnew[x, u] = mdp.r[x, u] + mdp.gamma * summ\n",
    "    return qnew"
   ]
  },
  {
   "cell_type": "code",
   "execution_count": 22,
   "metadata": {
    "id": "Phlt5QfbaiWw"
   },
   "outputs": [],
   "source": [
    "def evaluate_q(mdp: MazeMDPEnv, policy: np.ndarray) -> np.ndarray:\n",
    "    # Outputs the state value function of a policy\n",
    "    q = np.zeros((mdp.nb_states, mdp.action_space.n))  # initial action values are set to 0\n",
    "    stop = False\n",
    "    while not stop:\n",
    "        qold = q.copy()\n",
    "        q = evaluate_one_step_q(mdp, qold, policy)\n",
    "        # Test if convergence has been reached\n",
    "        if (np.linalg.norm(q - qold)) < 0.01:\n",
    "            stop = True\n",
    "    return q"
   ]
  },
  {
   "cell_type": "markdown",
   "metadata": {
    "id": "pO99FFnqL51O"
   },
   "source": [
    "**Question:** By using the above functions, fill the code of the `policy_iteration_q(mdp)` function below."
   ]
  },
  {
   "cell_type": "code",
   "execution_count": 23,
   "metadata": {
    "id": "kM5vOv5XazEq"
   },
   "outputs": [],
   "source": [
    "# ---------------- Policy Iteration with the Q function -----------------#\n",
    "# Given a MDP, this algorithm simultaneously computes \n",
    "# the optimal action value function Q and the optimal policy\n",
    "\n",
    "def policy_iteration_q(mdp: MazeMDPEnv, render: bool = True) -> Tuple[np.ndarray, List[float]]:\n",
    "    \"\"\"policy iteration over the q function.\"\"\"\n",
    "    q = np.zeros((mdp.nb_states, mdp.action_space.n))  # initial action values are set to 0\n",
    "    q_list = []\n",
    "    policy = random_policy(mdp)\n",
    "\n",
    "    stop = False\n",
    "\n",
    "    if render:\n",
    "        mdp.init_draw(\"Policy iteration Q\")\n",
    "\n",
    "    while not stop:\n",
    "        qold = q.copy()\n",
    "\n",
    "        if render:\n",
    "            mdp.draw_v(q, title=\"Policy iteration Q\")\n",
    "\n",
    "        # Step 1 : Policy evaluation\n",
    "        q = evaluate_q(mdp, policy)\n",
    "\n",
    "        # Step 2 : Policy improvement\n",
    "        policy = get_policy_from_q(q)\n",
    "\n",
    "        # Check convergence\n",
    "        if (np.linalg.norm(q - qold)) <= 0.01:\n",
    "            stop = True\n",
    "        q_list.append(np.linalg.norm(q))\n",
    "\n",
    "    if render:\n",
    "        mdp.draw_v_pi(q, get_policy_from_q(q), title=\"Policy iteration Q\")\n",
    "    return q, q_list\n"
   ]
  },
  {
   "cell_type": "markdown",
   "metadata": {
    "id": "XR999T8Hq1c8"
   },
   "source": [
    "Finally, run it."
   ]
  },
  {
   "cell_type": "code",
   "execution_count": 24,
   "metadata": {
    "id": "jJ9YfuNEq43H"
   },
   "outputs": [
    {
     "data": {
      "application/vnd.jupyter.widget-view+json": {
       "model_id": "7cce58edb31c427b886019610207ad79",
       "version_major": 2,
       "version_minor": 0
      },
      "text/plain": [
       "Output()"
      ]
     },
     "metadata": {},
     "output_type": "display_data"
    },
    {
     "name": "stdout",
     "output_type": "stream",
     "text": [
      "[[0.43046721 0.4782969  0.4782969  0.43046721]\n",
      " [0.43046721 0.531441   0.531441   0.4782969 ]\n",
      " [0.4782969  0.4782969  0.59049    0.531441  ]\n",
      " [0.531441   0.4782969  0.531441   0.4782969 ]\n",
      " [0.4782969  0.531441   0.4782969  0.43046721]\n",
      " [0.4782969  0.59049    0.59049    0.4782969 ]\n",
      " [0.531441   0.531441   0.6561     0.531441  ]\n",
      " [0.59049    0.531441   0.531441   0.4782969 ]\n",
      " [0.59049    0.6561     0.6561     0.531441  ]\n",
      " [0.59049    0.6561     0.729      0.59049   ]\n",
      " [0.6561     0.6561     0.729      0.6561    ]\n",
      " [0.59049    0.6561     0.6561     0.59049   ]\n",
      " [0.59049    0.729      0.729      0.59049   ]\n",
      " [0.6561     0.81       0.81       0.6561    ]\n",
      " [0.729      0.729      0.9        0.81      ]\n",
      " [0.81       0.729      0.729      0.6561    ]\n",
      " [0.6561     0.729      0.6561     0.59049   ]\n",
      " [0.6561     0.81       0.729      0.6561    ]\n",
      " [0.729      0.9        0.81       0.729     ]\n",
      " [1.         1.         1.         1.        ]\n",
      " [0.         0.         0.         0.        ]]\n",
      "[2.3706539182259396, 3.4179473372186413, 4.201875871560226, 4.777171481117253, 5.304264962002182, 5.5955102338545, 5.756724604631294, 5.820746193496849, 5.820746193496849]\n"
     ]
    }
   ],
   "source": [
    "q, q_list = policy_iteration_q(env, render=True)\n",
    "print(q)\n",
    "print(q_list)"
   ]
  },
  {
   "cell_type": "markdown",
   "metadata": {
    "id": "edD-FVlaLvnK"
   },
   "source": [
    "### Study part: Experimental comparisons"
   ]
  },
  {
   "cell_type": "markdown",
   "metadata": {
    "id": "RSnI34THM4Af"
   },
   "source": [
    "We will now compare the efficiency of the various dynamic programming methods using either the $V$ or the  $Q$ functions.\n",
    "\n",
    "In all your dymanic programming functions, add code to count the number of iterations and the number of elementary $V$ or $Q$ updates. Use the provided `mazemdp.Chrono` class to measure the time taken. You may generate various mazes of various sizes to figure out the influence of the maze topology.\n",
    "\n",
    "Build a table where you compare the various dymanic programming functions in terms of iterations, elementary operations and time taken.\n",
    "\n",
    "You can run the `plot_convergence_vi_pi(...)` function provided below to visualize the convergence of the various algorithms.\n"
   ]
  },
  {
   "cell_type": "code",
   "execution_count": 25,
   "metadata": {
    "id": "NkfRPpT6a7D6"
   },
   "outputs": [],
   "source": [
    "# ---- plot learning curves of value iteration and policy iteration using V and Q -----#\n",
    "def plot_convergence_vi_pi(env, render):\n",
    "    v, v_list1 = value_iteration_v(env, render)\n",
    "    q, q_list1 = value_iteration_q(env, render)\n",
    "    v, v_list2 = policy_iteration_v(env, render)\n",
    "    q, q_list2 = policy_iteration_q(env, render)\n",
    "\n",
    "    plt.plot(range(len(v_list1)), v_list1, label='value_iteration_v')\n",
    "    plt.plot(range(len(q_list1)), q_list1, label='value_iteration_q')\n",
    "    plt.plot(range(len(v_list2)), v_list2, label='policy_iteration_v')\n",
    "    plt.plot(range(len(q_list2)), q_list2, label='policy_iteration_q')\n",
    "\n",
    "    plt.xlabel('Number of episodes')\n",
    "    plt.ylabel('Norm of V or Q value')\n",
    "    plt.legend(loc='upper right')\n",
    "    plt.savefig(\"comparison_DP.png\")\n",
    "    plt.title(\"Comparison of convergence rates\")\n",
    "    plt.show()"
   ]
  },
  {
   "cell_type": "markdown",
   "metadata": {
    "id": "nTOUNa1IMb6G"
   },
   "source": [
    "**Question:** Run the code below and visualize the results of the different algorithms"
   ]
  },
  {
   "cell_type": "code",
   "execution_count": 26,
   "metadata": {
    "id": "zBrTUnLMopHk"
   },
   "outputs": [
    {
     "data": {
      "image/png": "[encoded data removed]",
      "text/plain": [
       "<Figure size 640x480 with 1 Axes>"
      ]
     },
     "metadata": {},
     "output_type": "display_data"
    }
   ],
   "source": [
    "plot_convergence_vi_pi(env, False)\n"
   ]
  },
  {
   "cell_type": "markdown",
   "metadata": {
    "id": "S9LttlIXsB9o"
   },
   "source": [
    "\n",
    "Given the results above, discuss the relative computational efficiency of these methods."
   ]
  },
  {
   "cell_type": "markdown",
   "metadata": {
    "id": "0UGNtcOgsQgZ"
   },
   "source": [
    "### Study part: Generalized Policy Iteration"
   ]
  },
  {
   "cell_type": "markdown",
   "metadata": {
    "id": "l89FvxifsVib"
   },
   "source": [
    "Code the **generalized policy iteration** algorithm and study the influence of the number of evaluation steps between each improvement step"
   ]
  }
 ],
 "metadata": {
  "colab": {
   "include_colab_link": true,
   "provenance": []
  },
  "kernelspec": {
   "display_name": "MAPSI",
   "language": "python",
   "name": "python3"
  },
  "language_info": {
   "codemirror_mode": {
    "name": "ipython",
    "version": 3
   },
   "file_extension": ".py",
   "mimetype": "text/x-python",
   "name": "python",
   "nbconvert_exporter": "python",
   "pygments_lexer": "ipython3",
   "version": "3.10.8"
  },
  "vscode": {
   "interpreter": {
    "hash": "6cd79503748b5223e5db4f7a1bfb24a442e426267ae75455059d26da2b218ee8"
   }
  },
  "widgets": {
   "application/vnd.jupyter.widget-state+json": {
    "27b477170e0f4712963509c8d9901318": {
     "model_module": "@jupyter-widgets/output",
     "model_module_version": "1.0.0",
     "model_name": "OutputModel",
     "state": {
      "_dom_classes": [],
      "_model_module": "@jupyter-widgets/output",
      "_model_module_version": "1.0.0",
      "_model_name": "OutputModel",
      "_view_count": null,
      "_view_module": "@jupyter-widgets/output",
      "_view_module_version": "1.0.0",
      "_view_name": "OutputView",
      "layout": "IPY_MODEL_a8f6f0e07668421c8036aa2bb3cbe163",
      "msg_id": "",
      "outputs": [
       {
        "data": {
         "image/png": "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\n",
         "text/plain": "<IPython.core.display.Image object>"
        },
        "metadata": {},
        "output_type": "display_data"
       }
      ]
     }
    },
    "a8f6f0e07668421c8036aa2bb3cbe163": {
     "model_module": "@jupyter-widgets/base",
     "model_module_version": "1.2.0",
     "model_name": "LayoutModel",
     "state": {
      "_model_module": "@jupyter-widgets/base",
      "_model_module_version": "1.2.0",
      "_model_name": "LayoutModel",
      "_view_count": null,
      "_view_module": "@jupyter-widgets/base",
      "_view_module_version": "1.2.0",
      "_view_name": "LayoutView",
      "align_content": null,
      "align_items": null,
      "align_self": null,
      "border": null,
      "bottom": null,
      "display": null,
      "flex": null,
      "flex_flow": null,
      "grid_area": null,
      "grid_auto_columns": null,
      "grid_auto_flow": null,
      "grid_auto_rows": null,
      "grid_column": null,
      "grid_gap": null,
      "grid_row": null,
      "grid_template_areas": null,
      "grid_template_columns": null,
      "grid_template_rows": null,
      "height": null,
      "justify_content": null,
      "justify_items": null,
      "left": null,
      "margin": null,
      "max_height": null,
      "max_width": null,
      "min_height": null,
      "min_width": null,
      "object_fit": null,
      "object_position": null,
      "order": null,
      "overflow": null,
      "overflow_x": null,
      "overflow_y": null,
      "padding": null,
      "right": null,
      "top": null,
      "visibility": null,
      "width": null
     }
    }
   }
  }
 },
 "nbformat": 4,
 "nbformat_minor": 0
}
