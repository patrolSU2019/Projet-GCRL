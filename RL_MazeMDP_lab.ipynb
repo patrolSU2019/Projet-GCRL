{
 "cells": [
  {
   "cell_type": "markdown",
   "metadata": {
    "colab_type": "text",
    "id": "view-in-github"
   },
   "source": [
    "<a href=\"https://colab.research.google.com/github/zhenyuefu/RA_Labs/blob/main/RL_MazeMDP_lab.ipynb\" target=\"_parent\"><img src=\"https://colab.research.google.com/assets/colab-badge.svg\" alt=\"Open In Colab\"/></a>"
   ]
  },
  {
   "cell_type": "markdown",
   "metadata": {
    "id": "t5Y434EKaEji"
   },
   "source": [
    "# Outlook #"
   ]
  },
  {
   "cell_type": "markdown",
   "metadata": {
    "id": "7t49ETcZaJg3"
   },
   "source": [
    "In this colab we will study basic reinforcement learning algorithms: TD learning, q-learning and sarsa. We will also investigate two basic exploration strategies: $\\epsilon$-greedy and softmax."
   ]
  },
  {
   "cell_type": "markdown",
   "metadata": {
    "id": "pfP_irDZNa0J"
   },
   "source": [
    "# Installation #"
   ]
  },
  {
   "cell_type": "code",
   "execution_count": 15,
   "metadata": {
    "id": "6nH7pFX47u9V"
   },
   "outputs": [],
   "source": [
    "%pip install importlib-metadata==4.13.0"
   ]
  },
  {
   "cell_type": "code",
   "execution_count": 16,
   "metadata": {
    "id": "6qRaL0jp5zmp"
   },
   "outputs": [],
   "source": [
    "%pip install git+https://github.com/osigaud/bbrl_gym"
   ]
  },
  {
   "cell_type": "code",
   "execution_count": 1,
   "metadata": {
    "colab": {
     "base_uri": "https://localhost:8080/"
    },
    "id": "APW9lTEe59ah",
    "outputId": "fd1bdf56-6db9-45d4-a015-92cae236b33f"
   },
   "outputs": [
    {
     "name": "stdout",
     "output_type": "stream",
     "text": [
      "Matplotlib backend: module://matplotlib_inline.backend_inline\n"
     ]
    }
   ],
   "source": [
    "import os\n",
    "from typing import Tuple, List\n",
    "\n",
    "import numpy as np\n",
    "import matplotlib.pyplot as plt\n",
    "from tqdm.notebook import tqdm\n",
    "\n",
    "from mazemdp.toolbox import egreedy, egreedy_loc, softmax, sample_categorical\n",
    "from mazemdp.maze_plotter import show_videos\n",
    "from mazemdp.mdp import Mdp\n",
    "from bbrl_gym.envs.maze_mdp import MazeMDPEnv\n",
    "\n",
    "# For visualization\n",
    "os.environ[\"VIDEO_FPS\"] = \"5\"\n",
    "if not os.path.isdir(\"./videos\"):\n",
    "    os.mkdir(\"./videos\")\n",
    "\n",
    "from IPython.display import Video\n",
    "\n",
    "# Settings\n",
    "NB_EPISODES = 50\n",
    "TIMEOUT = 25"
   ]
  },
  {
   "cell_type": "markdown",
   "metadata": {
    "id": "ytERHME1NfYr"
   },
   "source": [
    "# Reinforcement Learning #"
   ]
  },
  {
   "cell_type": "markdown",
   "metadata": {
    "id": "ZyT1upohNjL1"
   },
   "source": [
    "\n",
    "Reinforcement Learning is about finding the optimal policy in an MDP which is initially unknown to the agent. More precisely, the state and action spaces are known, but the agent does not know the transition and reward functions. Generally speaking, the agent has to explore the MDP to figure out which action in which state leads to which other state and reward. The model-free case is about finding this optimal policy just through very local updates, without storing any information about previous interactions with the environment. Principles of these local updates can already be found in the Temporal Difference (TD) algorithm, which iteratively computes optimal values for all state using local updates.\n",
    "The most widely used model-free RL algorithms are **q-learning**, **sarsa** and **actor-critic** algorithms. Below we focus on the first two."
   ]
  },
  {
   "cell_type": "markdown",
   "metadata": {
    "id": "MzBuWYhCtQmF"
   },
   "source": [
    "As for dynamic programming, we first create a maze-like MDP. Reinforcement learning is slower than dynamic programming, so we will work with smaller mazes."
   ]
  },
  {
   "cell_type": "code",
   "execution_count": 2,
   "metadata": {
    "colab": {
     "base_uri": "https://localhost:8080/"
    },
    "id": "srNM1JqTtYAc",
    "outputId": "b968af8a-dc38-4e47-f25e-e99bad87fa23"
   },
   "outputs": [
    {
     "data": {
      "application/vnd.jupyter.widget-view+json": {
       "model_id": "8ec7714f2709499ca74c02a526ee8065",
       "version_major": 2,
       "version_minor": 0
      },
      "text/plain": [
       "Output()"
      ]
     },
     "metadata": {},
     "output_type": "display_data"
    }
   ],
   "source": [
    "import gym\n",
    "import bbrl_gym\n",
    "\n",
    "\n",
    "env = gym.make(\"MazeMDP-v0\", kwargs={\"width\": 5, \"height\": 5, \"ratio\": 0.2})\n",
    "env.reset()\n",
    "\n",
    "# in dynamic programming, there is no agent moving in the environment\n",
    "env.init_draw(\"The maze\")"
   ]
  },
  {
   "cell_type": "markdown",
   "metadata": {
    "id": "fSbk6GyAN0-e"
   },
   "source": [
    "## Temporal Difference (TD) learning ##"
   ]
  },
  {
   "cell_type": "markdown",
   "metadata": {
    "id": "JNnNJpTON5aU"
   },
   "source": [
    "\n",
    "Given a state and an action spaces as well as a policy, TD(0) computes the state value of this policy based on the following equations:\n",
    "$$\\delta_t = r(s_t,a_t) + \\gamma V^{(t)}(s_{t+1})-V^{(t)}(s_t)$$\n",
    "$$V^{(t+1)}(s_t) = V^{(t)}(s_t) + \\alpha\\delta_t$$\n",
    "\n",
    "where $\\delta$ is the TD error and $\\alpha$ is a parameter called \"learning rate\".\n",
    "\n",
    "The code is provided below, so that you can take inspiration later on. The important part is the computation of $\\delta$, and the update of the values of $V$.\n",
    "\n",
    "To run TD learning, a policy is needed as input. Such a policy can be retreived by using the `policy_iteration_q(mdp)` function defined in the dynamic programming notebook.\n",
    "\n",
    "If you want to run this notebook independently, you can use instead the `random_policy` provided in `mazemdp`. This is what we do here by default, replace it if you want to run TD learning from an optimal policy.\n"
   ]
  },
  {
   "cell_type": "code",
   "execution_count": 3,
   "metadata": {
    "id": "xniYyOwU8C3b"
   },
   "outputs": [],
   "source": [
    "from mazemdp import random_policy"
   ]
  },
  {
   "cell_type": "markdown",
   "metadata": {
    "id": "f_YBjgxOPCn8"
   },
   "source": [
    "**Question:** In the code of the *temporal_difference(...)* function below, fill the missing parts with # some code = ... "
   ]
  },
  {
   "cell_type": "code",
   "execution_count": 4,
   "metadata": {
    "id": "0lL1I8Jx6Bzf"
   },
   "outputs": [],
   "source": [
    "def temporal_difference(\n",
    "    mdp: MazeMDPEnv,\n",
    "    policy: np.ndarray,\n",
    "    nb_episodes: int = 50,\n",
    "    alpha: float = 0.2,\n",
    "    timeout: int = 25,\n",
    "    render: bool = True,\n",
    ") -> np.ndarray:\n",
    "    # alpha: learning rate\n",
    "    # timeout: timeout of an episode (maximum number of timesteps)\n",
    "    v = np.zeros(mdp.nb_states)  # initial state value v\n",
    "    mdp.timeout = timeout\n",
    "\n",
    "    if render:\n",
    "        mdp.init_draw(\"Temporal differences\")\n",
    "\n",
    "    for _ in tqdm(range(nb_episodes)):  # for each episode\n",
    "\n",
    "        # Draw an initial state randomly (if uniform is set to False, the state is drawn according to the P0\n",
    "        #                                 distribution)\n",
    "        x = mdp.reset(uniform=True)\n",
    "        done = False\n",
    "        while not done:  # update episode at each timestep\n",
    "            # Show agent\n",
    "            if render:\n",
    "                mdp.draw_v_pi(v, policy)\n",
    "\n",
    "            # Step forward following the MDP: x=current state,\n",
    "            #                                 pol[i]=agent's action according to policy pol,\n",
    "            #                                 r=reward gained after taking action pol[i],\n",
    "            #                                 done=tells whether the episode ended,\n",
    "            #                                 and info gives some info about the process\n",
    "            [y, r, done, _] = mdp.step(egreedy_loc(policy[x], mdp.action_space.n, epsilon=0.2))\n",
    "\n",
    "            delta = r + mdp.gamma * v[y] - v[x]\n",
    "            v[x] = v[x] + alpha * delta\n",
    "\n",
    "            # Update agent's position (state)\n",
    "            x = y\n",
    "\n",
    "    if render:\n",
    "        # Show the final policy\n",
    "        mdp.current_state = 0\n",
    "        mdp.draw_v_pi(v, policy, title=\"Temporal Differences\")\n",
    "    return v"
   ]
  },
  {
   "cell_type": "markdown",
   "metadata": {
    "id": "8f0swnV9tlym"
   },
   "source": [
    "Once this is done, you can run it."
   ]
  },
  {
   "cell_type": "code",
   "execution_count": 21,
   "metadata": {
    "id": "R56l4AT3to_F"
   },
   "outputs": [
    {
     "name": "stdout",
     "output_type": "stream",
     "text": [
      "[0 1 1 3 2 1 0 1 1 2 2 1 1 3 2 1 2 0 3 0 2]\n"
     ]
    }
   ],
   "source": [
    "# Note that using a random policy, the chance to get an interesting value function is low\n",
    "# Instead, you may get the value of an optimal policy obtained from a dynamic programming method\n",
    "policy = random_policy(env)\n",
    "v = temporal_difference(env, policy)"
   ]
  },
  {
   "cell_type": "markdown",
   "metadata": {
    "id": "J27oCA7EGuJV"
   },
   "source": [
    "Unless you are lucky, the value function learned from a random policy will most probably be boring, as if it does not reach the rewarded state, all values keep at 0. To watch the behavior of the TD algorithm from an optimal policy, you can copy-paste from the dynamic programming lab the value iteration algorithm, use it to obtain an optimal policy and then call the TD algorithm from the obtained policy."
   ]
  },
  {
   "cell_type": "code",
   "execution_count": 5,
   "metadata": {
    "id": "YHodwM7HSb7w"
   },
   "outputs": [],
   "source": [
    "# ------------------ Value Iteration with the Q function ---------------------#\n",
    "# Given a MDP, this algorithm computes the optimal action value function Q\n",
    "# It then derives the optimal policy based on this function\n",
    "\n",
    "def value_iteration_q(mdp: MazeMDPEnv, render: bool = True) -> Tuple[np.ndarray, List[float]]:\n",
    "    q = np.zeros((mdp.nb_states, mdp.action_space.n))  # initial action values are set to 0\n",
    "    q_list = []\n",
    "    stop = False\n",
    "\n",
    "    if render:\n",
    "        mdp.init_draw(\"Value iteration Q\")\n",
    "\n",
    "    while not stop:\n",
    "        qold = q.copy()\n",
    "\n",
    "        if render:\n",
    "            mdp.draw_v(q, title=\"Value iteration Q\")\n",
    "\n",
    "        for x in range(mdp.nb_states):\n",
    "            if x not in mdp.terminal_states:\n",
    "                for u in range(mdp.action_space.n):\n",
    "                    summ = 0\n",
    "                    for y in range(mdp.nb_states):\n",
    "                        summ += mdp.P[x, u, y] * np.max(qold[y, :])\n",
    "                    q[x,u] = mdp.r[x, u] + mdp.gamma * summ\n",
    "\n",
    "        if (np.linalg.norm(q - qold)) <= 0.01:\n",
    "            stop = True\n",
    "        q_list.append(np.linalg.norm(q))\n",
    "\n",
    "    if render:\n",
    "        mdp.draw_v(q, title=\"Value iteration Q\")\n",
    "        mdp.mdp.plotter.video_writer.release()\n",
    "\n",
    "    return q, q_list\n"
   ]
  },
  {
   "cell_type": "code",
   "execution_count": 6,
   "metadata": {
    "id": "YgyeKTcAScYX"
   },
   "outputs": [],
   "source": [
    "def get_policy_from_q(q: np.ndarray) -> np.ndarray:\n",
    "    # Outputs a policy given the action values\n",
    "    policy = np.zeros(q.shape[0], dtype=int)\n",
    "    for x in range(q.shape[0]):\n",
    "        policy[x] = np.argmax(q[x, :])\n",
    "    return policy"
   ]
  },
  {
   "cell_type": "code",
   "execution_count": 7,
   "metadata": {
    "id": "0BafFtVISc-w"
   },
   "outputs": [
    {
     "data": {
      "application/vnd.jupyter.widget-view+json": {
       "model_id": "6655ec64e38d463da0ec89fd9eb52462",
       "version_major": 2,
       "version_minor": 0
      },
      "text/plain": [
       "Output()"
      ]
     },
     "metadata": {},
     "output_type": "display_data"
    },
    {
     "data": {
      "application/vnd.jupyter.widget-view+json": {
       "model_id": "98637fd9e90e4fba9c0495ec0967d366",
       "version_major": 2,
       "version_minor": 0
      },
      "text/plain": [
       "  0%|          | 0/50 [00:00<?, ?it/s]"
      ]
     },
     "metadata": {},
     "output_type": "display_data"
    }
   ],
   "source": [
    "q, _ = value_iteration_q(env, render=False)\n",
    "policy = get_policy_from_q(q)\n",
    "v = temporal_difference(env, policy)"
   ]
  },
  {
   "cell_type": "markdown",
   "metadata": {
    "id": "wtog6PFsPhCn"
   },
   "source": [
    "## Q-learning ##"
   ]
  },
  {
   "cell_type": "markdown",
   "metadata": {
    "id": "jP5cC07-Pjxl"
   },
   "source": [
    "\n",
    "The **q-learning** algorithm accounts for an agent exploring an MDP and updating at each step a model of the state action-value function stored into a Q-table. It is updated as follows:\n",
    "\n",
    "$$\\delta_t = r(s_t,a_t) + \\gamma \\max_{a \\in A} Q^{(t)}(s_{t+1},a)-Q^{(t)}(s_t,a_t)$$\n",
    "\n",
    "$$Q^{(t+1)}(s_t,a_t) = Q^{(t)}(s_t,a_t) + \\alpha \\delta_t.$$\n"
   ]
  },
  {
   "cell_type": "markdown",
   "metadata": {
    "id": "2gVzVZCLxPh8"
   },
   "source": [
    "To visualize the policy, we need the `get_policy_from_q(q)` function that we defined in the dynamic programming notebook. Import it below."
   ]
  },
  {
   "cell_type": "markdown",
   "metadata": {
    "id": "7pq3cgWNPu_t"
   },
   "source": [
    "**Question:**  Fill the code of the `q_learning(...)` function below."
   ]
  },
  {
   "cell_type": "code",
   "execution_count": null,
   "metadata": {
    "id": "LhM1c2Ct6dKb"
   },
   "outputs": [],
   "source": [
    "# --------------------------- Q-Learning epsilon-greedy version -------------------------------#\n",
    "\n",
    "# Given an exploration rate epsilon, the QLearning algorithm computes the state action-value function\n",
    "# based on an epsilon-greedy policy\n",
    "# alpha is the learning rate\n",
    "\n",
    "\n",
    "def q_learning_eps(\n",
    "    mdp: MazeMDPEnv,\n",
    "    epsilon: float,\n",
    "    nb_episodes: int = 20,\n",
    "    timeout: int = 50,\n",
    "    alpha: float = 0.5,\n",
    "    render: bool = True,\n",
    ") -> Tuple[np.ndarray, List[float], List[int]]:\n",
    "    # Initialize the state-action value function\n",
    "    # alpha is the learning rate\n",
    "    q = np.zeros((mdp.nb_states, mdp.action_space.n))\n",
    "    q_list = []\n",
    "    time_list = []\n",
    "\n",
    "    # Run learning cycle\n",
    "    mdp.mdp.timeout = timeout  # episode length\n",
    "\n",
    "    if render:\n",
    "        mdp.init_draw(\"Q-learning e-greedy\")\n",
    "\n",
    "    for _ in tqdm(range(nb_episodes)):\n",
    "        # Draw the first state of episode i using a uniform distribution over all the states\n",
    "        x = mdp.reset(uniform=True)\n",
    "        done = False\n",
    "       \n",
    "        while not done:\n",
    "            if render:\n",
    "                # Show the agent in the maze\n",
    "                mdp.draw_v_pi(q, q.argmax(axis=1))\n",
    "\n",
    "           \n",
    "\n",
    "            # Draw an action using an epsilon-greedy policy\n",
    "            u = egreedy(q, x, epsilon)\n",
    "\n",
    "            # Perform a step of the MDP\n",
    "            [y, r, done, _] = mdp.step(u)\n",
    "\n",
    "            # Update the state-action value function\n",
    "            delta = r + mdp.gamma * np.max(q[y, :]) - q[x, u]\n",
    "            q[x, u] = q[x, u] + alpha * delta\n",
    "\n",
    "            # Update the agent position\n",
    "            x = y\n",
    "        q_list.append(np.linalg.norm(q))\n",
    "        time_list.append(mdp.mdp.timestep)\n",
    "\n",
    "    if render:\n",
    "        # Show the final policy\n",
    "        mdp.current_state = 0\n",
    "        mdp.draw_v_pi(q, get_policy_from_q(q), title=\"Q-learning e-greedy\")\n",
    "    return q, q_list, time_list\n"
   ]
  },
  {
   "cell_type": "markdown",
   "metadata": {
    "id": "ME7SAuggvNfw"
   },
   "source": [
    "And run it."
   ]
  },
  {
   "cell_type": "code",
   "execution_count": 67,
   "metadata": {
    "id": "UBpkpkuWvP8i"
   },
   "outputs": [
    {
     "data": {
      "application/vnd.jupyter.widget-view+json": {
       "model_id": "0aaff2e986af4ab3acb3e30d92268690",
       "version_major": 2,
       "version_minor": 0
      },
      "text/plain": [
       "Output()"
      ]
     },
     "metadata": {},
     "output_type": "display_data"
    },
    {
     "data": {
      "application/vnd.jupyter.widget-view+json": {
       "model_id": "655094ce46c24fa7bf775f02169cfe1d",
       "version_major": 2,
       "version_minor": 0
      },
      "text/plain": [
       "  0%|          | 0/20 [00:00<?, ?it/s]"
      ]
     },
     "metadata": {},
     "output_type": "display_data"
    }
   ],
   "source": [
    "epsilon = 0.02\n",
    "q, q_list, time_list = q_learning_eps(env, epsilon)"
   ]
  },
  {
   "attachments": {},
   "cell_type": "markdown",
   "metadata": {
    "id": "MnLbmQsbQEIO"
   },
   "source": [
    "### Learning dynamics ###"
   ]
  },
  {
   "cell_type": "markdown",
   "metadata": {
    "id": "M_6fmrxlQHR3"
   },
   "source": [
    "\n",
    "By watching carefully the values while the agent is learning, you can see that the agent favors certains paths over others which have a strictly equivalent value. This can be explained easily: as the agent chooses a path for the first time, it updates the values along that path, these values get higher than the surrounding values, and the agent chooses the same path again and again, increasing the phenomenon. Only steps of random exploration can counterbalance this effect, but they do so extremely slowly."
   ]
  },
  {
   "cell_type": "markdown",
   "metadata": {
    "id": "JsKOa2i1QMcl"
   },
   "source": [
    "### Exploration ###"
   ]
  },
  {
   "cell_type": "markdown",
   "metadata": {
    "id": "PXkEV9-cQQnP"
   },
   "source": [
    "In the `q_learning(...)` function above, action selection is based on an *$\\epsilon$-greedy* policy. Instead, it could have relied on `softmax`.\n"
   ]
  },
  {
   "cell_type": "markdown",
   "metadata": {
    "id": "whX-_jP4QsrU"
   },
   "source": [
    "**Question:** In the function below, you have to replace the call to the previous *$\\epsilon$-greedy* policy with a `softmax` policy. The `softmax(...)` and `egreedy(...)` functions are available in `mazemdp.toolbox`."
   ]
  },
  {
   "cell_type": "markdown",
   "metadata": {
    "id": "nX-sFoOPcYXO"
   },
   "source": [
    "To sample an action from a distribution of probabilities over discrete actions, you can use the ```sample_categorical(...)``` function."
   ]
  },
  {
   "cell_type": "code",
   "execution_count": 25,
   "metadata": {
    "id": "iu4WiXRm6mdL"
   },
   "outputs": [],
   "source": [
    "# --------------------------- Q-Learning softmax version ----------------------------#\n",
    "\n",
    "# Given a temperature \"tau\", the QLearning algorithm computes the state action-value function\n",
    "# based on a softmax policy\n",
    "# alpha is the learning rate\n",
    "\n",
    "\n",
    "def q_learning_soft(\n",
    "    mdp: MazeMDPEnv,\n",
    "    tau: float,\n",
    "    nb_episodes: int = 20,\n",
    "    timeout: int = 50,\n",
    "    alpha: float = 0.5,\n",
    "    render: bool = True,\n",
    ") -> Tuple[np.ndarray, List[float], List[int]]:\n",
    "    # Initialize the state-action value function\n",
    "    # alpha is the learning rate\n",
    "    q = np.zeros((mdp.nb_states, mdp.action_space.n))\n",
    "    q_list = []\n",
    "    time_list = []\n",
    "\n",
    "    # Run learning cycle\n",
    "    mdp.mdp.timeout = timeout  # episode length\n",
    "\n",
    "    if render:\n",
    "        mdp.init_draw(\"Q-learning softmax\")\n",
    "\n",
    "    for _ in tqdm(range(nb_episodes)):\n",
    "        # Draw the first state of episode i using a uniform distribution over all the states\n",
    "        x = mdp.reset(uniform=True)\n",
    "        done = False\n",
    "      \n",
    "        while not done:\n",
    "            if render:\n",
    "                # Show the agent in the maze\n",
    "                mdp.draw_v_pi(q, q.argmax(axis=1))\n",
    "\n",
    "            \n",
    "\n",
    "\n",
    "            p_u = softmax(q, x, tau)\n",
    "            u = np.random.choice(mdp.action_space.n, p=p_u)\n",
    "            \n",
    "            \n",
    "            # Perform a step of the MDP\n",
    "            [y, r, done, _] = mdp.step(u)\n",
    "\n",
    "            # Update the state-action value function\n",
    "            delta = r + mdp.gamma * np.max(q[y, :]) - q[x, u]\n",
    "            q[x, u] = q[x, u] + alpha * delta\n",
    "            \n",
    "            x = y\n",
    "        q_list.append(np.linalg.norm(q))\n",
    "        time_list.append(mdp.mdp.timestep)\n",
    "\n",
    "    if render:\n",
    "        # Show the final policy\n",
    "        mdp.current_state = 0\n",
    "        mdp.draw_v_pi(q, get_policy_from_q(q), title=\"Q-learning softmax\")\n",
    "    return q, q_list, time_list\n",
    "\n"
   ]
  },
  {
   "cell_type": "markdown",
   "metadata": {
    "id": "Xevh4vMxvm-q"
   },
   "source": [
    "Run this new version"
   ]
  },
  {
   "cell_type": "code",
   "execution_count": 39,
   "metadata": {
    "id": "FcAwK52avpur"
   },
   "outputs": [
    {
     "data": {
      "application/vnd.jupyter.widget-view+json": {
       "model_id": "978da0f159af4ad8afa3f9b5e6e211ee",
       "version_major": 2,
       "version_minor": 0
      },
      "text/plain": [
       "Output()"
      ]
     },
     "metadata": {},
     "output_type": "display_data"
    },
    {
     "data": {
      "application/vnd.jupyter.widget-view+json": {
       "model_id": "627346ca29b242b2a67aaba778c8a942",
       "version_major": 2,
       "version_minor": 0
      },
      "text/plain": [
       "  0%|          | 0/20 [00:00<?, ?it/s]"
      ]
     },
     "metadata": {},
     "output_type": "display_data"
    }
   ],
   "source": [
    "tau = 6\n",
    "q, q_list,time_list = q_learning_soft(env, tau)"
   ]
  },
  {
   "cell_type": "code",
   "execution_count": null,
   "metadata": {
    "id": "0iXJ-j-i_5pK"
   },
   "outputs": [],
   "source": [
    "show_videos(\"videos/\", \"Q-learningsoftmax\")"
   ]
  },
  {
   "cell_type": "markdown",
   "metadata": {
    "id": "PW4wU1xjRT8J"
   },
   "source": [
    "## Sarsa ##"
   ]
  },
  {
   "cell_type": "markdown",
   "metadata": {
    "id": "bxDs-SywRWS6"
   },
   "source": [
    "\n",
    "The **sarsa** algorithm is very similar to **q-learning**. At first glance, the only difference is in the update rule. However, to perform the update in **sarsa**, one needs to know the action the agent will take when it will be at the next state, even if the agent is taking a random action.\n",
    "\n",
    "This implies that the next state action is determined in advance and stored for being played at the next time step.\n"
   ]
  },
  {
   "cell_type": "markdown",
   "metadata": {
    "id": "CUdQEF0Rv2uc"
   },
   "source": [
    "**Question:** Fill the code below"
   ]
  },
  {
   "cell_type": "code",
   "execution_count": 10,
   "metadata": {
    "id": "93VUGbwM6wkq"
   },
   "outputs": [],
   "source": [
    "# --------------------------- Sarsa, epsilon-greedy version -------------------------------#\n",
    "\n",
    "# Given an exploration rate epsilon, the SARSA algorithm computes the state action-value function\n",
    "# based on an epsilon-greedy policy\n",
    "# alpha is the learning rate\n",
    "def sarsa_eps(\n",
    "    mdp: MazeMDPEnv,\n",
    "    epsilon: float,\n",
    "    nb_episodes: int = 20,\n",
    "    timeout: int = 50,\n",
    "    alpha: float = 0.5,\n",
    "    render: bool = True,\n",
    ") -> Tuple[np.ndarray, List[float], List[int]]:\n",
    "    # Initialize the state-action value function\n",
    "    # alpha is the learning rate\n",
    "    q = np.zeros((mdp.nb_states, mdp.action_space.n))\n",
    "    q_list = []\n",
    "    time_list = []\n",
    "\n",
    "    # Run learning cycle\n",
    "    mdp.mdp.timeout = timeout  # episode length\n",
    "\n",
    "    if render:\n",
    "        mdp.init_draw(\"Sarsa e-greedy\")\n",
    "\n",
    "    for _ in tqdm(range(nb_episodes)):\n",
    "        # Draw the first state of episode i using a uniform distribution over all the states\n",
    "        x = mdp.reset(uniform=True)\n",
    "        done = False\n",
    "\n",
    "        # Select an action using an epsilon-greedy policy\n",
    "        u = egreedy(q, x, epsilon)\n",
    "        \n",
    "        \n",
    "        while not done:\n",
    "            if render:\n",
    "                # Show the agent in the maze\n",
    "                mdp.draw_v_pi(q, q.argmax(axis=1))\n",
    "\n",
    "            \n",
    "            # Perform a step of the MDP\n",
    "            [y, r, done, _] = mdp.step(u)\n",
    "    \n",
    "            # Select the next action using an epsilon-greedy policy\n",
    "            u_next = egreedy(q, y, epsilon)\n",
    "\n",
    "            # Update the state-action value function\n",
    "            delta = r + mdp.gamma * q[y, u_next] - q[x, u]\n",
    "            q[x, u] = q[x, u] + alpha * delta\n",
    "\n",
    "            # Update the agent position and action\n",
    "            x = y\n",
    "            u = u_next\n",
    "        q_list.append(np.linalg.norm(q))\n",
    "        time_list.append(mdp.mdp.timestep)\n",
    "        \n",
    "    if render:\n",
    "        # Show the final policy\n",
    "        mdp.current_state = 0\n",
    "        mdp.draw_v_pi(q, get_policy_from_q(q), title=\"Sarsa e-greedy\")\n",
    "    return q, q_list, time_list"
   ]
  },
  {
   "cell_type": "markdown",
   "metadata": {
    "id": "i8obKDfc0rhK"
   },
   "source": [
    "And run it."
   ]
  },
  {
   "cell_type": "code",
   "execution_count": 41,
   "metadata": {
    "id": "TgY_9mvU0tUr"
   },
   "outputs": [
    {
     "data": {
      "application/vnd.jupyter.widget-view+json": {
       "model_id": "354a2831674d43d0b05fb3652ab97864",
       "version_major": 2,
       "version_minor": 0
      },
      "text/plain": [
       "Output()"
      ]
     },
     "metadata": {},
     "output_type": "display_data"
    },
    {
     "data": {
      "application/vnd.jupyter.widget-view+json": {
       "model_id": "cc5ca963e4b2449294239481b10b704f",
       "version_major": 2,
       "version_minor": 0
      },
      "text/plain": [
       "  0%|          | 0/20 [00:00<?, ?it/s]"
      ]
     },
     "metadata": {},
     "output_type": "display_data"
    }
   ],
   "source": [
    "epsilon = 0.02\n",
    "q, q_list ,time_list = sarsa_eps(env, epsilon)"
   ]
  },
  {
   "cell_type": "code",
   "execution_count": null,
   "metadata": {
    "id": "opuFUT3u_-_I"
   },
   "outputs": [],
   "source": [
    "show_videos(\"videos/\", \"Sarsae-greedy\")"
   ]
  },
  {
   "cell_type": "markdown",
   "metadata": {
    "id": "hbtNZZTNhRdx"
   },
   "source": [
    "As for **q-learning** above, copy-paste the resulting code to get a *sarsa_soft(...)* and a *sarsa_eps(...)* function."
   ]
  },
  {
   "cell_type": "code",
   "execution_count": 11,
   "metadata": {
    "id": "UFMuH9Iq6026"
   },
   "outputs": [],
   "source": [
    "# --------------------------- Sarsa, softmax version -------------------------------#\n",
    "\n",
    "# Given a temperature \"tau\", the SARSA algorithm computes the state action-value function\n",
    "# based on a softmax policy\n",
    "# alpha is the learning rate\n",
    "def sarsa_soft(\n",
    "    mdp: MazeMDPEnv,\n",
    "    tau: float,\n",
    "    nb_episodes: int = 20,\n",
    "    timeout: int = 50,\n",
    "    alpha: float = 0.5,\n",
    "    render: bool = True,\n",
    ") -> Tuple[np.ndarray, List[float],List[int]]:\n",
    "\n",
    "    # Initialize the state-action value function\n",
    "    # alpha is the learning rate\n",
    "    q = np.zeros((mdp.nb_states, mdp.action_space.n))\n",
    "    q_list = []\n",
    "    time_list = []\n",
    "\n",
    "    # Run learning cycle\n",
    "    mdp.mdp.timeout = timeout  # episode length\n",
    "\n",
    "    if render:\n",
    "        mdp.init_draw(\"Sarsa softmax\")\n",
    "\n",
    "    for _ in tqdm(range(nb_episodes)):\n",
    "        # Draw the first state of episode i using a uniform distribution over all the states\n",
    "        x = mdp.reset(uniform=True)\n",
    "        done = False\n",
    "\n",
    "        # Select an action using a softmax policy\n",
    "        p_u = softmax(q, x, tau)\n",
    "        u = np.random.choice(mdp.action_space.n, p=p_u)\n",
    "        \n",
    "        while not done:\n",
    "            if render:\n",
    "                # Show the agent in the maze\n",
    "                mdp.draw_v_pi(q, q.argmax(axis=1))\n",
    "         \n",
    "            # Perform a step of the MDP\n",
    "            [y, r, done, _] = mdp.step(u)\n",
    "\n",
    "            # Select the next action using a softmax policy\n",
    "            p_u_next = softmax(q, y, tau)\n",
    "            u_next = np.random.choice(mdp.action_space.n, p=p_u_next)\n",
    "\n",
    "            # Update the state-action value function\n",
    "            delta = r + mdp.gamma * q[y, u_next] - q[x, u]\n",
    "            q[x, u] = q[x, u] + alpha * delta\n",
    "\n",
    "            # Update the agent position and action\n",
    "            x = y\n",
    "            u = u_next\n",
    "\n",
    "        q_list.append(np.linalg.norm(q))\n",
    "        time_list.append(mdp.mdp.timestep)\n",
    "\n",
    "    if render:\n",
    "        # Show the final policy\n",
    "        mdp.current_state = 0\n",
    "        mdp.draw_v_pi(q, get_policy_from_q(q), title=\"Sarsa softmax\")\n",
    "    return q, q_list, time_list"
   ]
  },
  {
   "cell_type": "markdown",
   "metadata": {
    "id": "koHzhn0h02aa"
   },
   "source": [
    "And run it."
   ]
  },
  {
   "cell_type": "code",
   "execution_count": 53,
   "metadata": {
    "id": "SVW4kFli04GB"
   },
   "outputs": [
    {
     "data": {
      "application/vnd.jupyter.widget-view+json": {
       "model_id": "a04f5aed57b54a1696d6d55fcf0b93e6",
       "version_major": 2,
       "version_minor": 0
      },
      "text/plain": [
       "Output()"
      ]
     },
     "metadata": {},
     "output_type": "display_data"
    },
    {
     "data": {
      "application/vnd.jupyter.widget-view+json": {
       "model_id": "070c66d882024eebba66b63ecdd042c1",
       "version_major": 2,
       "version_minor": 0
      },
      "text/plain": [
       "  0%|          | 0/20 [00:00<?, ?it/s]"
      ]
     },
     "metadata": {},
     "output_type": "display_data"
    },
    {
     "name": "stdout",
     "output_type": "stream",
     "text": [
      "[31, 50, 9, 50, 16, 50, 50, 50, 50, 50, 45, 41, 5, 6, 8, 50, 1, 50, 14, 50]\n"
     ]
    }
   ],
   "source": [
    "tau = 6\n",
    "q, q_list ,time_list = sarsa_soft(env, tau)\n",
    "print(time_list)"
   ]
  },
  {
   "cell_type": "code",
   "execution_count": null,
   "metadata": {
    "id": "cUDvBXyKAEHo"
   },
   "outputs": [],
   "source": [
    "show_videos(\"videos/\", \"Sarsasoftmax\")"
   ]
  },
  {
   "cell_type": "markdown",
   "metadata": {
    "id": "G46ht0tRWLj6"
   },
   "source": [
    "## Study part"
   ]
  },
  {
   "cell_type": "markdown",
   "metadata": {
    "id": "1BceAWIYYFg5"
   },
   "source": [
    "### Impact of `epsilon` and `beta` on q-learning and sarsa"
   ]
  },
  {
   "cell_type": "markdown",
   "metadata": {
    "id": "3B8GdWVfX5N2"
   },
   "source": [
    "Compare the number of steps needed by **q-learning** and **sarsa** to converge on a given MDP using the *softmax* and *$\\epsilon$-greedy* exploration strategies. To figure out, you can use the provided `plot_ql_sarsa(m, epsilon, tau, nb_episodes, timeout, alpha, render)` function below with various values for $\\epsilon$ (e.g. 0.001, 0.01, 0.1) and $\\tau$ (e.g. 0.1, 5, 10) and comment the obtained curves. Other visualizations are welcome."
   ]
  },
  {
   "cell_type": "code",
   "execution_count": 26,
   "metadata": {
    "id": "P9kycY4D696H"
   },
   "outputs": [],
   "source": [
    "\n",
    "# -------- plot learning curves of Q-Learning and Sarsa using epsilon-greedy and softmax ----------#\n",
    "\n",
    "def plot_ql_sarsa(env, epsilon, tau, nb_episodes, timeout, alpha, render):\n",
    "    q, q_list1, t_1 = q_learning_eps(env, epsilon, nb_episodes, timeout, alpha, render)\n",
    "    q, q_list2, t_2 = q_learning_soft(env, tau, nb_episodes, timeout, alpha, render)\n",
    "    q, q_list3, t_3 = sarsa_eps(env, epsilon, nb_episodes, timeout, alpha, render)\n",
    "    q, q_list4, t_4 = sarsa_soft(env, tau, nb_episodes, timeout, alpha, render)\n",
    "    \n",
    "    print(t_1)\n",
    "    plt.clf()\n",
    "    plt.plot(range(len(q_list1)), q_list1, label='q-learning epsilon')\n",
    "    plt.plot(range(len(q_list2)), q_list2, label='q-learning tau')\n",
    "    plt.plot(range(len(q_list3)), q_list3, label='sarsa epsilon')\n",
    "    plt.plot(range(len(q_list4)), q_list4, label='sarsa tau')\n",
    "\n",
    "    plt.xlabel('Number of episodes')\n",
    "    plt.ylabel('Norm of Q values')\n",
    "    plt.legend(loc='upper right')\n",
    "    plt.savefig(\"comparison_RL.png\")\n",
    "    plt.title(\"Comparison of convergence rates\")\n",
    "    plt.show()\n",
    "\n",
    "    # plot time to reach the goal\n",
    "    # filter out the episodes that did not reach the goal\n",
    "    # t_1 = [x for x in t_1 if x != timeout]\n",
    "    # t_2 = [x for x in t_2 if x != timeout]\n",
    "    # t_3 = [x for x in t_3 if x != timeout]\n",
    "    # t_4 = [x for x in t_4 if x != timeout]\n",
    "    plt.clf()\n",
    "    plt.plot(range(len(t_1)), t_1, label='q-learning epsilon')\n",
    "    plt.plot(range(len(t_2)), t_2, label='q-learning tau')\n",
    "    plt.plot(range(len(t_3)), t_3, label='sarsa epsilon')\n",
    "    plt.plot(range(len(t_4)), t_4, label='sarsa tau')\n",
    "\n",
    "    plt.xlabel('Number of episodes')\n",
    "    plt.ylabel('Number of steps to reach the goal')\n",
    "    plt.legend(loc='upper right')\n",
    "    plt.title(\"Comparison of Time to reach the goal\")\n",
    "    plt.show()\n"
   ]
  },
  {
   "cell_type": "code",
   "execution_count": 27,
   "metadata": {
    "id": "QjSmclM31MkU"
   },
   "outputs": [
    {
     "data": {
      "application/vnd.jupyter.widget-view+json": {
       "model_id": "b0bce5a4dac740f6938c9461fbfcfda0",
       "version_major": 2,
       "version_minor": 0
      },
      "text/plain": [
       "  0%|          | 0/150 [00:00<?, ?it/s]"
      ]
     },
     "metadata": {},
     "output_type": "display_data"
    },
    {
     "data": {
      "application/vnd.jupyter.widget-view+json": {
       "model_id": "32db21a67ee949fcb453a6b5243e68e1",
       "version_major": 2,
       "version_minor": 0
      },
      "text/plain": [
       "  0%|          | 0/150 [00:00<?, ?it/s]"
      ]
     },
     "metadata": {},
     "output_type": "display_data"
    },
    {
     "data": {
      "application/vnd.jupyter.widget-view+json": {
       "model_id": "a10a1e3772eb4bd0b122ae0e7a81e3d4",
       "version_major": 2,
       "version_minor": 0
      },
      "text/plain": [
       "  0%|          | 0/150 [00:00<?, ?it/s]"
      ]
     },
     "metadata": {},
     "output_type": "display_data"
    },
    {
     "data": {
      "application/vnd.jupyter.widget-view+json": {
       "model_id": "b9d1d4de9f2f41f4991a5f0f2d809c4a",
       "version_major": 2,
       "version_minor": 0
      },
      "text/plain": [
       "  0%|          | 0/150 [00:00<?, ?it/s]"
      ]
     },
     "metadata": {},
     "output_type": "display_data"
    },
    {
     "name": "stdout",
     "output_type": "stream",
     "text": [
      "[1, 2, 50, 50, 34, 50, 26, 1, 49, 2, 50, 2, 9, 27, 5, 50, 39, 4, 18, 28, 4, 10, 8, 21, 6, 9, 3, 4, 4, 6, 4, 7, 5, 5, 3, 22, 20, 6, 4, 4, 4, 4, 6, 5, 5, 8, 7, 8, 3, 3, 7, 3, 2, 6, 8, 2, 1, 6, 1, 3, 7, 6, 6, 6, 6, 5, 1, 6, 4, 4, 7, 6, 4, 6, 5, 6, 5, 2, 6, 3, 6, 9, 9, 5, 6, 7, 2, 4, 2, 9, 8, 6, 6, 9, 19, 3, 6, 4, 9, 3, 9, 2, 10, 8, 6, 5, 4, 8, 7, 9, 6, 4, 4, 7, 9, 2, 8, 7, 2, 9, 4, 5, 6, 6, 4, 5, 6, 7, 6, 1, 6, 4, 2, 7, 7, 10, 2, 4, 2, 9, 6, 4, 7, 9, 7, 6, 8, 4, 11, 7]\n"
     ]
    },
    {
     "data": {
      "image/png": "[encoded data removed]",
      "text/plain": [
       "<Figure size 640x480 with 1 Axes>"
      ]
     },
     "metadata": {},
     "output_type": "display_data"
    },
    {
     "data": {
      "image/png": "[encoded data removed]",
      "text/plain": [
       "<Figure size 640x480 with 1 Axes>"
      ]
     },
     "metadata": {},
     "output_type": "display_data"
    }
   ],
   "source": [
    "# example\n",
    "epsilon = 0.02\n",
    "tau = 6\n",
    "plot_ql_sarsa(env, epsilon, tau, 150, 500, 0.5, False)"
   ]
  },
  {
   "cell_type": "markdown",
   "metadata": {
    "id": "sDquKHXZiPmA"
   },
   "source": [
    "### Effect of hyper-parameters"
   ]
  },
  {
   "cell_type": "markdown",
   "metadata": {
    "id": "JqnYA-fKiTU3"
   },
   "source": [
    "The other two hyper-parameters of **q-learning** and **sarsa** are $\\alpha$, and $\\gamma$. By varying the values of these hyper-parameters and watching the learning process and behavior of the agent, explain their impact on the algorithm. Using additional plotting functions is also welcome."
   ]
  }
 ],
 "metadata": {
  "colab": {
   "include_colab_link": true,
   "provenance": []
  },
  "kernelspec": {
   "display_name": "Python 3",
   "language": "python",
   "name": "python3"
  },
  "language_info": {
   "codemirror_mode": {
    "name": "ipython",
    "version": 3
   },
   "file_extension": ".py",
   "mimetype": "text/x-python",
   "name": "python",
   "nbconvert_exporter": "python",
   "pygments_lexer": "ipython3",
   "version": "3.9.6"
  },
  "vscode": {
   "interpreter": {
    "hash": "31f2aee4e71d21fbe5cf8b01ff0e069b9275f58929596ceb00d14d90e3e16cd6"
   }
  }
 },
 "nbformat": 4,
 "nbformat_minor": 0
}
