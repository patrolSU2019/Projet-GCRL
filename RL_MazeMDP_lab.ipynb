{
 "cells": [
  {
   "cell_type": "markdown",
   "metadata": {
    "colab_type": "text",
    "id": "view-in-github"
   },
   "source": [
    "<a href=\"https://colab.research.google.com/github/zhenyuefu/RA_Labs/blob/main/RL_MazeMDP_lab.ipynb\" target=\"_parent\"><img src=\"https://colab.research.google.com/assets/colab-badge.svg\" alt=\"Open In Colab\"/></a>"
   ]
  },
  {
   "cell_type": "markdown",
   "metadata": {
    "id": "t5Y434EKaEji"
   },
   "source": [
    "# Outlook #"
   ]
  },
  {
   "cell_type": "markdown",
   "metadata": {
    "id": "7t49ETcZaJg3"
   },
   "source": [
    "In this colab we will study basic reinforcement learning algorithms: TD learning, q-learning and sarsa. We will also investigate two basic exploration strategies: $\\epsilon$-greedy and softmax."
   ]
  },
  {
   "cell_type": "markdown",
   "metadata": {
    "id": "pfP_irDZNa0J"
   },
   "source": [
    "# Installation #"
   ]
  },
  {
   "cell_type": "code",
   "execution_count": null,
   "metadata": {
    "colab": {
     "base_uri": "https://localhost:8080/"
    },
    "id": "6nH7pFX47u9V",
    "outputId": "57a12684-62f2-4d06-d6c9-e58127f6a6e2"
   },
   "outputs": [],
   "source": [
    "%pip install importlib-metadata==4.13.0"
   ]
  },
  {
   "cell_type": "code",
   "execution_count": null,
   "metadata": {
    "colab": {
     "base_uri": "https://localhost:8080/"
    },
    "id": "6qRaL0jp5zmp",
    "outputId": "b9acf667-05f7-4055-d8b1-f880c2a9f9e1"
   },
   "outputs": [],
   "source": [
    "%pip install git+https://github.com/osigaud/bbrl_gym"
   ]
  },
  {
   "cell_type": "code",
   "execution_count": 1,
   "metadata": {
    "colab": {
     "base_uri": "https://localhost:8080/"
    },
    "id": "APW9lTEe59ah",
    "outputId": "08f0235c-90e1-4498-a8d5-2508496018cf"
   },
   "outputs": [
    {
     "name": "stdout",
     "output_type": "stream",
     "text": [
      "Matplotlib backend: module://matplotlib_inline.backend_inline\n"
     ]
    }
   ],
   "source": [
    "import os\n",
    "from typing import Tuple, List\n",
    "\n",
    "import numpy as np\n",
    "import matplotlib.pyplot as plt\n",
    "from tqdm.notebook import tqdm\n",
    "\n",
    "from mazemdp.toolbox import egreedy, egreedy_loc, softmax, sample_categorical\n",
    "from mazemdp.maze_plotter import show_videos\n",
    "from mazemdp.mdp import Mdp\n",
    "from bbrl_gym.envs.maze_mdp import MazeMDPEnv\n",
    "\n",
    "# For visualization\n",
    "os.environ[\"VIDEO_FPS\"] = \"5\"\n",
    "if not os.path.isdir(\"./videos\"):\n",
    "    os.mkdir(\"./videos\")\n",
    "\n",
    "from IPython.display import Video\n",
    "\n",
    "# Settings\n",
    "NB_EPISODES = 50\n",
    "TIMEOUT = 25"
   ]
  },
  {
   "cell_type": "markdown",
   "metadata": {
    "id": "ytERHME1NfYr"
   },
   "source": [
    "# Reinforcement Learning #"
   ]
  },
  {
   "cell_type": "markdown",
   "metadata": {
    "id": "ZyT1upohNjL1"
   },
   "source": [
    "\n",
    "Reinforcement Learning is about finding the optimal policy in an MDP which is initially unknown to the agent. More precisely, the state and action spaces are known, but the agent does not know the transition and reward functions. Generally speaking, the agent has to explore the MDP to figure out which action in which state leads to which other state and reward. The model-free case is about finding this optimal policy just through very local updates, without storing any information about previous interactions with the environment. Principles of these local updates can already be found in the Temporal Difference (TD) algorithm, which iteratively computes optimal values for all state using local updates.\n",
    "The most widely used model-free RL algorithms are **q-learning**, **sarsa** and **actor-critic** algorithms. Below we focus on the first two."
   ]
  },
  {
   "cell_type": "markdown",
   "metadata": {
    "id": "MzBuWYhCtQmF"
   },
   "source": [
    "As for dynamic programming, we first create a maze-like MDP. Reinforcement learning is slower than dynamic programming, so we will work with smaller mazes."
   ]
  },
  {
   "cell_type": "code",
   "execution_count": 2,
   "metadata": {
    "colab": {
     "base_uri": "https://localhost:8080/",
     "height": 377,
     "referenced_widgets": [
      "0adcbf584a084a7eab88658d39491637",
      "6938f9d0c69d431195fb1d5e0d72c2d6"
     ]
    },
    "id": "srNM1JqTtYAc",
    "outputId": "87aa2481-3111-4f49-974a-84a4fc5505c7"
   },
   "outputs": [
    {
     "data": {
      "application/vnd.jupyter.widget-view+json": {
       "model_id": "574e5eba97e8487282533b3aee50c4a0",
       "version_major": 2,
       "version_minor": 0
      },
      "text/plain": [
       "Output()"
      ]
     },
     "metadata": {},
     "output_type": "display_data"
    }
   ],
   "source": [
    "import gym\n",
    "import bbrl_gym\n",
    "\n",
    "\n",
    "env = gym.make(\"MazeMDP-v0\", kwargs={\"width\": 5, \"height\": 5, \"ratio\": 0.2})\n",
    "env.reset()\n",
    "\n",
    "# set this False to render correctly in pycharm\n",
    "# env.mdp.plotter.using_notebook = False\n",
    "\n",
    "# in dynamic programming, there is no agent moving in the environment\n",
    "env.init_draw(\"The maze\")"
   ]
  },
  {
   "cell_type": "markdown",
   "metadata": {
    "id": "fSbk6GyAN0-e"
   },
   "source": [
    "## Temporal Difference (TD) learning ##"
   ]
  },
  {
   "cell_type": "markdown",
   "metadata": {
    "id": "JNnNJpTON5aU"
   },
   "source": [
    "\n",
    "Given a state and an action spaces as well as a policy, TD(0) computes the state value of this policy based on the following equations:\n",
    "$$\\delta_t = r(s_t,a_t) + \\gamma V^{(t)}(s_{t+1})-V^{(t)}(s_t)$$\n",
    "$$V^{(t+1)}(s_t) = V^{(t)}(s_t) + \\alpha\\delta_t$$\n",
    "\n",
    "where $\\delta$ is the TD error and $\\alpha$ is a parameter called \"learning rate\".\n",
    "\n",
    "The code is provided below, so that you can take inspiration later on. The important part is the computation of $\\delta$, and the update of the values of $V$.\n",
    "\n",
    "To run TD learning, a policy is needed as input. Such a policy can be retreived by using the `policy_iteration_q(mdp)` function defined in the dynamic programming notebook.\n",
    "\n",
    "If you want to run this notebook independently, you can use instead the `random_policy` provided in `mazemdp`. This is what we do here by default, replace it if you want to run TD learning from an optimal policy.\n"
   ]
  },
  {
   "cell_type": "code",
   "execution_count": 3,
   "metadata": {
    "id": "xniYyOwU8C3b"
   },
   "outputs": [],
   "source": [
    "from mazemdp import random_policy"
   ]
  },
  {
   "cell_type": "markdown",
   "metadata": {
    "id": "f_YBjgxOPCn8"
   },
   "source": [
    "**Question:** In the code of the *temporal_difference(...)* function below, fill the missing parts with # some code = ... "
   ]
  },
  {
   "cell_type": "code",
   "execution_count": 4,
   "metadata": {
    "id": "0lL1I8Jx6Bzf"
   },
   "outputs": [],
   "source": [
    "def temporal_difference(\n",
    "    mdp: MazeMDPEnv,\n",
    "    policy: np.ndarray,\n",
    "    nb_episodes: int = 50,\n",
    "    alpha: float = 0.2,\n",
    "    timeout: int = 25,\n",
    "    render: bool = True,\n",
    ") -> np.ndarray:\n",
    "    # alpha: learning rate\n",
    "    # timeout: timeout of an episode (maximum number of timesteps)\n",
    "    v = np.zeros(mdp.nb_states)  # initial state value v\n",
    "    mdp.timeout = timeout\n",
    "\n",
    "    if render:\n",
    "        mdp.init_draw(\"Temporal differences\")\n",
    "\n",
    "    for _ in tqdm(range(nb_episodes)):  # for each episode\n",
    "\n",
    "        # Draw an initial state randomly (if uniform is set to False, the state is drawn according to the P0\n",
    "        #                                 distribution)\n",
    "        x = mdp.reset(uniform=True)\n",
    "        done = False\n",
    "        while not done:  # update episode at each timestep\n",
    "            # Show agent\n",
    "            if render:\n",
    "                mdp.draw_v_pi(v, policy)\n",
    "\n",
    "            # Step forward following the MDP: x=current state,\n",
    "            #                                 pol[i]=agent's action according to policy pol,\n",
    "            #                                 r=reward gained after taking action pol[i],\n",
    "            #                                 done=tells whether the episode ended,\n",
    "            #                                 and info gives some info about the process\n",
    "            [y, r, done, _] = mdp.step(egreedy_loc(policy[x], mdp.action_space.n, epsilon=0.2))\n",
    "\n",
    "            delta = r + mdp.gamma * v[y] - v[x]\n",
    "            v[x] = v[x] + alpha * delta\n",
    "\n",
    "            # Update agent's position (state)\n",
    "            x = y\n",
    "\n",
    "    if render:\n",
    "        # Show the final policy\n",
    "        mdp.current_state = 0\n",
    "        mdp.draw_v_pi(v, policy, title=\"Temporal Differences\")\n",
    "    return v"
   ]
  },
  {
   "cell_type": "markdown",
   "metadata": {
    "id": "8f0swnV9tlym"
   },
   "source": [
    "Once this is done, you can run it."
   ]
  },
  {
   "cell_type": "code",
   "execution_count": null,
   "metadata": {
    "colab": {
     "base_uri": "https://localhost:8080/",
     "height": 409,
     "referenced_widgets": [
      "f0f2128f2ed046c2a657a0e5e3006760",
      "3d7ff1fd2067412393642e95985e6e94",
      "b8df545378894d7da10e3308cf6766c6",
      "0864061d16ba476a9a8dd63804b5b5c3",
      "07f15379fc81494fb462fc2e1e279e5b",
      "8f6756c98fdf43c7bcf4d34481df5efb",
      "c1765382455040c9a5e0723b4731907b",
      "084a192574514b12b2f899babe4c9beb",
      "58587e7b9f474e41a58a03ecd288abea",
      "0064c2a336254ff5ab1963229d4070aa",
      "0d010322be6b441fa8680cb1247eff2e",
      "7aad7e5fc25a4b368b0919d412cb34ec",
      "8b4a9aa0a6f94a17b07a4a9a3f7a8d5c"
     ]
    },
    "id": "R56l4AT3to_F",
    "outputId": "05ae0a96-c7b1-43ce-bc44-d1e9ed42b065"
   },
   "outputs": [],
   "source": [
    "# Note that using a random policy, the chance to get an interesting value function is low\n",
    "# Instead, you may get the value of an optimal policy obtained from a dynamic programming method\n",
    "policy = random_policy(env)\n",
    "v = temporal_difference(env, policy)"
   ]
  },
  {
   "cell_type": "markdown",
   "metadata": {
    "id": "J27oCA7EGuJV"
   },
   "source": [
    "Unless you are lucky, the value function learned from a random policy will most probably be boring, as if it does not reach the rewarded state, all values keep at 0. To watch the behavior of the TD algorithm from an optimal policy, you can copy-paste from the dynamic programming lab the value iteration algorithm, use it to obtain an optimal policy and then call the TD algorithm from the obtained policy."
   ]
  },
  {
   "cell_type": "code",
   "execution_count": 5,
   "metadata": {
    "id": "YHodwM7HSb7w"
   },
   "outputs": [],
   "source": [
    "# ------------------ Value Iteration with the Q function ---------------------#\n",
    "# Given a MDP, this algorithm computes the optimal action value function Q\n",
    "# It then derives the optimal policy based on this function\n",
    "\n",
    "def value_iteration_q(mdp: MazeMDPEnv, render: bool = True) -> Tuple[np.ndarray, List[float]]:\n",
    "    q = np.zeros((mdp.nb_states, mdp.action_space.n))  # initial action values are set to 0\n",
    "    q_list = []\n",
    "    stop = False\n",
    "\n",
    "    if render:\n",
    "        mdp.init_draw(\"Value iteration Q\")\n",
    "\n",
    "    while not stop:\n",
    "        qold = q.copy()\n",
    "\n",
    "        if render:\n",
    "            mdp.draw_v(q, title=\"Value iteration Q\")\n",
    "\n",
    "        for x in range(mdp.nb_states):\n",
    "            if x not in mdp.terminal_states:\n",
    "                for u in range(mdp.action_space.n):\n",
    "                    summ = 0\n",
    "                    for y in range(mdp.nb_states):\n",
    "                        summ += mdp.P[x, u, y] * np.max(qold[y, :])\n",
    "                    q[x,u] = mdp.r[x, u] + mdp.gamma * summ\n",
    "\n",
    "        if (np.linalg.norm(q - qold)) <= 0.01:\n",
    "            stop = True\n",
    "        q_list.append(np.linalg.norm(q))\n",
    "\n",
    "    if render:\n",
    "        mdp.draw_v(q, title=\"Value iteration Q\")\n",
    "        mdp.mdp.plotter.video_writer.release()\n",
    "\n",
    "    return q, q_list\n"
   ]
  },
  {
   "cell_type": "code",
   "execution_count": 6,
   "metadata": {
    "id": "YgyeKTcAScYX"
   },
   "outputs": [],
   "source": [
    "def get_policy_from_q(q: np.ndarray) -> np.ndarray:\n",
    "    # Outputs a policy given the action values\n",
    "    policy = np.zeros(q.shape[0], dtype=int)\n",
    "    for x in range(q.shape[0]):\n",
    "        policy[x] = np.argmax(q[x, :])\n",
    "    return policy"
   ]
  },
  {
   "cell_type": "code",
   "execution_count": 6,
   "metadata": {
    "colab": {
     "base_uri": "https://localhost:8080/",
     "height": 409,
     "referenced_widgets": [
      "05ab88a9e13045b59b5a3dc42781bb8f",
      "c6a14c98c337427dac622208dbdf12d4",
      "460e7496ea854f96908d407fbfd8bca9",
      "df4eaec7f1634443826ef18fd7462d21",
      "93e9ffe70b474ee0bd363c7ecf73fd0a",
      "98aaefca995a4819ada747e29fbc6bd5",
      "2862ddd31237437d968727888d0c6e84",
      "c4fec974fee645db84f4e5d00e58c663",
      "e27b2209017d4281ad0a2e37978830dc",
      "6a3857a9e7d24aca8223e82bf004f191",
      "885b501a1e48482ea0c6156c6acba5e8",
      "685726c7b40e466e8b4a16f06ee523a1",
      "de52c28737734fbf85394ebc62228dc2"
     ]
    },
    "id": "0BafFtVISc-w",
    "outputId": "4a881fc0-adaf-4ef7-d114-45d2aa14cc10"
   },
   "outputs": [
    {
     "data": {
      "application/vnd.jupyter.widget-view+json": {
       "model_id": "97ee31fbb76643d38c1c5917e667df23",
       "version_major": 2,
       "version_minor": 0
      },
      "text/plain": [
       "Output()"
      ]
     },
     "metadata": {},
     "output_type": "display_data"
    },
    {
     "data": {
      "application/vnd.jupyter.widget-view+json": {
       "model_id": "6aea3a36660143b5be6a0745484abbe5",
       "version_major": 2,
       "version_minor": 0
      },
      "text/plain": [
       "  0%|          | 0/50 [00:00<?, ?it/s]"
      ]
     },
     "metadata": {},
     "output_type": "display_data"
    },
    {
     "name": "stderr",
     "output_type": "stream",
     "text": [
      "Exception ignored in: <function TransformNode.set_children.<locals>.<lambda> at 0x126b83a30>\n",
      "Traceback (most recent call last):\n",
      "  File \"/opt/homebrew/Caskroom/miniforge/base/envs/MAPSI/lib/python3.10/site-packages/matplotlib/transforms.py\", line 222, in <lambda>\n",
      "    self, lambda _, pop=child._parents.pop, k=id(self): pop(k))\n",
      "KeyboardInterrupt: \n"
     ]
    }
   ],
   "source": [
    "q, _ = value_iteration_q(env, render=False)\n",
    "policy = get_policy_from_q(q)\n",
    "v = temporal_difference(env, policy)"
   ]
  },
  {
   "cell_type": "markdown",
   "metadata": {
    "id": "wtog6PFsPhCn"
   },
   "source": [
    "## Q-learning ##"
   ]
  },
  {
   "cell_type": "markdown",
   "metadata": {
    "id": "jP5cC07-Pjxl"
   },
   "source": [
    "\n",
    "The **q-learning** algorithm accounts for an agent exploring an MDP and updating at each step a model of the state action-value function stored into a Q-table. It is updated as follows:\n",
    "\n",
    "$$\\delta_t = r(s_t,a_t) + \\gamma \\max_{a \\in A} Q^{(t)}(s_{t+1},a)-Q^{(t)}(s_t,a_t)$$\n",
    "\n",
    "$$Q^{(t+1)}(s_t,a_t) = Q^{(t)}(s_t,a_t) + \\alpha \\delta_t.$$\n"
   ]
  },
  {
   "cell_type": "markdown",
   "metadata": {
    "id": "2gVzVZCLxPh8"
   },
   "source": [
    "To visualize the policy, we need the `get_policy_from_q(q)` function that we defined in the dynamic programming notebook. Import it below."
   ]
  },
  {
   "cell_type": "markdown",
   "metadata": {
    "id": "7pq3cgWNPu_t"
   },
   "source": [
    "**Question:**  Fill the code of the `q_learning(...)` function below."
   ]
  },
  {
   "cell_type": "code",
   "execution_count": 7,
   "metadata": {
    "id": "LhM1c2Ct6dKb"
   },
   "outputs": [],
   "source": [
    "# --------------------------- Q-Learning epsilon-greedy version -------------------------------#\n",
    "\n",
    "# Given an exploration rate epsilon, the QLearning algorithm computes the state action-value function\n",
    "# based on an epsilon-greedy policy\n",
    "# alpha is the learning rate\n",
    "\n",
    "\n",
    "def q_learning_eps(\n",
    "    mdp: MazeMDPEnv,\n",
    "    epsilon: float,\n",
    "    nb_episodes: int = 20,\n",
    "    timeout: int = 50,\n",
    "    alpha: float = 0.5,\n",
    "    render: bool = True,\n",
    ") -> Tuple[np.ndarray, List[float], List[int]]:\n",
    "    # Initialize the state-action value function\n",
    "    # alpha is the learning rate\n",
    "    q = np.zeros((mdp.nb_states, mdp.action_space.n))\n",
    "    q_list = []\n",
    "    time_list = []\n",
    "\n",
    "    # Run learning cycle\n",
    "    mdp.mdp.timeout = timeout  # episode length\n",
    "\n",
    "    if render:\n",
    "        mdp.init_draw(\"Q-learning e-greedy\")\n",
    "\n",
    "    for _ in tqdm(range(nb_episodes)):\n",
    "        # Draw the first state of episode i using a uniform distribution over all the states\n",
    "        x = mdp.reset(uniform=True)\n",
    "        done = False\n",
    "       \n",
    "        while not done:\n",
    "            if render:\n",
    "                # Show the agent in the maze\n",
    "                mdp.draw_v_pi(q, q.argmax(axis=1))\n",
    "\n",
    "           \n",
    "\n",
    "            # Draw an action using an epsilon-greedy policy\n",
    "            u = egreedy(q, x, epsilon)\n",
    "\n",
    "            # Perform a step of the MDP\n",
    "            [y, r, done, _] = mdp.step(u)\n",
    "\n",
    "            # Update the state-action value function\n",
    "            delta = r + mdp.gamma * np.max(q[y, :]) - q[x, u]\n",
    "            q[x, u] = q[x, u] + alpha * delta\n",
    "\n",
    "            # Update the agent position\n",
    "            x = y\n",
    "        q_list.append(np.linalg.norm(q))\n",
    "        time_list.append(mdp.mdp.timestep)\n",
    "\n",
    "    if render:\n",
    "        # Show the final policy\n",
    "        mdp.current_state = 0\n",
    "        mdp.draw_v_pi(q, get_policy_from_q(q), title=\"Q-learning e-greedy\")\n",
    "    return q, q_list, time_list\n"
   ]
  },
  {
   "cell_type": "markdown",
   "metadata": {
    "id": "ME7SAuggvNfw"
   },
   "source": [
    "And run it."
   ]
  },
  {
   "cell_type": "code",
   "execution_count": 8,
   "metadata": {
    "colab": {
     "base_uri": "https://localhost:8080/",
     "height": 409,
     "referenced_widgets": [
      "d1fde0e6bc6d49949f1fd50013297cbc",
      "ecf155715dc94779ac72e4096776979f",
      "45e8a270985b4d9cb42cc1c344afc996",
      "950ea85edf0d4448ad47b14e5b7b5b43",
      "70f3fc87bb184c5eb999c018c43dc437",
      "a13a1224d6ea44b7beb2fdfbb99b5c82",
      "7896ce938c464d2994dc79d4d10e13b8",
      "fd267bdb68204bb29163d66f1db57f95",
      "046c670694f44bdc890925d50d392f7a",
      "c2d6bf8e41194a5c9f18bc3091656b72",
      "fc9fea7fddf2426da94a3c17880c5a69",
      "d8c0c976ecc847f9ab1f466a47b906ea",
      "e61dd557bfb0491aab049ac7769249d1"
     ]
    },
    "id": "UBpkpkuWvP8i",
    "outputId": "309292d2-d32f-46e1-a7f7-22ce30abece4"
   },
   "outputs": [
    {
     "data": {
      "application/vnd.jupyter.widget-view+json": {
       "model_id": "5115c60eadda46ea9e621403efa10931",
       "version_major": 2,
       "version_minor": 0
      },
      "text/plain": [
       "Output()"
      ]
     },
     "metadata": {},
     "output_type": "display_data"
    },
    {
     "data": {
      "application/vnd.jupyter.widget-view+json": {
       "model_id": "f8272485ce3b49a6b2cd58ec80461171",
       "version_major": 2,
       "version_minor": 0
      },
      "text/plain": [
       "  0%|          | 0/20 [00:00<?, ?it/s]"
      ]
     },
     "metadata": {},
     "output_type": "display_data"
    }
   ],
   "source": [
    "epsilon = 0.02\n",
    "q, q_list, time_list = q_learning_eps(env, epsilon)"
   ]
  },
  {
   "cell_type": "markdown",
   "metadata": {
    "id": "MnLbmQsbQEIO"
   },
   "source": [
    "### Learning dynamics ###"
   ]
  },
  {
   "cell_type": "markdown",
   "metadata": {
    "id": "M_6fmrxlQHR3"
   },
   "source": [
    "\n",
    "By watching carefully the values while the agent is learning, you can see that the agent favors certains paths over others which have a strictly equivalent value. This can be explained easily: as the agent chooses a path for the first time, it updates the values along that path, these values get higher than the surrounding values, and the agent chooses the same path again and again, increasing the phenomenon. Only steps of random exploration can counterbalance this effect, but they do so extremely slowly."
   ]
  },
  {
   "cell_type": "markdown",
   "metadata": {
    "id": "JsKOa2i1QMcl"
   },
   "source": [
    "### Exploration ###"
   ]
  },
  {
   "cell_type": "markdown",
   "metadata": {
    "id": "PXkEV9-cQQnP"
   },
   "source": [
    "In the `q_learning(...)` function above, action selection is based on an *$\\epsilon$-greedy* policy. Instead, it could have relied on `softmax`.\n"
   ]
  },
  {
   "cell_type": "markdown",
   "metadata": {
    "id": "whX-_jP4QsrU"
   },
   "source": [
    "**Question:** In the function below, you have to replace the call to the previous *$\\epsilon$-greedy* policy with a `softmax` policy. The `softmax(...)` and `egreedy(...)` functions are available in `mazemdp.toolbox`."
   ]
  },
  {
   "cell_type": "markdown",
   "metadata": {
    "id": "nX-sFoOPcYXO"
   },
   "source": [
    "To sample an action from a distribution of probabilities over discrete actions, you can use the ```sample_categorical(...)``` function."
   ]
  },
  {
   "cell_type": "code",
   "execution_count": 9,
   "metadata": {
    "id": "iu4WiXRm6mdL"
   },
   "outputs": [],
   "source": [
    "# --------------------------- Q-Learning softmax version ----------------------------#\n",
    "\n",
    "# Given a temperature \"tau\", the QLearning algorithm computes the state action-value function\n",
    "# based on a softmax policy\n",
    "# alpha is the learning rate\n",
    "\n",
    "\n",
    "def q_learning_soft(\n",
    "    mdp: MazeMDPEnv,\n",
    "    tau: float,\n",
    "    nb_episodes: int = 20,\n",
    "    timeout: int = 50,\n",
    "    alpha: float = 0.5,\n",
    "    render: bool = True,\n",
    ") -> Tuple[np.ndarray, List[float], List[int]]:\n",
    "    # Initialize the state-action value function\n",
    "    # alpha is the learning rate\n",
    "    q = np.zeros((mdp.nb_states, mdp.action_space.n))\n",
    "    q_list = []\n",
    "    time_list = []\n",
    "\n",
    "    # Run learning cycle\n",
    "    mdp.mdp.timeout = timeout  # episode length\n",
    "\n",
    "    if render:\n",
    "        mdp.init_draw(\"Q-learning softmax\")\n",
    "\n",
    "    for episode in tqdm(range(nb_episodes)):\n",
    "        # Draw the first state of episode i using a uniform distribution over all the states\n",
    "        x = mdp.reset(uniform=True)\n",
    "        done = False\n",
    "        t = tau / (1 + np.log(1+episode))\n",
    "     \n",
    "        while not done:\n",
    "            if render:\n",
    "                # Show the agent in the maze\n",
    "                mdp.draw_v_pi(q, q.argmax(axis=1))\n",
    "\n",
    "\n",
    "            probs = np.array([np.exp(q[x, a] / t) for a in np.arange(mdp.action_space.n)])\n",
    "            probs = probs / sum(probs)\n",
    "            u = np.random.choice(np.arange(mdp.action_space.n), p=probs)\n",
    "            \n",
    "            \n",
    "            # Perform a step of the MDP\n",
    "            [y, r, done, _] = mdp.step(u)\n",
    "\n",
    "            # Update the state-action value function\n",
    "            delta = r + mdp.gamma * np.max(q[y, :]) - q[x, u]\n",
    "            q[x, u] = q[x, u] + alpha * delta\n",
    "            \n",
    "            x = y\n",
    "        q_list.append(np.linalg.norm(q))\n",
    "        time_list.append(mdp.mdp.timestep)\n",
    "\n",
    "    if render:\n",
    "        # Show the final policy\n",
    "        mdp.current_state = 0\n",
    "        mdp.draw_v_pi(q, get_policy_from_q(q), title=\"Q-learning softmax\")\n",
    "    return q, q_list, time_list\n",
    "\n"
   ]
  },
  {
   "cell_type": "markdown",
   "metadata": {
    "id": "Xevh4vMxvm-q"
   },
   "source": [
    "Run this new version"
   ]
  },
  {
   "cell_type": "code",
   "execution_count": 10,
   "metadata": {
    "colab": {
     "base_uri": "https://localhost:8080/",
     "height": 409,
     "referenced_widgets": [
      "fb02dbabe19d425b923af49fd9a0c798",
      "4ad295dde4b74ca7a1fc1ceb8045fb18",
      "eafa577b6da1411c91d71da31f183fb5",
      "cd1b01a73dcf425490c72e34039227b2",
      "2c5bb03230af464785aa2b5c79e541e0",
      "1c89e2291eed4ee0b0c081a0d8d6d380",
      "70de839319004aafa921effdeacd71da",
      "b5be10da2cb9417f826641d0db9c33c4",
      "1d66026fa9384d918dbea5a4931c9d79",
      "6be4eb521b02491d9b0c0e30ed707cd4",
      "d0e93fe81f18415e92c6b4907a536bcb",
      "0af89abfdddb431c9282fc064681a817",
      "97315156c51b40f38a26893391591208"
     ]
    },
    "id": "FcAwK52avpur",
    "outputId": "c84a76bf-b6eb-4211-8d44-9a889945ff12"
   },
   "outputs": [
    {
     "data": {
      "application/vnd.jupyter.widget-view+json": {
       "model_id": "0427d0ce65954ab0842f1a586f0d5b51",
       "version_major": 2,
       "version_minor": 0
      },
      "text/plain": [
       "Output()"
      ]
     },
     "metadata": {},
     "output_type": "display_data"
    },
    {
     "data": {
      "application/vnd.jupyter.widget-view+json": {
       "model_id": "c164d23ca5224b6997497a33db24cf14",
       "version_major": 2,
       "version_minor": 0
      },
      "text/plain": [
       "  0%|          | 0/20 [00:00<?, ?it/s]"
      ]
     },
     "metadata": {},
     "output_type": "display_data"
    }
   ],
   "source": [
    "tau = 6\n",
    "q, q_list,time_list = q_learning_soft(env, tau)"
   ]
  },
  {
   "cell_type": "code",
   "execution_count": null,
   "metadata": {
    "colab": {
     "base_uri": "https://localhost:8080/",
     "height": 438
    },
    "id": "0iXJ-j-i_5pK",
    "outputId": "d513db56-4771-420e-ea00-4436ef52cb83"
   },
   "outputs": [],
   "source": [
    "show_videos(\"videos/\", \"Q-learningsoftmax\")"
   ]
  },
  {
   "cell_type": "markdown",
   "metadata": {
    "id": "PW4wU1xjRT8J"
   },
   "source": [
    "## Sarsa ##"
   ]
  },
  {
   "cell_type": "markdown",
   "metadata": {
    "id": "bxDs-SywRWS6"
   },
   "source": [
    "\n",
    "The **sarsa** algorithm is very similar to **q-learning**. At first glance, the only difference is in the update rule. However, to perform the update in **sarsa**, one needs to know the action the agent will take when it will be at the next state, even if the agent is taking a random action.\n",
    "\n",
    "This implies that the next state action is determined in advance and stored for being played at the next time step.\n"
   ]
  },
  {
   "cell_type": "markdown",
   "metadata": {
    "id": "CUdQEF0Rv2uc"
   },
   "source": [
    "**Question:** Fill the code below"
   ]
  },
  {
   "cell_type": "code",
   "execution_count": 11,
   "metadata": {
    "id": "93VUGbwM6wkq"
   },
   "outputs": [],
   "source": [
    "# --------------------------- Sarsa, epsilon-greedy version -------------------------------#\n",
    "\n",
    "# Given an exploration rate epsilon, the SARSA algorithm computes the state action-value function\n",
    "# based on an epsilon-greedy policy\n",
    "# alpha is the learning rate\n",
    "def sarsa_eps(\n",
    "    mdp: MazeMDPEnv,\n",
    "    epsilon: float,\n",
    "    nb_episodes: int = 20,\n",
    "    timeout: int = 50,\n",
    "    alpha: float = 0.5,\n",
    "    render: bool = True,\n",
    ") -> Tuple[np.ndarray, List[float], List[int]]:\n",
    "    # Initialize the state-action value function\n",
    "    # alpha is the learning rate\n",
    "    q = np.zeros((mdp.nb_states, mdp.action_space.n))\n",
    "    q_list = []\n",
    "    time_list = []\n",
    "\n",
    "    # Run learning cycle\n",
    "    mdp.mdp.timeout = timeout  # episode length\n",
    "\n",
    "    if render:\n",
    "        mdp.init_draw(\"Sarsa e-greedy\")\n",
    "\n",
    "    for _ in tqdm(range(nb_episodes)):\n",
    "        # Draw the first state of episode i using a uniform distribution over all the states\n",
    "        x = mdp.reset(uniform=True)\n",
    "        done = False\n",
    "\n",
    "        # Select an action using an epsilon-greedy policy\n",
    "        u = egreedy(q, x, epsilon)\n",
    "        \n",
    "        \n",
    "        while not done:\n",
    "            if render:\n",
    "                # Show the agent in the maze\n",
    "                mdp.draw_v_pi(q, q.argmax(axis=1))\n",
    "\n",
    "            \n",
    "            # Perform a step of the MDP\n",
    "            [y, r, done, _] = mdp.step(u)\n",
    "    \n",
    "            # Select the next action using an epsilon-greedy policy\n",
    "            u_next = egreedy(q, y, epsilon)\n",
    "\n",
    "            # Update the state-action value function\n",
    "            delta = r + mdp.gamma * q[y, u_next] - q[x, u]\n",
    "            q[x, u] = q[x, u] + alpha * delta\n",
    "\n",
    "            # Update the agent position and action\n",
    "            x = y\n",
    "            u = u_next\n",
    "        q_list.append(np.linalg.norm(q))\n",
    "        time_list.append(mdp.mdp.timestep)\n",
    "        \n",
    "    if render:\n",
    "        # Show the final policy\n",
    "        mdp.current_state = 0\n",
    "        mdp.draw_v_pi(q, get_policy_from_q(q), title=\"Sarsa e-greedy\")\n",
    "    return q, q_list, time_list"
   ]
  },
  {
   "cell_type": "markdown",
   "metadata": {
    "id": "i8obKDfc0rhK"
   },
   "source": [
    "And run it."
   ]
  },
  {
   "cell_type": "code",
   "execution_count": 12,
   "metadata": {
    "colab": {
     "base_uri": "https://localhost:8080/",
     "height": 409,
     "referenced_widgets": [
      "a5f0ec85423348098d1c7f141c7238c9",
      "77f16a6ad96e48908964108381ea3e8a",
      "4705409ce2d04aacb23fd2800140e798",
      "8492899c9dec4481ab7b0be2df1e8056",
      "1fff46a43e2f49e6b7dd946a9884bee2",
      "996050d8e7b44beebbb0469a13b2ac06",
      "6f30a9c913354c96bb44511101b6e4b0",
      "d86d64bba18d4e299ac416cbdf042f8c",
      "4945d7478a024028b0e4c908a0a00d79",
      "a79a83d7b0094b1ea5980aefa8ef9ff0",
      "0820cdafb1dd4c51afe248766e62f608",
      "3464d0506bd64b9195cf395cc810231a",
      "bb80d03d36db49a999a7302a57d83632"
     ]
    },
    "id": "TgY_9mvU0tUr",
    "outputId": "56ad1dcf-d98c-44c5-a04d-853830aef618"
   },
   "outputs": [
    {
     "data": {
      "application/vnd.jupyter.widget-view+json": {
       "model_id": "3023ad8cdcb045019f37f57705ea8b26",
       "version_major": 2,
       "version_minor": 0
      },
      "text/plain": [
       "Output()"
      ]
     },
     "metadata": {},
     "output_type": "display_data"
    },
    {
     "data": {
      "application/vnd.jupyter.widget-view+json": {
       "model_id": "99fb86ce85d348019940b1432074ed6f",
       "version_major": 2,
       "version_minor": 0
      },
      "text/plain": [
       "  0%|          | 0/20 [00:00<?, ?it/s]"
      ]
     },
     "metadata": {},
     "output_type": "display_data"
    }
   ],
   "source": [
    "epsilon = 0.02\n",
    "q, q_list ,time_list = sarsa_eps(env, epsilon)"
   ]
  },
  {
   "cell_type": "code",
   "execution_count": null,
   "metadata": {
    "colab": {
     "base_uri": "https://localhost:8080/",
     "height": 438
    },
    "id": "opuFUT3u_-_I",
    "outputId": "4571815c-5ba4-4e7d-8107-663a574e3ca5"
   },
   "outputs": [],
   "source": [
    "show_videos(\"videos/\", \"Sarsae-greedy\")"
   ]
  },
  {
   "cell_type": "markdown",
   "metadata": {
    "id": "hbtNZZTNhRdx"
   },
   "source": [
    "As for **q-learning** above, copy-paste the resulting code to get a *sarsa_soft(...)* and a *sarsa_eps(...)* function."
   ]
  },
  {
   "cell_type": "code",
   "execution_count": 13,
   "metadata": {
    "id": "UFMuH9Iq6026"
   },
   "outputs": [],
   "source": [
    "# --------------------------- Sarsa, softmax version -------------------------------#\n",
    "\n",
    "# Given a temperature \"tau\", the SARSA algorithm computes the state action-value function\n",
    "# based on a softmax policy\n",
    "# alpha is the learning rate\n",
    "from random import sample\n",
    "\n",
    "\n",
    "def sarsa_soft(\n",
    "    mdp: MazeMDPEnv,\n",
    "    tau: float,\n",
    "    nb_episodes: int = 20,\n",
    "    timeout: int = 50,\n",
    "    alpha: float = 0.5,\n",
    "    render: bool = True,\n",
    ") -> Tuple[np.ndarray, List[float],List[int]]:\n",
    "\n",
    "    # Initialize the state-action value function\n",
    "    # alpha is the learning rate\n",
    "    q = np.zeros((mdp.nb_states, mdp.action_space.n))\n",
    "    q_list = []\n",
    "    time_list = []\n",
    "\n",
    "    # Run learning cycle\n",
    "    mdp.mdp.timeout = timeout  # episode length\n",
    "\n",
    "    if render:\n",
    "        mdp.init_draw(\"Sarsa softmax\")\n",
    "\n",
    "    for episode in tqdm(range(nb_episodes)):\n",
    "        # Draw the first state of episode i using a uniform distribution over all the states\n",
    "        x = mdp.reset(uniform=True)\n",
    "        done = False\n",
    "        t = tau / (1 + np.log(1+episode))\n",
    "\n",
    "        # Select an action using a softmax policy\n",
    "        p_u = softmax(q, x, t)\n",
    "        u = sample_categorical(p_u)\n",
    "        \n",
    "        while not done:\n",
    "            if render:\n",
    "                # Show the agent in the maze\n",
    "                mdp.draw_v_pi(q, q.argmax(axis=1))\n",
    "         \n",
    "            # Perform a step of the MDP\n",
    "            [y, r, done, _] = mdp.step(u)\n",
    "\n",
    "            # Select the next action using a softmax policy\n",
    "            p_u_next = softmax(q, y, t)\n",
    "            u_next = sample_categorical(p_u_next)\n",
    "\n",
    "            # Update the state-action value function\n",
    "            delta = r + mdp.gamma * q[y, u_next] - q[x, u]\n",
    "            q[x, u] = q[x, u] + alpha * delta\n",
    "\n",
    "            # Update the agent position and action\n",
    "            x = y\n",
    "            u = u_next\n",
    "\n",
    "        q_list.append(np.linalg.norm(q))\n",
    "        time_list.append(mdp.mdp.timestep)\n",
    "\n",
    "    if render:\n",
    "        # Show the final policy\n",
    "        mdp.current_state = 0\n",
    "        mdp.draw_v_pi(q, get_policy_from_q(q), title=\"Sarsa softmax\")\n",
    "    return q, q_list, time_list"
   ]
  },
  {
   "cell_type": "markdown",
   "metadata": {
    "id": "koHzhn0h02aa"
   },
   "source": [
    "And run it."
   ]
  },
  {
   "cell_type": "code",
   "execution_count": 14,
   "metadata": {
    "colab": {
     "base_uri": "https://localhost:8080/",
     "height": 426,
     "referenced_widgets": [
      "bb25db135c644d9aa6a8358b53307f74",
      "7c856c0381d145128ababd52a0037baf",
      "f4340d6e098b48dab03bb28c53092585",
      "6a2b8c6ef3b040faa36364967ceab8be",
      "0905577fd04e48a38725083035e51988",
      "e79df753b0774fbebac23adca0725aa5",
      "13761acfef42482c88c8514b3903fe5c",
      "d0a9b5b3465b4654a946708452659115",
      "db101818fc124771aaf277e03dd07e64",
      "06cc8f1232554a3b8b403bf70a59e9a0",
      "6859bf86066e4b5692a8e522521a05e1",
      "64f7f17182c5432882d7f3ddab4333b8",
      "a39cd4083cb64ad9b95b95b9c4cc661b"
     ]
    },
    "id": "SVW4kFli04GB",
    "outputId": "4908136c-59e5-4e2b-8d87-6fc14ea5c10c"
   },
   "outputs": [
    {
     "data": {
      "application/vnd.jupyter.widget-view+json": {
       "model_id": "cb5cfcbf78e7465680c13d319449b570",
       "version_major": 2,
       "version_minor": 0
      },
      "text/plain": [
       "Output()"
      ]
     },
     "metadata": {},
     "output_type": "display_data"
    },
    {
     "data": {
      "application/vnd.jupyter.widget-view+json": {
       "model_id": "d648f167f3a343c29fe2ff1177620371",
       "version_major": 2,
       "version_minor": 0
      },
      "text/plain": [
       "  0%|          | 0/20 [00:00<?, ?it/s]"
      ]
     },
     "metadata": {},
     "output_type": "display_data"
    },
    {
     "name": "stdout",
     "output_type": "stream",
     "text": [
      "[8, 50, 50, 50, 50, 50, 50, 50, 49, 50, 50, 50, 1, 50, 50, 50, 24, 50, 44, 50]\n"
     ]
    }
   ],
   "source": [
    "tau = 6\n",
    "q, q_list ,time_list = sarsa_soft(env, tau)\n",
    "print(time_list)"
   ]
  },
  {
   "cell_type": "code",
   "execution_count": null,
   "metadata": {
    "colab": {
     "base_uri": "https://localhost:8080/",
     "height": 438
    },
    "id": "cUDvBXyKAEHo",
    "outputId": "dc6cf056-83da-4ae6-dd7f-6dd0fd5d970f"
   },
   "outputs": [],
   "source": [
    "show_videos(\"videos/\", \"Sarsasoftmax\")"
   ]
  },
  {
   "cell_type": "markdown",
   "metadata": {
    "id": "G46ht0tRWLj6"
   },
   "source": [
    "## Study part"
   ]
  },
  {
   "cell_type": "markdown",
   "metadata": {
    "id": "1BceAWIYYFg5"
   },
   "source": [
    "### Impact of `epsilon` and `beta` on q-learning and sarsa"
   ]
  },
  {
   "cell_type": "markdown",
   "metadata": {
    "id": "3B8GdWVfX5N2"
   },
   "source": [
    "Compare the number of steps needed by **q-learning** and **sarsa** to converge on a given MDP using the *softmax* and *$\\epsilon$-greedy* exploration strategies. To figure out, you can use the provided `plot_ql_sarsa(m, epsilon, tau, nb_episodes, timeout, alpha, render)` function below with various values for $\\epsilon$ (e.g. 0.001, 0.01, 0.1) and $\\tau$ (e.g. 0.1, 5, 10) and comment the obtained curves. Other visualizations are welcome."
   ]
  },
  {
   "cell_type": "code",
   "execution_count": 20,
   "metadata": {
    "id": "P9kycY4D696H"
   },
   "outputs": [],
   "source": [
    "\n",
    "# -------- plot learning curves of Q-Learning and Sarsa using epsilon-greedy and softmax ----------#\n",
    "\n",
    "def plot_ql_sarsa(env, epsilon, tau, nb_episodes, timeout, alpha, render):\n",
    "    q, q_list1, t_1 = q_learning_eps(env, epsilon, nb_episodes, timeout, alpha, render)\n",
    "    q, q_list2, t_2 = q_learning_soft(env, tau, nb_episodes, timeout, alpha, render)\n",
    "    q, q_list3, t_3 = sarsa_eps(env, epsilon, nb_episodes, timeout, alpha, render)\n",
    "    q, q_list4, t_4 = sarsa_soft(env, tau, nb_episodes, timeout, alpha, render)\n",
    "    \n",
    "    plt.clf()\n",
    "    plt.plot(range(len(q_list1)), q_list1, label='q-learning epsilon')\n",
    "    plt.plot(range(len(q_list2)), q_list2, label='q-learning softmax')\n",
    "    plt.plot(range(len(q_list3)), q_list3, label='sarsa epsilon')\n",
    "    plt.plot(range(len(q_list4)), q_list4, label='sarsa softmax')\n",
    "\n",
    "    plt.xlabel('Number of episodes')\n",
    "    plt.ylabel('Norm of Q values')\n",
    "    plt.legend(loc='upper right')\n",
    "    plt.savefig(\"comparison_RL.png\")\n",
    "    plt.title(\"Comparison of convergence rates\")\n",
    "    plt.show()\n",
    "\n",
    "    # plot time to reach the goal\n",
    "    plt.clf()\n",
    "    plt.figure(figsize=(10, 5))\n",
    "    plt.plot(range(len(t_1)), t_1, label='q-learning epsilon')\n",
    "    plt.plot(range(len(t_2)), t_2, label='q-learning softmax')\n",
    "    plt.plot(range(len(t_3)), t_3, label='sarsa epsilon')\n",
    "    plt.plot(range(len(t_4)), t_4, label='sarsa softmax')\n",
    "    \n",
    "\n",
    "    plt.xlabel('Number of episodes')\n",
    "    plt.ylabel('Number of steps to reach the goal')\n",
    "    plt.legend(loc='upper right')\n",
    "    plt.title(\"Comparison of Time to reach the goal\")\n",
    "    plt.show()\n"
   ]
  },
  {
   "cell_type": "code",
   "execution_count": 47,
   "metadata": {
    "colab": {
     "base_uri": "https://localhost:8080/",
     "height": 738,
     "referenced_widgets": [
      "984ef3c4a27f497281a8d949501c757c",
      "228cc53d039e47ebaf354b61a29cb011",
      "77bf762e604a4b3ca276d0dda98c191b",
      "cb8b852543244636807217dd8c93388c",
      "fb2864351fca491a89d0256781b7793a",
      "576382d3d14141368d9dcea7f81e2227",
      "99f4303a41424365bff46322fe5f1dac",
      "5086755e4c3d45cbb14abbe6ca3b2dc0",
      "272ea87d594843d5951ecd851f81d110",
      "da7f2d5ccbf34250a53dd5d189bd76b7",
      "7ff90999c1d743e0a977eac1dbf74542",
      "591696c9fd704b1ea8f02be3d0ac69eb",
      "b06c0bb99efe4a41b7a925d2bf2d196f",
      "d98f423ee8934897b029d2458fdff177",
      "70a0a57b11784c938dc3a95f6505c482",
      "b15be30aa64b416f8d1b0d5810ccb7c6",
      "7c63594378354d6bb822bb6839679247",
      "e6bbff4ea50d469bafefcbd498ff9dc1",
      "664ce74d317b490189c0191690268bc6",
      "5f472825387148acbe241a88925004b0",
      "11163259f0934ccfb0c6519e04a51dfb",
      "f57371c691f242fa83a347a3d4fea72e",
      "a7971cde84734761812c56ca08c00f05",
      "25e168d254884d1e9f70f4bca6e0f8bd",
      "96c601d561ac40d087ef59541d6d300f",
      "90645054d92e43e8b28ba58b8740dc93",
      "dbb503d046b442bb802512afd1251e2a",
      "d910c51e05d041f68bd228dc542058c2",
      "71cfef8a791142df8bc7d79e3dd6b889",
      "ea9804cc1daf4fa894d865f161260067",
      "293dc27ba32d4a55acc9c79625730611",
      "171aa2ff56a84e7a83c12c5a26977d33",
      "92e6d15ffa624a02bb5aaa073ff851e6",
      "d907c44900dd48ddb83075db8cc67ef0",
      "f7a254e09c4349eba13396c1cfe19cfe",
      "05b03160a59b40f19bd522f590659621",
      "2daea710576a47e485a0f440ea354b4c",
      "207d41dab4de4a688f6985117c55a1e1",
      "b5ea81ecdac0433598debc731683c2c2",
      "c316c51aa0f7445f8f3b755df9162b08",
      "0ebb803170fd4ad0b3fa8d6bd5036876",
      "88087dbe29194bd58f7fa7062b7d92bc",
      "9fbf8a1c47924ace9dc9ff2265f0f628",
      "d09b73cd70bb4cc3b7a96c8da3d23d16"
     ]
    },
    "id": "QjSmclM31MkU",
    "outputId": "ef4a1851-3292-41ad-8597-cdf976756edc"
   },
   "outputs": [
    {
     "data": {
      "application/vnd.jupyter.widget-view+json": {
       "model_id": "25e69d9e4dd74e88a01e9239f8a5ffdc",
       "version_major": 2,
       "version_minor": 0
      },
      "text/plain": [
       "  0%|          | 0/100 [00:00<?, ?it/s]"
      ]
     },
     "metadata": {},
     "output_type": "display_data"
    },
    {
     "data": {
      "application/vnd.jupyter.widget-view+json": {
       "model_id": "775e9380eed84c9090b3e683f008f012",
       "version_major": 2,
       "version_minor": 0
      },
      "text/plain": [
       "  0%|          | 0/100 [00:00<?, ?it/s]"
      ]
     },
     "metadata": {},
     "output_type": "display_data"
    },
    {
     "data": {
      "application/vnd.jupyter.widget-view+json": {
       "model_id": "4cf261cd33f74e74adc924171ab7c901",
       "version_major": 2,
       "version_minor": 0
      },
      "text/plain": [
       "  0%|          | 0/100 [00:00<?, ?it/s]"
      ]
     },
     "metadata": {},
     "output_type": "display_data"
    },
    {
     "data": {
      "application/vnd.jupyter.widget-view+json": {
       "model_id": "b6afd46bd87248fb90e51e72ac3f9d05",
       "version_major": 2,
       "version_minor": 0
      },
      "text/plain": [
       "  0%|          | 0/100 [00:00<?, ?it/s]"
      ]
     },
     "metadata": {},
     "output_type": "display_data"
    },
    {
     "data": {
      "image/png": "[encoded data removed]",
      "text/plain": [
       "<Figure size 640x480 with 1 Axes>"
      ]
     },
     "metadata": {},
     "output_type": "display_data"
    },
    {
     "data": {
      "text/plain": [
       "<Figure size 640x480 with 0 Axes>"
      ]
     },
     "metadata": {},
     "output_type": "display_data"
    },
    {
     "data": {
      "image/png": "[encoded data removed]",
      "text/plain": [
       "<Figure size 1000x500 with 1 Axes>"
      ]
     },
     "metadata": {},
     "output_type": "display_data"
    }
   ],
   "source": [
    "# example\n",
    "epsilon = 0.02\n",
    "tau = 1.0\n",
    "plot_ql_sarsa(env, epsilon, tau, 100, 500, 0.5, False)"
   ]
  },
  {
   "cell_type": "markdown",
   "metadata": {
    "id": "sDquKHXZiPmA"
   },
   "source": [
    "### Effect of hyper-parameters"
   ]
  },
  {
   "cell_type": "markdown",
   "metadata": {
    "id": "JqnYA-fKiTU3"
   },
   "source": [
    "The other two hyper-parameters of **q-learning** and **sarsa** are $\\alpha$, and $\\gamma$. By varying the values of these hyper-parameters and watching the learning process and behavior of the agent, explain their impact on the algorithm. Using additional plotting functions is also welcome."
   ]
  }
 ],
 "metadata": {
  "colab": {
   "include_colab_link": true,
   "provenance": []
  },
  "kernelspec": {
   "display_name": "MAPSI",
   "language": "python",
   "name": "python3"
  },
  "language_info": {
   "codemirror_mode": {
    "name": "ipython",
    "version": 3
   },
   "file_extension": ".py",
   "mimetype": "text/x-python",
   "name": "python",
   "nbconvert_exporter": "python",
   "pygments_lexer": "ipython3",
   "version": "3.10.8"
  },
  "vscode": {
   "interpreter": {
    "hash": "6cd79503748b5223e5db4f7a1bfb24a442e426267ae75455059d26da2b218ee8"
   }
  },
  "widgets": {
   "application/vnd.jupyter.widget-state+json": {
    "0064c2a336254ff5ab1963229d4070aa": {
     "model_module": "@jupyter-widgets/base",
     "model_module_version": "1.2.0",
     "model_name": "LayoutModel",
     "state": {
      "_model_module": "@jupyter-widgets/base",
      "_model_module_version": "1.2.0",
      "_model_name": "LayoutModel",
      "_view_count": null,
      "_view_module": "@jupyter-widgets/base",
      "_view_module_version": "1.2.0",
      "_view_name": "LayoutView",
      "align_content": null,
      "align_items": null,
      "align_self": null,
      "border": null,
      "bottom": null,
      "display": null,
      "flex": null,
      "flex_flow": null,
      "grid_area": null,
      "grid_auto_columns": null,
      "grid_auto_flow": null,
      "grid_auto_rows": null,
      "grid_column": null,
      "grid_gap": null,
      "grid_row": null,
      "grid_template_areas": null,
      "grid_template_columns": null,
      "grid_template_rows": null,
      "height": null,
      "justify_content": null,
      "justify_items": null,
      "left": null,
      "margin": null,
      "max_height": null,
      "max_width": null,
      "min_height": null,
      "min_width": null,
      "object_fit": null,
      "object_position": null,
      "order": null,
      "overflow": null,
      "overflow_x": null,
      "overflow_y": null,
      "padding": null,
      "right": null,
      "top": null,
      "visibility": null,
      "width": null
     }
    },
    "046c670694f44bdc890925d50d392f7a": {
     "model_module": "@jupyter-widgets/controls",
     "model_module_version": "1.5.0",
     "model_name": "DescriptionStyleModel",
     "state": {
      "_model_module": "@jupyter-widgets/controls",
      "_model_module_version": "1.5.0",
      "_model_name": "DescriptionStyleModel",
      "_view_count": null,
      "_view_module": "@jupyter-widgets/base",
      "_view_module_version": "1.2.0",
      "_view_name": "StyleView",
      "description_width": ""
     }
    },
    "05ab88a9e13045b59b5a3dc42781bb8f": {
     "model_module": "@jupyter-widgets/output",
     "model_module_version": "1.0.0",
     "model_name": "OutputModel",
     "state": {
      "_dom_classes": [],
      "_model_module": "@jupyter-widgets/output",
      "_model_module_version": "1.0.0",
      "_model_name": "OutputModel",
      "_view_count": null,
      "_view_module": "@jupyter-widgets/output",
      "_view_module_version": "1.0.0",
      "_view_name": "OutputView",
      "layout": "IPY_MODEL_c6a14c98c337427dac622208dbdf12d4",
      "msg_id": "",
      "outputs": [
       {
        "data": {
         "image/png": "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\n",
         "text/plain": "<IPython.core.display.Image object>"
        },
        "metadata": {},
        "output_type": "display_data"
       }
      ]
     }
    },
    "05b03160a59b40f19bd522f590659621": {
     "model_module": "@jupyter-widgets/controls",
     "model_module_version": "1.5.0",
     "model_name": "FloatProgressModel",
     "state": {
      "_dom_classes": [],
      "_model_module": "@jupyter-widgets/controls",
      "_model_module_version": "1.5.0",
      "_model_name": "FloatProgressModel",
      "_view_count": null,
      "_view_module": "@jupyter-widgets/controls",
      "_view_module_version": "1.5.0",
      "_view_name": "ProgressView",
      "bar_style": "success",
      "description": "",
      "description_tooltip": null,
      "layout": "IPY_MODEL_0ebb803170fd4ad0b3fa8d6bd5036876",
      "max": 200,
      "min": 0,
      "orientation": "horizontal",
      "style": "IPY_MODEL_88087dbe29194bd58f7fa7062b7d92bc",
      "value": 200
     }
    },
    "06cc8f1232554a3b8b403bf70a59e9a0": {
     "model_module": "@jupyter-widgets/base",
     "model_module_version": "1.2.0",
     "model_name": "LayoutModel",
     "state": {
      "_model_module": "@jupyter-widgets/base",
      "_model_module_version": "1.2.0",
      "_model_name": "LayoutModel",
      "_view_count": null,
      "_view_module": "@jupyter-widgets/base",
      "_view_module_version": "1.2.0",
      "_view_name": "LayoutView",
      "align_content": null,
      "align_items": null,
      "align_self": null,
      "border": null,
      "bottom": null,
      "display": null,
      "flex": null,
      "flex_flow": null,
      "grid_area": null,
      "grid_auto_columns": null,
      "grid_auto_flow": null,
      "grid_auto_rows": null,
      "grid_column": null,
      "grid_gap": null,
      "grid_row": null,
      "grid_template_areas": null,
      "grid_template_columns": null,
      "grid_template_rows": null,
      "height": null,
      "justify_content": null,
      "justify_items": null,
      "left": null,
      "margin": null,
      "max_height": null,
      "max_width": null,
      "min_height": null,
      "min_width": null,
      "object_fit": null,
      "object_position": null,
      "order": null,
      "overflow": null,
      "overflow_x": null,
      "overflow_y": null,
      "padding": null,
      "right": null,
      "top": null,
      "visibility": null,
      "width": null
     }
    },
    "07f15379fc81494fb462fc2e1e279e5b": {
     "model_module": "@jupyter-widgets/controls",
     "model_module_version": "1.5.0",
     "model_name": "FloatProgressModel",
     "state": {
      "_dom_classes": [],
      "_model_module": "@jupyter-widgets/controls",
      "_model_module_version": "1.5.0",
      "_model_name": "FloatProgressModel",
      "_view_count": null,
      "_view_module": "@jupyter-widgets/controls",
      "_view_module_version": "1.5.0",
      "_view_name": "ProgressView",
      "bar_style": "success",
      "description": "",
      "description_tooltip": null,
      "layout": "IPY_MODEL_0064c2a336254ff5ab1963229d4070aa",
      "max": 50,
      "min": 0,
      "orientation": "horizontal",
      "style": "IPY_MODEL_0d010322be6b441fa8680cb1247eff2e",
      "value": 50
     }
    },
    "0820cdafb1dd4c51afe248766e62f608": {
     "model_module": "@jupyter-widgets/controls",
     "model_module_version": "1.5.0",
     "model_name": "ProgressStyleModel",
     "state": {
      "_model_module": "@jupyter-widgets/controls",
      "_model_module_version": "1.5.0",
      "_model_name": "ProgressStyleModel",
      "_view_count": null,
      "_view_module": "@jupyter-widgets/base",
      "_view_module_version": "1.2.0",
      "_view_name": "StyleView",
      "bar_color": null,
      "description_width": ""
     }
    },
    "084a192574514b12b2f899babe4c9beb": {
     "model_module": "@jupyter-widgets/base",
     "model_module_version": "1.2.0",
     "model_name": "LayoutModel",
     "state": {
      "_model_module": "@jupyter-widgets/base",
      "_model_module_version": "1.2.0",
      "_model_name": "LayoutModel",
      "_view_count": null,
      "_view_module": "@jupyter-widgets/base",
      "_view_module_version": "1.2.0",
      "_view_name": "LayoutView",
      "align_content": null,
      "align_items": null,
      "align_self": null,
      "border": null,
      "bottom": null,
      "display": null,
      "flex": null,
      "flex_flow": null,
      "grid_area": null,
      "grid_auto_columns": null,
      "grid_auto_flow": null,
      "grid_auto_rows": null,
      "grid_column": null,
      "grid_gap": null,
      "grid_row": null,
      "grid_template_areas": null,
      "grid_template_columns": null,
      "grid_template_rows": null,
      "height": null,
      "justify_content": null,
      "justify_items": null,
      "left": null,
      "margin": null,
      "max_height": null,
      "max_width": null,
      "min_height": null,
      "min_width": null,
      "object_fit": null,
      "object_position": null,
      "order": null,
      "overflow": null,
      "overflow_x": null,
      "overflow_y": null,
      "padding": null,
      "right": null,
      "top": null,
      "visibility": null,
      "width": null
     }
    },
    "0864061d16ba476a9a8dd63804b5b5c3": {
     "model_module": "@jupyter-widgets/controls",
     "model_module_version": "1.5.0",
     "model_name": "HTMLModel",
     "state": {
      "_dom_classes": [],
      "_model_module": "@jupyter-widgets/controls",
      "_model_module_version": "1.5.0",
      "_model_name": "HTMLModel",
      "_view_count": null,
      "_view_module": "@jupyter-widgets/controls",
      "_view_module_version": "1.5.0",
      "_view_name": "HTMLView",
      "description": "",
      "description_tooltip": null,
      "layout": "IPY_MODEL_084a192574514b12b2f899babe4c9beb",
      "placeholder": "​",
      "style": "IPY_MODEL_58587e7b9f474e41a58a03ecd288abea",
      "value": "100%"
     }
    },
    "0905577fd04e48a38725083035e51988": {
     "model_module": "@jupyter-widgets/controls",
     "model_module_version": "1.5.0",
     "model_name": "FloatProgressModel",
     "state": {
      "_dom_classes": [],
      "_model_module": "@jupyter-widgets/controls",
      "_model_module_version": "1.5.0",
      "_model_name": "FloatProgressModel",
      "_view_count": null,
      "_view_module": "@jupyter-widgets/controls",
      "_view_module_version": "1.5.0",
      "_view_name": "ProgressView",
      "bar_style": "success",
      "description": "",
      "description_tooltip": null,
      "layout": "IPY_MODEL_06cc8f1232554a3b8b403bf70a59e9a0",
      "max": 20,
      "min": 0,
      "orientation": "horizontal",
      "style": "IPY_MODEL_6859bf86066e4b5692a8e522521a05e1",
      "value": 20
     }
    },
    "0adcbf584a084a7eab88658d39491637": {
     "model_module": "@jupyter-widgets/output",
     "model_module_version": "1.0.0",
     "model_name": "OutputModel",
     "state": {
      "_dom_classes": [],
      "_model_module": "@jupyter-widgets/output",
      "_model_module_version": "1.0.0",
      "_model_name": "OutputModel",
      "_view_count": null,
      "_view_module": "@jupyter-widgets/output",
      "_view_module_version": "1.0.0",
      "_view_name": "OutputView",
      "layout": "IPY_MODEL_6938f9d0c69d431195fb1d5e0d72c2d6",
      "msg_id": "",
      "outputs": [
       {
        "data": {
         "image/png": "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\n",
         "text/plain": "<IPython.core.display.Image object>"
        },
        "metadata": {},
        "output_type": "display_data"
       }
      ]
     }
    },
    "0af89abfdddb431c9282fc064681a817": {
     "model_module": "@jupyter-widgets/base",
     "model_module_version": "1.2.0",
     "model_name": "LayoutModel",
     "state": {
      "_model_module": "@jupyter-widgets/base",
      "_model_module_version": "1.2.0",
      "_model_name": "LayoutModel",
      "_view_count": null,
      "_view_module": "@jupyter-widgets/base",
      "_view_module_version": "1.2.0",
      "_view_name": "LayoutView",
      "align_content": null,
      "align_items": null,
      "align_self": null,
      "border": null,
      "bottom": null,
      "display": null,
      "flex": null,
      "flex_flow": null,
      "grid_area": null,
      "grid_auto_columns": null,
      "grid_auto_flow": null,
      "grid_auto_rows": null,
      "grid_column": null,
      "grid_gap": null,
      "grid_row": null,
      "grid_template_areas": null,
      "grid_template_columns": null,
      "grid_template_rows": null,
      "height": null,
      "justify_content": null,
      "justify_items": null,
      "left": null,
      "margin": null,
      "max_height": null,
      "max_width": null,
      "min_height": null,
      "min_width": null,
      "object_fit": null,
      "object_position": null,
      "order": null,
      "overflow": null,
      "overflow_x": null,
      "overflow_y": null,
      "padding": null,
      "right": null,
      "top": null,
      "visibility": null,
      "width": null
     }
    },
    "0d010322be6b441fa8680cb1247eff2e": {
     "model_module": "@jupyter-widgets/controls",
     "model_module_version": "1.5.0",
     "model_name": "ProgressStyleModel",
     "state": {
      "_model_module": "@jupyter-widgets/controls",
      "_model_module_version": "1.5.0",
      "_model_name": "ProgressStyleModel",
      "_view_count": null,
      "_view_module": "@jupyter-widgets/base",
      "_view_module_version": "1.2.0",
      "_view_name": "StyleView",
      "bar_color": null,
      "description_width": ""
     }
    },
    "0ebb803170fd4ad0b3fa8d6bd5036876": {
     "model_module": "@jupyter-widgets/base",
     "model_module_version": "1.2.0",
     "model_name": "LayoutModel",
     "state": {
      "_model_module": "@jupyter-widgets/base",
      "_model_module_version": "1.2.0",
      "_model_name": "LayoutModel",
      "_view_count": null,
      "_view_module": "@jupyter-widgets/base",
      "_view_module_version": "1.2.0",
      "_view_name": "LayoutView",
      "align_content": null,
      "align_items": null,
      "align_self": null,
      "border": null,
      "bottom": null,
      "display": null,
      "flex": null,
      "flex_flow": null,
      "grid_area": null,
      "grid_auto_columns": null,
      "grid_auto_flow": null,
      "grid_auto_rows": null,
      "grid_column": null,
      "grid_gap": null,
      "grid_row": null,
      "grid_template_areas": null,
      "grid_template_columns": null,
      "grid_template_rows": null,
      "height": null,
      "justify_content": null,
      "justify_items": null,
      "left": null,
      "margin": null,
      "max_height": null,
      "max_width": null,
      "min_height": null,
      "min_width": null,
      "object_fit": null,
      "object_position": null,
      "order": null,
      "overflow": null,
      "overflow_x": null,
      "overflow_y": null,
      "padding": null,
      "right": null,
      "top": null,
      "visibility": null,
      "width": null
     }
    },
    "11163259f0934ccfb0c6519e04a51dfb": {
     "model_module": "@jupyter-widgets/base",
     "model_module_version": "1.2.0",
     "model_name": "LayoutModel",
     "state": {
      "_model_module": "@jupyter-widgets/base",
      "_model_module_version": "1.2.0",
      "_model_name": "LayoutModel",
      "_view_count": null,
      "_view_module": "@jupyter-widgets/base",
      "_view_module_version": "1.2.0",
      "_view_name": "LayoutView",
      "align_content": null,
      "align_items": null,
      "align_self": null,
      "border": null,
      "bottom": null,
      "display": null,
      "flex": null,
      "flex_flow": null,
      "grid_area": null,
      "grid_auto_columns": null,
      "grid_auto_flow": null,
      "grid_auto_rows": null,
      "grid_column": null,
      "grid_gap": null,
      "grid_row": null,
      "grid_template_areas": null,
      "grid_template_columns": null,
      "grid_template_rows": null,
      "height": null,
      "justify_content": null,
      "justify_items": null,
      "left": null,
      "margin": null,
      "max_height": null,
      "max_width": null,
      "min_height": null,
      "min_width": null,
      "object_fit": null,
      "object_position": null,
      "order": null,
      "overflow": null,
      "overflow_x": null,
      "overflow_y": null,
      "padding": null,
      "right": null,
      "top": null,
      "visibility": null,
      "width": null
     }
    },
    "13761acfef42482c88c8514b3903fe5c": {
     "model_module": "@jupyter-widgets/base",
     "model_module_version": "1.2.0",
     "model_name": "LayoutModel",
     "state": {
      "_model_module": "@jupyter-widgets/base",
      "_model_module_version": "1.2.0",
      "_model_name": "LayoutModel",
      "_view_count": null,
      "_view_module": "@jupyter-widgets/base",
      "_view_module_version": "1.2.0",
      "_view_name": "LayoutView",
      "align_content": null,
      "align_items": null,
      "align_self": null,
      "border": null,
      "bottom": null,
      "display": null,
      "flex": null,
      "flex_flow": null,
      "grid_area": null,
      "grid_auto_columns": null,
      "grid_auto_flow": null,
      "grid_auto_rows": null,
      "grid_column": null,
      "grid_gap": null,
      "grid_row": null,
      "grid_template_areas": null,
      "grid_template_columns": null,
      "grid_template_rows": null,
      "height": null,
      "justify_content": null,
      "justify_items": null,
      "left": null,
      "margin": null,
      "max_height": null,
      "max_width": null,
      "min_height": null,
      "min_width": null,
      "object_fit": null,
      "object_position": null,
      "order": null,
      "overflow": null,
      "overflow_x": null,
      "overflow_y": null,
      "padding": null,
      "right": null,
      "top": null,
      "visibility": null,
      "width": null
     }
    },
    "171aa2ff56a84e7a83c12c5a26977d33": {
     "model_module": "@jupyter-widgets/base",
     "model_module_version": "1.2.0",
     "model_name": "LayoutModel",
     "state": {
      "_model_module": "@jupyter-widgets/base",
      "_model_module_version": "1.2.0",
      "_model_name": "LayoutModel",
      "_view_count": null,
      "_view_module": "@jupyter-widgets/base",
      "_view_module_version": "1.2.0",
      "_view_name": "LayoutView",
      "align_content": null,
      "align_items": null,
      "align_self": null,
      "border": null,
      "bottom": null,
      "display": null,
      "flex": null,
      "flex_flow": null,
      "grid_area": null,
      "grid_auto_columns": null,
      "grid_auto_flow": null,
      "grid_auto_rows": null,
      "grid_column": null,
      "grid_gap": null,
      "grid_row": null,
      "grid_template_areas": null,
      "grid_template_columns": null,
      "grid_template_rows": null,
      "height": null,
      "justify_content": null,
      "justify_items": null,
      "left": null,
      "margin": null,
      "max_height": null,
      "max_width": null,
      "min_height": null,
      "min_width": null,
      "object_fit": null,
      "object_position": null,
      "order": null,
      "overflow": null,
      "overflow_x": null,
      "overflow_y": null,
      "padding": null,
      "right": null,
      "top": null,
      "visibility": null,
      "width": null
     }
    },
    "1c89e2291eed4ee0b0c081a0d8d6d380": {
     "model_module": "@jupyter-widgets/controls",
     "model_module_version": "1.5.0",
     "model_name": "HTMLModel",
     "state": {
      "_dom_classes": [],
      "_model_module": "@jupyter-widgets/controls",
      "_model_module_version": "1.5.0",
      "_model_name": "HTMLModel",
      "_view_count": null,
      "_view_module": "@jupyter-widgets/controls",
      "_view_module_version": "1.5.0",
      "_view_name": "HTMLView",
      "description": "",
      "description_tooltip": null,
      "layout": "IPY_MODEL_0af89abfdddb431c9282fc064681a817",
      "placeholder": "​",
      "style": "IPY_MODEL_97315156c51b40f38a26893391591208",
      "value": " 20/20 [03:32&lt;00:00, 10.55s/it]"
     }
    },
    "1d66026fa9384d918dbea5a4931c9d79": {
     "model_module": "@jupyter-widgets/controls",
     "model_module_version": "1.5.0",
     "model_name": "DescriptionStyleModel",
     "state": {
      "_model_module": "@jupyter-widgets/controls",
      "_model_module_version": "1.5.0",
      "_model_name": "DescriptionStyleModel",
      "_view_count": null,
      "_view_module": "@jupyter-widgets/base",
      "_view_module_version": "1.2.0",
      "_view_name": "StyleView",
      "description_width": ""
     }
    },
    "1fff46a43e2f49e6b7dd946a9884bee2": {
     "model_module": "@jupyter-widgets/controls",
     "model_module_version": "1.5.0",
     "model_name": "FloatProgressModel",
     "state": {
      "_dom_classes": [],
      "_model_module": "@jupyter-widgets/controls",
      "_model_module_version": "1.5.0",
      "_model_name": "FloatProgressModel",
      "_view_count": null,
      "_view_module": "@jupyter-widgets/controls",
      "_view_module_version": "1.5.0",
      "_view_name": "ProgressView",
      "bar_style": "success",
      "description": "",
      "description_tooltip": null,
      "layout": "IPY_MODEL_a79a83d7b0094b1ea5980aefa8ef9ff0",
      "max": 20,
      "min": 0,
      "orientation": "horizontal",
      "style": "IPY_MODEL_0820cdafb1dd4c51afe248766e62f608",
      "value": 20
     }
    },
    "207d41dab4de4a688f6985117c55a1e1": {
     "model_module": "@jupyter-widgets/base",
     "model_module_version": "1.2.0",
     "model_name": "LayoutModel",
     "state": {
      "_model_module": "@jupyter-widgets/base",
      "_model_module_version": "1.2.0",
      "_model_name": "LayoutModel",
      "_view_count": null,
      "_view_module": "@jupyter-widgets/base",
      "_view_module_version": "1.2.0",
      "_view_name": "LayoutView",
      "align_content": null,
      "align_items": null,
      "align_self": null,
      "border": null,
      "bottom": null,
      "display": null,
      "flex": null,
      "flex_flow": null,
      "grid_area": null,
      "grid_auto_columns": null,
      "grid_auto_flow": null,
      "grid_auto_rows": null,
      "grid_column": null,
      "grid_gap": null,
      "grid_row": null,
      "grid_template_areas": null,
      "grid_template_columns": null,
      "grid_template_rows": null,
      "height": null,
      "justify_content": null,
      "justify_items": null,
      "left": null,
      "margin": null,
      "max_height": null,
      "max_width": null,
      "min_height": null,
      "min_width": null,
      "object_fit": null,
      "object_position": null,
      "order": null,
      "overflow": null,
      "overflow_x": null,
      "overflow_y": null,
      "padding": null,
      "right": null,
      "top": null,
      "visibility": null,
      "width": null
     }
    },
    "228cc53d039e47ebaf354b61a29cb011": {
     "model_module": "@jupyter-widgets/controls",
     "model_module_version": "1.5.0",
     "model_name": "HTMLModel",
     "state": {
      "_dom_classes": [],
      "_model_module": "@jupyter-widgets/controls",
      "_model_module_version": "1.5.0",
      "_model_name": "HTMLModel",
      "_view_count": null,
      "_view_module": "@jupyter-widgets/controls",
      "_view_module_version": "1.5.0",
      "_view_name": "HTMLView",
      "description": "",
      "description_tooltip": null,
      "layout": "IPY_MODEL_576382d3d14141368d9dcea7f81e2227",
      "placeholder": "​",
      "style": "IPY_MODEL_99f4303a41424365bff46322fe5f1dac",
      "value": "100%"
     }
    },
    "25e168d254884d1e9f70f4bca6e0f8bd": {
     "model_module": "@jupyter-widgets/controls",
     "model_module_version": "1.5.0",
     "model_name": "HTMLModel",
     "state": {
      "_dom_classes": [],
      "_model_module": "@jupyter-widgets/controls",
      "_model_module_version": "1.5.0",
      "_model_name": "HTMLModel",
      "_view_count": null,
      "_view_module": "@jupyter-widgets/controls",
      "_view_module_version": "1.5.0",
      "_view_name": "HTMLView",
      "description": "",
      "description_tooltip": null,
      "layout": "IPY_MODEL_d910c51e05d041f68bd228dc542058c2",
      "placeholder": "​",
      "style": "IPY_MODEL_71cfef8a791142df8bc7d79e3dd6b889",
      "value": "100%"
     }
    },
    "272ea87d594843d5951ecd851f81d110": {
     "model_module": "@jupyter-widgets/controls",
     "model_module_version": "1.5.0",
     "model_name": "ProgressStyleModel",
     "state": {
      "_model_module": "@jupyter-widgets/controls",
      "_model_module_version": "1.5.0",
      "_model_name": "ProgressStyleModel",
      "_view_count": null,
      "_view_module": "@jupyter-widgets/base",
      "_view_module_version": "1.2.0",
      "_view_name": "StyleView",
      "bar_color": null,
      "description_width": ""
     }
    },
    "2862ddd31237437d968727888d0c6e84": {
     "model_module": "@jupyter-widgets/base",
     "model_module_version": "1.2.0",
     "model_name": "LayoutModel",
     "state": {
      "_model_module": "@jupyter-widgets/base",
      "_model_module_version": "1.2.0",
      "_model_name": "LayoutModel",
      "_view_count": null,
      "_view_module": "@jupyter-widgets/base",
      "_view_module_version": "1.2.0",
      "_view_name": "LayoutView",
      "align_content": null,
      "align_items": null,
      "align_self": null,
      "border": null,
      "bottom": null,
      "display": null,
      "flex": null,
      "flex_flow": null,
      "grid_area": null,
      "grid_auto_columns": null,
      "grid_auto_flow": null,
      "grid_auto_rows": null,
      "grid_column": null,
      "grid_gap": null,
      "grid_row": null,
      "grid_template_areas": null,
      "grid_template_columns": null,
      "grid_template_rows": null,
      "height": null,
      "justify_content": null,
      "justify_items": null,
      "left": null,
      "margin": null,
      "max_height": null,
      "max_width": null,
      "min_height": null,
      "min_width": null,
      "object_fit": null,
      "object_position": null,
      "order": null,
      "overflow": null,
      "overflow_x": null,
      "overflow_y": null,
      "padding": null,
      "right": null,
      "top": null,
      "visibility": null,
      "width": null
     }
    },
    "293dc27ba32d4a55acc9c79625730611": {
     "model_module": "@jupyter-widgets/controls",
     "model_module_version": "1.5.0",
     "model_name": "ProgressStyleModel",
     "state": {
      "_model_module": "@jupyter-widgets/controls",
      "_model_module_version": "1.5.0",
      "_model_name": "ProgressStyleModel",
      "_view_count": null,
      "_view_module": "@jupyter-widgets/base",
      "_view_module_version": "1.2.0",
      "_view_name": "StyleView",
      "bar_color": null,
      "description_width": ""
     }
    },
    "2c5bb03230af464785aa2b5c79e541e0": {
     "model_module": "@jupyter-widgets/controls",
     "model_module_version": "1.5.0",
     "model_name": "FloatProgressModel",
     "state": {
      "_dom_classes": [],
      "_model_module": "@jupyter-widgets/controls",
      "_model_module_version": "1.5.0",
      "_model_name": "FloatProgressModel",
      "_view_count": null,
      "_view_module": "@jupyter-widgets/controls",
      "_view_module_version": "1.5.0",
      "_view_name": "ProgressView",
      "bar_style": "success",
      "description": "",
      "description_tooltip": null,
      "layout": "IPY_MODEL_6be4eb521b02491d9b0c0e30ed707cd4",
      "max": 20,
      "min": 0,
      "orientation": "horizontal",
      "style": "IPY_MODEL_d0e93fe81f18415e92c6b4907a536bcb",
      "value": 20
     }
    },
    "2daea710576a47e485a0f440ea354b4c": {
     "model_module": "@jupyter-widgets/controls",
     "model_module_version": "1.5.0",
     "model_name": "HTMLModel",
     "state": {
      "_dom_classes": [],
      "_model_module": "@jupyter-widgets/controls",
      "_model_module_version": "1.5.0",
      "_model_name": "HTMLModel",
      "_view_count": null,
      "_view_module": "@jupyter-widgets/controls",
      "_view_module_version": "1.5.0",
      "_view_name": "HTMLView",
      "description": "",
      "description_tooltip": null,
      "layout": "IPY_MODEL_9fbf8a1c47924ace9dc9ff2265f0f628",
      "placeholder": "​",
      "style": "IPY_MODEL_d09b73cd70bb4cc3b7a96c8da3d23d16",
      "value": " 200/200 [00:01&lt;00:00, 128.37it/s]"
     }
    },
    "3464d0506bd64b9195cf395cc810231a": {
     "model_module": "@jupyter-widgets/base",
     "model_module_version": "1.2.0",
     "model_name": "LayoutModel",
     "state": {
      "_model_module": "@jupyter-widgets/base",
      "_model_module_version": "1.2.0",
      "_model_name": "LayoutModel",
      "_view_count": null,
      "_view_module": "@jupyter-widgets/base",
      "_view_module_version": "1.2.0",
      "_view_name": "LayoutView",
      "align_content": null,
      "align_items": null,
      "align_self": null,
      "border": null,
      "bottom": null,
      "display": null,
      "flex": null,
      "flex_flow": null,
      "grid_area": null,
      "grid_auto_columns": null,
      "grid_auto_flow": null,
      "grid_auto_rows": null,
      "grid_column": null,
      "grid_gap": null,
      "grid_row": null,
      "grid_template_areas": null,
      "grid_template_columns": null,
      "grid_template_rows": null,
      "height": null,
      "justify_content": null,
      "justify_items": null,
      "left": null,
      "margin": null,
      "max_height": null,
      "max_width": null,
      "min_height": null,
      "min_width": null,
      "object_fit": null,
      "object_position": null,
      "order": null,
      "overflow": null,
      "overflow_x": null,
      "overflow_y": null,
      "padding": null,
      "right": null,
      "top": null,
      "visibility": null,
      "width": null
     }
    },
    "3d7ff1fd2067412393642e95985e6e94": {
     "model_module": "@jupyter-widgets/base",
     "model_module_version": "1.2.0",
     "model_name": "LayoutModel",
     "state": {
      "_model_module": "@jupyter-widgets/base",
      "_model_module_version": "1.2.0",
      "_model_name": "LayoutModel",
      "_view_count": null,
      "_view_module": "@jupyter-widgets/base",
      "_view_module_version": "1.2.0",
      "_view_name": "LayoutView",
      "align_content": null,
      "align_items": null,
      "align_self": null,
      "border": null,
      "bottom": null,
      "display": null,
      "flex": null,
      "flex_flow": null,
      "grid_area": null,
      "grid_auto_columns": null,
      "grid_auto_flow": null,
      "grid_auto_rows": null,
      "grid_column": null,
      "grid_gap": null,
      "grid_row": null,
      "grid_template_areas": null,
      "grid_template_columns": null,
      "grid_template_rows": null,
      "height": null,
      "justify_content": null,
      "justify_items": null,
      "left": null,
      "margin": null,
      "max_height": null,
      "max_width": null,
      "min_height": null,
      "min_width": null,
      "object_fit": null,
      "object_position": null,
      "order": null,
      "overflow": null,
      "overflow_x": null,
      "overflow_y": null,
      "padding": null,
      "right": null,
      "top": null,
      "visibility": null,
      "width": null
     }
    },
    "45e8a270985b4d9cb42cc1c344afc996": {
     "model_module": "@jupyter-widgets/controls",
     "model_module_version": "1.5.0",
     "model_name": "HBoxModel",
     "state": {
      "_dom_classes": [],
      "_model_module": "@jupyter-widgets/controls",
      "_model_module_version": "1.5.0",
      "_model_name": "HBoxModel",
      "_view_count": null,
      "_view_module": "@jupyter-widgets/controls",
      "_view_module_version": "1.5.0",
      "_view_name": "HBoxView",
      "box_style": "",
      "children": [
       "IPY_MODEL_950ea85edf0d4448ad47b14e5b7b5b43",
       "IPY_MODEL_70f3fc87bb184c5eb999c018c43dc437",
       "IPY_MODEL_a13a1224d6ea44b7beb2fdfbb99b5c82"
      ],
      "layout": "IPY_MODEL_7896ce938c464d2994dc79d4d10e13b8"
     }
    },
    "460e7496ea854f96908d407fbfd8bca9": {
     "model_module": "@jupyter-widgets/controls",
     "model_module_version": "1.5.0",
     "model_name": "HBoxModel",
     "state": {
      "_dom_classes": [],
      "_model_module": "@jupyter-widgets/controls",
      "_model_module_version": "1.5.0",
      "_model_name": "HBoxModel",
      "_view_count": null,
      "_view_module": "@jupyter-widgets/controls",
      "_view_module_version": "1.5.0",
      "_view_name": "HBoxView",
      "box_style": "",
      "children": [
       "IPY_MODEL_df4eaec7f1634443826ef18fd7462d21",
       "IPY_MODEL_93e9ffe70b474ee0bd363c7ecf73fd0a",
       "IPY_MODEL_98aaefca995a4819ada747e29fbc6bd5"
      ],
      "layout": "IPY_MODEL_2862ddd31237437d968727888d0c6e84"
     }
    },
    "4705409ce2d04aacb23fd2800140e798": {
     "model_module": "@jupyter-widgets/controls",
     "model_module_version": "1.5.0",
     "model_name": "HBoxModel",
     "state": {
      "_dom_classes": [],
      "_model_module": "@jupyter-widgets/controls",
      "_model_module_version": "1.5.0",
      "_model_name": "HBoxModel",
      "_view_count": null,
      "_view_module": "@jupyter-widgets/controls",
      "_view_module_version": "1.5.0",
      "_view_name": "HBoxView",
      "box_style": "",
      "children": [
       "IPY_MODEL_8492899c9dec4481ab7b0be2df1e8056",
       "IPY_MODEL_1fff46a43e2f49e6b7dd946a9884bee2",
       "IPY_MODEL_996050d8e7b44beebbb0469a13b2ac06"
      ],
      "layout": "IPY_MODEL_6f30a9c913354c96bb44511101b6e4b0"
     }
    },
    "4945d7478a024028b0e4c908a0a00d79": {
     "model_module": "@jupyter-widgets/controls",
     "model_module_version": "1.5.0",
     "model_name": "DescriptionStyleModel",
     "state": {
      "_model_module": "@jupyter-widgets/controls",
      "_model_module_version": "1.5.0",
      "_model_name": "DescriptionStyleModel",
      "_view_count": null,
      "_view_module": "@jupyter-widgets/base",
      "_view_module_version": "1.2.0",
      "_view_name": "StyleView",
      "description_width": ""
     }
    },
    "4ad295dde4b74ca7a1fc1ceb8045fb18": {
     "model_module": "@jupyter-widgets/base",
     "model_module_version": "1.2.0",
     "model_name": "LayoutModel",
     "state": {
      "_model_module": "@jupyter-widgets/base",
      "_model_module_version": "1.2.0",
      "_model_name": "LayoutModel",
      "_view_count": null,
      "_view_module": "@jupyter-widgets/base",
      "_view_module_version": "1.2.0",
      "_view_name": "LayoutView",
      "align_content": null,
      "align_items": null,
      "align_self": null,
      "border": null,
      "bottom": null,
      "display": null,
      "flex": null,
      "flex_flow": null,
      "grid_area": null,
      "grid_auto_columns": null,
      "grid_auto_flow": null,
      "grid_auto_rows": null,
      "grid_column": null,
      "grid_gap": null,
      "grid_row": null,
      "grid_template_areas": null,
      "grid_template_columns": null,
      "grid_template_rows": null,
      "height": null,
      "justify_content": null,
      "justify_items": null,
      "left": null,
      "margin": null,
      "max_height": null,
      "max_width": null,
      "min_height": null,
      "min_width": null,
      "object_fit": null,
      "object_position": null,
      "order": null,
      "overflow": null,
      "overflow_x": null,
      "overflow_y": null,
      "padding": null,
      "right": null,
      "top": null,
      "visibility": null,
      "width": null
     }
    },
    "5086755e4c3d45cbb14abbe6ca3b2dc0": {
     "model_module": "@jupyter-widgets/base",
     "model_module_version": "1.2.0",
     "model_name": "LayoutModel",
     "state": {
      "_model_module": "@jupyter-widgets/base",
      "_model_module_version": "1.2.0",
      "_model_name": "LayoutModel",
      "_view_count": null,
      "_view_module": "@jupyter-widgets/base",
      "_view_module_version": "1.2.0",
      "_view_name": "LayoutView",
      "align_content": null,
      "align_items": null,
      "align_self": null,
      "border": null,
      "bottom": null,
      "display": null,
      "flex": null,
      "flex_flow": null,
      "grid_area": null,
      "grid_auto_columns": null,
      "grid_auto_flow": null,
      "grid_auto_rows": null,
      "grid_column": null,
      "grid_gap": null,
      "grid_row": null,
      "grid_template_areas": null,
      "grid_template_columns": null,
      "grid_template_rows": null,
      "height": null,
      "justify_content": null,
      "justify_items": null,
      "left": null,
      "margin": null,
      "max_height": null,
      "max_width": null,
      "min_height": null,
      "min_width": null,
      "object_fit": null,
      "object_position": null,
      "order": null,
      "overflow": null,
      "overflow_x": null,
      "overflow_y": null,
      "padding": null,
      "right": null,
      "top": null,
      "visibility": null,
      "width": null
     }
    },
    "576382d3d14141368d9dcea7f81e2227": {
     "model_module": "@jupyter-widgets/base",
     "model_module_version": "1.2.0",
     "model_name": "LayoutModel",
     "state": {
      "_model_module": "@jupyter-widgets/base",
      "_model_module_version": "1.2.0",
      "_model_name": "LayoutModel",
      "_view_count": null,
      "_view_module": "@jupyter-widgets/base",
      "_view_module_version": "1.2.0",
      "_view_name": "LayoutView",
      "align_content": null,
      "align_items": null,
      "align_self": null,
      "border": null,
      "bottom": null,
      "display": null,
      "flex": null,
      "flex_flow": null,
      "grid_area": null,
      "grid_auto_columns": null,
      "grid_auto_flow": null,
      "grid_auto_rows": null,
      "grid_column": null,
      "grid_gap": null,
      "grid_row": null,
      "grid_template_areas": null,
      "grid_template_columns": null,
      "grid_template_rows": null,
      "height": null,
      "justify_content": null,
      "justify_items": null,
      "left": null,
      "margin": null,
      "max_height": null,
      "max_width": null,
      "min_height": null,
      "min_width": null,
      "object_fit": null,
      "object_position": null,
      "order": null,
      "overflow": null,
      "overflow_x": null,
      "overflow_y": null,
      "padding": null,
      "right": null,
      "top": null,
      "visibility": null,
      "width": null
     }
    },
    "58587e7b9f474e41a58a03ecd288abea": {
     "model_module": "@jupyter-widgets/controls",
     "model_module_version": "1.5.0",
     "model_name": "DescriptionStyleModel",
     "state": {
      "_model_module": "@jupyter-widgets/controls",
      "_model_module_version": "1.5.0",
      "_model_name": "DescriptionStyleModel",
      "_view_count": null,
      "_view_module": "@jupyter-widgets/base",
      "_view_module_version": "1.2.0",
      "_view_name": "StyleView",
      "description_width": ""
     }
    },
    "591696c9fd704b1ea8f02be3d0ac69eb": {
     "model_module": "@jupyter-widgets/controls",
     "model_module_version": "1.5.0",
     "model_name": "HBoxModel",
     "state": {
      "_dom_classes": [],
      "_model_module": "@jupyter-widgets/controls",
      "_model_module_version": "1.5.0",
      "_model_name": "HBoxModel",
      "_view_count": null,
      "_view_module": "@jupyter-widgets/controls",
      "_view_module_version": "1.5.0",
      "_view_name": "HBoxView",
      "box_style": "",
      "children": [
       "IPY_MODEL_b06c0bb99efe4a41b7a925d2bf2d196f",
       "IPY_MODEL_d98f423ee8934897b029d2458fdff177",
       "IPY_MODEL_70a0a57b11784c938dc3a95f6505c482"
      ],
      "layout": "IPY_MODEL_b15be30aa64b416f8d1b0d5810ccb7c6"
     }
    },
    "5f472825387148acbe241a88925004b0": {
     "model_module": "@jupyter-widgets/controls",
     "model_module_version": "1.5.0",
     "model_name": "ProgressStyleModel",
     "state": {
      "_model_module": "@jupyter-widgets/controls",
      "_model_module_version": "1.5.0",
      "_model_name": "ProgressStyleModel",
      "_view_count": null,
      "_view_module": "@jupyter-widgets/base",
      "_view_module_version": "1.2.0",
      "_view_name": "StyleView",
      "bar_color": null,
      "description_width": ""
     }
    },
    "64f7f17182c5432882d7f3ddab4333b8": {
     "model_module": "@jupyter-widgets/base",
     "model_module_version": "1.2.0",
     "model_name": "LayoutModel",
     "state": {
      "_model_module": "@jupyter-widgets/base",
      "_model_module_version": "1.2.0",
      "_model_name": "LayoutModel",
      "_view_count": null,
      "_view_module": "@jupyter-widgets/base",
      "_view_module_version": "1.2.0",
      "_view_name": "LayoutView",
      "align_content": null,
      "align_items": null,
      "align_self": null,
      "border": null,
      "bottom": null,
      "display": null,
      "flex": null,
      "flex_flow": null,
      "grid_area": null,
      "grid_auto_columns": null,
      "grid_auto_flow": null,
      "grid_auto_rows": null,
      "grid_column": null,
      "grid_gap": null,
      "grid_row": null,
      "grid_template_areas": null,
      "grid_template_columns": null,
      "grid_template_rows": null,
      "height": null,
      "justify_content": null,
      "justify_items": null,
      "left": null,
      "margin": null,
      "max_height": null,
      "max_width": null,
      "min_height": null,
      "min_width": null,
      "object_fit": null,
      "object_position": null,
      "order": null,
      "overflow": null,
      "overflow_x": null,
      "overflow_y": null,
      "padding": null,
      "right": null,
      "top": null,
      "visibility": null,
      "width": null
     }
    },
    "664ce74d317b490189c0191690268bc6": {
     "model_module": "@jupyter-widgets/base",
     "model_module_version": "1.2.0",
     "model_name": "LayoutModel",
     "state": {
      "_model_module": "@jupyter-widgets/base",
      "_model_module_version": "1.2.0",
      "_model_name": "LayoutModel",
      "_view_count": null,
      "_view_module": "@jupyter-widgets/base",
      "_view_module_version": "1.2.0",
      "_view_name": "LayoutView",
      "align_content": null,
      "align_items": null,
      "align_self": null,
      "border": null,
      "bottom": null,
      "display": null,
      "flex": null,
      "flex_flow": null,
      "grid_area": null,
      "grid_auto_columns": null,
      "grid_auto_flow": null,
      "grid_auto_rows": null,
      "grid_column": null,
      "grid_gap": null,
      "grid_row": null,
      "grid_template_areas": null,
      "grid_template_columns": null,
      "grid_template_rows": null,
      "height": null,
      "justify_content": null,
      "justify_items": null,
      "left": null,
      "margin": null,
      "max_height": null,
      "max_width": null,
      "min_height": null,
      "min_width": null,
      "object_fit": null,
      "object_position": null,
      "order": null,
      "overflow": null,
      "overflow_x": null,
      "overflow_y": null,
      "padding": null,
      "right": null,
      "top": null,
      "visibility": null,
      "width": null
     }
    },
    "685726c7b40e466e8b4a16f06ee523a1": {
     "model_module": "@jupyter-widgets/base",
     "model_module_version": "1.2.0",
     "model_name": "LayoutModel",
     "state": {
      "_model_module": "@jupyter-widgets/base",
      "_model_module_version": "1.2.0",
      "_model_name": "LayoutModel",
      "_view_count": null,
      "_view_module": "@jupyter-widgets/base",
      "_view_module_version": "1.2.0",
      "_view_name": "LayoutView",
      "align_content": null,
      "align_items": null,
      "align_self": null,
      "border": null,
      "bottom": null,
      "display": null,
      "flex": null,
      "flex_flow": null,
      "grid_area": null,
      "grid_auto_columns": null,
      "grid_auto_flow": null,
      "grid_auto_rows": null,
      "grid_column": null,
      "grid_gap": null,
      "grid_row": null,
      "grid_template_areas": null,
      "grid_template_columns": null,
      "grid_template_rows": null,
      "height": null,
      "justify_content": null,
      "justify_items": null,
      "left": null,
      "margin": null,
      "max_height": null,
      "max_width": null,
      "min_height": null,
      "min_width": null,
      "object_fit": null,
      "object_position": null,
      "order": null,
      "overflow": null,
      "overflow_x": null,
      "overflow_y": null,
      "padding": null,
      "right": null,
      "top": null,
      "visibility": null,
      "width": null
     }
    },
    "6859bf86066e4b5692a8e522521a05e1": {
     "model_module": "@jupyter-widgets/controls",
     "model_module_version": "1.5.0",
     "model_name": "ProgressStyleModel",
     "state": {
      "_model_module": "@jupyter-widgets/controls",
      "_model_module_version": "1.5.0",
      "_model_name": "ProgressStyleModel",
      "_view_count": null,
      "_view_module": "@jupyter-widgets/base",
      "_view_module_version": "1.2.0",
      "_view_name": "StyleView",
      "bar_color": null,
      "description_width": ""
     }
    },
    "6938f9d0c69d431195fb1d5e0d72c2d6": {
     "model_module": "@jupyter-widgets/base",
     "model_module_version": "1.2.0",
     "model_name": "LayoutModel",
     "state": {
      "_model_module": "@jupyter-widgets/base",
      "_model_module_version": "1.2.0",
      "_model_name": "LayoutModel",
      "_view_count": null,
      "_view_module": "@jupyter-widgets/base",
      "_view_module_version": "1.2.0",
      "_view_name": "LayoutView",
      "align_content": null,
      "align_items": null,
      "align_self": null,
      "border": null,
      "bottom": null,
      "display": null,
      "flex": null,
      "flex_flow": null,
      "grid_area": null,
      "grid_auto_columns": null,
      "grid_auto_flow": null,
      "grid_auto_rows": null,
      "grid_column": null,
      "grid_gap": null,
      "grid_row": null,
      "grid_template_areas": null,
      "grid_template_columns": null,
      "grid_template_rows": null,
      "height": null,
      "justify_content": null,
      "justify_items": null,
      "left": null,
      "margin": null,
      "max_height": null,
      "max_width": null,
      "min_height": null,
      "min_width": null,
      "object_fit": null,
      "object_position": null,
      "order": null,
      "overflow": null,
      "overflow_x": null,
      "overflow_y": null,
      "padding": null,
      "right": null,
      "top": null,
      "visibility": null,
      "width": null
     }
    },
    "6a2b8c6ef3b040faa36364967ceab8be": {
     "model_module": "@jupyter-widgets/controls",
     "model_module_version": "1.5.0",
     "model_name": "HTMLModel",
     "state": {
      "_dom_classes": [],
      "_model_module": "@jupyter-widgets/controls",
      "_model_module_version": "1.5.0",
      "_model_name": "HTMLModel",
      "_view_count": null,
      "_view_module": "@jupyter-widgets/controls",
      "_view_module_version": "1.5.0",
      "_view_name": "HTMLView",
      "description": "",
      "description_tooltip": null,
      "layout": "IPY_MODEL_d0a9b5b3465b4654a946708452659115",
      "placeholder": "​",
      "style": "IPY_MODEL_db101818fc124771aaf277e03dd07e64",
      "value": "100%"
     }
    },
    "6a3857a9e7d24aca8223e82bf004f191": {
     "model_module": "@jupyter-widgets/base",
     "model_module_version": "1.2.0",
     "model_name": "LayoutModel",
     "state": {
      "_model_module": "@jupyter-widgets/base",
      "_model_module_version": "1.2.0",
      "_model_name": "LayoutModel",
      "_view_count": null,
      "_view_module": "@jupyter-widgets/base",
      "_view_module_version": "1.2.0",
      "_view_name": "LayoutView",
      "align_content": null,
      "align_items": null,
      "align_self": null,
      "border": null,
      "bottom": null,
      "display": null,
      "flex": null,
      "flex_flow": null,
      "grid_area": null,
      "grid_auto_columns": null,
      "grid_auto_flow": null,
      "grid_auto_rows": null,
      "grid_column": null,
      "grid_gap": null,
      "grid_row": null,
      "grid_template_areas": null,
      "grid_template_columns": null,
      "grid_template_rows": null,
      "height": null,
      "justify_content": null,
      "justify_items": null,
      "left": null,
      "margin": null,
      "max_height": null,
      "max_width": null,
      "min_height": null,
      "min_width": null,
      "object_fit": null,
      "object_position": null,
      "order": null,
      "overflow": null,
      "overflow_x": null,
      "overflow_y": null,
      "padding": null,
      "right": null,
      "top": null,
      "visibility": null,
      "width": null
     }
    },
    "6be4eb521b02491d9b0c0e30ed707cd4": {
     "model_module": "@jupyter-widgets/base",
     "model_module_version": "1.2.0",
     "model_name": "LayoutModel",
     "state": {
      "_model_module": "@jupyter-widgets/base",
      "_model_module_version": "1.2.0",
      "_model_name": "LayoutModel",
      "_view_count": null,
      "_view_module": "@jupyter-widgets/base",
      "_view_module_version": "1.2.0",
      "_view_name": "LayoutView",
      "align_content": null,
      "align_items": null,
      "align_self": null,
      "border": null,
      "bottom": null,
      "display": null,
      "flex": null,
      "flex_flow": null,
      "grid_area": null,
      "grid_auto_columns": null,
      "grid_auto_flow": null,
      "grid_auto_rows": null,
      "grid_column": null,
      "grid_gap": null,
      "grid_row": null,
      "grid_template_areas": null,
      "grid_template_columns": null,
      "grid_template_rows": null,
      "height": null,
      "justify_content": null,
      "justify_items": null,
      "left": null,
      "margin": null,
      "max_height": null,
      "max_width": null,
      "min_height": null,
      "min_width": null,
      "object_fit": null,
      "object_position": null,
      "order": null,
      "overflow": null,
      "overflow_x": null,
      "overflow_y": null,
      "padding": null,
      "right": null,
      "top": null,
      "visibility": null,
      "width": null
     }
    },
    "6f30a9c913354c96bb44511101b6e4b0": {
     "model_module": "@jupyter-widgets/base",
     "model_module_version": "1.2.0",
     "model_name": "LayoutModel",
     "state": {
      "_model_module": "@jupyter-widgets/base",
      "_model_module_version": "1.2.0",
      "_model_name": "LayoutModel",
      "_view_count": null,
      "_view_module": "@jupyter-widgets/base",
      "_view_module_version": "1.2.0",
      "_view_name": "LayoutView",
      "align_content": null,
      "align_items": null,
      "align_self": null,
      "border": null,
      "bottom": null,
      "display": null,
      "flex": null,
      "flex_flow": null,
      "grid_area": null,
      "grid_auto_columns": null,
      "grid_auto_flow": null,
      "grid_auto_rows": null,
      "grid_column": null,
      "grid_gap": null,
      "grid_row": null,
      "grid_template_areas": null,
      "grid_template_columns": null,
      "grid_template_rows": null,
      "height": null,
      "justify_content": null,
      "justify_items": null,
      "left": null,
      "margin": null,
      "max_height": null,
      "max_width": null,
      "min_height": null,
      "min_width": null,
      "object_fit": null,
      "object_position": null,
      "order": null,
      "overflow": null,
      "overflow_x": null,
      "overflow_y": null,
      "padding": null,
      "right": null,
      "top": null,
      "visibility": null,
      "width": null
     }
    },
    "70a0a57b11784c938dc3a95f6505c482": {
     "model_module": "@jupyter-widgets/controls",
     "model_module_version": "1.5.0",
     "model_name": "HTMLModel",
     "state": {
      "_dom_classes": [],
      "_model_module": "@jupyter-widgets/controls",
      "_model_module_version": "1.5.0",
      "_model_name": "HTMLModel",
      "_view_count": null,
      "_view_module": "@jupyter-widgets/controls",
      "_view_module_version": "1.5.0",
      "_view_name": "HTMLView",
      "description": "",
      "description_tooltip": null,
      "layout": "IPY_MODEL_11163259f0934ccfb0c6519e04a51dfb",
      "placeholder": "​",
      "style": "IPY_MODEL_f57371c691f242fa83a347a3d4fea72e",
      "value": " 200/200 [00:02&lt;00:00, 108.90it/s]"
     }
    },
    "70de839319004aafa921effdeacd71da": {
     "model_module": "@jupyter-widgets/base",
     "model_module_version": "1.2.0",
     "model_name": "LayoutModel",
     "state": {
      "_model_module": "@jupyter-widgets/base",
      "_model_module_version": "1.2.0",
      "_model_name": "LayoutModel",
      "_view_count": null,
      "_view_module": "@jupyter-widgets/base",
      "_view_module_version": "1.2.0",
      "_view_name": "LayoutView",
      "align_content": null,
      "align_items": null,
      "align_self": null,
      "border": null,
      "bottom": null,
      "display": null,
      "flex": null,
      "flex_flow": null,
      "grid_area": null,
      "grid_auto_columns": null,
      "grid_auto_flow": null,
      "grid_auto_rows": null,
      "grid_column": null,
      "grid_gap": null,
      "grid_row": null,
      "grid_template_areas": null,
      "grid_template_columns": null,
      "grid_template_rows": null,
      "height": null,
      "justify_content": null,
      "justify_items": null,
      "left": null,
      "margin": null,
      "max_height": null,
      "max_width": null,
      "min_height": null,
      "min_width": null,
      "object_fit": null,
      "object_position": null,
      "order": null,
      "overflow": null,
      "overflow_x": null,
      "overflow_y": null,
      "padding": null,
      "right": null,
      "top": null,
      "visibility": null,
      "width": null
     }
    },
    "70f3fc87bb184c5eb999c018c43dc437": {
     "model_module": "@jupyter-widgets/controls",
     "model_module_version": "1.5.0",
     "model_name": "FloatProgressModel",
     "state": {
      "_dom_classes": [],
      "_model_module": "@jupyter-widgets/controls",
      "_model_module_version": "1.5.0",
      "_model_name": "FloatProgressModel",
      "_view_count": null,
      "_view_module": "@jupyter-widgets/controls",
      "_view_module_version": "1.5.0",
      "_view_name": "ProgressView",
      "bar_style": "success",
      "description": "",
      "description_tooltip": null,
      "layout": "IPY_MODEL_c2d6bf8e41194a5c9f18bc3091656b72",
      "max": 20,
      "min": 0,
      "orientation": "horizontal",
      "style": "IPY_MODEL_fc9fea7fddf2426da94a3c17880c5a69",
      "value": 20
     }
    },
    "71cfef8a791142df8bc7d79e3dd6b889": {
     "model_module": "@jupyter-widgets/controls",
     "model_module_version": "1.5.0",
     "model_name": "DescriptionStyleModel",
     "state": {
      "_model_module": "@jupyter-widgets/controls",
      "_model_module_version": "1.5.0",
      "_model_name": "DescriptionStyleModel",
      "_view_count": null,
      "_view_module": "@jupyter-widgets/base",
      "_view_module_version": "1.2.0",
      "_view_name": "StyleView",
      "description_width": ""
     }
    },
    "77bf762e604a4b3ca276d0dda98c191b": {
     "model_module": "@jupyter-widgets/controls",
     "model_module_version": "1.5.0",
     "model_name": "FloatProgressModel",
     "state": {
      "_dom_classes": [],
      "_model_module": "@jupyter-widgets/controls",
      "_model_module_version": "1.5.0",
      "_model_name": "FloatProgressModel",
      "_view_count": null,
      "_view_module": "@jupyter-widgets/controls",
      "_view_module_version": "1.5.0",
      "_view_name": "ProgressView",
      "bar_style": "success",
      "description": "",
      "description_tooltip": null,
      "layout": "IPY_MODEL_5086755e4c3d45cbb14abbe6ca3b2dc0",
      "max": 200,
      "min": 0,
      "orientation": "horizontal",
      "style": "IPY_MODEL_272ea87d594843d5951ecd851f81d110",
      "value": 200
     }
    },
    "77f16a6ad96e48908964108381ea3e8a": {
     "model_module": "@jupyter-widgets/base",
     "model_module_version": "1.2.0",
     "model_name": "LayoutModel",
     "state": {
      "_model_module": "@jupyter-widgets/base",
      "_model_module_version": "1.2.0",
      "_model_name": "LayoutModel",
      "_view_count": null,
      "_view_module": "@jupyter-widgets/base",
      "_view_module_version": "1.2.0",
      "_view_name": "LayoutView",
      "align_content": null,
      "align_items": null,
      "align_self": null,
      "border": null,
      "bottom": null,
      "display": null,
      "flex": null,
      "flex_flow": null,
      "grid_area": null,
      "grid_auto_columns": null,
      "grid_auto_flow": null,
      "grid_auto_rows": null,
      "grid_column": null,
      "grid_gap": null,
      "grid_row": null,
      "grid_template_areas": null,
      "grid_template_columns": null,
      "grid_template_rows": null,
      "height": null,
      "justify_content": null,
      "justify_items": null,
      "left": null,
      "margin": null,
      "max_height": null,
      "max_width": null,
      "min_height": null,
      "min_width": null,
      "object_fit": null,
      "object_position": null,
      "order": null,
      "overflow": null,
      "overflow_x": null,
      "overflow_y": null,
      "padding": null,
      "right": null,
      "top": null,
      "visibility": null,
      "width": null
     }
    },
    "7896ce938c464d2994dc79d4d10e13b8": {
     "model_module": "@jupyter-widgets/base",
     "model_module_version": "1.2.0",
     "model_name": "LayoutModel",
     "state": {
      "_model_module": "@jupyter-widgets/base",
      "_model_module_version": "1.2.0",
      "_model_name": "LayoutModel",
      "_view_count": null,
      "_view_module": "@jupyter-widgets/base",
      "_view_module_version": "1.2.0",
      "_view_name": "LayoutView",
      "align_content": null,
      "align_items": null,
      "align_self": null,
      "border": null,
      "bottom": null,
      "display": null,
      "flex": null,
      "flex_flow": null,
      "grid_area": null,
      "grid_auto_columns": null,
      "grid_auto_flow": null,
      "grid_auto_rows": null,
      "grid_column": null,
      "grid_gap": null,
      "grid_row": null,
      "grid_template_areas": null,
      "grid_template_columns": null,
      "grid_template_rows": null,
      "height": null,
      "justify_content": null,
      "justify_items": null,
      "left": null,
      "margin": null,
      "max_height": null,
      "max_width": null,
      "min_height": null,
      "min_width": null,
      "object_fit": null,
      "object_position": null,
      "order": null,
      "overflow": null,
      "overflow_x": null,
      "overflow_y": null,
      "padding": null,
      "right": null,
      "top": null,
      "visibility": null,
      "width": null
     }
    },
    "7aad7e5fc25a4b368b0919d412cb34ec": {
     "model_module": "@jupyter-widgets/base",
     "model_module_version": "1.2.0",
     "model_name": "LayoutModel",
     "state": {
      "_model_module": "@jupyter-widgets/base",
      "_model_module_version": "1.2.0",
      "_model_name": "LayoutModel",
      "_view_count": null,
      "_view_module": "@jupyter-widgets/base",
      "_view_module_version": "1.2.0",
      "_view_name": "LayoutView",
      "align_content": null,
      "align_items": null,
      "align_self": null,
      "border": null,
      "bottom": null,
      "display": null,
      "flex": null,
      "flex_flow": null,
      "grid_area": null,
      "grid_auto_columns": null,
      "grid_auto_flow": null,
      "grid_auto_rows": null,
      "grid_column": null,
      "grid_gap": null,
      "grid_row": null,
      "grid_template_areas": null,
      "grid_template_columns": null,
      "grid_template_rows": null,
      "height": null,
      "justify_content": null,
      "justify_items": null,
      "left": null,
      "margin": null,
      "max_height": null,
      "max_width": null,
      "min_height": null,
      "min_width": null,
      "object_fit": null,
      "object_position": null,
      "order": null,
      "overflow": null,
      "overflow_x": null,
      "overflow_y": null,
      "padding": null,
      "right": null,
      "top": null,
      "visibility": null,
      "width": null
     }
    },
    "7c63594378354d6bb822bb6839679247": {
     "model_module": "@jupyter-widgets/base",
     "model_module_version": "1.2.0",
     "model_name": "LayoutModel",
     "state": {
      "_model_module": "@jupyter-widgets/base",
      "_model_module_version": "1.2.0",
      "_model_name": "LayoutModel",
      "_view_count": null,
      "_view_module": "@jupyter-widgets/base",
      "_view_module_version": "1.2.0",
      "_view_name": "LayoutView",
      "align_content": null,
      "align_items": null,
      "align_self": null,
      "border": null,
      "bottom": null,
      "display": null,
      "flex": null,
      "flex_flow": null,
      "grid_area": null,
      "grid_auto_columns": null,
      "grid_auto_flow": null,
      "grid_auto_rows": null,
      "grid_column": null,
      "grid_gap": null,
      "grid_row": null,
      "grid_template_areas": null,
      "grid_template_columns": null,
      "grid_template_rows": null,
      "height": null,
      "justify_content": null,
      "justify_items": null,
      "left": null,
      "margin": null,
      "max_height": null,
      "max_width": null,
      "min_height": null,
      "min_width": null,
      "object_fit": null,
      "object_position": null,
      "order": null,
      "overflow": null,
      "overflow_x": null,
      "overflow_y": null,
      "padding": null,
      "right": null,
      "top": null,
      "visibility": null,
      "width": null
     }
    },
    "7c856c0381d145128ababd52a0037baf": {
     "model_module": "@jupyter-widgets/base",
     "model_module_version": "1.2.0",
     "model_name": "LayoutModel",
     "state": {
      "_model_module": "@jupyter-widgets/base",
      "_model_module_version": "1.2.0",
      "_model_name": "LayoutModel",
      "_view_count": null,
      "_view_module": "@jupyter-widgets/base",
      "_view_module_version": "1.2.0",
      "_view_name": "LayoutView",
      "align_content": null,
      "align_items": null,
      "align_self": null,
      "border": null,
      "bottom": null,
      "display": null,
      "flex": null,
      "flex_flow": null,
      "grid_area": null,
      "grid_auto_columns": null,
      "grid_auto_flow": null,
      "grid_auto_rows": null,
      "grid_column": null,
      "grid_gap": null,
      "grid_row": null,
      "grid_template_areas": null,
      "grid_template_columns": null,
      "grid_template_rows": null,
      "height": null,
      "justify_content": null,
      "justify_items": null,
      "left": null,
      "margin": null,
      "max_height": null,
      "max_width": null,
      "min_height": null,
      "min_width": null,
      "object_fit": null,
      "object_position": null,
      "order": null,
      "overflow": null,
      "overflow_x": null,
      "overflow_y": null,
      "padding": null,
      "right": null,
      "top": null,
      "visibility": null,
      "width": null
     }
    },
    "7ff90999c1d743e0a977eac1dbf74542": {
     "model_module": "@jupyter-widgets/controls",
     "model_module_version": "1.5.0",
     "model_name": "DescriptionStyleModel",
     "state": {
      "_model_module": "@jupyter-widgets/controls",
      "_model_module_version": "1.5.0",
      "_model_name": "DescriptionStyleModel",
      "_view_count": null,
      "_view_module": "@jupyter-widgets/base",
      "_view_module_version": "1.2.0",
      "_view_name": "StyleView",
      "description_width": ""
     }
    },
    "8492899c9dec4481ab7b0be2df1e8056": {
     "model_module": "@jupyter-widgets/controls",
     "model_module_version": "1.5.0",
     "model_name": "HTMLModel",
     "state": {
      "_dom_classes": [],
      "_model_module": "@jupyter-widgets/controls",
      "_model_module_version": "1.5.0",
      "_model_name": "HTMLModel",
      "_view_count": null,
      "_view_module": "@jupyter-widgets/controls",
      "_view_module_version": "1.5.0",
      "_view_name": "HTMLView",
      "description": "",
      "description_tooltip": null,
      "layout": "IPY_MODEL_d86d64bba18d4e299ac416cbdf042f8c",
      "placeholder": "​",
      "style": "IPY_MODEL_4945d7478a024028b0e4c908a0a00d79",
      "value": "100%"
     }
    },
    "88087dbe29194bd58f7fa7062b7d92bc": {
     "model_module": "@jupyter-widgets/controls",
     "model_module_version": "1.5.0",
     "model_name": "ProgressStyleModel",
     "state": {
      "_model_module": "@jupyter-widgets/controls",
      "_model_module_version": "1.5.0",
      "_model_name": "ProgressStyleModel",
      "_view_count": null,
      "_view_module": "@jupyter-widgets/base",
      "_view_module_version": "1.2.0",
      "_view_name": "StyleView",
      "bar_color": null,
      "description_width": ""
     }
    },
    "885b501a1e48482ea0c6156c6acba5e8": {
     "model_module": "@jupyter-widgets/controls",
     "model_module_version": "1.5.0",
     "model_name": "ProgressStyleModel",
     "state": {
      "_model_module": "@jupyter-widgets/controls",
      "_model_module_version": "1.5.0",
      "_model_name": "ProgressStyleModel",
      "_view_count": null,
      "_view_module": "@jupyter-widgets/base",
      "_view_module_version": "1.2.0",
      "_view_name": "StyleView",
      "bar_color": null,
      "description_width": ""
     }
    },
    "8b4a9aa0a6f94a17b07a4a9a3f7a8d5c": {
     "model_module": "@jupyter-widgets/controls",
     "model_module_version": "1.5.0",
     "model_name": "DescriptionStyleModel",
     "state": {
      "_model_module": "@jupyter-widgets/controls",
      "_model_module_version": "1.5.0",
      "_model_name": "DescriptionStyleModel",
      "_view_count": null,
      "_view_module": "@jupyter-widgets/base",
      "_view_module_version": "1.2.0",
      "_view_name": "StyleView",
      "description_width": ""
     }
    },
    "8f6756c98fdf43c7bcf4d34481df5efb": {
     "model_module": "@jupyter-widgets/controls",
     "model_module_version": "1.5.0",
     "model_name": "HTMLModel",
     "state": {
      "_dom_classes": [],
      "_model_module": "@jupyter-widgets/controls",
      "_model_module_version": "1.5.0",
      "_model_name": "HTMLModel",
      "_view_count": null,
      "_view_module": "@jupyter-widgets/controls",
      "_view_module_version": "1.5.0",
      "_view_name": "HTMLView",
      "description": "",
      "description_tooltip": null,
      "layout": "IPY_MODEL_7aad7e5fc25a4b368b0919d412cb34ec",
      "placeholder": "​",
      "style": "IPY_MODEL_8b4a9aa0a6f94a17b07a4a9a3f7a8d5c",
      "value": " 50/50 [06:44&lt;00:00,  7.80s/it]"
     }
    },
    "90645054d92e43e8b28ba58b8740dc93": {
     "model_module": "@jupyter-widgets/controls",
     "model_module_version": "1.5.0",
     "model_name": "HTMLModel",
     "state": {
      "_dom_classes": [],
      "_model_module": "@jupyter-widgets/controls",
      "_model_module_version": "1.5.0",
      "_model_name": "HTMLModel",
      "_view_count": null,
      "_view_module": "@jupyter-widgets/controls",
      "_view_module_version": "1.5.0",
      "_view_name": "HTMLView",
      "description": "",
      "description_tooltip": null,
      "layout": "IPY_MODEL_171aa2ff56a84e7a83c12c5a26977d33",
      "placeholder": "​",
      "style": "IPY_MODEL_92e6d15ffa624a02bb5aaa073ff851e6",
      "value": " 200/200 [00:00&lt;00:00, 666.95it/s]"
     }
    },
    "92e6d15ffa624a02bb5aaa073ff851e6": {
     "model_module": "@jupyter-widgets/controls",
     "model_module_version": "1.5.0",
     "model_name": "DescriptionStyleModel",
     "state": {
      "_model_module": "@jupyter-widgets/controls",
      "_model_module_version": "1.5.0",
      "_model_name": "DescriptionStyleModel",
      "_view_count": null,
      "_view_module": "@jupyter-widgets/base",
      "_view_module_version": "1.2.0",
      "_view_name": "StyleView",
      "description_width": ""
     }
    },
    "93e9ffe70b474ee0bd363c7ecf73fd0a": {
     "model_module": "@jupyter-widgets/controls",
     "model_module_version": "1.5.0",
     "model_name": "FloatProgressModel",
     "state": {
      "_dom_classes": [],
      "_model_module": "@jupyter-widgets/controls",
      "_model_module_version": "1.5.0",
      "_model_name": "FloatProgressModel",
      "_view_count": null,
      "_view_module": "@jupyter-widgets/controls",
      "_view_module_version": "1.5.0",
      "_view_name": "ProgressView",
      "bar_style": "success",
      "description": "",
      "description_tooltip": null,
      "layout": "IPY_MODEL_6a3857a9e7d24aca8223e82bf004f191",
      "max": 50,
      "min": 0,
      "orientation": "horizontal",
      "style": "IPY_MODEL_885b501a1e48482ea0c6156c6acba5e8",
      "value": 50
     }
    },
    "950ea85edf0d4448ad47b14e5b7b5b43": {
     "model_module": "@jupyter-widgets/controls",
     "model_module_version": "1.5.0",
     "model_name": "HTMLModel",
     "state": {
      "_dom_classes": [],
      "_model_module": "@jupyter-widgets/controls",
      "_model_module_version": "1.5.0",
      "_model_name": "HTMLModel",
      "_view_count": null,
      "_view_module": "@jupyter-widgets/controls",
      "_view_module_version": "1.5.0",
      "_view_name": "HTMLView",
      "description": "",
      "description_tooltip": null,
      "layout": "IPY_MODEL_fd267bdb68204bb29163d66f1db57f95",
      "placeholder": "​",
      "style": "IPY_MODEL_046c670694f44bdc890925d50d392f7a",
      "value": "100%"
     }
    },
    "96c601d561ac40d087ef59541d6d300f": {
     "model_module": "@jupyter-widgets/controls",
     "model_module_version": "1.5.0",
     "model_name": "FloatProgressModel",
     "state": {
      "_dom_classes": [],
      "_model_module": "@jupyter-widgets/controls",
      "_model_module_version": "1.5.0",
      "_model_name": "FloatProgressModel",
      "_view_count": null,
      "_view_module": "@jupyter-widgets/controls",
      "_view_module_version": "1.5.0",
      "_view_name": "ProgressView",
      "bar_style": "success",
      "description": "",
      "description_tooltip": null,
      "layout": "IPY_MODEL_ea9804cc1daf4fa894d865f161260067",
      "max": 200,
      "min": 0,
      "orientation": "horizontal",
      "style": "IPY_MODEL_293dc27ba32d4a55acc9c79625730611",
      "value": 200
     }
    },
    "97315156c51b40f38a26893391591208": {
     "model_module": "@jupyter-widgets/controls",
     "model_module_version": "1.5.0",
     "model_name": "DescriptionStyleModel",
     "state": {
      "_model_module": "@jupyter-widgets/controls",
      "_model_module_version": "1.5.0",
      "_model_name": "DescriptionStyleModel",
      "_view_count": null,
      "_view_module": "@jupyter-widgets/base",
      "_view_module_version": "1.2.0",
      "_view_name": "StyleView",
      "description_width": ""
     }
    },
    "984ef3c4a27f497281a8d949501c757c": {
     "model_module": "@jupyter-widgets/controls",
     "model_module_version": "1.5.0",
     "model_name": "HBoxModel",
     "state": {
      "_dom_classes": [],
      "_model_module": "@jupyter-widgets/controls",
      "_model_module_version": "1.5.0",
      "_model_name": "HBoxModel",
      "_view_count": null,
      "_view_module": "@jupyter-widgets/controls",
      "_view_module_version": "1.5.0",
      "_view_name": "HBoxView",
      "box_style": "",
      "children": [
       "IPY_MODEL_228cc53d039e47ebaf354b61a29cb011",
       "IPY_MODEL_77bf762e604a4b3ca276d0dda98c191b",
       "IPY_MODEL_cb8b852543244636807217dd8c93388c"
      ],
      "layout": "IPY_MODEL_fb2864351fca491a89d0256781b7793a"
     }
    },
    "98aaefca995a4819ada747e29fbc6bd5": {
     "model_module": "@jupyter-widgets/controls",
     "model_module_version": "1.5.0",
     "model_name": "HTMLModel",
     "state": {
      "_dom_classes": [],
      "_model_module": "@jupyter-widgets/controls",
      "_model_module_version": "1.5.0",
      "_model_name": "HTMLModel",
      "_view_count": null,
      "_view_module": "@jupyter-widgets/controls",
      "_view_module_version": "1.5.0",
      "_view_name": "HTMLView",
      "description": "",
      "description_tooltip": null,
      "layout": "IPY_MODEL_685726c7b40e466e8b4a16f06ee523a1",
      "placeholder": "​",
      "style": "IPY_MODEL_de52c28737734fbf85394ebc62228dc2",
      "value": " 50/50 [00:57&lt;00:00,  1.16s/it]"
     }
    },
    "996050d8e7b44beebbb0469a13b2ac06": {
     "model_module": "@jupyter-widgets/controls",
     "model_module_version": "1.5.0",
     "model_name": "HTMLModel",
     "state": {
      "_dom_classes": [],
      "_model_module": "@jupyter-widgets/controls",
      "_model_module_version": "1.5.0",
      "_model_name": "HTMLModel",
      "_view_count": null,
      "_view_module": "@jupyter-widgets/controls",
      "_view_module_version": "1.5.0",
      "_view_name": "HTMLView",
      "description": "",
      "description_tooltip": null,
      "layout": "IPY_MODEL_3464d0506bd64b9195cf395cc810231a",
      "placeholder": "​",
      "style": "IPY_MODEL_bb80d03d36db49a999a7302a57d83632",
      "value": " 20/20 [03:06&lt;00:00,  8.87s/it]"
     }
    },
    "99f4303a41424365bff46322fe5f1dac": {
     "model_module": "@jupyter-widgets/controls",
     "model_module_version": "1.5.0",
     "model_name": "DescriptionStyleModel",
     "state": {
      "_model_module": "@jupyter-widgets/controls",
      "_model_module_version": "1.5.0",
      "_model_name": "DescriptionStyleModel",
      "_view_count": null,
      "_view_module": "@jupyter-widgets/base",
      "_view_module_version": "1.2.0",
      "_view_name": "StyleView",
      "description_width": ""
     }
    },
    "9fbf8a1c47924ace9dc9ff2265f0f628": {
     "model_module": "@jupyter-widgets/base",
     "model_module_version": "1.2.0",
     "model_name": "LayoutModel",
     "state": {
      "_model_module": "@jupyter-widgets/base",
      "_model_module_version": "1.2.0",
      "_model_name": "LayoutModel",
      "_view_count": null,
      "_view_module": "@jupyter-widgets/base",
      "_view_module_version": "1.2.0",
      "_view_name": "LayoutView",
      "align_content": null,
      "align_items": null,
      "align_self": null,
      "border": null,
      "bottom": null,
      "display": null,
      "flex": null,
      "flex_flow": null,
      "grid_area": null,
      "grid_auto_columns": null,
      "grid_auto_flow": null,
      "grid_auto_rows": null,
      "grid_column": null,
      "grid_gap": null,
      "grid_row": null,
      "grid_template_areas": null,
      "grid_template_columns": null,
      "grid_template_rows": null,
      "height": null,
      "justify_content": null,
      "justify_items": null,
      "left": null,
      "margin": null,
      "max_height": null,
      "max_width": null,
      "min_height": null,
      "min_width": null,
      "object_fit": null,
      "object_position": null,
      "order": null,
      "overflow": null,
      "overflow_x": null,
      "overflow_y": null,
      "padding": null,
      "right": null,
      "top": null,
      "visibility": null,
      "width": null
     }
    },
    "a13a1224d6ea44b7beb2fdfbb99b5c82": {
     "model_module": "@jupyter-widgets/controls",
     "model_module_version": "1.5.0",
     "model_name": "HTMLModel",
     "state": {
      "_dom_classes": [],
      "_model_module": "@jupyter-widgets/controls",
      "_model_module_version": "1.5.0",
      "_model_name": "HTMLModel",
      "_view_count": null,
      "_view_module": "@jupyter-widgets/controls",
      "_view_module_version": "1.5.0",
      "_view_name": "HTMLView",
      "description": "",
      "description_tooltip": null,
      "layout": "IPY_MODEL_d8c0c976ecc847f9ab1f466a47b906ea",
      "placeholder": "​",
      "style": "IPY_MODEL_e61dd557bfb0491aab049ac7769249d1",
      "value": " 20/20 [01:39&lt;00:00,  1.85s/it]"
     }
    },
    "a39cd4083cb64ad9b95b95b9c4cc661b": {
     "model_module": "@jupyter-widgets/controls",
     "model_module_version": "1.5.0",
     "model_name": "DescriptionStyleModel",
     "state": {
      "_model_module": "@jupyter-widgets/controls",
      "_model_module_version": "1.5.0",
      "_model_name": "DescriptionStyleModel",
      "_view_count": null,
      "_view_module": "@jupyter-widgets/base",
      "_view_module_version": "1.2.0",
      "_view_name": "StyleView",
      "description_width": ""
     }
    },
    "a5f0ec85423348098d1c7f141c7238c9": {
     "model_module": "@jupyter-widgets/output",
     "model_module_version": "1.0.0",
     "model_name": "OutputModel",
     "state": {
      "_dom_classes": [],
      "_model_module": "@jupyter-widgets/output",
      "_model_module_version": "1.0.0",
      "_model_name": "OutputModel",
      "_view_count": null,
      "_view_module": "@jupyter-widgets/output",
      "_view_module_version": "1.0.0",
      "_view_name": "OutputView",
      "layout": "IPY_MODEL_77f16a6ad96e48908964108381ea3e8a",
      "msg_id": "",
      "outputs": [
       {
        "data": {
         "image/png": "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\n",
         "text/plain": "<IPython.core.display.Image object>"
        },
        "metadata": {},
        "output_type": "display_data"
       }
      ]
     }
    },
    "a7971cde84734761812c56ca08c00f05": {
     "model_module": "@jupyter-widgets/controls",
     "model_module_version": "1.5.0",
     "model_name": "HBoxModel",
     "state": {
      "_dom_classes": [],
      "_model_module": "@jupyter-widgets/controls",
      "_model_module_version": "1.5.0",
      "_model_name": "HBoxModel",
      "_view_count": null,
      "_view_module": "@jupyter-widgets/controls",
      "_view_module_version": "1.5.0",
      "_view_name": "HBoxView",
      "box_style": "",
      "children": [
       "IPY_MODEL_25e168d254884d1e9f70f4bca6e0f8bd",
       "IPY_MODEL_96c601d561ac40d087ef59541d6d300f",
       "IPY_MODEL_90645054d92e43e8b28ba58b8740dc93"
      ],
      "layout": "IPY_MODEL_dbb503d046b442bb802512afd1251e2a"
     }
    },
    "a79a83d7b0094b1ea5980aefa8ef9ff0": {
     "model_module": "@jupyter-widgets/base",
     "model_module_version": "1.2.0",
     "model_name": "LayoutModel",
     "state": {
      "_model_module": "@jupyter-widgets/base",
      "_model_module_version": "1.2.0",
      "_model_name": "LayoutModel",
      "_view_count": null,
      "_view_module": "@jupyter-widgets/base",
      "_view_module_version": "1.2.0",
      "_view_name": "LayoutView",
      "align_content": null,
      "align_items": null,
      "align_self": null,
      "border": null,
      "bottom": null,
      "display": null,
      "flex": null,
      "flex_flow": null,
      "grid_area": null,
      "grid_auto_columns": null,
      "grid_auto_flow": null,
      "grid_auto_rows": null,
      "grid_column": null,
      "grid_gap": null,
      "grid_row": null,
      "grid_template_areas": null,
      "grid_template_columns": null,
      "grid_template_rows": null,
      "height": null,
      "justify_content": null,
      "justify_items": null,
      "left": null,
      "margin": null,
      "max_height": null,
      "max_width": null,
      "min_height": null,
      "min_width": null,
      "object_fit": null,
      "object_position": null,
      "order": null,
      "overflow": null,
      "overflow_x": null,
      "overflow_y": null,
      "padding": null,
      "right": null,
      "top": null,
      "visibility": null,
      "width": null
     }
    },
    "b06c0bb99efe4a41b7a925d2bf2d196f": {
     "model_module": "@jupyter-widgets/controls",
     "model_module_version": "1.5.0",
     "model_name": "HTMLModel",
     "state": {
      "_dom_classes": [],
      "_model_module": "@jupyter-widgets/controls",
      "_model_module_version": "1.5.0",
      "_model_name": "HTMLModel",
      "_view_count": null,
      "_view_module": "@jupyter-widgets/controls",
      "_view_module_version": "1.5.0",
      "_view_name": "HTMLView",
      "description": "",
      "description_tooltip": null,
      "layout": "IPY_MODEL_7c63594378354d6bb822bb6839679247",
      "placeholder": "​",
      "style": "IPY_MODEL_e6bbff4ea50d469bafefcbd498ff9dc1",
      "value": "100%"
     }
    },
    "b15be30aa64b416f8d1b0d5810ccb7c6": {
     "model_module": "@jupyter-widgets/base",
     "model_module_version": "1.2.0",
     "model_name": "LayoutModel",
     "state": {
      "_model_module": "@jupyter-widgets/base",
      "_model_module_version": "1.2.0",
      "_model_name": "LayoutModel",
      "_view_count": null,
      "_view_module": "@jupyter-widgets/base",
      "_view_module_version": "1.2.0",
      "_view_name": "LayoutView",
      "align_content": null,
      "align_items": null,
      "align_self": null,
      "border": null,
      "bottom": null,
      "display": null,
      "flex": null,
      "flex_flow": null,
      "grid_area": null,
      "grid_auto_columns": null,
      "grid_auto_flow": null,
      "grid_auto_rows": null,
      "grid_column": null,
      "grid_gap": null,
      "grid_row": null,
      "grid_template_areas": null,
      "grid_template_columns": null,
      "grid_template_rows": null,
      "height": null,
      "justify_content": null,
      "justify_items": null,
      "left": null,
      "margin": null,
      "max_height": null,
      "max_width": null,
      "min_height": null,
      "min_width": null,
      "object_fit": null,
      "object_position": null,
      "order": null,
      "overflow": null,
      "overflow_x": null,
      "overflow_y": null,
      "padding": null,
      "right": null,
      "top": null,
      "visibility": null,
      "width": null
     }
    },
    "b5be10da2cb9417f826641d0db9c33c4": {
     "model_module": "@jupyter-widgets/base",
     "model_module_version": "1.2.0",
     "model_name": "LayoutModel",
     "state": {
      "_model_module": "@jupyter-widgets/base",
      "_model_module_version": "1.2.0",
      "_model_name": "LayoutModel",
      "_view_count": null,
      "_view_module": "@jupyter-widgets/base",
      "_view_module_version": "1.2.0",
      "_view_name": "LayoutView",
      "align_content": null,
      "align_items": null,
      "align_self": null,
      "border": null,
      "bottom": null,
      "display": null,
      "flex": null,
      "flex_flow": null,
      "grid_area": null,
      "grid_auto_columns": null,
      "grid_auto_flow": null,
      "grid_auto_rows": null,
      "grid_column": null,
      "grid_gap": null,
      "grid_row": null,
      "grid_template_areas": null,
      "grid_template_columns": null,
      "grid_template_rows": null,
      "height": null,
      "justify_content": null,
      "justify_items": null,
      "left": null,
      "margin": null,
      "max_height": null,
      "max_width": null,
      "min_height": null,
      "min_width": null,
      "object_fit": null,
      "object_position": null,
      "order": null,
      "overflow": null,
      "overflow_x": null,
      "overflow_y": null,
      "padding": null,
      "right": null,
      "top": null,
      "visibility": null,
      "width": null
     }
    },
    "b5ea81ecdac0433598debc731683c2c2": {
     "model_module": "@jupyter-widgets/base",
     "model_module_version": "1.2.0",
     "model_name": "LayoutModel",
     "state": {
      "_model_module": "@jupyter-widgets/base",
      "_model_module_version": "1.2.0",
      "_model_name": "LayoutModel",
      "_view_count": null,
      "_view_module": "@jupyter-widgets/base",
      "_view_module_version": "1.2.0",
      "_view_name": "LayoutView",
      "align_content": null,
      "align_items": null,
      "align_self": null,
      "border": null,
      "bottom": null,
      "display": null,
      "flex": null,
      "flex_flow": null,
      "grid_area": null,
      "grid_auto_columns": null,
      "grid_auto_flow": null,
      "grid_auto_rows": null,
      "grid_column": null,
      "grid_gap": null,
      "grid_row": null,
      "grid_template_areas": null,
      "grid_template_columns": null,
      "grid_template_rows": null,
      "height": null,
      "justify_content": null,
      "justify_items": null,
      "left": null,
      "margin": null,
      "max_height": null,
      "max_width": null,
      "min_height": null,
      "min_width": null,
      "object_fit": null,
      "object_position": null,
      "order": null,
      "overflow": null,
      "overflow_x": null,
      "overflow_y": null,
      "padding": null,
      "right": null,
      "top": null,
      "visibility": null,
      "width": null
     }
    },
    "b8df545378894d7da10e3308cf6766c6": {
     "model_module": "@jupyter-widgets/controls",
     "model_module_version": "1.5.0",
     "model_name": "HBoxModel",
     "state": {
      "_dom_classes": [],
      "_model_module": "@jupyter-widgets/controls",
      "_model_module_version": "1.5.0",
      "_model_name": "HBoxModel",
      "_view_count": null,
      "_view_module": "@jupyter-widgets/controls",
      "_view_module_version": "1.5.0",
      "_view_name": "HBoxView",
      "box_style": "",
      "children": [
       "IPY_MODEL_0864061d16ba476a9a8dd63804b5b5c3",
       "IPY_MODEL_07f15379fc81494fb462fc2e1e279e5b",
       "IPY_MODEL_8f6756c98fdf43c7bcf4d34481df5efb"
      ],
      "layout": "IPY_MODEL_c1765382455040c9a5e0723b4731907b"
     }
    },
    "bb25db135c644d9aa6a8358b53307f74": {
     "model_module": "@jupyter-widgets/output",
     "model_module_version": "1.0.0",
     "model_name": "OutputModel",
     "state": {
      "_dom_classes": [],
      "_model_module": "@jupyter-widgets/output",
      "_model_module_version": "1.0.0",
      "_model_name": "OutputModel",
      "_view_count": null,
      "_view_module": "@jupyter-widgets/output",
      "_view_module_version": "1.0.0",
      "_view_name": "OutputView",
      "layout": "IPY_MODEL_7c856c0381d145128ababd52a0037baf",
      "msg_id": "",
      "outputs": [
       {
        "data": {
         "image/png": "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\n",
         "text/plain": "<IPython.core.display.Image object>"
        },
        "metadata": {},
        "output_type": "display_data"
       }
      ]
     }
    },
    "bb80d03d36db49a999a7302a57d83632": {
     "model_module": "@jupyter-widgets/controls",
     "model_module_version": "1.5.0",
     "model_name": "DescriptionStyleModel",
     "state": {
      "_model_module": "@jupyter-widgets/controls",
      "_model_module_version": "1.5.0",
      "_model_name": "DescriptionStyleModel",
      "_view_count": null,
      "_view_module": "@jupyter-widgets/base",
      "_view_module_version": "1.2.0",
      "_view_name": "StyleView",
      "description_width": ""
     }
    },
    "c1765382455040c9a5e0723b4731907b": {
     "model_module": "@jupyter-widgets/base",
     "model_module_version": "1.2.0",
     "model_name": "LayoutModel",
     "state": {
      "_model_module": "@jupyter-widgets/base",
      "_model_module_version": "1.2.0",
      "_model_name": "LayoutModel",
      "_view_count": null,
      "_view_module": "@jupyter-widgets/base",
      "_view_module_version": "1.2.0",
      "_view_name": "LayoutView",
      "align_content": null,
      "align_items": null,
      "align_self": null,
      "border": null,
      "bottom": null,
      "display": null,
      "flex": null,
      "flex_flow": null,
      "grid_area": null,
      "grid_auto_columns": null,
      "grid_auto_flow": null,
      "grid_auto_rows": null,
      "grid_column": null,
      "grid_gap": null,
      "grid_row": null,
      "grid_template_areas": null,
      "grid_template_columns": null,
      "grid_template_rows": null,
      "height": null,
      "justify_content": null,
      "justify_items": null,
      "left": null,
      "margin": null,
      "max_height": null,
      "max_width": null,
      "min_height": null,
      "min_width": null,
      "object_fit": null,
      "object_position": null,
      "order": null,
      "overflow": null,
      "overflow_x": null,
      "overflow_y": null,
      "padding": null,
      "right": null,
      "top": null,
      "visibility": null,
      "width": null
     }
    },
    "c2d6bf8e41194a5c9f18bc3091656b72": {
     "model_module": "@jupyter-widgets/base",
     "model_module_version": "1.2.0",
     "model_name": "LayoutModel",
     "state": {
      "_model_module": "@jupyter-widgets/base",
      "_model_module_version": "1.2.0",
      "_model_name": "LayoutModel",
      "_view_count": null,
      "_view_module": "@jupyter-widgets/base",
      "_view_module_version": "1.2.0",
      "_view_name": "LayoutView",
      "align_content": null,
      "align_items": null,
      "align_self": null,
      "border": null,
      "bottom": null,
      "display": null,
      "flex": null,
      "flex_flow": null,
      "grid_area": null,
      "grid_auto_columns": null,
      "grid_auto_flow": null,
      "grid_auto_rows": null,
      "grid_column": null,
      "grid_gap": null,
      "grid_row": null,
      "grid_template_areas": null,
      "grid_template_columns": null,
      "grid_template_rows": null,
      "height": null,
      "justify_content": null,
      "justify_items": null,
      "left": null,
      "margin": null,
      "max_height": null,
      "max_width": null,
      "min_height": null,
      "min_width": null,
      "object_fit": null,
      "object_position": null,
      "order": null,
      "overflow": null,
      "overflow_x": null,
      "overflow_y": null,
      "padding": null,
      "right": null,
      "top": null,
      "visibility": null,
      "width": null
     }
    },
    "c316c51aa0f7445f8f3b755df9162b08": {
     "model_module": "@jupyter-widgets/controls",
     "model_module_version": "1.5.0",
     "model_name": "DescriptionStyleModel",
     "state": {
      "_model_module": "@jupyter-widgets/controls",
      "_model_module_version": "1.5.0",
      "_model_name": "DescriptionStyleModel",
      "_view_count": null,
      "_view_module": "@jupyter-widgets/base",
      "_view_module_version": "1.2.0",
      "_view_name": "StyleView",
      "description_width": ""
     }
    },
    "c4fec974fee645db84f4e5d00e58c663": {
     "model_module": "@jupyter-widgets/base",
     "model_module_version": "1.2.0",
     "model_name": "LayoutModel",
     "state": {
      "_model_module": "@jupyter-widgets/base",
      "_model_module_version": "1.2.0",
      "_model_name": "LayoutModel",
      "_view_count": null,
      "_view_module": "@jupyter-widgets/base",
      "_view_module_version": "1.2.0",
      "_view_name": "LayoutView",
      "align_content": null,
      "align_items": null,
      "align_self": null,
      "border": null,
      "bottom": null,
      "display": null,
      "flex": null,
      "flex_flow": null,
      "grid_area": null,
      "grid_auto_columns": null,
      "grid_auto_flow": null,
      "grid_auto_rows": null,
      "grid_column": null,
      "grid_gap": null,
      "grid_row": null,
      "grid_template_areas": null,
      "grid_template_columns": null,
      "grid_template_rows": null,
      "height": null,
      "justify_content": null,
      "justify_items": null,
      "left": null,
      "margin": null,
      "max_height": null,
      "max_width": null,
      "min_height": null,
      "min_width": null,
      "object_fit": null,
      "object_position": null,
      "order": null,
      "overflow": null,
      "overflow_x": null,
      "overflow_y": null,
      "padding": null,
      "right": null,
      "top": null,
      "visibility": null,
      "width": null
     }
    },
    "c6a14c98c337427dac622208dbdf12d4": {
     "model_module": "@jupyter-widgets/base",
     "model_module_version": "1.2.0",
     "model_name": "LayoutModel",
     "state": {
      "_model_module": "@jupyter-widgets/base",
      "_model_module_version": "1.2.0",
      "_model_name": "LayoutModel",
      "_view_count": null,
      "_view_module": "@jupyter-widgets/base",
      "_view_module_version": "1.2.0",
      "_view_name": "LayoutView",
      "align_content": null,
      "align_items": null,
      "align_self": null,
      "border": null,
      "bottom": null,
      "display": null,
      "flex": null,
      "flex_flow": null,
      "grid_area": null,
      "grid_auto_columns": null,
      "grid_auto_flow": null,
      "grid_auto_rows": null,
      "grid_column": null,
      "grid_gap": null,
      "grid_row": null,
      "grid_template_areas": null,
      "grid_template_columns": null,
      "grid_template_rows": null,
      "height": null,
      "justify_content": null,
      "justify_items": null,
      "left": null,
      "margin": null,
      "max_height": null,
      "max_width": null,
      "min_height": null,
      "min_width": null,
      "object_fit": null,
      "object_position": null,
      "order": null,
      "overflow": null,
      "overflow_x": null,
      "overflow_y": null,
      "padding": null,
      "right": null,
      "top": null,
      "visibility": null,
      "width": null
     }
    },
    "cb8b852543244636807217dd8c93388c": {
     "model_module": "@jupyter-widgets/controls",
     "model_module_version": "1.5.0",
     "model_name": "HTMLModel",
     "state": {
      "_dom_classes": [],
      "_model_module": "@jupyter-widgets/controls",
      "_model_module_version": "1.5.0",
      "_model_name": "HTMLModel",
      "_view_count": null,
      "_view_module": "@jupyter-widgets/controls",
      "_view_module_version": "1.5.0",
      "_view_name": "HTMLView",
      "description": "",
      "description_tooltip": null,
      "layout": "IPY_MODEL_da7f2d5ccbf34250a53dd5d189bd76b7",
      "placeholder": "​",
      "style": "IPY_MODEL_7ff90999c1d743e0a977eac1dbf74542",
      "value": " 200/200 [00:00&lt;00:00, 1428.38it/s]"
     }
    },
    "cd1b01a73dcf425490c72e34039227b2": {
     "model_module": "@jupyter-widgets/controls",
     "model_module_version": "1.5.0",
     "model_name": "HTMLModel",
     "state": {
      "_dom_classes": [],
      "_model_module": "@jupyter-widgets/controls",
      "_model_module_version": "1.5.0",
      "_model_name": "HTMLModel",
      "_view_count": null,
      "_view_module": "@jupyter-widgets/controls",
      "_view_module_version": "1.5.0",
      "_view_name": "HTMLView",
      "description": "",
      "description_tooltip": null,
      "layout": "IPY_MODEL_b5be10da2cb9417f826641d0db9c33c4",
      "placeholder": "​",
      "style": "IPY_MODEL_1d66026fa9384d918dbea5a4931c9d79",
      "value": "100%"
     }
    },
    "d09b73cd70bb4cc3b7a96c8da3d23d16": {
     "model_module": "@jupyter-widgets/controls",
     "model_module_version": "1.5.0",
     "model_name": "DescriptionStyleModel",
     "state": {
      "_model_module": "@jupyter-widgets/controls",
      "_model_module_version": "1.5.0",
      "_model_name": "DescriptionStyleModel",
      "_view_count": null,
      "_view_module": "@jupyter-widgets/base",
      "_view_module_version": "1.2.0",
      "_view_name": "StyleView",
      "description_width": ""
     }
    },
    "d0a9b5b3465b4654a946708452659115": {
     "model_module": "@jupyter-widgets/base",
     "model_module_version": "1.2.0",
     "model_name": "LayoutModel",
     "state": {
      "_model_module": "@jupyter-widgets/base",
      "_model_module_version": "1.2.0",
      "_model_name": "LayoutModel",
      "_view_count": null,
      "_view_module": "@jupyter-widgets/base",
      "_view_module_version": "1.2.0",
      "_view_name": "LayoutView",
      "align_content": null,
      "align_items": null,
      "align_self": null,
      "border": null,
      "bottom": null,
      "display": null,
      "flex": null,
      "flex_flow": null,
      "grid_area": null,
      "grid_auto_columns": null,
      "grid_auto_flow": null,
      "grid_auto_rows": null,
      "grid_column": null,
      "grid_gap": null,
      "grid_row": null,
      "grid_template_areas": null,
      "grid_template_columns": null,
      "grid_template_rows": null,
      "height": null,
      "justify_content": null,
      "justify_items": null,
      "left": null,
      "margin": null,
      "max_height": null,
      "max_width": null,
      "min_height": null,
      "min_width": null,
      "object_fit": null,
      "object_position": null,
      "order": null,
      "overflow": null,
      "overflow_x": null,
      "overflow_y": null,
      "padding": null,
      "right": null,
      "top": null,
      "visibility": null,
      "width": null
     }
    },
    "d0e93fe81f18415e92c6b4907a536bcb": {
     "model_module": "@jupyter-widgets/controls",
     "model_module_version": "1.5.0",
     "model_name": "ProgressStyleModel",
     "state": {
      "_model_module": "@jupyter-widgets/controls",
      "_model_module_version": "1.5.0",
      "_model_name": "ProgressStyleModel",
      "_view_count": null,
      "_view_module": "@jupyter-widgets/base",
      "_view_module_version": "1.2.0",
      "_view_name": "StyleView",
      "bar_color": null,
      "description_width": ""
     }
    },
    "d1fde0e6bc6d49949f1fd50013297cbc": {
     "model_module": "@jupyter-widgets/output",
     "model_module_version": "1.0.0",
     "model_name": "OutputModel",
     "state": {
      "_dom_classes": [],
      "_model_module": "@jupyter-widgets/output",
      "_model_module_version": "1.0.0",
      "_model_name": "OutputModel",
      "_view_count": null,
      "_view_module": "@jupyter-widgets/output",
      "_view_module_version": "1.0.0",
      "_view_name": "OutputView",
      "layout": "IPY_MODEL_ecf155715dc94779ac72e4096776979f",
      "msg_id": "",
      "outputs": [
       {
        "data": {
         "image/png": "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\n",
         "text/plain": "<IPython.core.display.Image object>"
        },
        "metadata": {},
        "output_type": "display_data"
       }
      ]
     }
    },
    "d86d64bba18d4e299ac416cbdf042f8c": {
     "model_module": "@jupyter-widgets/base",
     "model_module_version": "1.2.0",
     "model_name": "LayoutModel",
     "state": {
      "_model_module": "@jupyter-widgets/base",
      "_model_module_version": "1.2.0",
      "_model_name": "LayoutModel",
      "_view_count": null,
      "_view_module": "@jupyter-widgets/base",
      "_view_module_version": "1.2.0",
      "_view_name": "LayoutView",
      "align_content": null,
      "align_items": null,
      "align_self": null,
      "border": null,
      "bottom": null,
      "display": null,
      "flex": null,
      "flex_flow": null,
      "grid_area": null,
      "grid_auto_columns": null,
      "grid_auto_flow": null,
      "grid_auto_rows": null,
      "grid_column": null,
      "grid_gap": null,
      "grid_row": null,
      "grid_template_areas": null,
      "grid_template_columns": null,
      "grid_template_rows": null,
      "height": null,
      "justify_content": null,
      "justify_items": null,
      "left": null,
      "margin": null,
      "max_height": null,
      "max_width": null,
      "min_height": null,
      "min_width": null,
      "object_fit": null,
      "object_position": null,
      "order": null,
      "overflow": null,
      "overflow_x": null,
      "overflow_y": null,
      "padding": null,
      "right": null,
      "top": null,
      "visibility": null,
      "width": null
     }
    },
    "d8c0c976ecc847f9ab1f466a47b906ea": {
     "model_module": "@jupyter-widgets/base",
     "model_module_version": "1.2.0",
     "model_name": "LayoutModel",
     "state": {
      "_model_module": "@jupyter-widgets/base",
      "_model_module_version": "1.2.0",
      "_model_name": "LayoutModel",
      "_view_count": null,
      "_view_module": "@jupyter-widgets/base",
      "_view_module_version": "1.2.0",
      "_view_name": "LayoutView",
      "align_content": null,
      "align_items": null,
      "align_self": null,
      "border": null,
      "bottom": null,
      "display": null,
      "flex": null,
      "flex_flow": null,
      "grid_area": null,
      "grid_auto_columns": null,
      "grid_auto_flow": null,
      "grid_auto_rows": null,
      "grid_column": null,
      "grid_gap": null,
      "grid_row": null,
      "grid_template_areas": null,
      "grid_template_columns": null,
      "grid_template_rows": null,
      "height": null,
      "justify_content": null,
      "justify_items": null,
      "left": null,
      "margin": null,
      "max_height": null,
      "max_width": null,
      "min_height": null,
      "min_width": null,
      "object_fit": null,
      "object_position": null,
      "order": null,
      "overflow": null,
      "overflow_x": null,
      "overflow_y": null,
      "padding": null,
      "right": null,
      "top": null,
      "visibility": null,
      "width": null
     }
    },
    "d907c44900dd48ddb83075db8cc67ef0": {
     "model_module": "@jupyter-widgets/controls",
     "model_module_version": "1.5.0",
     "model_name": "HBoxModel",
     "state": {
      "_dom_classes": [],
      "_model_module": "@jupyter-widgets/controls",
      "_model_module_version": "1.5.0",
      "_model_name": "HBoxModel",
      "_view_count": null,
      "_view_module": "@jupyter-widgets/controls",
      "_view_module_version": "1.5.0",
      "_view_name": "HBoxView",
      "box_style": "",
      "children": [
       "IPY_MODEL_f7a254e09c4349eba13396c1cfe19cfe",
       "IPY_MODEL_05b03160a59b40f19bd522f590659621",
       "IPY_MODEL_2daea710576a47e485a0f440ea354b4c"
      ],
      "layout": "IPY_MODEL_207d41dab4de4a688f6985117c55a1e1"
     }
    },
    "d910c51e05d041f68bd228dc542058c2": {
     "model_module": "@jupyter-widgets/base",
     "model_module_version": "1.2.0",
     "model_name": "LayoutModel",
     "state": {
      "_model_module": "@jupyter-widgets/base",
      "_model_module_version": "1.2.0",
      "_model_name": "LayoutModel",
      "_view_count": null,
      "_view_module": "@jupyter-widgets/base",
      "_view_module_version": "1.2.0",
      "_view_name": "LayoutView",
      "align_content": null,
      "align_items": null,
      "align_self": null,
      "border": null,
      "bottom": null,
      "display": null,
      "flex": null,
      "flex_flow": null,
      "grid_area": null,
      "grid_auto_columns": null,
      "grid_auto_flow": null,
      "grid_auto_rows": null,
      "grid_column": null,
      "grid_gap": null,
      "grid_row": null,
      "grid_template_areas": null,
      "grid_template_columns": null,
      "grid_template_rows": null,
      "height": null,
      "justify_content": null,
      "justify_items": null,
      "left": null,
      "margin": null,
      "max_height": null,
      "max_width": null,
      "min_height": null,
      "min_width": null,
      "object_fit": null,
      "object_position": null,
      "order": null,
      "overflow": null,
      "overflow_x": null,
      "overflow_y": null,
      "padding": null,
      "right": null,
      "top": null,
      "visibility": null,
      "width": null
     }
    },
    "d98f423ee8934897b029d2458fdff177": {
     "model_module": "@jupyter-widgets/controls",
     "model_module_version": "1.5.0",
     "model_name": "FloatProgressModel",
     "state": {
      "_dom_classes": [],
      "_model_module": "@jupyter-widgets/controls",
      "_model_module_version": "1.5.0",
      "_model_name": "FloatProgressModel",
      "_view_count": null,
      "_view_module": "@jupyter-widgets/controls",
      "_view_module_version": "1.5.0",
      "_view_name": "ProgressView",
      "bar_style": "success",
      "description": "",
      "description_tooltip": null,
      "layout": "IPY_MODEL_664ce74d317b490189c0191690268bc6",
      "max": 200,
      "min": 0,
      "orientation": "horizontal",
      "style": "IPY_MODEL_5f472825387148acbe241a88925004b0",
      "value": 200
     }
    },
    "da7f2d5ccbf34250a53dd5d189bd76b7": {
     "model_module": "@jupyter-widgets/base",
     "model_module_version": "1.2.0",
     "model_name": "LayoutModel",
     "state": {
      "_model_module": "@jupyter-widgets/base",
      "_model_module_version": "1.2.0",
      "_model_name": "LayoutModel",
      "_view_count": null,
      "_view_module": "@jupyter-widgets/base",
      "_view_module_version": "1.2.0",
      "_view_name": "LayoutView",
      "align_content": null,
      "align_items": null,
      "align_self": null,
      "border": null,
      "bottom": null,
      "display": null,
      "flex": null,
      "flex_flow": null,
      "grid_area": null,
      "grid_auto_columns": null,
      "grid_auto_flow": null,
      "grid_auto_rows": null,
      "grid_column": null,
      "grid_gap": null,
      "grid_row": null,
      "grid_template_areas": null,
      "grid_template_columns": null,
      "grid_template_rows": null,
      "height": null,
      "justify_content": null,
      "justify_items": null,
      "left": null,
      "margin": null,
      "max_height": null,
      "max_width": null,
      "min_height": null,
      "min_width": null,
      "object_fit": null,
      "object_position": null,
      "order": null,
      "overflow": null,
      "overflow_x": null,
      "overflow_y": null,
      "padding": null,
      "right": null,
      "top": null,
      "visibility": null,
      "width": null
     }
    },
    "db101818fc124771aaf277e03dd07e64": {
     "model_module": "@jupyter-widgets/controls",
     "model_module_version": "1.5.0",
     "model_name": "DescriptionStyleModel",
     "state": {
      "_model_module": "@jupyter-widgets/controls",
      "_model_module_version": "1.5.0",
      "_model_name": "DescriptionStyleModel",
      "_view_count": null,
      "_view_module": "@jupyter-widgets/base",
      "_view_module_version": "1.2.0",
      "_view_name": "StyleView",
      "description_width": ""
     }
    },
    "dbb503d046b442bb802512afd1251e2a": {
     "model_module": "@jupyter-widgets/base",
     "model_module_version": "1.2.0",
     "model_name": "LayoutModel",
     "state": {
      "_model_module": "@jupyter-widgets/base",
      "_model_module_version": "1.2.0",
      "_model_name": "LayoutModel",
      "_view_count": null,
      "_view_module": "@jupyter-widgets/base",
      "_view_module_version": "1.2.0",
      "_view_name": "LayoutView",
      "align_content": null,
      "align_items": null,
      "align_self": null,
      "border": null,
      "bottom": null,
      "display": null,
      "flex": null,
      "flex_flow": null,
      "grid_area": null,
      "grid_auto_columns": null,
      "grid_auto_flow": null,
      "grid_auto_rows": null,
      "grid_column": null,
      "grid_gap": null,
      "grid_row": null,
      "grid_template_areas": null,
      "grid_template_columns": null,
      "grid_template_rows": null,
      "height": null,
      "justify_content": null,
      "justify_items": null,
      "left": null,
      "margin": null,
      "max_height": null,
      "max_width": null,
      "min_height": null,
      "min_width": null,
      "object_fit": null,
      "object_position": null,
      "order": null,
      "overflow": null,
      "overflow_x": null,
      "overflow_y": null,
      "padding": null,
      "right": null,
      "top": null,
      "visibility": null,
      "width": null
     }
    },
    "de52c28737734fbf85394ebc62228dc2": {
     "model_module": "@jupyter-widgets/controls",
     "model_module_version": "1.5.0",
     "model_name": "DescriptionStyleModel",
     "state": {
      "_model_module": "@jupyter-widgets/controls",
      "_model_module_version": "1.5.0",
      "_model_name": "DescriptionStyleModel",
      "_view_count": null,
      "_view_module": "@jupyter-widgets/base",
      "_view_module_version": "1.2.0",
      "_view_name": "StyleView",
      "description_width": ""
     }
    },
    "df4eaec7f1634443826ef18fd7462d21": {
     "model_module": "@jupyter-widgets/controls",
     "model_module_version": "1.5.0",
     "model_name": "HTMLModel",
     "state": {
      "_dom_classes": [],
      "_model_module": "@jupyter-widgets/controls",
      "_model_module_version": "1.5.0",
      "_model_name": "HTMLModel",
      "_view_count": null,
      "_view_module": "@jupyter-widgets/controls",
      "_view_module_version": "1.5.0",
      "_view_name": "HTMLView",
      "description": "",
      "description_tooltip": null,
      "layout": "IPY_MODEL_c4fec974fee645db84f4e5d00e58c663",
      "placeholder": "​",
      "style": "IPY_MODEL_e27b2209017d4281ad0a2e37978830dc",
      "value": "100%"
     }
    },
    "e27b2209017d4281ad0a2e37978830dc": {
     "model_module": "@jupyter-widgets/controls",
     "model_module_version": "1.5.0",
     "model_name": "DescriptionStyleModel",
     "state": {
      "_model_module": "@jupyter-widgets/controls",
      "_model_module_version": "1.5.0",
      "_model_name": "DescriptionStyleModel",
      "_view_count": null,
      "_view_module": "@jupyter-widgets/base",
      "_view_module_version": "1.2.0",
      "_view_name": "StyleView",
      "description_width": ""
     }
    },
    "e61dd557bfb0491aab049ac7769249d1": {
     "model_module": "@jupyter-widgets/controls",
     "model_module_version": "1.5.0",
     "model_name": "DescriptionStyleModel",
     "state": {
      "_model_module": "@jupyter-widgets/controls",
      "_model_module_version": "1.5.0",
      "_model_name": "DescriptionStyleModel",
      "_view_count": null,
      "_view_module": "@jupyter-widgets/base",
      "_view_module_version": "1.2.0",
      "_view_name": "StyleView",
      "description_width": ""
     }
    },
    "e6bbff4ea50d469bafefcbd498ff9dc1": {
     "model_module": "@jupyter-widgets/controls",
     "model_module_version": "1.5.0",
     "model_name": "DescriptionStyleModel",
     "state": {
      "_model_module": "@jupyter-widgets/controls",
      "_model_module_version": "1.5.0",
      "_model_name": "DescriptionStyleModel",
      "_view_count": null,
      "_view_module": "@jupyter-widgets/base",
      "_view_module_version": "1.2.0",
      "_view_name": "StyleView",
      "description_width": ""
     }
    },
    "e79df753b0774fbebac23adca0725aa5": {
     "model_module": "@jupyter-widgets/controls",
     "model_module_version": "1.5.0",
     "model_name": "HTMLModel",
     "state": {
      "_dom_classes": [],
      "_model_module": "@jupyter-widgets/controls",
      "_model_module_version": "1.5.0",
      "_model_name": "HTMLModel",
      "_view_count": null,
      "_view_module": "@jupyter-widgets/controls",
      "_view_module_version": "1.5.0",
      "_view_name": "HTMLView",
      "description": "",
      "description_tooltip": null,
      "layout": "IPY_MODEL_64f7f17182c5432882d7f3ddab4333b8",
      "placeholder": "​",
      "style": "IPY_MODEL_a39cd4083cb64ad9b95b95b9c4cc661b",
      "value": " 20/20 [03:03&lt;00:00, 10.12s/it]"
     }
    },
    "ea9804cc1daf4fa894d865f161260067": {
     "model_module": "@jupyter-widgets/base",
     "model_module_version": "1.2.0",
     "model_name": "LayoutModel",
     "state": {
      "_model_module": "@jupyter-widgets/base",
      "_model_module_version": "1.2.0",
      "_model_name": "LayoutModel",
      "_view_count": null,
      "_view_module": "@jupyter-widgets/base",
      "_view_module_version": "1.2.0",
      "_view_name": "LayoutView",
      "align_content": null,
      "align_items": null,
      "align_self": null,
      "border": null,
      "bottom": null,
      "display": null,
      "flex": null,
      "flex_flow": null,
      "grid_area": null,
      "grid_auto_columns": null,
      "grid_auto_flow": null,
      "grid_auto_rows": null,
      "grid_column": null,
      "grid_gap": null,
      "grid_row": null,
      "grid_template_areas": null,
      "grid_template_columns": null,
      "grid_template_rows": null,
      "height": null,
      "justify_content": null,
      "justify_items": null,
      "left": null,
      "margin": null,
      "max_height": null,
      "max_width": null,
      "min_height": null,
      "min_width": null,
      "object_fit": null,
      "object_position": null,
      "order": null,
      "overflow": null,
      "overflow_x": null,
      "overflow_y": null,
      "padding": null,
      "right": null,
      "top": null,
      "visibility": null,
      "width": null
     }
    },
    "eafa577b6da1411c91d71da31f183fb5": {
     "model_module": "@jupyter-widgets/controls",
     "model_module_version": "1.5.0",
     "model_name": "HBoxModel",
     "state": {
      "_dom_classes": [],
      "_model_module": "@jupyter-widgets/controls",
      "_model_module_version": "1.5.0",
      "_model_name": "HBoxModel",
      "_view_count": null,
      "_view_module": "@jupyter-widgets/controls",
      "_view_module_version": "1.5.0",
      "_view_name": "HBoxView",
      "box_style": "",
      "children": [
       "IPY_MODEL_cd1b01a73dcf425490c72e34039227b2",
       "IPY_MODEL_2c5bb03230af464785aa2b5c79e541e0",
       "IPY_MODEL_1c89e2291eed4ee0b0c081a0d8d6d380"
      ],
      "layout": "IPY_MODEL_70de839319004aafa921effdeacd71da"
     }
    },
    "ecf155715dc94779ac72e4096776979f": {
     "model_module": "@jupyter-widgets/base",
     "model_module_version": "1.2.0",
     "model_name": "LayoutModel",
     "state": {
      "_model_module": "@jupyter-widgets/base",
      "_model_module_version": "1.2.0",
      "_model_name": "LayoutModel",
      "_view_count": null,
      "_view_module": "@jupyter-widgets/base",
      "_view_module_version": "1.2.0",
      "_view_name": "LayoutView",
      "align_content": null,
      "align_items": null,
      "align_self": null,
      "border": null,
      "bottom": null,
      "display": null,
      "flex": null,
      "flex_flow": null,
      "grid_area": null,
      "grid_auto_columns": null,
      "grid_auto_flow": null,
      "grid_auto_rows": null,
      "grid_column": null,
      "grid_gap": null,
      "grid_row": null,
      "grid_template_areas": null,
      "grid_template_columns": null,
      "grid_template_rows": null,
      "height": null,
      "justify_content": null,
      "justify_items": null,
      "left": null,
      "margin": null,
      "max_height": null,
      "max_width": null,
      "min_height": null,
      "min_width": null,
      "object_fit": null,
      "object_position": null,
      "order": null,
      "overflow": null,
      "overflow_x": null,
      "overflow_y": null,
      "padding": null,
      "right": null,
      "top": null,
      "visibility": null,
      "width": null
     }
    },
    "f0f2128f2ed046c2a657a0e5e3006760": {
     "model_module": "@jupyter-widgets/output",
     "model_module_version": "1.0.0",
     "model_name": "OutputModel",
     "state": {
      "_dom_classes": [],
      "_model_module": "@jupyter-widgets/output",
      "_model_module_version": "1.0.0",
      "_model_name": "OutputModel",
      "_view_count": null,
      "_view_module": "@jupyter-widgets/output",
      "_view_module_version": "1.0.0",
      "_view_name": "OutputView",
      "layout": "IPY_MODEL_3d7ff1fd2067412393642e95985e6e94",
      "msg_id": "",
      "outputs": [
       {
        "data": {
         "image/png": "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\n",
         "text/plain": "<IPython.core.display.Image object>"
        },
        "metadata": {},
        "output_type": "display_data"
       }
      ]
     }
    },
    "f4340d6e098b48dab03bb28c53092585": {
     "model_module": "@jupyter-widgets/controls",
     "model_module_version": "1.5.0",
     "model_name": "HBoxModel",
     "state": {
      "_dom_classes": [],
      "_model_module": "@jupyter-widgets/controls",
      "_model_module_version": "1.5.0",
      "_model_name": "HBoxModel",
      "_view_count": null,
      "_view_module": "@jupyter-widgets/controls",
      "_view_module_version": "1.5.0",
      "_view_name": "HBoxView",
      "box_style": "",
      "children": [
       "IPY_MODEL_6a2b8c6ef3b040faa36364967ceab8be",
       "IPY_MODEL_0905577fd04e48a38725083035e51988",
       "IPY_MODEL_e79df753b0774fbebac23adca0725aa5"
      ],
      "layout": "IPY_MODEL_13761acfef42482c88c8514b3903fe5c"
     }
    },
    "f57371c691f242fa83a347a3d4fea72e": {
     "model_module": "@jupyter-widgets/controls",
     "model_module_version": "1.5.0",
     "model_name": "DescriptionStyleModel",
     "state": {
      "_model_module": "@jupyter-widgets/controls",
      "_model_module_version": "1.5.0",
      "_model_name": "DescriptionStyleModel",
      "_view_count": null,
      "_view_module": "@jupyter-widgets/base",
      "_view_module_version": "1.2.0",
      "_view_name": "StyleView",
      "description_width": ""
     }
    },
    "f7a254e09c4349eba13396c1cfe19cfe": {
     "model_module": "@jupyter-widgets/controls",
     "model_module_version": "1.5.0",
     "model_name": "HTMLModel",
     "state": {
      "_dom_classes": [],
      "_model_module": "@jupyter-widgets/controls",
      "_model_module_version": "1.5.0",
      "_model_name": "HTMLModel",
      "_view_count": null,
      "_view_module": "@jupyter-widgets/controls",
      "_view_module_version": "1.5.0",
      "_view_name": "HTMLView",
      "description": "",
      "description_tooltip": null,
      "layout": "IPY_MODEL_b5ea81ecdac0433598debc731683c2c2",
      "placeholder": "​",
      "style": "IPY_MODEL_c316c51aa0f7445f8f3b755df9162b08",
      "value": "100%"
     }
    },
    "fb02dbabe19d425b923af49fd9a0c798": {
     "model_module": "@jupyter-widgets/output",
     "model_module_version": "1.0.0",
     "model_name": "OutputModel",
     "state": {
      "_dom_classes": [],
      "_model_module": "@jupyter-widgets/output",
      "_model_module_version": "1.0.0",
      "_model_name": "OutputModel",
      "_view_count": null,
      "_view_module": "@jupyter-widgets/output",
      "_view_module_version": "1.0.0",
      "_view_name": "OutputView",
      "layout": "IPY_MODEL_4ad295dde4b74ca7a1fc1ceb8045fb18",
      "msg_id": "",
      "outputs": [
       {
        "data": {
         "image/png": "iVBORw0KGgoAAAANSUhEUgAAAWgAAAFoCAYAAAB65WHVAABvwElEQVR4nO3dd3wcxd348c/sFfVm9WZLLnKRe8PGHXeMTQcTmoE8eUgjD+SXhFCcBAIJoSaEBEiAUEKxscHGNGNjYxsXDLjJXe5qli1bvd3tzu+PlWSd5CLJd7rTad6vl17S7e3dfkd7993Z2dkZIaVEURRF8T2atwNQFEVRzk4laEVRFB+lErSiKIqPUglaURTFR6kErSiK4qNUglYURfFRKkEriqL4KJWgFUVRfJRK0IqiKD5KJWhFURQf1eoELYR4VQhRKITIOsfzQgjxNyFEthBiuxBi6MWHqSiK0vm0pQb9H2DGeZ6fCfSq+/kR8M82bENRFKXTa3WCllKuAU6dZ5UrgTekaSMQKYRIbGuAiqIonZUn2qCTgWONHufULVMURVFawerNjQshfoTZDIIQYlh7DH0qAF8ZYFXTNAzDaJdt+VK5OyMhBO01tK8v7ev2KrcvlRmQUkq3VH49kaBzgdRGj1PqljUjpXwZeBlACCFramo8EE4jTidi5Upknz7QrZtnt9UCAQEB1NbWen5DOTmwfz+MGwdWrx6TAbDb7d4Ood1JKTl16nwtg+4hCgvRsrPRR470iX3dpUsXjhw54tmN6DqBa9fiTE3F2aOHZ7fVAt26dRPuei9PNHEsBW6r680xCiiRUuZ7YDutl5MDpaWIXbtA170dTfvQdcjOhvJyKCjwdjSKJxkG2sGDUFGBOH7c29G0G8uJE2ilpVizs6E9KjztqC3d7N4BNgC9hRA5Qoi7hBB3CyHurlvlE+AgkA38C/iJ26K9GLqO2L0bYmOhpgZyz1qp9z+FhVBVZZY7O7vzHJg6IVFUBNXVEBuLdvgwOJ3eDsnzDAPrnj0YkZEIXcfiZ9/rVp8DSSlvusDzEvhpmyPylNxcMzFHRkJEBGLPHmRyMlgs3o7McwwD9u41y2y3Q3ExHD8OSUnejkxxNynNpBwWZjZtOJ2IEyeQif7dgUo7cQKtogIjLg5ptWLLzkZPSQGbzduhuUXnuJOwvvYcGWk+DgyEigr/P+Wvrz0HBJiPIyJg3z4zcSt+RZw6ZX6m6/d1eLiZsP35jElKbPv2IcPCzMc2G8LhwJLvGy2q7tA5EnRBAVRWnvnwglmL3rXLf5OVYZgXBiMiziwLCDATdmGh9+JS3K++9hwScmaZzQY1NYiTJ70WlqdpJ0+ilZQgg4IalhkREdj27vWb5h3/T9CGYSbixokKICjIvHDmrxdTTp40yxcY6Lo8IsJM3P56YOqERHExorTU/Ew3FhaGduiQf+5rKbHt348MDXVdbrcjamux+MnZsff74XhaWZl56icElJUhysqQISGgaWbyzs31z3a648dBSjhxwvxdWXmmhiWl+T+pPzVUOjRx4oT5+/TpM/u2LnFJp9M8UIeHezNEtxNVVWjFxUhAVFailZcjg4KQFgsYBpa8PLMtuoMT7dV5/kI82g+6ouLMdtatQ/bsCQkJ5gK73WsXFDzaD9rhMH/ATNKHD8OIEWeeDw72zHZboDP2gwY81w/a6WzY16KkBO3wYfRBg848HxhoVlC8wJP9oEVlZcPfARs3oicn40w1b8GQVqv53faCbt26IaV0yz/c/2vQACEhnKqCfacE1nxBdXgg8VGhpEdKrP7ayGOznTnw1H9QvZiUFQ+yWs/clFJVZf5u2tzhh2STz7O02Zot6+j8PkGX1MAn2Ro7T5oHtIwTguOhGiW1GqE2mNHDYHC8b5xFKIqiNObXCTq/HF7bZqHyHBd0yx3w/h6NIyWSOb0Mb50FKoqinJW/nuBzvAJePU9ybmxzvuCj/X77r1AUpYPyy6zkNGDBLo2qVnSF/CZfsKNQVaEVRfEdfpmgN+QKjle2Ptl+nK3h8OMbrxRF6Vj8LkE7DVif07ZilTvg++OqFq0oim/wuwS9o1BQdhFdize0MbkriqK4m99lo/2nzl8DlhYL8jzdNU5Wwakqd0flZZpm/ij+T4hOua+lEH45MmXH3JOVleccX+Bg8fkT9OF+l1LW5fy3dp/zPaqqvDauQUl1CV8f/bptL46NhWHD2vZaKc/c/KC0D8No8/9cRkai9+/fptdWOapYe2xtm17rDqKyss2j79VecgnONt7aLSoqfHZwpY6VoCsqYPt2xMcfw1mGFDxeYbYjn48jKAR5gRrGwdNnT9BiwwbE2rVnxrloB5WOSn71xa/o9nw3pr09rW1vomltv4vw+HFYuRJ271aJ2tOkRBw/jnXdOqzr1rWtMiBEm/f1Yxse4+oPruaSNy9h5ZGVbXqPthBVVdh27CDo44+xHj7cpveQwcFtrkEHffEFwR98gPXgQZ8bnrVj3KhSVQUHDiCys83bl63WsybIvDL3XODLKz/H+9TWQmgo4vvvISzMnNswOtoj4xxUO6p5fN3j/P27v1PjrEFDw5BeGpXMaoW8PDh6FNLSzPkcm46Sp7SdlIiiIix79iBKSjDCwhBeqNEZGAghOFR8iB8s/QEZ0Rn8efyfGZMyxiPbE9XVWA4exL5vH1LTzPEzvMHhAKuVwLVrMbZupWb4cHOgJR9oKvLtBF1dDQcPIvbvN/9ZMTHmUfIc4xnXuOngV32+70ZQkPlTWYnYvBkiIpC9e0OXLm5J1A7dwTMbnuGpTU9R6ahEILBpNjM5e+uOdCEgKsqs0R07Zg681KMHpKa6jrGttJo4dQrL3r1w6hQyNBQZF2c+0WiAr3aNB4HNYkNKyd6ivVzz4TUMiBnAkxOfZEjCEPdspKYG6+HD2PfsQQJ6ly5gsaB5cexqGRiIHhqKqKwk8MsvkVFR1Awdip6c7NVE7buj2R07ZtZUhTCTX+PTl7y85uM7axrrkkfzaUGT8WHbIMACD8ftbj7xZnFx8+miKiqQZWWImBjk8OGtOs1qOppdflk+Q/41hLLaMgBs2plR9gxpUGvUYhWux9SB8QNZf8f6Fm/zvKqq4Pvvm5+dlJVBfPyZx7oOp0+bf2dmQnJyqzajRrMDdB3Lt98iCgvNGUEaD7YPaHl5GPUzANWRsbEY/fq5JZZv87/likVXNFuuSx275cz+MaSBbugg4OpeV/PS9JdatZ2mo9lp+fkEbN6MMAz0qCiXmce1wkIIDna9iC8ENZdcgnTTcKm2rCxs2dkuy7TiYvT4eJdYREWFuTw6muqpU5GtOGPsHKPZBQY21FRxOl0Tn6aZNbfGI3ZZLEjNjVdxQ0Kaj6FbVub6WEqorUVYLOaX7CJr0AGWAJLCkthbtBcpJYY00MSZo7dA0CWoi8tr+kT3uahturBYzGnBGrfDVVc3L5fTaa4TEtIpRk3zCCGQ4eGIoiJETY05K0jjmprFYo7X3eh/L904fndUUBTJoclUOs8M2VlSU4Ium5yG1h2rrZqV7uHdL37DAQHIoCBEaSnC6XRt1hACabdjND5YaZpbhwM2wsLQIyNd/q+ivNx1JSkRNTUgBEaXLhe8ZuVJvluDBjMJ5OWZM6JUVpqn2QEBUFiIHDYMmly13ZQr+Cj74v+Z4Xb49ejm7SXis8/MHhFSQkkJ1NYiU1MhPb1ZDaglzjUe9CfZn/DrFb/mUPEhpJRYNfND7DAcVP22nS/UFRTAtm1muWtrzbOIwEDo3dusVbfhw6tq0I1UVKAdPIh27BjYbMiICBACcfIkzunT2/X0+oE1D/Dvbf/GZrFhGIZZQdA0rul1DX8Y+wdigmNa/Z5nHQ/aMLAUFGDbsQOtogI9IgICA9FOnsTRvz/OHj3cVKKWCV640JyZxWJBKy5GVFXhSEvDMXAgRlRUq9+vc9SgwaxFpKYik5IgJwexc6eZIM5xASXITQfaIOt5DlolJVBdbc4I3qNHw8wV7nR5z8u5vOflfLDnA3698tfkleUhvdYAjfn/Liw0D479+0Niol/2OfWKkBCMAQMw0tPRDhxAy8kxx+/2UsVJInHoDjRNY1aPWfxp3J+ID42/8AtbQ9PQk5LQ4+Ox5OZi37kTUVLi1R4UWkkJoroaR9euOAYNwoiO9losjXn/MmVLWCzQrRty2jTkoEFmDe4sV3xTwlw/1DnHcli4cCEL3lvAtm3bmq1v6DpfrvySBe8tYOmSJZTXNWGk1LVsHD16lC5duvDMM8+YC0JDkZGRyLFjYdAgjyTnxq7uczV7f7yXl2e9THxwvEvb4Pl8/vnnZGZm0rdvX/7yl780e76mpoYf/OAH9O3blzFjxnC4Sdemo0ePEhUVZZbbYjETc79+MG6cedaikrP7hYZiDBqEc9w4MzmEhFywyWzFihWMHDmSYcOG8dxzzzV7fv369UycOJHY2FiWLFnSsHzHjh1MmzaN0aNHM3bsWBYvXgxAREAEmtCYmjaVb275hldnvur+5NyYxYLetStVU6dSM2yYOWVVC5ozVq9ezaRJkxg/fjz/+Mc/mj3/r3/9i8mTJzN9+nRuuukmcnJyANi5cydXXXUVU6ZMYfr06Xz00UcAyJAQjC5dqJw1i5rLLvOZ5Ay+3sRxLrp+ziTx9EYLp2tAGpKFCxcwc+ZMQkJCWbLkQyZNuozsqtfp1eUqIgK7sXvXLk6dOsWYsWM5eOAghw8f5rLJl3F9H4NB8ZK5c+cihGDEiBHcd999591uW7RmyivDMCiqKiI2JPa86+m6TmZmJp988gkpKSmMHj2aN197jX7dujVcWH3xxRfZsWMHL7zwAu+99x5Llizh7bffbniPG2+8ESEEI0eO9Ei5VRNHC1zgf67rOiNGjGDx4sUkJSUxefJk/vWvf9Gne3fzwmNKCkePHqWsrIy///3vzJgxgyuvvBKA7OxshBD06NGD/Px8LrvsMjZu3EhERASFFYXEhcRdbFEbtGrKK6fzrBWvxnRdZ+LEifz3v/8lISGBOXPm8Le//Y3NxmZGJoykV2Qv1q9fz5AhQwgKCuLNN99k48aNvPDCCxw8eBAhBOnp6Rw/fpxZs2axcuVKIkJCzP+1m7rLurOJo2PUoJs6zwe3e5R5wDlx4gTh4eGEhYejWTS6d+/BkSNH+OrI/WzM+RMAR44coVevDADS09PIy8sDab7HkiVLSEtLo1/jq+ZerDlqmnbB5AywefNmevToQffu3bHb7dxwww18uXAhZGU1rPPRRx9x6623AnDttdeyatUq6g/US5YsIT093WfK3Wld4H/+3XffkZ6eTlpaGna7nWuuuYZPP/0ULTcX24oVAHTt2pXMzEy0Ju3YPXv2pEddO29iYiIxMTGcrOvi5s7k3Got6Ae9detW0tLS6Nq1K3a7ndmzZ/PFF1/wu02/45FvHgHg0ksvJaju4vWQIUPIr7uprXv37qSnpwMQHx9PTEyMedC0Wr02Z+OFdMwEfR59os1EU1FZQUijJoiQkBAq6vqWSoy6dSoJqbu4JzQNu91GlKUCUVvO008/zUMPPdTO0V+83NxcUhpdPE1OTqagyRT0jdexWq1ERERQVFREeXk5Tz31VIcsd2eTn59PcqPujUlJSQ2JqDW+++47amtrGxKXrysoKCAx8cxQDYmJiQ2f77O1Brz33ntMnDix2fKtW7dSW1tLt27dPBarO/j2RcI26BMtiQmCQ218/cj4Gh599HHuueceQj3cxuxrHn300U5Z7s6qoKCAH//4x7zwwgvNatn+YPHixezYsYP33nvPZfnx48e59957efrpp32+3H6XoIWA8V0Ndh0OoaJR/8aKigqzttyol1pIcLC5PDQEaRjUnM7j0p7h/G7zZj744AMeeOABiouL0TSNwMBAfvKTn3ihRK2TnJzccFEEzNpyQkLCWddJSUnB6XRSUlJCdHQ033zzDYsXL+6Q5e5sEhMTyc3NbXicl5fnUrO8kNLSUubOncuDDz7IiBEjPBGiRyQkJLicKeTn5zf7fAOsW7eOv//97yxYsICARne7lpWVcccdd/D//t//Y+jQoe0S88Xw7cNHGw2Jl4zsFU1JaSllpWUYusHBgwfo1q2ry3pdu3Vj//59ABw6dIhhQYexaIIvv/ySffv2sW/fPn7+85/z61//usMkqeHDh5Odnc2hQ4eora1lwYIFTJ061WWdK664gjfffBOARYsWMXHiRIQQrFq1iv3797N//35+/vOf85vf/KbDlLuzGTp0KAcPHuTIkSPU1tayePFiZsyY0aLX1tbWctttt3HjjTc2XDjsKAYNGsShQ4c4evQotbW1fPTRR80+31lZWfz2t7/llVdeISbmTN/t2tpafvSjH3Httdcya9as9g69TfyuBg1mLfrGfrBl7HA+++wzpDTIyOhNZFQUUkrK62rWvTN6s/qr1Sx4bwERx9fx3pM/93LkF89qtfLcc88xa9YsDMPg9ttvp3fv3rz6wAPEnjrF7NmzueOOO5g3bx59+/YlKiqKt956y9thK61ktVr5y1/+wnXXXYeu69x888307duXf/7610wyDDKA77//nltvvZWSkhI+++wz/vznP7NhwwY+/PBD1q9fz6lTp3jnnXcAeOGFFxgwYIB3C9UCVquVRx55hNtuuw1d17nhhhvIyMhAX6dTVFQEwOOPP05lZWVD5SIpKYlXXnmFZcuW8c0331BcXMz7778PwFNPPUVmZqbXynMhHbObXQuV1MBr2yycbNSs8fSGIDJjb2VGz5fN7QIzehiMSWn//0NrutldlOPHITsbxnhmVLLWUt3sPEc7dAjrV19RO2+ex7fVEq3qZncRer7ek1EJo3hruvcrG53nTsKLFBEAPx2m89VRwfpcjdomNyqlhktm9TAabkxRFEXxJX6doAFsFpiSLpnYTedwCTy7AbpHwv+7RCdSDWmsKIoP8/sEXeWo4p/f/bPhsRCQV7aDV7eat28Pjh/MZemXeSs8z6mqgvomo8q6EcuKi888Xzcoj+IHSksRpaWAOb40gGjUk0f64dgpuqHz6q5XXSaxOFJ6hJd2mMOh9ozsyeTUyd4Kz238ug0a4J2sd7hz2Z0NI8I5dScWzYIQAt3QSQ1PZe9P9rp9uy3h0TbonTvNwfXrB96prj4zNKjTCaNHm8NZeoFqg3Yv64oVWLZtM4csBbSyMoy6fStqaqidO9dM0l7gqTbotblruW35bWe+14YTi6j7XkudiIAItty0xe3bbQl1q3crXNf3OsLt4eawncJKoDUQm2ZDQ0MTGncPvdvbIXpGcrJ5C2t0tDkTTUqK+XdQkPlb3YziN/TMTLDbkUlJyKQk9N69zb/DwzESEpDxHhzwyEvGJI4hNii2Ycx0u8WORbOgCQ0NjRt63uDtEN3C7xO0zWLjnhH3NFuuS51QWyg/G/EzL0TVDiIizPGzKytdl1dUmONXq+YNvyETEjBSUhCNm7Comynkkkt8Ym49d9M0jV8M/gVCCJdbvA3DwGqx8vPBHb/LLHSCBA3wy1G/JNAaiNNwHUf6FyN/gc3ivtkafIoQ0L2769x2VVXmLDFtGIRc8WFC4BwxAtF4xp+KCmRkJIaPjzVxMW7KuIkwe5jLLDASyQ29biDU5h9niJ0iQQfaAvnfof/bMOi903ASaA3k3kvu9XJkHhYZadakq+o6gpeXm0lb1Z79jkxOxkhIOHOx8PRpnKNG+d3FwcY0TeMn/X/SUIs2DAOLZuGXQ37p7dDcplMkaIAHxz6I3WJHN3Qkkp8M+wmBNj/vZ1dfiy4vNy8Shoaa7c+K/xECfdQoc2aSqioIC8NIS/N2VB43r988gq3BGNLAwODqHlcTERBx4Rd2EJ0mQQfbgrlj0B04pRO7xc79Y+73dkjto0sXMzGfOmVO0aVqz37LSE7GiInBkpNj1p5bML5yR2ez2PifzP/BwKw9/2rYr7wdklt1mgQNMH/cfIKsQdw56E6CbcHeDqd9CGEm5pgYVXv2d5qGPmoUenIyRnc3zMDdQfzvgP8l1BbK5d0uJzrQvz7jft8P2pe121gcPkb1g+482mssDl+i+kEriqJ0AipBK4qi+CiVoBVFUXyUStCKoig+SiVoRVEUH6UStKIoio9SCVpRFMVHqQStKIrio1SCVhRF8VEqQSuKovgolaAVRVF8VJsStBBihhBirxAiWwjRbFg4IURXIcQqIcQWIcR2IcTlFx+qoihK59LqBC2EsAAvADOBfsBNQoh+TVZ7CFggpRwCzAX+cbGBKoqidDZtqUGPBLKllAellLXAu8CVTdaRQHjd3xFAXttDVBRF6ZzaMqJ3MnCs0eMc4JIm6/weWC6E+DkQAkxpU3SKoiidmKemXLgJ+I+U8mkhxGjgTSFEfyml0XglIcSPgB/V/U1AQICHwvFdnXFs5ICAADrj2N9dunTxdhjtLiAggG5+PHHt2Qg3zlrUlgSdC6Q2epxSt6yxu4AZAFLKDUKIQCAGKGy8kpTyZeBlMAfsr6qf3NSDxP79yIQECAvz+LYuJCgoyNsheEVNTQ2FhYUXXvEiWXbtwkhMRPrALOZxcXHk5OR4fkO1tYiyMqSPzJ6TkpLCvn37PL4d+9696LGx6D5wEMzIyHDbe7WlDXoz0EsIkS6EsGNeBFzaZJ2jwGQAIURfIBA4cTGBukVJCWLbNsT+/d6ORPEwUVyMdfNmrNu3ezuUdqWdOoWloODMTO6dgFZWRuC33xKwdSv4yAxR7tLqBC2ldAI/Az4HdmP21tgphHhECDGnbrVfAv8jhNgGvAPMkz4wt5bYvx8ZFobIzYW66ekV/2TZvRsZEoKWm4voLFNN1dailZQgg4LQOkuZAfu+fcjgYCwnTmApKvJ2OG7Vpn7QUspPpJQZUsoeUsrH6pbNl1Iurft7l5RyjJRykJRysJRyuTuDbpPSUkReHkREIG02xIED3o5I8RBRWorl0CFkVBQyMBDrzp3eDqldaMXFYLFAYCBaeTlUV3s7JI8T5eXYDxxAj4xEBgdj37XL2yG5Vae5k1AcOIC0281ZriMjEceOQXm5t8NSPMCyZw/SZgNNQ0ZGoh07higu9nZYnuVwIE6fRtZd15A2W6eoRduzs5EWC2gaRlgYtrw8LH5U7s6RoMvLETk5EBlpPhbCrEUfPOjVsBT3E+XlWA4cQNZfLBICGRCAZfdu7wbmYVpxMULTzAoImLXosjLw494yorKSgP37z1wYFAIjKAj7nj3eDcyNOkWCFgcPIq3WMx9eMGvRR45ARYX3AlPcTtu719zX2pmPtoyKwnL4MMJfrzs4HIhTp5DBwa7LrVa006e9E1M7sGdnIzXNZV8bERHYjh0zm3v8gP8n6IoKs6asaVBScuanrMzsknTkiLcjVNylogLr7t2gaYji4jM/JSVQU4PFj2pWjYnSUoTTadaWq6sbfqQQZoKurfV2iG4nqqsJ2LULNA2tpAStuNj8XVoKDgcBfrKvPXWjiu+w2ZA9epx5nJMDUVEQEoJMTERGRHgvNsW9bDacffo0dLWyHj6MERmJERkJKSk+0zfY7ex2jNhY82+nE1FZiQw3R1qQoaEuNUx/IS0WajIyGva1/cgRjLAwnF26QHIyhp98r/0/QdvtyAEDGh6K48eRqamQnOzFoBSPsNvRhw9veGjJy8NIT0fv2dOLQXmeDAtD1t14JSoqENXVGHFxXo7Kw2w2aoYOPfMwPx9Haiq1ffp4MSj3879Dq6Ioip9QCVpRFMVHqQStKIrio1SCVhRF8VEqQSuKovgolaAVRVF8lErQiqIoPkolaEVRFB/V+RJ0QgKEh194PaXD07t2xfCBGTbak7TZzLsHOxlHt27o9XdT+pGOl6DLyhDffw9tHAxF9u/f5umuxPffw9GjoOtter3SOqKsDMvmzYiTJ9v0en3IkDOj2rXStIXT+MXKX3Cqup2HrjQMtLw8rDt2tG12ELu9zXcRanl5BL3/PlpBQZtefzG0sjKC1q/Hkp/fptfXDBiA3sZb+e179mA9dswnv9cd51bvigrE3r3mwEeVlcjY2DPDh7YTkZ2N2LfPvLV20CBISvLLcQ68rrwcy969WPftQ1RUUBsdjYyJadcQdhbtJOtkFh8e+JCb+tzEg6MeJMzuwXkspUQ7fhzb7t2I8nIQAmdmpusIjB5mOXmSgHXrsG/bRu2gQdRMmHBmjA8PEeXlBOzcSeDOnWjl5ejh4eiJiR7dZlPWY8fQqqow9u6ltm9fnAkJ5sQHPsD3E3RlJWL/fkR2NtJqRcbFwQkvTm+YmIiorkasXYuMjDQTdWJiu36R/FZlJZZ9+7Du2WMOwB4Xh+bFfW0RFnRD582db/LunneZlzmP34z8DUE2N072KyXayZPY9uxBlJRghIUh4+O9Vm4ZHo6elIR1925s27ZRO3QotRMmuL2pSFRWErBrF4FZWUghcMbFYfFiZUePiUHoOgFbtmAPCaGmb1/0uDivV8B8N0FXVyMOHEDs3YvUNLMG1eioJqqrkU2bOSIi3Jcoq6rOPWVQUBAkJ5sD06xZg4yORg4cCHFxKlG3RVUVlv37sdYNH2k03ddVVYgm4xrLyEi3/a+3n9jOvtOuM09LzOYFi2bG4TSc/Gv7v3hj1xvcPfBu/m/4/2G32C9qu1pREdbdu9FOn0aGhTVrmhClpS5llHa7+dlzBynN5oRGzSha/XjZmoaMj0caBvbt2wnYsoWaSy6hZswY8/9+EUR1NQG7dxOwbRsAzib7WquubjavoB4V5bZEKWpqEE0nMaj7H8iAAGRcHKK6mqDNmzHCw6np08dM1F76XvtsghYHDyK++w4ZHw8hIa7PORzIffsQjadz1zTkqFHmUKLu2P769Yimg/k33bEhIRAUhDh2DFFWhjFrFgQEuGX7nYnl0CFsmzZhxMc3jMrWwOnEsm8flib72nHppWYzlxtct+Q6yp2u058ZhtGQnMFM1IZhUOmo5Lnvn2N6+nQGxQ1q+0adTmzffWee1icmNjulFjU12L/7zmWZtNupHTeu7dtsRMvPJ/itt5q3uzaeDVzTMBITEWVlBH3+OQDVs2Zd1HZt2dkEr12LMy6u2ZCgQtex79uHff9+l+WVEyfidFOzR0BWVrNJDLTKSvRGnzsZGIgeEIA1P5+g776jYuLE5pMhtBPhA5NtAyCEkFWNPxyGAXl5iKwsRFkZMioKAgPN544fRw4f3nzIUKsbjzeGYf40oi1eDPHx5tHUMODUKXA4kD17Ivv0aXYguZAgd9WGOqDCwsIzD+ovjG3dilZaataY6va1dvw4zuHD0dPSXN/Ajfu60lFJucM1QQ95YwgaGpqmYRgGTulEQyM9Mp3Hxj7GhNQJrdpGXFwcOTk5LstEVRWWgwexHjoEVqs5bnVdTVE7cYLqqVNda45NZg+5aE0qHLadOwn+8EP0lBRzQVUV2okTyPBwqqdNw9G/f6v/7ykpKexrfHA1DKw5OQRt3ozl9Gn0qKiG5Gc5fpzqoUOp6dvX9U1stlYX7ZykbHZQCl61ChkSYpZNSrSSEkRtrTl8aY8ere4Vk5GRgZTSLVVun61Bo2nmIOuJici8PMSOHYji4jNX5TXNvQn5bNs/25dBSjMx19Yi09ORffu2uVeIUkfTMFJSqE1KQsvJwbplC6K4GKPubEh6eF8H24IJtp29huTQHQgEqWGpPHLpI8zoPsNt25VBQTgzM9HT07FkZ2M9etTsJlffjNBk6i63a3q2V/8/rqlBKyyE4GCqrrwSx6BBYL+45pwGmoaza1fKkpOxHTtG4DffYM3NbeiBITXNvQm5KSHO+VnSSkoQ1dU4kpNx9OqF4QPfa9/vgmCxQGoqcvp0jBEjzN4cLZyNe/ny5QwcOJDMzEyefPLJZs/X1NRwyy23kJmZybhx4zjSaPqrHTt2MGHCBIYOHcrw4cOprm+PLihAJiRgzJiBHDlSJWd30jSMrl2pveIKHKNGmW3PZWUteumXX37J6NGjGTlyJH/729+aPb9hwwYmT55MYmIiH330kctzCQkJTJo0iUmTJnHrrbc2LNelTnxwPC9MeYFvbvnGrcm5MRkcjHPgQGomTsRISDAvELbhzHbVqlWMHz+eMWPG8Pe//73Z8y+//DKTJk1iypQp3Hjjjc1q9ACibtqo6ssvp/Tee3GMGOG+5NyYxYIjLY2ya6+lYuJERE0NlhbOGblmzRqmT5/OlClTeOmll5o9/+qrrzJz5kxmz57NbbfdRm5uLgAbN25kzpw5DT/9+/fniy++MMM5eRI9KorK8eOpGTrUJ5Iz+HITx7k4HJCbC7Gx521S0HWdAQMG8PHHH5OcnMzYsWN5/fXXyeid0dC2+NJLL5GVlcXzzz/PggULWLp0KW+99RZOp5PRo0fzyiuvMHDgQIqKioiMjMRy7Jh5IdJN7dyqieMCnE60o0eRcXHnPc3UdZ1Ro0axcOFCkpKSmDZtGi+99BK9MzIaLu4cPXqUsrIy/vGPfzBjxgxmz57d8Pq0tDQOHz7s8p73rbqPEQkjuLH3jWhuqMWerYnjXERpKVpJCXpqaovfX9d1xo8fz9tvv01cfBxzZs/hhRdeICMjo2Gdr7/+mqFDhxIUFMQbb7zBhg0b+Oc//3lmu8XF2PbupXbgQLddjGzWxHEuDge2w4fRY2IazpzORtd1pk2bxmuvvUZCQgLXXnstzz77LOnd0xu+1xs3bmTQoEEEBQXx9ttvs2nTJv7617+6vE9xcTFTp05lzZo1hJ4+jQwKOu92W8OdTRy+X4NuymaDtLQLtvdu3ryZHj16kJ6ejt1u5/rrr2fZsmVEPxPN3zabNaxly5Zx8803A3DNNdewevVqpJSsWLGC/v37M3DgQACio6OxWCzmdt20E5UWsFoxune/YBvg999/T3p6Omlpadjtdq6++mo+++wzbKtWIY4fB6Br165kZma2ONk+M+kZbup7k1uSc2vJ8PBWJWeArVu3kpaWxsbqjWS+ncmVV17J8uXLXdYZM2ZMQ6Vg6NCh5De5KURGRlJ7ySXu6ynSGjab2axwge/X9u3b6datG127dsVutzNr1ixWrFjBiPdH8Jfv/wLAqFGjGso5ePBgjtd9Bhr77LPPGD9+PEFBQehJSW5Lzu7W8RJ0C+Xl5ZFSf7EDSE5OJjc3F0Ma7D65u9k6VquV8PBwioqK2L9/P0IIZs+ezejRo3n66ae9UgalZQoKCkhudME4MTGR/Px8s7960544Z1FTU8PUqVOZOXMmn3zyiSdD9Zj8/HwSExM5WHIQiSQhIaFZAm7snXfeYdKkSe0YoXscP36chISEhscJCQkcP36car2a3cW7m62/cOFCxo8f32z5J598whVXXOHRWN3Bdy8SepHT6WT9+vWsW7eO4OBgZs6cydChQzvkB1q5sO+//57ExEQOHz7MtddeS9++fUlPT/d2WB6zaNEitm/fzvvvv+/tUDxqyZIlZGVl8d///tdleWFhIXv37mXs2LFeiqzl/LYGnZSU5NLml5ub61LLarqO0+mktLSU6OjohjbrmJgYgoODmTFjBlu2bGnX+JWWS0hIaLgQBGdqky1Vv25aWhqXXnopWVlZbo/R0+rPGuoVFBSc9X+wdu1ann/+eV577TUCOmCf/fj4eAoajRVSUFBAfHx8s/W+/vpr/vnPf/Liiy9ib3KR89NPP2Xq1KnYPNlbxE38NkEPHz6c7OxsDh8+TG1tLQsXLmRWk072s2bNaji6Ll68mAkTJiCEYOrUqezcuZPKykqcTidr166lb9O+mYrPGDJkCAcPHuTIkSPU1tbywQcfMH369Ba9tri4mJq6/sBFRUV88803LhfWOopBgwZx6NAhSktLQZq1x6lTp7qsk5WVxf3338+rr75KTDuPbeIuAwYM4PDhwxw7doza2lo+/vhjJk+e7LLOrl27mD9/Pi+++CLRZxlAadmyZR2ieQP8uInDarXy7LPPMnv2bHRd5/bbb6dfv37oS3WOHT0GwLx587jzzjvJzMwkKiqKN998E4CoqCjuuecexo4dixCC6dOnM3PmTG8WRzkPq9XKn//8Z2688UZ0XecHP/gBffr0YfFTTxE1bhxjundny5YtzJs3j5KSEpYvX85f/vIX1q5dy759+/jVr36FEAIpJffccw+9e/f2dpFazWq18uijj3LPkntwZDqYPXs2vXv35sknn2TQoEFMmzaNP/7xj1RUVHD33XcD5nWZ1157zcuRt47VamX+/Pncdddd6LrOddddR69evTC+MSg6Zd4i/sQTT1BZWck999wDmGfKL774IgA5OTnk5+czcuRIr5WhNTpeN7uLFP5kODf3v5l/zvznhVf2MNXNzrPsn3yCs08fjO7dPb6tC2lNN7uL8adv/sTLWS9z6M5DHt9WS7S4m91F6vdOPy6Jv4TXLvP+Aadzd7NTFEXpJFSCVhRF8VEqQSuKovgov2+DXn1kNTcuvrFhfN8KRwUWYSHQao6WNiBuACtvXun27baEaoN2s8pKbBs2NIxWJkpKIDAQWdedzEhIQK+7O7S9ebINeu4nc9lSaHYDdUgHTt1JkNX8bGlC4/mJzzOl2xSPbPtCPNUGvevULm5beRu6NPd1lbMKTWgEWMx93TW0K0suX+L27bZE5xjNzk1ig2OpdFaioSGEwKaZfR9r9VqchpMQa+uGCFV8mNVqDk0bFARWKzI6umHQIa2oCKPRnaX+JNQWSrVejVVYEZifcafhRCLRpU5ssP9NptolsAtVehVIEAismhWkOfqgUzqxWXy/j3NL+H0TR2ZsJqOTR2NgoAmt4QfM2sUTlz3h5QgVt7Hb0fv2RauoMIfStNvN31YrWK3ofnp34EOXPIRFmAMFaZrW8GNIg4HRAxkUexETC/iohOAEJiZORCLN8gqzzEIINKFx/5D7vR2iW/h9ggb4y2V/QSAw5JkB+HWpMzplNH1j1Q0o/kRPS0MKAU5nwzJx+jTOjAzvDALUDtLC0xiTNAadMwPRG4YBAh4e9bAXI/Os+4fej8Dsv17PKZ30iujF8LjhXozMfTpFgh6cMJghCUPQDfMDbEgDgeCJSar27HcCAtD79DkzrZGuIwwD3Qf6QnvS/FHzzUpI3SxAutTJiMxgZELHuCGjLVLDUrk04dKGdmgpJQLBb4b8xsuRuU+nSNAAf57054a7xXRDZ2jCUAYnDPZ2WIoH6GlpZq1K1xHFxTh79AAvzSnXXnpF9mJE3Ah0qWMYZgXk4Uv8t/Zc7zdDf9NQi3ZKJ2lhaVyaeKm3w3KbTpOgR6eMJjMmE4fhQAih2p79WVAQekYG2qlTCIcDvUcPb0fULuaPmo8QwkxUEWmMS3bPBLO+rGdET4bFDcMpnQgE9w2+z9shuVWnSdAAf7rsT0gkmTGZXJJ8ibfDUTxI794dnE6c3btDKyf97Kj6x/RnYPRApJTcP8I/LpK1RP0FwaSQJKakeKc7oaf4fTe7xiZ2m8i9I+/l6t5XezsUxdOCg6kdNw7pI3PLtZfHxz7Oov2LmN6tZaP5+YN+Xfrxk8yfMCJuhLdDcTu/v1HFl6kbVTqP9hosyde012BJvkQNlqQoitIJqAStKIrio1SCVhRF8VEqQSuKovgolaAVRVF8lErQiqIoPkolaEVRFB+lErSiKIqPUglaURTFR6kErSiK4qNUglYURfFRrU7QQogZQoi9QohsIcRZh8wSQtwghNglhNgphHj74sNUFEXpfFo1mp0QwgK8AEwFcoDNQoilUspdjdbpBfwWGCOlPC2EiHNnwIqiKJ1Fa2vQI4FsKeVBKWUt8C5wZZN1/gd4QUp5GkBK2bmGLVMURXGT1iboZOBYo8c5dcsaywAyhBBfCyE2CiFmXEyAiqIonZUnBuy3Ar2AiUAKsEYIMUBKWdx0RSHEj4Af1f3dLuMjBwK1gHGhFdtBYGAg1dXVHt+OBgQAvjLadkBAAHFxnm/58qV9HRAQQEpKSrtsS8M3ygxgt9vJyMjw+HaCAAfgvNCK7UAItwwFDbQ+QecCqY0ep9QtaywH2CSldACHhBD7MBP25qZvJqV8GXgZzAH7KysrWxlOKzkcaJ9+iszMRPrAPHXBwcFUVFR4fDti71607dvRr7wS7HaPb+9CQkJCyMvL8+xGnE4CVq7E2aMHes+ent1WCyQlJbXLwPWiogKtpAQ9IQE073fSysjI4Ouvv/bsRpxOYj//nMr0dCr69fPstlpgzJgxbnuv1u7BzUAvIUS6EMIOzAWWNlnnQ8zaM0KIGMwmj4MXF6Z7iKNHERUViJ07wekLx9p24HCg7dgB5eWIQ4e8HU27seTlISoqsO7bBw6Ht8NpH1KilZYinE6Epys7PiQwNxdrWRmhe/ag1dR4Oxy3alWCllI6gZ8BnwO7gQVSyp1CiEeEEHPqVvscKBJC7AJWAb+SUha5M+g2cToRO3ci4+PB4UB0kumHxNGjUFWFTEhA2769cyQrXce6ezdGdDQ4nVg6y76uqgKnExkUhFZcDIavNHR4kK4TtmsXji5dEFISdPiwtyNyq1afA0kpP5FSZkgpe0gpH6tbNl9KubTubymlvE9K2U9KOUBK+a67g24LkZODqK01T/EjIxFZWaDr3g7Ls5xOtK1bkdHRZrmrq82E7ee0/HxEdTUEBCAjI7Hu2eP/Z0xSopWUmPtZ00DKTlGLDsjPx1JejhEYiCMyktDdu83vuZ/wfiNVe9B1RFYWMirKfBwQAFVVCE+3g3qZOHYMqqrM8gIyOhpt61b/TlaGgW3PHoyICPOx3Q61tVj8fV/X1CCcTrDWXVYKCEArLfXvWrRhEJaVhTM8HABpsyGcTgKPHPFyYO7TKRK0yM11SVQAREZCVpb/foB13aw9R0aeWVZ/YDp27Jwv6+i0ggJERQUEBjYsk5GRWHfv9t8zJinRiouRjS8AWyxmxaTKV/ruuF9AQQHWsjKMRr2/HFFRhO3ejfCTpjz/T9CGYSbi+tpzvaAgRHk55Od7Jy4PE7m5UF4OTbouyshIsxbtj8nKMLDu2YNRV6NqEBCAqK5G89d9XVNjJiRrk05Z9bVoKb0TmCdJSWhWFs7QUNfFNhtabS2BflIJ8UQ/aN9SWmrWIqqrobQUysogJORMO11uLjK56b02fuDYMbN8BQVgGIjKSmTjD3NJCXTp4r34PEBUVKCVlyMBysrQKirM2pWmIaXEkpeH0U59kdtTfS254bfDgbTZzCelNC8M+0D3SneyVFRgLSsz/66sxFpejh4YiLRaQUoCc3Op6t7dy1FePP9P0JGRGJdf3vBQ+/JLZJ8+yKQkc0HTWoefkCNHog8ZApht0WLnTowZjW7qDA72UmSeI8PCqJ46teGxfe1a9PR09Pqk7Kf72oiMbDhrEDU1WEpKcDa+Echi8VJknqOHhnLi8ssbzg6iV62iqls3KuuSsvSTfe0fpbiQpnco2u3Nl/kbm838gTNt736YlJtpul9tNv/f10KcScL1N6f4YVJuymjafGezYfjZZ9z/26AVRVE6KJWgFUVRfJRK0IqiKD5KJWhFURQfpRK0oiiKj1IJWlEUxUepBK0oiuKjOl+CtliQbpzxoEPQtE7RL7YZi8Vvb045JyHwwxu7L0hqmt/cnNJYx0zQpaVtHkvCGD8e2nhr94pDKzhRcaJNr71oTqd5m3obyJQUjMmT2/TakuoSPj3waZte6w6irKzN+7p29Gj0+jtGW2ltzloKK70037HTaY6h0QYyIAA9NrZNry13lLMiZwWGlwYQ06qq2ryvT02YQGVaWpteaykr89khSjtWgi4tRWzYgGXxYnMwoLYIDjbvvGqDaxZdQ+8Xe/Ozz37G6arTbdt+a+k64sgRLJ98guWLL9r2HpoGTQaVaamH1zzMDYtvYMC/BrBs/7K2bb8NRFkZts2bCVy6FEtbx7AODm7ztE+3fnYrl7xzCfeuupdTVafatv3W0nWsR44QtmwZIZ9+2vaRFttYk/zb9r/xszU/Y8rSKXx29LO2bbsNtKoqgvftI2rdOgLaOKCVERzc5rPE2OXLSVi0iOA9e8whW31Ix0jQ5eWIzZvRPv4YkZeHDAjwyghdUkqklLyZ9Sa9/tmLX6/8NeU15Z7ZmGEgcnLQPv0UbcMGs8xe+vAIIThacpRblt7CsFeH8eXhLz23rYoKrFu2EPjZZ1hyc88M+tPOJOa+XpS9iOFvD+f+dfdTVtu2M5gLMgysx44R+sknBK9da45r7IXRBiUSIQT5Vfnc9/V9TP9oOl/lfeWx7Wk1NQRlZxO5aRMBx497bV/jdGIEBNBl40biFy0iKDvbZ8ZM9+0EXVGB+P57tI8+Qhw5AvHxEB3t1ZCEEFg1K07DyUtbXqL7P7oz/6v5VDvcNDu3lIi8PLTPPkNbtw6sVmRiosv4xu1NILBZbFiEhexT2Vyz6BrGvD6GDbkb3LeRykqs27YR+OmnWA8fRo+NxejSxasTn9aX25AG7+x+hyFvDeGRDY9Q6XDTTCVSYs3NJfTTTwlZswaEQE9KQnp57BCbZu7ro+VH+fFXP+aKj69g4/GNbnt/UVND0KFDRGzcSGBeHo7ISJwREUgv7mtpt1OTkIAMCKDL2rUkfPghQYcOeX1YXiF9ZKzYprN6iwMHEN98Y562REe7nL6InBxk/YwZjRgTJ0JYmFviGfHaCPYVuc7CrEsdu2Z3mVZdN3QMDIJtwXx/5/ckhbW8zbPZrN4OB9rq1YgTJ8zZX5oM/CKOHj0zK0wdmZSEHDq0FSU7ty8Pf8m1i65FNrnMpEudAMuZyQ6klDilWcO4vs/1/HvWv1u1naazemtHjmDftAms1mZJWcvLM4dJbdwsJQS1Y8cim4773EaXf3A5O4t2uizTDR2bZkNrFItu6BjSINAayPJrlpMWkdbibTSb1dvpJOTLL7EeP44eGYkMCXFZ33bkCHqT4WCdcXFUjR7d8oKdx+bCzcz7ch5NryjqUsduOTM0aeN9PTVlKn8b97dWbafprN62wkLCdu1Capo5E0qj/6/t1CkMu71Zoi4fMAC9yf+nrcK3bCF4/36XZdbSUmoSE11yjFZVhe30aRxRUZyYMaPZwEznM2bMGKSUbumJ4LOXPWVYGCIiwhy3uKbGNVnVtanKxsnYanWdMeUijUsZR63T9cLBwWLXycmllBjSQAhBr6heBFkvsuajaci4OMTp01BZadaaG39Y7XazNt1YGy8InU1qeCp9ovtQ5TwzC0duWS6G7toWakgDgSDAEsCQ+CEXvV0ZGoqMjEScPo2orkY22dcyJMTlgCw1zXX2kIt0ScIllNa6XpQ7Uuo6bZJhGA37Oi08jRDbRSYMTcMZF4elqMgcq7tu3Op60mbDkZjocmDSY2IubpuNJAYn0iuil8u+Pl55vNkFQimleSah2RjQZcBFb9cICsIZGoq1rAytthaj8cw3QpjPN0rGUtMw3Ng7ozYmBq2y0uX/GnzgAEI2qpYYBpaKCqSmUZ2QgPRiDyifrUED5kWSvDy0LVsQ5eVm7TEwEPLzkZdeiuzWrV1jDHsyDJtmtpM5DSdCCPpE9+GpyU8xruu4Vr9fsxp0vYoKxN69aPv3m+1yUVGgaYjjx9FvuOFii9Eq9yy/h9e3v26e6hsGBgY2zcYdg+5g/pj5hAa0/uJj0xo0AIaBlp+Pbft2RGkpRt2+1goLcQwbhp6e7qYStUy3f3dDq2sB1KV5mts9ojuPXvoo41Jav6+b1aDriIoKAvbuxb5nD1itZq1Z07AUFFA6d267NvE89t1jvLXvLWzamX1t1axc2/1afjn4l4TaWr+vm9agAZAS2+nTBB84gKWsDGdYGDIgAGtxMZXdu1PTzpMqJLz3HkZICNJiwXb6NFptLRU9e1I2YADOs5ypX4g7a9C+3QataZCSgnH55RijR5uzUufnt3i+seXLlzNo0CD69+/PU0891ez5mpoabr31Vvr378/48eM50miyyR07djBx4kSGDRvGiBEjqK4225idhhNd6nSP6s7Caxay6Y5NbUrO5xUSghw6FP3yy5GpqYjjx+FUy3sSLF++nMGDBzNgwIBzlvu2225jwIABTJgwoaHc7777LqNGjWr4CQ0N5eTJkxgYOAwHQhPc2v9W9t29j79c9pc2Jedz0jSM5GRqpk+ndswYhMNhzi9YU9Oil69atYqxY8dy6aWX8vzzzzd7fuPGjUybNo3U1FSWLXPtjfLoo48yceJExo8fz0MPPUR9pcUpnRjSIDUslX9P+zerb1jdpuR8PjIkhOqhQymfM4fatDSsx49jKSpq0WvXrFnD9OnTmTJlCi+99FKz51999VVmzpzJ7Nmzue2228it6/m0ceNG5syZ0/DTv39/vqjrISSRDZWPK9OvZPWVq/ndiN+1KTmfkxA4unShZNgwygYMQDMMbCdPorWwq9vGjRuZO3cuN9xwA2+++eY511u1ahVjxoxh9+7dAHzzzTfceeed3Hrrrdx555189913Detai4uxFxRQnZjI8Suv5PTYsW1Kzu7ms00cLiwWZFoaMiUFcfQoYtu2C17x1XWde++9l2XLlpGcnMy4ceOYNWsWffv2bVjnP//5D5GRkWRlZbFw4UIeeugh3nzzTZxOJ3fddRf//ve/GThwIEVFRdhsNgKtgcQFx/GnSX9iTsYcT5cawsKQI0agZ2Qgdu+G4uILvkTXde677z4++uijc5b79ddfJzIykh07drBw4UIefvhh3njjDebOncvcuXMByMrKYu7cufRO7c2nBZ9ybe9r+dOkPxEb7L4mlbPSNIyUFGoSE7Hk5GBt4b5+4IEHePfdd0lMTOTyyy9n+vTpZGRkNKyTnJzMc889x4svvujy2s2bN7N582ZWrlwJwFVXXcWGDRsItAQSHhDOQ5c8xJU9rnR/OZswQkOpHjmS2j59sGdlYb3AAVnXdf7whz/w2muvkZCQwLXXXsvkyZPp2bNnwzr9+vVj8eLFBAUF8fbbb/OXv/yFv/71r4waNYqlS5cCUFxczNSpUxk7dizZB7KxCitTU6bywLAHiA3y/L52xMZSHB2N/eRJgrOzL3izia7rPP300zz33HPExcXxwx/+kLFjx5Le5AyroqKChQsX0q9fv4ZlkZGRPPHEE8TGxnLw4EHuvfdelixZgh4WhsNup3TIEBxe7oTQVMdI0PWsVmT37si0tAue+n377bf06NGjYcddd911LFu2jL5RUeZcfHY7H3/8MQ8++CAAV199Nffddx9SSlasWEH//v0ZOHAgANF1O+3gTw4SFuCei5CtEhGBHDUK2YJ+sd9++y3du3d3KfcnH35oljshAYBly5a5lPuXv/yl2dbYqF1u4cKFXHfddfxu3O+4b+R97V9uiwW9Wzf01NQL7ustW7aQlpZGt7omryuvvJLPP/+cPlFR5lRQAQGkpqYCuFz0A7NXTk1NDbW1tUgpcTgcxMbG8u3wbwmxhjRb39OM8HCqL73U7D1wnm1v376dbt260bVrVwBmzZrFihUr6JWaijU3F0f37owaNaph/cGDBzck5cY+++wzxo8fT1BQED/u/2Nu7X2re2vLLaFp1MbFURsTc8F9vXv3blJSUkiuu9ls8uTJrF27lvWsZ0T0CDLCzYPyv/71L2655Rbefvvthtc2PmCnp6c37PcT06f77J22vt3EcS4t+NLk5eU17EQwa1B5eXlo335rTqTaZB2r1Up4eDhFRUVkZ2cjhGDOnDmMHj2aZ555BsA7ybmxFpY7pVEbXnJyMlUHD6Jt3nzWdRqXu7FFixZx/fXXA14udwvKXFBQQFKjOwYTExPJz8/HumULlgvc+DB8+HAuvfRShgwZwpAhQ5g4cSK9evUizB7W7snZxQUSxvHjx0moO+ACJCQkcPz4caw5OYSsWtVs/YULFzJ+/Phmyz/55BOuuOKKhsftnpwba8H/+8SJE8Q1mm8xLi6OEydO8PKBl/nn/n8CsHfvXgoLC7n00kvP+T6rV6+md+/e2O12n03O0NFq0O3E6XSyfv161q5dS3BwMJdffjlDhgxh0qRJ3g6tXWzevJmgoCAyMzO9HYrHHTp0iOzs7Ib2yLlz57Jp0yYuueQSL0fmPkuWLCErK4v//ve/LssLCwvZu3cvY8eO9VJk7iWRGIbB888/33CGeDYHDx7kH//4B88++2w7Rtc2HbMG3QJJSUkNF0UAcnNzXWpZTddxOp2UlpYSHR1NcnIyY8eOJSYmhuDgYKZPn87WrVvbM/w2S0pKIicnp+Fxbm6uS42j6TqNy11v4cKF3NDOvUUuRkJCgkuvkPz8fBKbdkc8h08//ZShQ4cSEhJCSEgIkyZN4ttvv/VUqG4THx9PQd2ZIJhnEfHx8c3W+/rrr/nnP//Jiy++aNYWG/n000+ZOnUqNm/dwdcGsbGxFBaeGSOlsLCQ2EZdTSsrKzl48CA/+9nPuPbaa9m5cye/+c1vGi4UFhYW8sADD/Dwww+7nGn6Kr9N0MOGDSM7O5vDhw9TW1vL+++/z6xZs1zWufzyy3nrrbcA+OCDD5gwYQJCCKZMmUJWVhaVlZU4nU7WrVtHnz59vFGMVhs2bBgHDhxwKfdll13mss6sWbMaalONyw1mf9/Fixdz3XXXtXvsbTV48GAOHTrE0aNHqa2tZcmSJUybNq1Fr01OTmbDhg04nU4cDgcbN26kV69eHo744g0YMIDDhw9z7Ngxamtr+fjjj5ncZECsXbt2MX/+fF588UWXA3C9ZcuWuTRvdAR9+vQhJyeHvLw8HA4HK1eudDkDCA0N5ZNPPmHRokUsWrSIzMxMnnjiCfr27UtZWRm/+tWvuPvuuxuuL/k6v23isFqtPPPMM8yZMwdd17ntttvo168f7z7+ODEnTnDZHXcwb9487rrrLvr3709UVBRvvPEGAFFRUdxzzz2MGzcOIQTTp09n5syZXi5Ry1itVp5++mmuvPLKhnL36tWLBQ8+SJCmMWvWLG6//XZ++MMfMmDAAKKionj99dcbXr9u3TpSUlKaXRX3ZVarlccee4wf/OAH6Lpu9j7p3ZvFzzxDl7FjuTQtja1bt3LXXXdRXFzMF198wVNPPcXq1au54oor+Prrr7nssssQQjBp0qQWJ3dvslqtzJ8/n7vuugtd17nuuuvo1asXb/7+90yuriYWeOKJJ6isrOSee+4BzDOn+l4sOTk55OfnM3LkSC+WovWsViv33nsv9913H7quc8UVV9C9e3f0/TqnT59/ALNFixaRk5PDa6+9xmuvvQbAc889R1STu3N9iW/fqOIB2rJlyIEDkXVXv73pnDequFl910Rj9myPb6slznqjigfYly9Hz8hAb+MwlO50rhtV3M124AAhq1dTfNddHt9WS5z1RhUPmLBiAkOihvDcsOc8vq0L6Tw3qiiKonRiKkEriqL4KJWgFUVRfJTfXiRsYBhQ2GTqotJSqO+iFBwMbhq20qeUlkJ9+3ZJifm78U0b8fFeHWvZI6REO+E6JZkoL0er2/8yKMh1BEQ/oZ0+jaVuH1tPngTAdvhww/OOlBS/m5vRYTh485DrOBzHKo/x6oFXAegW0o3JCW2b5s2X+NdeO5vSUrSVKxuGIhVVVVBVZXYrq65G9uyJbHRLrL8Qu3ej7dtnjv4nJVRXY1m3znyypgZ91ixzlDw/IsrLsa9ZYw7LKgSiqgqtqgp56BCiuhq9WzccHazXQksEbd5M4JYtGCEhICWWigpC6waE0qqqKLnlFpwt7BfeUWw9vZXXDr6GJs6MOHiy5iSvH3odQxqE28JVgu4QIiORiYmI6mpz8KHGz+XnIxsNLuNPZI8eyEOHzJpyY2Vl5gQIkZFeicuTZFgYenIyWnk5sum+LihA797dW6F5VM3AgQTs3o2ekGDOylK3XCsrw9GlC86z3MDS0Q2LGkaMPYai2iKsmhWLcL1d+6qUq7wTmJv52Tnu2cn+/ZvPiF1aioyNBTcOgu5ToqMhLq55ucvLMTIz2zxxrq9zZmQgmnTXFBUVGFFRGD42Upm7OBMScKSmotU3ZdXRSkqoGjXK/5qyMAe9uqvnXQghaNxV2DDM8cpvTbvVi9G5j//tubOJjUVGR59pkwUoL0f681gTQmD07w/ljSa1LS83R/Jrcuu3P5HR0ejR0Ygm5db79vXbgxJA1SWXoDU6GIvycvQuXXD4QB9wT7k88XLCreEY8swoj1JIrkq+ikCr9+bwdKfOkaCFMGvR9TWM8nIzYbtxuiifFBtrJuS6ZCXKysyk7ceJCkDv0+fMgamqChkejuHn+9qZlIQjKamhFm0pLqZy9Gi/rD3X0zSNed3ngTgz/ZxVWLmj+x3eDs1t/HfvNRUfb85rV1FhNm90gkRVX4sWZWVQUYGMjGzeJu2HjOhojKgoREUFWmkpzj59OsW+rho1Cq2sDFFZiR4RgaMD3a7fVlelXEWINQRDGkgkMxNnXvx8kT6k8yRoIZADB0JhoTm3YSdIVIB5YIqMRJw8aR6U/LhG1UAI9L59EadPI0NDMTrJvnampuKMi8Oam2u2PfvwOMfuYtEs3Nz1ZgwMNKHxP73+x9shuVUn+LY2kpCATEnpHLXnepqGHDAAmZTUfEZwP2bExqInJuLo27dzHJTArEVfeimObt2o7dHD29G0mxvSbiDCHsHUhKlE2Lw/j6A7+X83u8Y0Ddlk6M3OQCYlIZuMhe33hMAxZoy3o2h3jm7dcLTzbPfeZtNsLJuw7MIrdkCdpGqhKIrS8agErSiK4qNUglYURfFRKkEriqL4KJWgFUVRfJRK0IqiKD5KJWhFURQfpRK0oiiKj1IJWlEUxUepBK0oiuKjVIJWFEXxUW1K0EKIGUKIvUKIbCHE/edZ71ohhBRCDG97iIqiKJ1TqxO0EMICvADMBPoBNwkh+p1lvTDgF8Cmiw1SURSlM2pLDXokkC2lPCilrAXeBa48y3qPAk8A1RcRn6IoSqfVlgSdDBxr9DinblkDIcRQIFVK+fFFxKYoitKpuX08aCGEBjwDzGvBuj8CflT3N8HBwe4Ox6cFBgYSEuI/0/O0VGBgIEmdbXxqICMjw9shtDubzcaYTjYut3DjZCBtSdC5QGqjxyl1y+qFAf2B1XWBJgBLhRBzpJTfNn4jKeXLwMsAQghZVVXVhnBaR2zbhuzaFaKiPL6tCwkKCqKystLj23l357u8tOUlVv5gJZoPzC4SHBxMReMZ1j3AMAymvzudmzNvZt6geR7dVkt0xgMxgMPh4KOPPvL4dsIPHKA6OprayEiPb+tCZs+e7bb3asu3dTPQSwiRLoSwA3OBpfVPSilLpJQxUso0KWUasBFolpy9oqgI8d13iO3bvR1JuzEMgwe/epDNeZv5z/b/eDucdrNgzwI25W3i92t/j2EY3g5H8SBreTmRe/cSuXcvSOntcNyq1QlaSukEfgZ8DuwGFkgpdwohHhFCzHF3gO4ksrIgKgqRkwOnT3s7nHaxYPcCTlaeRBMaj61/rNMkq0fXPopAUFxTzH92/Mfb4SgeFHbkCHpgIAHFxQQUF3s7HLdq0/mulPITKWWGlLKHlPKxumXzpZRLz7LuRJ+oPZ8+bSbmyEgICkLs3u3tiNrFH9b+ASklVs3KycqTLNi9wNshedzSfUvJLc/FqlmRUvL4+sc7zYGps7FWVhKSm0ttWBjOoCDCs7O9HZJbeb9Bsp2I3bshKMiczTsqCnH4MJSUeDssj/pg7wfkledh1awIIZBS8oe1f/B2WB43f818pJQIIc4cmPb4/4GpMwo9cgRptYKm4QwJIfDUKex+9L3uHAm6uNhMyPUXBoWAgADEnj1eDcvTfr/m9w2JCsCqWckrz+ODvR94NzAP+vzg5xwuOYxVM69/d6YDU2djqaoi7NgxasPCGpbpAQGEHzjgxajcq1MkaLFnDwQEmIm5XlQU4sABKCvzXmAe1DRRwZlk9bs1v/NiZJ718FcPuxyUwDww5Zfn88Ee/z0wdUahx44hNQ0a9UxyhIYSdOIEttJSL0bmPv6foMvKEHv3mn+fOgVFRebv4mJETc2Z5/zMQ6sfwmk4cRpOHLqj4QfgYPFBPj/4uZcjdL91x9axu8i8ttC4zPX/hz+sU7Vof6FVVxN+8CBSCGylpdhLSrCVlmIrK0NzOgk/dMjbIbqF229U8TkBAchBgxq634gDB5AxMRAejgTzbz90WbfLCLIGAXCk9Ainq08zOG4wYNaku0d292J0ntEtvBvDE4ZjSPOC4NbCrYTYQugV1QuAoQlDvRme4kbSaqW0R4+G73VoTg7OkBBq6vpBO0JDvRid+/h/grbbkYMHNzwUR49CWhqyWzfvxdQOnpj8RMPfP/vsZ7yZ9SZrblvjxYg8LzUilVW3rGp4HPl0JJd1u4y3rnzLi1EpniCtVkp69Wp4HFxQQFVcHGVpad4LygP8v4lDURSlg1IJWlEUxUepBK0oiuKjVIJWFEXxUSpBK4qi+CiVoBVFUXyUStCKoig+SiVoRVEUH+X/N6o0IdPSkD4wm0p7mtljJtsLO88kBfVGJI7gqoyrvB2G0g7KU1Ko9sPvtZA+MgNBi6e8KilB7N2L7NkTunTxfGCNDPrXIIYlDOOJy54gNiT2ot+vxVNeOZ2I3FwoKkIObefblU+eROzZg8zMdNs0YS2e8qq01NzX3btDdLRbtt1SYvducziAhASwWC76/TrrlFdAi6a8Cjp+nKSvvuLk4MGUdPC5G2fPno2U0i0TE3acGnRpKWLPHsSRI1BZaX5x2jlBHzh9gIPFB/lg7wf8IPMH/HHiH4kK8uBRW9chLw+RlYWoqgIh2j1Bi/JytKws5MGDyB49kP37Q0SEZzdaXo7Ytw9x+DCiqgojLg7Zzgma/Hzzs7Z/PzIjA+Lj3ZKoFVeBJ0+S9NVXdNm5E1tFBZWJiR0+QbuT7yfo8nLE3r2IgweRdruZmAsKvBaOVViRSN7MepN3d73LvIHz+MP4PxAa4MbBWQwDCgoQ27cjKirMmmtEBBw/7r5ttIIMDYWEBERurrkfevY0E3WjcXjdoqICkZ1tDgNrs0F8PPLECfduoxVkbCw4HGg7diD370f27g1xcS7DWyptE3D6NIlr1xKzdStYLFRHR7sOB6wAvpygKyvNWlR2NtJqRcbHu3wxRHU18tQp19dERbltJ687uo49RWcf0F8TGprQcBpO/rX1X7y+43XuHno388fNx26xt32jUpqJeedORHGxWZ7ERNd1mpY5MBCCg9u+zabbLypynXizvilCCLOZwTAQR4+aowL27o3s1w8u9vS9qgpx4ABi/36wWpsnwaqq5uWOjHRfoqyuhpoa12X1/4OAAGRcHNTUoG3digwNRfbqZcaoEkqr2UpLSVy7lrjvv0cKYSbmRvvRXlpK2JEjLq8pT0pC2mztHapP8NkELY4cQWzbZibmJkMHCqcTuW8fYt++Mws1DTl6tNvaSa96/ypq9VqXZU3b6y2aBUMaVDmr+Ovmv3LbwNvI6HIRp2cOB9p33yHKy5HJyc1PqWtq0DZtcl0WHIwxYULbt9nYqVNoa9Y0mxlZ1NbSsETTICYGysrQvvsOIyAAOXDgRW1W5OSYyS82tlmtXDidcOgQovH4vkJgjBzptiYusXt3s4kbRE0NLv+FgABkbCyioACyspBjx5qTQCitEr1tG8lr1lDdpQuO8HCX54SuE719O12yslyWH7j2Wkp79mzPMH2GzyZo2acPMjISsWMHIi/P7HkRZI5vLK1WMymkprq+yI01mvxf5KMbusuymGfPjB0tpcRpOBFCMDRhKM9Nfe7ikjOA3Y4xefKZ2qTFYiah+hpGQADGjBkXt43ziY7GuPpql0Xi8GH4+uszCyorEadPIyMj0WfPhqSki96s7NkTPTwcbedOyM9vmNgX6vZ1377Nh4d1476WQ4Y0Oyix6sywpRiGeXFa15G9eiG7dlXJuY0KxoyhKj6e1C++IKiwEEdoKM66M0BpsVBw6aXkjR3r+qJO3PbvswkaISAxERkfj8zPN9tj8/Ndu8h58BTTZrFhs5z9tMqhOxBC0C+mH09PeZqxXceedb02CQpC9u+P7N7dbI/NzjbbYxvPp+hJTd+//nFVlZmYw8IwJk0ya/juamIQAuLjMeLi4PhxtO3bEQUFyPqLkUK0f7nBTNqnT5tnbKmpGGlpDQcOpY00jZKMDEp69CBq715SV6wgqLCwYV5BqWmdOiE35ftXOzQNkpOR06djjBoF1dXmhbMWWL58OQMHDiQzM5Mnn3yy2fM1NTXccsstZGZmMm7cOI40avvasWMHEyZMYOjQoQwfPpzq6moAdKnTo0sPFl+3mE13bnJvcm4sOBg5cCDGtGnIlBQoLGzxS5cvX86gQYPo378/Tz31VLPna2pquPXWW+nfvz/jx49vKPe7777LJZdc0vATEhLC7t27EeXlUFuLMXYsxuzZyNRUz1woEwISEjCmTDH3tcOBaOGckcuXL2fw4MEMGDDgnGW+7bbbGDBgABMmTHAp86hRoxp+QkND2bZtmxnOyZMQF4cxZgyyb1+VnN3JYuF0v37s+OlPOXD11SAEthbu6++++467776bH/3oRyxcuLDZ8ytWrODmm2/mnnvu4Z577uHzz89M71ZYWMjDDz/Mj3/8Y37yk59w3EsX3luq4/WDrut6RkzMeb8wuq4zYMAAPv74Y5KTkxk7diyvv/46ffv0aagtvfTSS2RlZfH888+zYMECli5dyltvvYXT6WT06NG88sorDBw4kKKiIiIjI/nVyl8xKX0Ss3vNdkuZW9wPGqC01GwnTU4+72q6rjNw4ECWLVtGcnIy48aN4z//+c85y71w4UKWLl3Km2++6fI+WVlZ3Hjjjez85hvEiRPmQcLqnhOuFveD1nXzrKlLl/NeCNV1nUGDBvHRRx+5lrl374YDycsvv0xWVhZ/+9vfWLhwIR999BFvvPGGy/tkZWUxd+5csrKyzB4zISHNrn+0leoHfX7C4SB6507Kk5Opjj33PQa6rnP33Xfz6KOPEh0dzX333cevfvUr4lPisWFD0zRWrFhBdnY2d999d7PX//a3v+WGG25gyJAhVFVVIYQgMDDwosrXlDv7Qft+Dbopi8Vse75AbWbz5s306NGD9PR07HY7119/PcuWLUN88UVDbXTZsmXcfPPNAFxzzTWsXr0aKSUrVqygf//+DKy7+BUdHY3FYuGZac+4LTm3Wnj4BZMzwLfffutS7uuuu46V772Htnp1wzoff/wxt9xyCwBXX311Q7kbW7BgAddddx2EhCDT0tyWnFvFYjEPDBfopfLtt9/SvXt3lzIvW7YM7bPPEHl5gOu+PleZFy5caJYZzH7PfjKvXUcgbTZODh583uQMsH//fhITE0lISMBmszF+/Hg2bdrEzVtv5t+5/z7va48ePYqu6wwZMgQwK0juTs7u1vESdAvl5eWRkpLS8Dg5OZnc3FyzO1VdTb3xOlarlfDwcIqKiti/fz9CCGbPns3o0aN5+umnvVKGtsjLyyO5USJPTk6mKDcXamvPuk7jcje2aNEibrjhhvYJ+iKdbV/n5+ebZa47QznXvm5s0aJFXH/99e0XuNJqRUVFxDSa6Dk6OpqioiJ0qXOs6ljD8vXr1/Pzn/+cP/3pT5yo60ufm5tLSEgIjz/+OL/4xS949dVX0XW92TZ8id8m6IvhdDpZv349r732GitXrmTp0qWsanxV38998803BAcHk5mZ6e1Q2s3mzZsJCgrqVGX2VyNHjuSVV17h+eefZ/DgwTz33HMAGIbBrl27uPPOO3nmmWcoKChg5cqV3g32Avw2QSclJZGTk9PwODc316Vm2XQdp9NJaWkp0dHRDW3WMTExBAcHM2PGDLZs2dKu8bdVUlKSeaZQJzc3l/j4+HOu07jc9d5///0OVZM8275ObHKDz7n2db2FCxd2mDOGziw6OpqTJ082PC4qKnLZjwDh4eHY6m5smTZtGtnZ2Q2vTU9PJyEhAYvFwqhRozhw4ED7Bd8Gfpughw8fTnZ2NocPH6a2tpaFCxcya9Ysl3VmzZrFf//7XwAWL17MhAkTEEIwdepUdu7cSWVlJU6nk7Vr19K3b19vFKPVhg0b5lLu999/n8mTJ7usc/nll/PWW28B8MEHHzSUG8xaRkc71R82bBgHDhxwKfP59vXZyrx48eIz7c+Kz+rVqxd5eXkUFBTgcDhYs2YNI0eOdFnnVKO7Tr/55htS6+6X6NWrFxUVFZSUlACwfft2unbt2n7Bt4Hv9oO+SFarlWeffZbZs2ej6zq33347/fr1473HHyfm5Ekuu+MO5s2bx5133klmZiZRUVENPRmioqK45557GDt2LEIIpk+fzsyZM71copaxWq0888wzzJkzB13Xue222+jVqxdvP/ggoQ4HV1xxBfPmzeOuu+6if//+REVFufRmWLduHSkpKaSnp3uxFK1jtVp5+umnufLKKxvK3K9fPxbW7esJPXty++2388Mf/pABAwYQFRXF66+/3vD6jljmzspisXD33Xfzu9/9DsMwmDJlCt26dUMv1BsS70cffcSmTZuwWCyEhYXxi1/8ouG1d955Jw899BBSSnr06MG0adO8WZwL6njd7C52Ox99ZN6F2PTONC9oVTe7i5GTg7ZzJ8b06Z7fVgu0uJvdRdI+/NC86ccHbhNW3ew86+rvrqZ/WH8ezXjU49u6kM7dzU5RFKWTUAlaURTFR6kErSiK4qP8vw26vByxdq05IhkgSkuRQUHmAEQAKSnIQYPcv90W8GQbtNi5E+q6lQmHA6qrkfVDeVosyFGjvHannMfaoCsq0FavNocoBfP2+Eb72khJQQ4b5v7ttoBqg3av/RX7eWDvAxiY32undCIQWIQ50FJ8QDz/yPyH27fbEp1zyqu2stsRlZVmcrJakcHBDUNLisJCM1n7o8BAc1Cp+jFLIiIQUoLTCeXlSPtFTCzgq2w2RFXVmQNw43194oQa7MiPxNhjcErzQCwQWDATs5QSHZ1Qi3/cpu//TRx2uznrR2mp+aW1Ws3fQpiDsKeleTtCj5CpqWC3m+VsVG5ZXm5O3eSPCdpuxxgwAHG2fW21mpPPKn4hyhbFqKhRSCSapjX8AGho/DD1h16O0D38P0EDMj3dvCmh8X33J08i+/Txz0QF5oGpd2/k6dNnluk6Avz2oAR1ZbNYwOFoWCZOncLo29ecHkzxG3cm34lAYNQ1XwLo6KQFpZER4h8Tz3aKBE1goJmM6wfH0XWEpiH9/MYE2bUrAs4cmE6fNufT8+fZQAICMPr3R9TfTabrYBg+0Rdaca/YgFiGRQxraIc2DAOB4M6UO70cmft0jgQN5gwlUppf2Pras7/XqAICkBkZ5oSr9YnKj2vP9WT37mazhtMJ9bVnd02sq/iUu1LuaqhF6+ikBqYyIHyAt8Nym06ToAkKMpPViRPmaX4naY+U3bqZF8pOnjRrkZ3hQllgIEa/foiTJxvmEVT8U2JgIgPCBmBg1p7npczzdkhu1XkSNCB79DDnl8vI6ByJCswDU8+eoOt+36TTmOzZEwwDIyPDnBlF8Vt3pdyFRJIQkMCwCO90o/QU/+9m11hICMZll0H9ZKSdhOzRAxkb27lO84OC0CdPNmeiUfxat+Bu3J58O31DOsaIk63RuRI0mFMZdTaBgf7f3n42CQnejkBpJ9ckXOPtEDyiUzVxKIqidCQqQSuKovgolaAVRVF8lErQiqIoPkolaEVRFB+lErSiKIqPUglaURTFR6kErSiK4qNUglYURfFRKkEriqL4KJWgFUVRfFSrE7QQYoYQYq8QIlsIcf9Znr9PCLFLCLFdCLFSCNHNPaEqiqJ0Lq1K0EIIC/ACMBPoB9wkhOjXZLUtwHAp5UDgfeAv7ghUURSls2ltDXokkC2lPCilrAXeBa5svIKUcpWUsrLu4UYg5eLDVBRF6Xxam6CTgWONHufULTuXu4BPWxuUoiiK4sHxoIUQtwDDgQnnWedHwI/qHwd1lllO6gQEBBDcHoPohwAxwBHPb6qlQjrZLCcBAQHU1NR4fkNBQDxw2PObagmr1crs2bO9HUaH1doEnQukNnqcUrfMhRBiCvAgMEFKec5PpZTyZeDlutfIVsbS4dXU1FBVVeXx7Vy36DqWH1zOd3d9R68u3p+fr7MdiMHc11J6/iM+9/25LNq9iO9/9D0D4r0/eaoQgj//+c/eDqNd3X9/s74TbdbaJo7NQC8hRLoQwg7MBZY2XkEIMQR4CZgjpSx0T5hKWx0rOcYXh77AkAa/XfVbb4ejeFBBeQEf7vkQKSW/XP5Lb4ejuEGrErSU0gn8DPgc2A0skFLuFEI8IoSYU7fak0AosFAIsVUIsfQcb6e0gwdWP4CUEqtm5YtDX3Cs5NiFX6R0SA+seABDGtg0G18d/op9J/d5OyTlIrW6H7SU8hMpZYaUsoeU8rG6ZfOllEvr/p4ipYyXUg6u+5lz/ndUPKWgvICP9n+EJjQ0oWEYBg+sfsDbYSkecKryFO/ufPfMvpYG/++L/+ftsJSLpO4k9GPzv5qPIQ00Ye5mi2bho/0fUVBe4OXIFHd7eNXDOA0nFmEBzH39+YHPOVx82LuBKRdFJWg/daryFO/veb8hOQNoQkOXOvO/mu/FyBR3K6sp4/Vtr7vsa4uwIA3Jr7/4tRcjUy6WStB+6g9r/4DTcLp8acH84i7cvZBTlae8FJnibn9Y/Qdq9dqG2nM9TdNYuncp+WX5XopMuVgqQfuplYdXIpHoho7DcFDtrEY3dKSUOAwHKw6v8HaIipt8mv0pEonTcOIwHFQ5q3AaTqQ09/8n+z/xdohKG3nsRhXFu1bfuppTVWYt+ZF1j7B031I237m54fmeUT29FZriZmvvWMuJyhMAPLPhGV7b+hrbf7y94Xlf6PuutI1K0H4qJjiGmOAYACICIgDIiM7wZkiKh3QJ7kKX4C7m30Hm794xvb0ZkuImqolDURTFR6kErSiK4qNUglYURfFRKkEriqL4KJWgFUVRfJRK0IqiKD5KJWhFURQfpRJ0JxBmD0MgvB2G0g5C7CEIofa1v1AJuqNwOqGsrE0vfWTCI6y6dVXbtqvrbd6u0jYl1SVsytnUptf+duxvWXvH2ja9tqK2gnVH17XLzC9Ky6gE7et0HY4eRaxYgVjbti+e3WJnaMLQtm3/xAm0NWsQ27apRO1h5bXlPLX+Kfq+0Jfpb02nxtn6OQwtmoWRySPbtP3/7vgvM96awbjXxrHmyBqVqH2AutXbV+k65Ocjdu6E6mqIioKSEq+EIm02KC5G27ABmZSETE+HTjbpqydVOap4ZcsrPPH1E1Q7qxEIrzVTBFgD2HViF9ctuI6B8QP542V/ZFTKKK/EoqgE7XsMAwoKELt2IcrLkVFREBHh3ZiEgPBws0Z14gRaXh4yNRXZrRu0x6zkfqpWr+WNbW/w2JrHqHBUAGDTbAA4DIfX4gq0BiKl5Lu875jzzhxGJI/gj5P+yJDEIV6LqbNSCdqXOJ2IdesQp08jo6KQCQkuT4uaGli+3PU1cXHIwYPds/3KSsT335sHiSZxmQEIiIw0E3V+PuLoUWRmJqSkuGf7nUhZTRnDXx7OyaqTaGjYLDaX52ucNSQ9k+SybEDcAFbPW+2W7e86sYvxr41H4tqM4dAdBFgCEEIQZAtCSsn6Y+u57I3L+Mnwn/DY5Mfcsn2lZVSC9iWaBklJUF5u/thsYDkzCLsMCIC0NJeXSHfWru12SE11TdDl5WYTS2PV1QiHAxkZCWFh7tt+JxJgDWBmr5m8veNtc6oqaXGZXMGqWbki4wqXQfjHdR3ntu0nhyXzgwE/oLy2vGHZd/nfNZtU2Gk4sWk2ugR1YWzXsW7bvtIywlcuBAghfCOQdlZVVdV8YXU14tAhRHY2UtPM9mdNgxMnkLNnt2+ABQWIHTsgJsZM1GVlEBaGzMiALl3MWnUrBQUFeSBQ33e279rRkqM8tuYxPtjzAU7Did1iRxMaVc4qCn5ZQIA1oN3ie/m7l/ntyt8SYAnAYTgQCMLsYcyfMJ8fDPhBs1p+Swgh+POf/+yBaH3X/fffj5TSLRcRVC8OXxQYiOzbF2PKFEhLQ5w8CUVFLX758uXLGThwIJmZmTz55JPNnq+pqeGWW24hMzOTcePGceTIkYbnduzYwYQJExg6dCjDhw+npqYGHA4oLARdRw4ejBw1CqKj25ScFVddI7ry0uyX2HDXBmZnzMaQBlXOqjb1oPjss8/o3bs3PXv2PGtSrKmp4cYbb6Rnz55ccsklHD58uNk69bOyBNuCeXTSo+z66S5uH3x7m5Kzp+zdu5ennnqKJ598ktWrVzd7vri4mJdffpm//vWvPPfcc+zZswcAXddZsGABzz77LE8//TSrVrWx62k7UgnalwUFITMzMSZPNtt5W9Ccoes6//d//8eSJUvYsmULCxcuZPfu3S7r/Oc//yEqKoqdO3fy85//nAcffBAAp9PJnXfeyfPPP8/333/P559/jjUoyKwxDxqEvPRSiItTidkDenTpwetXv85X875iWvdpxATHNJtP8nx0XeenP/0pn376Kbt27eKdd95h165dLuu88sorREVFkZ2dzb333stvfvMbl+fjQuIIs4fx0PiH2P3T3fzv8P9t1xp8SxiGwZIlS7jjjju499572bp1K8ePH3dZ58svv2TgwIH84he/4KabbuLDDz8EzMqH0+nk3nvv5ec//zmbNm3i1CnfnptTtUF3BCEhyEGDoAW1qs2bN9OjRw/S09MBuP766/n0ww/pGxFhtm8Dy5Yta0jK11xzDffddx9SSlasWEH//v0ZOHAgANHR0QDI2FiVlNtJ39i+vHf9ezh0R6tqrd988w09e/YkJC6E13e8zty5c1myZAn9+vVrWGfJkiX8/ve/B+C6667jZz/7GVLKhi59V/W5ilm9ZvlUbbmpY8eOER0d3fDZHDRoELt27SI+Pt5lveq66ybV1dWEh4c3LK+trUXXdRwOB1arlcDAwPYLvg1UDbojaUGSzMvLI6VRr4rk5GRKDxww25HPso7VaiU8PJyioiL279+PEILZs2czevRonn766RZvV3Gv1ibJ3NxcUlNT+Sz7M+5feT8pKSnk5uaedR0w93tERARFTZrOfDk5A5SWlhLR6EwyIiKC0tJSl3WmTJnCli1bePzxx3nttdeYM2cOAAMGDMBut/P444/z5z//mXHjxhHs491EVQ1aaeB0Olm/fj3r1q0jODiYmTNnMnToUCZNmuTt0BSlxbZt28awYcMYP348R44cYcGCBfzf//0fx44dQ9M0HnjgAaqqqnjxxRfp2bNnQ23cF6katJ9JSkoiJyen4XFubi4JTfpTN17H6XRSWlpKdHQ0ycnJjB07lpiYGIKDg5kxYwZbtmxp1/iVtklOTubYsTNd5HJyckhOTj7nOk6nk5KSEp9OTmcTHh5OSaM7aktKSlyaMMBs5qtvpuvWrRtOp5PKykq2bt1KRkYGFouF0NBQunXr1uwsw9eoBO1nhg8fTnZ2NocPH6a2tpaFCxcyefJkl3VmzZrFf//7XwAWL17MhAkTEEIwdepUdu7cSWVlJU6nk7Vr19K3b19vFENppREjRrB//35OnDwBEt59992GU/t6c+bM4fXXXwfg/fff57LLLutwI9+lpKRQVFTEqVOncDqdbNu2zaWdHSAyMpLs7GwACgsLcTgchISEEBkZyYEDBwCzLfrYsWPExsa2exlaQzVx+Bmr1cqzzz7L7Nmz0XWd22+/nV69evH2gw8S5nBwxRVXMG/ePO68804yMzOJiorizTffBCAqKop77rmHsWPHIoRg+vTpzJw508slUlrCarXy97//nTufvJPiYcXcd8N9ZGZmMn/+fIYPH86cOXO46667uPXWW+nZsyddunTh3Xff9XbYrWaxWJgzZw6vvvoqhmEwfPhw4uPjWb58OSkpKfTr149Zs2axePFi1q1bhxCC66+/HiEEo0eP5v333+eZZ54BYNiwYSQmJnq5ROenblTxsrPeqOJuOTmInTuR06d7flstoG5U8ZzXt77Ofcvvo+jXLe8370nqRpWLo5o4FEVRfJRK0IqiKD5KJWhFURQfpS4S+qvSUqgwxxgW9d2S8vPPPB8fbw7ApHR43+Z9y47j5o1Ia4+as+68tuW1huevz7yeUHuoV2JTLo5K0H5K7N+P2LcPGRQEUppjSW8y57kTNTUYM2Z4fyIAxS3+uOaPrDi4omH85lq9ll+v+DVSSqqd1XSN6Mrk7pMv/EaKz1EJ2k/J9HTEkSPm4EZwZlj20lJkTIxKzn7kl6N/yYacDWhoCE1gt9gBc8aW9Kh0JqZN9G6ASpupc1x/1aULMj7ebOpoRFRWIvv08VJQiieM7TqWjC4Z1Oiuk8xaNAsPj38Yi2Y5xysVX6cStB+TvXsjKivPLCgvR0ZHm2M5K35DCMH8CfOxabaGvta1ei1RgVFc3edqL0enXAyVoP1ZdLSZkMvNaY1EeTmyb181Op0fmtJ9CqkRqdTqtQBoQuOBcQ/4/Oh0yvmpBO3PhED27YsoK4OKCnOGcB8fe0BpGyEEv5vwO6yaFYfuIMwextz+c70dlnKRVIL2d7GxyC5dECdPIvv1U7VnPzYrYxYJYQlU69X8ZuxvGi4WKh2XStD+TghkZiaya1dVe/ZzmtD4/YTf0z2qO7cOvNXb4ShuoLrZdQZxcci67naKf7u679Vc3VddGPQXqgatKIrio1SCVhRF8VEqQSuKovgolaAVRVF8lErQiqIoPkolaEVRFB+lErSiKIqPUglaURTFR6kErSiK4qNUglYURfFRKkEriqL4qDYlaCHEDCHEXiFEthDi/rM8HyCEeK/u+U1CiLSLjlRRFKWTaXWCFkJYgBeAmUA/4CYhRL8mq90FnJZS9gSeBZ642EAVRVE6m7bUoEcC2VLKg1LKWuBd4Mom61wJvF739/vAZCHUQMSKoiit0ZYEnQwca/Q4p27ZWdeRUjqBEkBNhKcoitIKXh0PWgjxI+BH3ozB24KCgrwdgtJOOutJ5P33N7tM5e+ku96oLQk6F0ht9DilbtnZ1skRQliBCKCo6RtJKV8GXgYQQnwrpRzehng6rM5YZuic5e6MZYbOWW4hxLfueq+2NHFsBnoJIdKFEHZgLrC0yTpLgdvr/r4O+FLWzwevKIqitEira9BSSqcQ4mfA54AFeFVKuVMI8QjwrZRyKfAK8KYQIhs4hZnEFUVRlFZoUxu0lPIT4JMmy+Y3+rsauL6Vb/tyW2Lp4DpjmaFzlrszlhk6Z7ndVmahWh4URVF8k7rVW1EUxUe1a4LurLeIt6Dc9wkhdgkhtgshVgohunkjTne6UJkbrXetEEIKIfziSn9Lyi2EuKFuf+8UQrzd3jG6Wws+312FEKuEEFvqPuOXeyNOdxJCvCqEKBRCZJ3jeSGE+Fvd/2S7EGJomzYkpWyXH8wLigeA7oAd2Ab0a7LOT4AX6/6eC7zXXvF5udyTgOC6v3/c0cvdkjLXrRcGrAE2AsO9HXc77etewBYgqu5xnLfjbocyvwz8uO7vfsBhb8fthnKPB4YCWed4/nLgU0AAo4BNbdlOe9agO+st4hcst5RylZSysu7hRsy+5R1ZS/Y1wKOY47RUt2dwHtSScv8P8IKU8jSAlLKwnWN0t5aUWQLhdX9HAHntGJ9HSCnXYPZQO5crgTekaSMQKYRIbO122jNBd9ZbxFtS7sbuwjzydmQXLHPdKV+qlPLj9gzMw1qyrzOADCHE10KIjUKIGe0WnWe0pMy/B24RQuRg9v76efuE5lWt/d6flVdv9VZcCSFuAYYDE7wdiycJITTgGWCel0PxBitmM8dEzDOlNUKIAVLKYm8G5WE3Af+RUj4thBiNeY9Efyml4e3AfF171qBbc4s457tFvINpSbkRQkwBHgTmSClr2ik2T7lQmcOA/sBqIcRhzDa6pX5wobAl+zoHWCqldEgpDwH7MBN2R9WSMt8FLACQUm4AAoGYdonOe1r0vb+Q9kzQnfUW8QuWWwgxBHgJMzl39DZJuECZpZQlUsoYKWWalDINs919jpTSbWMYeElLPuMfYtaeEULEYDZ5HGzHGN2tJWU+CkwGEEL0xUzQJ9o1yva3FLitrjfHKKBESpnf6ndp5yufl2PWGA4AD9YtewTzywnmjlsIZAPfAN29fbW2ncq9AjgObK37WertmD1d5ibrrsYPenG0cF8LzOadXcAOYK63Y26HMvcDvsbs4bEVmObtmN1Q5neAfMCBeVZ0F3A3cHej/fxC3f9kR1s/3+pOQkVRFB+l7iRUFEXxUSpBK4qi+CiVoBVFUXyUStCKoig+SiVoRVEUH6UStKIoio9SCVpRFMVHqQStKIrio1SCVhRF8VEqQSuKovgolaAVRVF8lErQiqIoPur/A+V1HkVd3eVRAAAAAElFTkSuQmCC\n",
         "text/plain": "<IPython.core.display.Image object>"
        },
        "metadata": {},
        "output_type": "display_data"
       }
      ]
     }
    },
    "fb2864351fca491a89d0256781b7793a": {
     "model_module": "@jupyter-widgets/base",
     "model_module_version": "1.2.0",
     "model_name": "LayoutModel",
     "state": {
      "_model_module": "@jupyter-widgets/base",
      "_model_module_version": "1.2.0",
      "_model_name": "LayoutModel",
      "_view_count": null,
      "_view_module": "@jupyter-widgets/base",
      "_view_module_version": "1.2.0",
      "_view_name": "LayoutView",
      "align_content": null,
      "align_items": null,
      "align_self": null,
      "border": null,
      "bottom": null,
      "display": null,
      "flex": null,
      "flex_flow": null,
      "grid_area": null,
      "grid_auto_columns": null,
      "grid_auto_flow": null,
      "grid_auto_rows": null,
      "grid_column": null,
      "grid_gap": null,
      "grid_row": null,
      "grid_template_areas": null,
      "grid_template_columns": null,
      "grid_template_rows": null,
      "height": null,
      "justify_content": null,
      "justify_items": null,
      "left": null,
      "margin": null,
      "max_height": null,
      "max_width": null,
      "min_height": null,
      "min_width": null,
      "object_fit": null,
      "object_position": null,
      "order": null,
      "overflow": null,
      "overflow_x": null,
      "overflow_y": null,
      "padding": null,
      "right": null,
      "top": null,
      "visibility": null,
      "width": null
     }
    },
    "fc9fea7fddf2426da94a3c17880c5a69": {
     "model_module": "@jupyter-widgets/controls",
     "model_module_version": "1.5.0",
     "model_name": "ProgressStyleModel",
     "state": {
      "_model_module": "@jupyter-widgets/controls",
      "_model_module_version": "1.5.0",
      "_model_name": "ProgressStyleModel",
      "_view_count": null,
      "_view_module": "@jupyter-widgets/base",
      "_view_module_version": "1.2.0",
      "_view_name": "StyleView",
      "bar_color": null,
      "description_width": ""
     }
    },
    "fd267bdb68204bb29163d66f1db57f95": {
     "model_module": "@jupyter-widgets/base",
     "model_module_version": "1.2.0",
     "model_name": "LayoutModel",
     "state": {
      "_model_module": "@jupyter-widgets/base",
      "_model_module_version": "1.2.0",
      "_model_name": "LayoutModel",
      "_view_count": null,
      "_view_module": "@jupyter-widgets/base",
      "_view_module_version": "1.2.0",
      "_view_name": "LayoutView",
      "align_content": null,
      "align_items": null,
      "align_self": null,
      "border": null,
      "bottom": null,
      "display": null,
      "flex": null,
      "flex_flow": null,
      "grid_area": null,
      "grid_auto_columns": null,
      "grid_auto_flow": null,
      "grid_auto_rows": null,
      "grid_column": null,
      "grid_gap": null,
      "grid_row": null,
      "grid_template_areas": null,
      "grid_template_columns": null,
      "grid_template_rows": null,
      "height": null,
      "justify_content": null,
      "justify_items": null,
      "left": null,
      "margin": null,
      "max_height": null,
      "max_width": null,
      "min_height": null,
      "min_width": null,
      "object_fit": null,
      "object_position": null,
      "order": null,
      "overflow": null,
      "overflow_x": null,
      "overflow_y": null,
      "padding": null,
      "right": null,
      "top": null,
      "visibility": null,
      "width": null
     }
    }
   }
  }
 },
 "nbformat": 4,
 "nbformat_minor": 0
}
