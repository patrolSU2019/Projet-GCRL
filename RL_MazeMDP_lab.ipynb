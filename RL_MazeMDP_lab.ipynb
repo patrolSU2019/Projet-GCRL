{
  "nbformat": 4,
  "nbformat_minor": 0,
  "metadata": {
    "colab": {
      "provenance": [],
      "include_colab_link": true
    },
    "kernelspec": {
      "name": "python3",
      "display_name": "Python 3"
    },
    "language_info": {
      "name": "python"
    }
  },
  "cells": [
    {
      "cell_type": "markdown",
      "metadata": {
        "id": "view-in-github",
        "colab_type": "text"
      },
      "source": [
        "<a href=\"https://colab.research.google.com/github/zhenyuefu/RA_Labs/blob/main/RL_MazeMDP_lab.ipynb\" target=\"_parent\"><img src=\"https://colab.research.google.com/assets/colab-badge.svg\" alt=\"Open In Colab\"/></a>"
      ]
    },
    {
      "cell_type": "markdown",
      "metadata": {
        "id": "t5Y434EKaEji"
      },
      "source": [
        "# Outlook #"
      ]
    },
    {
      "cell_type": "markdown",
      "metadata": {
        "id": "7t49ETcZaJg3"
      },
      "source": [
        "In this colab we will study basic reinforcement learning algorithms: TD learning, q-learning and sarsa. We will also investigate two basic exploration strategies: $\\epsilon$-greedy and softmax."
      ]
    },
    {
      "cell_type": "markdown",
      "metadata": {
        "id": "pfP_irDZNa0J"
      },
      "source": [
        "# Installation #"
      ]
    },
    {
      "cell_type": "code",
      "source": [
        "!pip install importlib-metadata==4.13.0"
      ],
      "metadata": {
        "id": "6nH7pFX47u9V"
      },
      "execution_count": null,
      "outputs": []
    },
    {
      "cell_type": "code",
      "metadata": {
        "id": "6qRaL0jp5zmp"
      },
      "source": [
        "!pip install git+https://github.com/osigaud/bbrl_gym"
      ],
      "execution_count": null,
      "outputs": []
    },
    {
      "cell_type": "code",
      "metadata": {
        "id": "APW9lTEe59ah",
        "colab": {
          "base_uri": "https://localhost:8080/"
        },
        "outputId": "fd1bdf56-6db9-45d4-a015-92cae236b33f"
      },
      "source": [
        "import os\n",
        "from typing import Tuple, List\n",
        "\n",
        "import numpy as np\n",
        "import matplotlib.pyplot as plt\n",
        "from tqdm.notebook import tqdm\n",
        "\n",
        "from mazemdp.toolbox import egreedy, egreedy_loc, softmax, sample_categorical\n",
        "from mazemdp.maze_plotter import show_videos\n",
        "from mazemdp.mdp import Mdp\n",
        "from bbrl_gym.envs.maze_mdp import MazeMDPEnv\n",
        "\n",
        "# For visualization\n",
        "os.environ[\"VIDEO_FPS\"] = \"5\"\n",
        "if not os.path.isdir(\"./videos\"):\n",
        "    os.mkdir(\"./videos\")\n",
        "\n",
        "from IPython.display import Video\n",
        "\n",
        "# Settings\n",
        "NB_EPISODES = 50\n",
        "TIMEOUT = 25"
      ],
      "execution_count": null,
      "outputs": [
        {
          "output_type": "stream",
          "name": "stdout",
          "text": [
            "Matplotlib backend: module://ipykernel.pylab.backend_inline\n"
          ]
        }
      ]
    },
    {
      "cell_type": "markdown",
      "metadata": {
        "id": "ytERHME1NfYr"
      },
      "source": [
        "# Reinforcement Learning #"
      ]
    },
    {
      "cell_type": "markdown",
      "metadata": {
        "id": "ZyT1upohNjL1"
      },
      "source": [
        "\n",
        "Reinforcement Learning is about finding the optimal policy in an MDP which is initially unknown to the agent. More precisely, the state and action spaces are known, but the agent does not know the transition and reward functions. Generally speaking, the agent has to explore the MDP to figure out which action in which state leads to which other state and reward. The model-free case is about finding this optimal policy just through very local updates, without storing any information about previous interactions with the environment. Principles of these local updates can already be found in the Temporal Difference (TD) algorithm, which iteratively computes optimal values for all state using local updates.\n",
        "The most widely used model-free RL algorithms are **q-learning**, **sarsa** and **actor-critic** algorithms. Below we focus on the first two."
      ]
    },
    {
      "cell_type": "markdown",
      "metadata": {
        "id": "MzBuWYhCtQmF"
      },
      "source": [
        "As for dynamic programming, we first create a maze-like MDP. Reinforcement learning is slower than dynamic programming, so we will work with smaller mazes."
      ]
    },
    {
      "cell_type": "code",
      "metadata": {
        "id": "srNM1JqTtYAc",
        "outputId": "b968af8a-dc38-4e47-f25e-e99bad87fa23",
        "colab": {
          "base_uri": "https://localhost:8080/"
        }
      },
      "source": [
        "import gym\n",
        "import bbrl_gym\n",
        "\n",
        "\n",
        "env = gym.make(\"MazeMDP-v0\", kwargs={\"width\": 5, \"height\": 5, \"ratio\": 0.2})\n",
        "env.reset()\n",
        "\n",
        "# in dynamic programming, there is no agent moving in the environment\n",
        "env.init_draw(\"The maze\")"
      ],
      "execution_count": null,
      "outputs": [
        {
          "output_type": "execute_result",
          "data": {
            "text/plain": [
              "0"
            ]
          },
          "metadata": {},
          "execution_count": 3
        }
      ]
    },
    {
      "cell_type": "markdown",
      "metadata": {
        "id": "fSbk6GyAN0-e"
      },
      "source": [
        "## Temporal Difference (TD) learning ##"
      ]
    },
    {
      "cell_type": "markdown",
      "metadata": {
        "id": "JNnNJpTON5aU"
      },
      "source": [
        "\n",
        "Given a state and an action spaces as well as a policy, TD(0) computes the state value of this policy based on the following equations:\n",
        "$$\\delta_t = r(s_t,a_t) + \\gamma V^{(t)}(s_{t+1})-V^{(t)}(s_t)$$\n",
        "$$V^{(t+1)}(s_t) = V^{(t)}(s_t) + \\alpha\\delta_t$$\n",
        "\n",
        "where $\\delta$ is the TD error and $\\alpha$ is a parameter called \"learning rate\".\n",
        "\n",
        "The code is provided below, so that you can take inspiration later on. The important part is the computation of $\\delta$, and the update of the values of $V$.\n",
        "\n",
        "To run TD learning, a policy is needed as input. Such a policy can be retreived by using the `policy_iteration_q(mdp)` function defined in the dynamic programming notebook.\n",
        "\n",
        "If you want to run this notebook independently, you can use instead the `random_policy` provided in `mazemdp`. This is what we do here by default, replace it if you want to run TD learning from an optimal policy.\n"
      ]
    },
    {
      "cell_type": "code",
      "metadata": {
        "id": "xniYyOwU8C3b"
      },
      "source": [
        "from mazemdp import random_policy"
      ],
      "execution_count": null,
      "outputs": []
    },
    {
      "cell_type": "markdown",
      "metadata": {
        "id": "f_YBjgxOPCn8"
      },
      "source": [
        "**Question:** In the code of the *temporal_difference(...)* function below, fill the missing parts with # some code = ... "
      ]
    },
    {
      "cell_type": "code",
      "metadata": {
        "id": "0lL1I8Jx6Bzf"
      },
      "source": [
        "def temporal_difference(\n",
        "    mdp: MazeMDPEnv,\n",
        "    policy: np.ndarray,\n",
        "    nb_episodes: int = 50,\n",
        "    alpha: float = 0.2,\n",
        "    timeout: int = 25,\n",
        "    render: bool = True,\n",
        ") -> np.ndarray:\n",
        "    # alpha: learning rate\n",
        "    # timeout: timeout of an episode (maximum number of timesteps)\n",
        "    v = np.zeros(mdp.nb_states)  # initial state value v\n",
        "    mdp.timeout = timeout\n",
        "\n",
        "    if render:\n",
        "        mdp.init_draw(\"Temporal differences\")\n",
        "\n",
        "    for _ in tqdm(range(nb_episodes)):  # for each episode\n",
        "\n",
        "        # Draw an initial state randomly (if uniform is set to False, the state is drawn according to the P0\n",
        "        #                                 distribution)\n",
        "        x = mdp.reset(uniform=True)\n",
        "        done = False\n",
        "        while not done:  # update episode at each timestep\n",
        "            # Show agent\n",
        "            if render:\n",
        "                mdp.draw_v_pi(v, policy)\n",
        "\n",
        "            # Step forward following the MDP: x=current state,\n",
        "            #                                 pol[i]=agent's action according to policy pol,\n",
        "            #                                 r=reward gained after taking action pol[i],\n",
        "            #                                 done=tells whether the episode ended,\n",
        "            #                                 and info gives some info about the process\n",
        "            [y, r, done, _] = mdp.step(egreedy_loc(policy[x], mdp.action_space.n, epsilon=0.2))\n",
        "\n",
        "            # To be completed...  \n",
        "            assert False, 'Not implemented yet'\n",
        "            delta = ...\n",
        "            v[x] = ...\n",
        "\n",
        "            # Update agent's position (state)\n",
        "            x = y\n",
        "\n",
        "    if render:\n",
        "        # Show the final policy\n",
        "        mdp.current_state = 0\n",
        "        mdp.draw_v_pi(v, policy, title=\"Temporal Differences\")\n",
        "    return v"
      ],
      "execution_count": null,
      "outputs": []
    },
    {
      "cell_type": "markdown",
      "metadata": {
        "id": "8f0swnV9tlym"
      },
      "source": [
        "Once this is done, you can run it."
      ]
    },
    {
      "cell_type": "code",
      "metadata": {
        "id": "R56l4AT3to_F"
      },
      "source": [
        "# Note that using a random policy, the chance to get an interesting value function is low\n",
        "# Instead, you may get the value of an optimal policy obtained from a dynamic programming method\n",
        "policy = random_policy(env)\n",
        "v = temporal_difference(env, policy)"
      ],
      "execution_count": null,
      "outputs": []
    },
    {
      "cell_type": "markdown",
      "source": [
        "Unless you are lucky, the value function learned from a random policy will most probably be boring, as if it does not reach the rewarded state, all values keep at 0. To watch the behavior of the TD algorithm from an optimal policy, you can copy-paste from the dynamic programming lab the value iteration algorithm, use it to obtain an optimal policy and then call the TD algorithm from the obtained policy."
      ],
      "metadata": {
        "id": "J27oCA7EGuJV"
      }
    },
    {
      "cell_type": "code",
      "source": [],
      "metadata": {
        "id": "YHodwM7HSb7w"
      },
      "execution_count": null,
      "outputs": []
    },
    {
      "cell_type": "code",
      "source": [],
      "metadata": {
        "id": "YgyeKTcAScYX"
      },
      "execution_count": null,
      "outputs": []
    },
    {
      "cell_type": "code",
      "source": [
        "q, _ = value_iteration_q(env)\n",
        "policy = get_policy_from_q(q)\n",
        "v = temporal_difference(env, policy)"
      ],
      "metadata": {
        "id": "0BafFtVISc-w"
      },
      "execution_count": null,
      "outputs": []
    },
    {
      "cell_type": "markdown",
      "metadata": {
        "id": "wtog6PFsPhCn"
      },
      "source": [
        "## Q-learning ##"
      ]
    },
    {
      "cell_type": "markdown",
      "metadata": {
        "id": "jP5cC07-Pjxl"
      },
      "source": [
        "\n",
        "The **q-learning** algorithm accounts for an agent exploring an MDP and updating at each step a model of the state action-value function stored into a Q-table. It is updated as follows:\n",
        "\n",
        "$$\\delta_t = r(s_t,a_t) + \\gamma \\max_{a \\in A} Q^{(t)}(s_{t+1},a)-Q^{(t)}(s_t,a_t)$$\n",
        "\n",
        "$$Q^{(t+1)}(s_t,a_t) = Q^{(t)}(s_t,a_t) + \\alpha \\delta_t.$$\n"
      ]
    },
    {
      "cell_type": "markdown",
      "metadata": {
        "id": "2gVzVZCLxPh8"
      },
      "source": [
        "To visualize the policy, we need the `get_policy_from_q(q)` function that we defined in the dynamic programming notebook. Import it below."
      ]
    },
    {
      "cell_type": "code",
      "metadata": {
        "id": "tUlSmESgxhXQ"
      },
      "source": [
        "def get_policy_from_q(q: np.ndarray) -> np.ndarray:\n",
        "    # Outputs a policy given the action values\n",
        "    # To be completed\n",
        "    assert False, 'Not implemented yet'"
      ],
      "execution_count": null,
      "outputs": []
    },
    {
      "cell_type": "markdown",
      "metadata": {
        "id": "7pq3cgWNPu_t"
      },
      "source": [
        "**Question:**  Fill the code of the `q_learning(...)` function below."
      ]
    },
    {
      "cell_type": "code",
      "metadata": {
        "id": "LhM1c2Ct6dKb"
      },
      "source": [
        "# --------------------------- Q-Learning epsilon-greedy version -------------------------------#\n",
        "\n",
        "# Given an exploration rate epsilon, the QLearning algorithm computes the state action-value function\n",
        "# based on an epsilon-greedy policy\n",
        "# alpha is the learning rate\n",
        "\n",
        "\n",
        "def q_learning_eps(\n",
        "    mdp: MazeMDPEnv,\n",
        "    epsilon: float,\n",
        "    nb_episodes: int = 20,\n",
        "    timeout: int = 50,\n",
        "    alpha: float = 0.5,\n",
        "    render: bool = True,\n",
        ") -> Tuple[np.ndarray, List[float]]:\n",
        "    # Initialize the state-action value function\n",
        "    # alpha is the learning rate\n",
        "    q = np.zeros((mdp.nb_states, mdp.action_space.n))\n",
        "    q_list = []\n",
        "\n",
        "    # Run learning cycle\n",
        "    mdp.timeout = timeout  # episode length\n",
        "\n",
        "    if render:\n",
        "        mdp.init_draw(\"Q-learning e-greedy\")\n",
        "\n",
        "    for _ in tqdm(range(nb_episodes)):\n",
        "        # Draw the first state of episode i using a uniform distribution over all the states\n",
        "        x = mdp.reset(uniform=True)\n",
        "        done = False\n",
        "        while not done:\n",
        "            if render:\n",
        "                # Show the agent in the maze\n",
        "                mdp.draw_v_pi(q, q.argmax(axis=1))\n",
        "\n",
        "            # Draw an action using an epsilon-greedy policy\n",
        "            u = egreedy(q, x, epsilon)\n",
        "\n",
        "            # Perform a step of the MDP\n",
        "            [y, r, done, _] = mdp.step(u)\n",
        "\n",
        "            # To be completed\n",
        "            assert False, 'Not implemented yet'\n",
        "            delta = ...\n",
        "            q[...] = ...\n",
        "\n",
        "            # Update the agent position\n",
        "            x = y\n",
        "        q_list.append(np.linalg.norm(q))\n",
        "\n",
        "    if render:\n",
        "        # Show the final policy\n",
        "        mdp.current_state = 0\n",
        "        mdp.draw_v_pi(q, get_policy_from_q(q), title=\"Q-learning e-greedy\")\n",
        "    return q, q_list"
      ],
      "execution_count": null,
      "outputs": []
    },
    {
      "cell_type": "markdown",
      "metadata": {
        "id": "ME7SAuggvNfw"
      },
      "source": [
        "And run it."
      ]
    },
    {
      "cell_type": "code",
      "metadata": {
        "id": "UBpkpkuWvP8i"
      },
      "source": [
        "epsilon = 0.02\n",
        "q, q_list = q_learning_eps(env, epsilon)"
      ],
      "execution_count": null,
      "outputs": []
    },
    {
      "cell_type": "markdown",
      "metadata": {
        "id": "MnLbmQsbQEIO"
      },
      "source": [
        "### Learning dynamics###"
      ]
    },
    {
      "cell_type": "markdown",
      "metadata": {
        "id": "M_6fmrxlQHR3"
      },
      "source": [
        "\n",
        "By watching carefully the values while the agent is learning, you can see that the agent favors certains paths over others which have a strictly equivalent value. This can be explained easily: as the agent chooses a path for the first time, it updates the values along that path, these values get higher than the surrounding values, and the agent chooses the same path again and again, increasing the phenomenon. Only steps of random exploration can counterbalance this effect, but they do so extremely slowly."
      ]
    },
    {
      "cell_type": "markdown",
      "metadata": {
        "id": "JsKOa2i1QMcl"
      },
      "source": [
        "### Exploration ###"
      ]
    },
    {
      "cell_type": "markdown",
      "metadata": {
        "id": "PXkEV9-cQQnP"
      },
      "source": [
        "In the `q_learning(...)` function above, action selection is based on an *$\\epsilon$-greedy* policy. Instead, it could have relied on `softmax`.\n"
      ]
    },
    {
      "cell_type": "markdown",
      "metadata": {
        "id": "whX-_jP4QsrU"
      },
      "source": [
        "**Question:** In the function below, you have to replace the call to the previous *$\\epsilon$-greedy* policy with a `softmax` policy. The `softmax(...)` and `egreedy(...)` functions are available in `mazemdp.toolbox`."
      ]
    },
    {
      "cell_type": "markdown",
      "source": [
        "To sample an action from a distribution of probabilities over discrete actions, you can use the ```sample_categorical(...)``` function."
      ],
      "metadata": {
        "id": "nX-sFoOPcYXO"
      }
    },
    {
      "cell_type": "code",
      "metadata": {
        "id": "iu4WiXRm6mdL"
      },
      "source": [
        "# --------------------------- Q-Learning softmax version ----------------------------#\n",
        "\n",
        "# Given a temperature \"tau\", the QLearning algorithm computes the state action-value function\n",
        "# based on a softmax policy\n",
        "# alpha is the learning rate\n",
        "\n",
        "\n",
        "def q_learning_soft(\n",
        "    mdp: MazeMDPEnv,\n",
        "    tau: float,\n",
        "    nb_episodes: int = 20,\n",
        "    timeout: int = 50,\n",
        "    alpha: float = 0.5,\n",
        "    render: bool = True,\n",
        ") -> Tuple[np.ndarray, List[float]]:\n",
        "    # Initialize the state-action value function\n",
        "    # alpha is the learning rate\n",
        "    q = np.zeros((mdp.nb_states, mdp.action_space.n))\n",
        "    q_list = []\n",
        "\n",
        "    # Run learning cycle\n",
        "    mdp.timeout = timeout  # episode length\n",
        "\n",
        "    if render:\n",
        "        mdp.init_draw(\"Q-learning softmax\")\n",
        "\n",
        "    for _ in tqdm(range(nb_episodes)):\n",
        "        # Draw the first state of episode i using a uniform distribution over all the states\n",
        "        x = mdp.reset(uniform=True)\n",
        "        done = False\n",
        "        while not done:\n",
        "            if render:\n",
        "                # Show the agent in the maze\n",
        "                mdp.draw_v_pi(q, q.argmax(axis=1))\n",
        "\n",
        "            # To be completed\n",
        "            assert False, 'Not implemented yet'\n",
        "            u = ... # (here, call the softmax function and sample from it)\n",
        "            \n",
        "            # To be completed\n",
        "            assert False, 'Not implemented yet'\n",
        "            \n",
        "            x = y\n",
        "        q_list.append(np.linalg.norm(q))\n",
        "\n",
        "    if render:\n",
        "        # Show the final policy\n",
        "        mdp.current_state = 0\n",
        "        mdp.draw_v_pi(q, get_policy_from_q(q), title=\"Q-learning softmax\")\n",
        "    return q, q_list\n",
        "\n"
      ],
      "execution_count": null,
      "outputs": []
    },
    {
      "cell_type": "markdown",
      "metadata": {
        "id": "Xevh4vMxvm-q"
      },
      "source": [
        "Run this new version"
      ]
    },
    {
      "cell_type": "code",
      "metadata": {
        "id": "FcAwK52avpur"
      },
      "source": [
        "tau = 6\n",
        "q, q_list = q_learning_soft(env, tau)"
      ],
      "execution_count": null,
      "outputs": []
    },
    {
      "cell_type": "code",
      "metadata": {
        "id": "0iXJ-j-i_5pK"
      },
      "source": [
        "show_videos(\"videos/\", \"Q-learningsoftmax\")"
      ],
      "execution_count": null,
      "outputs": []
    },
    {
      "cell_type": "markdown",
      "metadata": {
        "id": "PW4wU1xjRT8J"
      },
      "source": [
        "## Sarsa ##"
      ]
    },
    {
      "cell_type": "markdown",
      "metadata": {
        "id": "bxDs-SywRWS6"
      },
      "source": [
        "\n",
        "The **sarsa** algorithm is very similar to **q-learning**. At first glance, the only difference is in the update rule. However, to perform the update in **sarsa**, one needs to know the action the agent will take when it will be at the next state, even if the agent is taking a random action.\n",
        "\n",
        "This implies that the next state action is determined in advance and stored for being played at the next time step.\n"
      ]
    },
    {
      "cell_type": "markdown",
      "metadata": {
        "id": "CUdQEF0Rv2uc"
      },
      "source": [
        "**Question:** Fill the code below"
      ]
    },
    {
      "cell_type": "code",
      "metadata": {
        "id": "93VUGbwM6wkq"
      },
      "source": [
        "# --------------------------- Sarsa, epsilon-greedy version -------------------------------#\n",
        "\n",
        "# Given an exploration rate epsilon, the SARSA algorithm computes the state action-value function\n",
        "# based on an epsilon-greedy policy\n",
        "# alpha is the learning rate\n",
        "def sarsa_eps(\n",
        "    mdp: MazeMDPEnv,\n",
        "    epsilon: float,\n",
        "    nb_episodes: int = 20,\n",
        "    timeout: int = 50,\n",
        "    alpha: float = 0.5,\n",
        "    render: bool = True,\n",
        ") -> Tuple[np.ndarray, List[float]]:\n",
        "    # Initialize the state-action value function\n",
        "    # alpha is the learning rate\n",
        "    q = np.zeros((mdp.nb_states, mdp.action_space.n))\n",
        "    q_list = []\n",
        "\n",
        "    # Run learning cycle\n",
        "    mdp.timeout = timeout  # episode length\n",
        "\n",
        "    if render:\n",
        "        mdp.init_draw(\"Sarsa e-greedy\")\n",
        "\n",
        "    for _ in tqdm(range(nb_episodes)):\n",
        "        # Draw the first state of episode i using a uniform distribution over all the states\n",
        "        x = mdp.reset(uniform=True)\n",
        "        done = False\n",
        "\n",
        "        # To be completed\n",
        "        assert False, 'Not implemented yet'\n",
        "        q_list.append(np.linalg.norm(q))\n",
        "\n",
        "    if render:\n",
        "        # Show the final policy\n",
        "        mdp.current_state = 0\n",
        "        mdp.draw_v_pi(q, get_policy_from_q(q), title=\"Sarsa e-greedy\")\n",
        "    return q, q_list"
      ],
      "execution_count": null,
      "outputs": []
    },
    {
      "cell_type": "markdown",
      "metadata": {
        "id": "i8obKDfc0rhK"
      },
      "source": [
        "And run it."
      ]
    },
    {
      "cell_type": "code",
      "metadata": {
        "id": "TgY_9mvU0tUr"
      },
      "source": [
        "epsilon = 0.02\n",
        "q, q_list = sarsa_eps(env, epsilon)"
      ],
      "execution_count": null,
      "outputs": []
    },
    {
      "cell_type": "code",
      "metadata": {
        "id": "opuFUT3u_-_I"
      },
      "source": [
        "show_videos(\"videos/\", \"Sarsae-greedy\")"
      ],
      "execution_count": null,
      "outputs": []
    },
    {
      "cell_type": "markdown",
      "metadata": {
        "id": "hbtNZZTNhRdx"
      },
      "source": [
        "As for **q-learning** above, copy-paste the resulting code to get a *sarsa_soft(...)* and a *sarsa_eps(...)* function."
      ]
    },
    {
      "cell_type": "code",
      "metadata": {
        "id": "UFMuH9Iq6026"
      },
      "source": [
        "# --------------------------- Sarsa, softmax version -------------------------------#\n",
        "\n",
        "# Given a temperature \"tau\", the SARSA algorithm computes the state action-value function\n",
        "# based on a softmax policy\n",
        "# alpha is the learning rate\n",
        "def sarsa_soft(\n",
        "    mdp: MazeMDPEnv,\n",
        "    tau: float,\n",
        "    nb_episodes: int = 20,\n",
        "    timeout: int = 50,\n",
        "    alpha: float = 0.5,\n",
        "    render: bool = True,\n",
        ") -> Tuple[np.ndarray, List[float]]:\n",
        "\n",
        "    # Initialize the state-action value function\n",
        "    # alpha is the learning rate\n",
        "    q = np.zeros((mdp.nb_states, mdp.action_space.n))\n",
        "    q_list = []\n",
        "\n",
        "    # Run learning cycle\n",
        "    mdp.timeout = timeout  # episode length\n",
        "\n",
        "    if render:\n",
        "        mdp.init_draw(\"Sarsa softmax\")\n",
        "\n",
        "    for _ in tqdm(range(nb_episodes)):\n",
        "        # Draw the first state of episode i using a uniform distribution over all the states\n",
        "        x = mdp.reset(uniform=True)\n",
        "        done = False\n",
        "\n",
        "        # To be completed\n",
        "        assert False, 'Not implemented yet'\n",
        "\n",
        "        q_list.append(np.linalg.norm(q))\n",
        "\n",
        "    if render:\n",
        "        # Show the final policy\n",
        "        mdp.current_state = 0\n",
        "        mdp.draw_v_pi(q, get_policy_from_q(q), title=\"Sarsa softmax\")\n",
        "    return q, q_list"
      ],
      "execution_count": null,
      "outputs": []
    },
    {
      "cell_type": "markdown",
      "metadata": {
        "id": "koHzhn0h02aa"
      },
      "source": [
        "And run it."
      ]
    },
    {
      "cell_type": "code",
      "metadata": {
        "id": "SVW4kFli04GB"
      },
      "source": [
        "tau = 6\n",
        "q, q_list = sarsa_soft(env, tau)"
      ],
      "execution_count": null,
      "outputs": []
    },
    {
      "cell_type": "code",
      "metadata": {
        "id": "cUDvBXyKAEHo"
      },
      "source": [
        "show_videos(\"videos/\", \"Sarsasoftmax\")"
      ],
      "execution_count": null,
      "outputs": []
    },
    {
      "cell_type": "markdown",
      "source": [
        "## Study part"
      ],
      "metadata": {
        "id": "G46ht0tRWLj6"
      }
    },
    {
      "cell_type": "markdown",
      "source": [
        "### Impact of `epsilon` and `beta` on q-learning and sarsa"
      ],
      "metadata": {
        "id": "1BceAWIYYFg5"
      }
    },
    {
      "cell_type": "markdown",
      "source": [
        "Compare the number of steps needed by **q-learning** and **sarsa** to converge on a given MDP using the *softmax* and *$\\epsilon$-greedy* exploration strategies. To figure out, you can use the provided `plot_ql_sarsa(m, epsilon, tau, nb_episodes, timeout, alpha, render)` function below with various values for $\\epsilon$ (e.g. 0.001, 0.01, 0.1) and $\\tau$ (e.g. 0.1, 5, 10) and comment the obtained curves. Other visualizations are welcome."
      ],
      "metadata": {
        "id": "3B8GdWVfX5N2"
      }
    },
    {
      "cell_type": "code",
      "metadata": {
        "id": "P9kycY4D696H"
      },
      "source": [
        "\n",
        "# -------- plot learning curves of Q-Learning and Sarsa using epsilon-greedy and softmax ----------#\n",
        "\n",
        "def plot_ql_sarsa(env, epsilon, tau, nb_episodes, timeout, alpha, render):\n",
        "    q, q_list1 = q_learning_eps(env, epsilon, nb_episodes, timeout, alpha, render)\n",
        "    q, q_list2 = q_learning_soft(env, tau, nb_episodes, timeout, alpha, render)\n",
        "    q, q_list3 = sarsa_eps(env, epsilon, nb_episodes, timeout, alpha, render)\n",
        "    q, q_list4 = sarsa_soft(env, tau, nb_episodes, timeout, alpha, render)\n",
        "\n",
        "    plt.clf()\n",
        "    plt.plot(range(len(q_list1)), q_list1, label='q-learning epsilon')\n",
        "    plt.plot(range(len(q_list2)), q_list2, label='q-learning tau')\n",
        "    plt.plot(range(len(q_list3)), q_list3, label='sarsa epsilon')\n",
        "    plt.plot(range(len(q_list4)), q_list4, label='sarsa tau')\n",
        "\n",
        "    plt.xlabel('Number of episodes')\n",
        "    plt.ylabel('Norm of Q values')\n",
        "    plt.legend(loc='upper right')\n",
        "    plt.savefig(\"comparison_RL.png\")\n",
        "    plt.title(\"Comparison of convergence rates\")\n",
        "    plt.show()\n"
      ],
      "execution_count": null,
      "outputs": []
    },
    {
      "cell_type": "code",
      "metadata": {
        "id": "QjSmclM31MkU"
      },
      "source": [
        "# example\n",
        "epsilon = 0.02\n",
        "tau = 6\n",
        "plot_ql_sarsa(env, epsilon, tau, 1000, 50, 0.5, False)"
      ],
      "execution_count": null,
      "outputs": []
    },
    {
      "cell_type": "markdown",
      "metadata": {
        "id": "sDquKHXZiPmA"
      },
      "source": [
        "### Effect of hyper-parameters"
      ]
    },
    {
      "cell_type": "markdown",
      "metadata": {
        "id": "JqnYA-fKiTU3"
      },
      "source": [
        "The other two hyper-parameters of **q-learning** and **sarsa** are $\\alpha$, and $\\gamma$. By varying the values of these hyper-parameters and watching the learning process and behavior of the agent, explain their impact on the algorithm. Using additional plotting functions is also welcome."
      ]
    }
  ]
}