{
 "cells": [
  {
   "cell_type": "code",
   "execution_count": 4,
   "metadata": {},
   "outputs": [
    {
     "name": "stdout",
     "output_type": "stream",
     "text": [
      "Collecting git+https://github.com/patrolSU2019/bbrl_gym.git\n",
      "  Cloning https://github.com/patrolSU2019/bbrl_gym.git to /private/var/folders/rg/dd7xvnms5q72qf02psgkl7400000gn/T/pip-req-build-w1bbdnym\n",
      "  Running command git clone --filter=blob:none --quiet https://github.com/patrolSU2019/bbrl_gym.git /private/var/folders/rg/dd7xvnms5q72qf02psgkl7400000gn/T/pip-req-build-w1bbdnym\n",
      "  Resolved https://github.com/patrolSU2019/bbrl_gym.git to commit 97e14fe616b2b534879e4b9371ff0c27f3681e6a\n",
      "  Installing build dependencies ... \u001b[?25ldone\n",
      "\u001b[?25h  Getting requirements to build wheel ... \u001b[?25ldone\n",
      "\u001b[?25h  Installing backend dependencies ... \u001b[?25ldone\n",
      "\u001b[?25h  Preparing metadata (pyproject.toml) ... \u001b[?25ldone\n",
      "\u001b[?25hCollecting mazemdp@ git+https://github.com/patrolSU2019/SimpleMazeMDP.git@master\n",
      "  Cloning https://github.com/patrolSU2019/SimpleMazeMDP.git (to revision master) to /private/var/folders/rg/dd7xvnms5q72qf02psgkl7400000gn/T/pip-install-b4alofr2/mazemdp_d1cbc2dc56a54f429f2c1a2bf070439c\n",
      "  Running command git clone --filter=blob:none --quiet https://github.com/patrolSU2019/SimpleMazeMDP.git /private/var/folders/rg/dd7xvnms5q72qf02psgkl7400000gn/T/pip-install-b4alofr2/mazemdp_d1cbc2dc56a54f429f2c1a2bf070439c\n",
      "  Resolved https://github.com/patrolSU2019/SimpleMazeMDP.git to commit 7bf393dc4797ff67fdf602aa54ff0142e2ff80f8\n",
      "  Installing build dependencies ... \u001b[?25ldone\n",
      "\u001b[?25h\u001b[33m  WARNING: Missing build requirements in pyproject.toml for mazemdp@ git+https://github.com/patrolSU2019/SimpleMazeMDP.git@master from git+https://github.com/patrolSU2019/SimpleMazeMDP.git@master (from bbrl-gym==0.1.dev89+g97e14fe).\u001b[0m\u001b[33m\n",
      "\u001b[0m\u001b[33m  WARNING: The project does not specify a build backend, and pip cannot fall back to setuptools without 'wheel'.\u001b[0m\u001b[33m\n",
      "\u001b[0m  Getting requirements to build wheel ... \u001b[?25ldone\n",
      "\u001b[?25h  Installing backend dependencies ... \u001b[?25ldone\n",
      "\u001b[?25h  Preparing metadata (pyproject.toml) ... \u001b[?25ldone\n",
      "\u001b[?25hRequirement already satisfied: box2d-py in /opt/homebrew/Caskroom/miniforge/base/envs/MAPSI/lib/python3.10/site-packages (from bbrl-gym==0.1.dev89+g97e14fe) (2.3.8)\n",
      "Requirement already satisfied: swig in /opt/homebrew/Caskroom/miniforge/base/envs/MAPSI/lib/python3.10/site-packages (from bbrl-gym==0.1.dev89+g97e14fe) (4.1.1)\n",
      "Requirement already satisfied: numpy>=1.19.1 in /opt/homebrew/Caskroom/miniforge/base/envs/MAPSI/lib/python3.10/site-packages (from bbrl-gym==0.1.dev89+g97e14fe) (1.24.1)\n",
      "Requirement already satisfied: gym==0.21.0 in /opt/homebrew/Caskroom/miniforge/base/envs/MAPSI/lib/python3.10/site-packages (from bbrl-gym==0.1.dev89+g97e14fe) (0.21.0)\n",
      "Requirement already satisfied: cloudpickle>=1.2.0 in /opt/homebrew/Caskroom/miniforge/base/envs/MAPSI/lib/python3.10/site-packages (from gym==0.21.0->bbrl-gym==0.1.dev89+g97e14fe) (2.2.1)\n",
      "Requirement already satisfied: matplotlib in /opt/homebrew/Caskroom/miniforge/base/envs/MAPSI/lib/python3.10/site-packages (from mazemdp@ git+https://github.com/patrolSU2019/SimpleMazeMDP.git@master->bbrl-gym==0.1.dev89+g97e14fe) (3.4.3)\n",
      "Requirement already satisfied: cycler>=0.10 in /opt/homebrew/Caskroom/miniforge/base/envs/MAPSI/lib/python3.10/site-packages (from matplotlib->mazemdp@ git+https://github.com/patrolSU2019/SimpleMazeMDP.git@master->bbrl-gym==0.1.dev89+g97e14fe) (0.11.0)\n",
      "Requirement already satisfied: python-dateutil>=2.7 in /opt/homebrew/Caskroom/miniforge/base/envs/MAPSI/lib/python3.10/site-packages (from matplotlib->mazemdp@ git+https://github.com/patrolSU2019/SimpleMazeMDP.git@master->bbrl-gym==0.1.dev89+g97e14fe) (2.8.2)\n",
      "Requirement already satisfied: kiwisolver>=1.0.1 in /opt/homebrew/Caskroom/miniforge/base/envs/MAPSI/lib/python3.10/site-packages (from matplotlib->mazemdp@ git+https://github.com/patrolSU2019/SimpleMazeMDP.git@master->bbrl-gym==0.1.dev89+g97e14fe) (1.4.4)\n",
      "Requirement already satisfied: pillow>=6.2.0 in /opt/homebrew/Caskroom/miniforge/base/envs/MAPSI/lib/python3.10/site-packages (from matplotlib->mazemdp@ git+https://github.com/patrolSU2019/SimpleMazeMDP.git@master->bbrl-gym==0.1.dev89+g97e14fe) (9.2.0)\n",
      "Requirement already satisfied: pyparsing>=2.2.1 in /opt/homebrew/Caskroom/miniforge/base/envs/MAPSI/lib/python3.10/site-packages (from matplotlib->mazemdp@ git+https://github.com/patrolSU2019/SimpleMazeMDP.git@master->bbrl-gym==0.1.dev89+g97e14fe) (3.0.9)\n",
      "Requirement already satisfied: six>=1.5 in /opt/homebrew/Caskroom/miniforge/base/envs/MAPSI/lib/python3.10/site-packages (from python-dateutil>=2.7->matplotlib->mazemdp@ git+https://github.com/patrolSU2019/SimpleMazeMDP.git@master->bbrl-gym==0.1.dev89+g97e14fe) (1.16.0)\n",
      "Building wheels for collected packages: mazemdp\n",
      "  Building wheel for mazemdp (pyproject.toml) ... \u001b[?25ldone\n",
      "\u001b[?25h  Created wheel for mazemdp: filename=mazemdp-0.1.dev146+g7bf393d-py3-none-any.whl size=15664 sha256=a68666e05b05920b54dd31742aaa61b84dc2e7d7c7cc482fc5d9245d7d0fd28e\n",
      "  Stored in directory: /private/var/folders/rg/dd7xvnms5q72qf02psgkl7400000gn/T/pip-ephem-wheel-cache-r6072zsh/wheels/2c/78/c2/731c166d6a92be9851210a19c70178f37a3755af8c073f5efc\n",
      "Successfully built mazemdp\n",
      "Installing collected packages: mazemdp\n",
      "  Attempting uninstall: mazemdp\n",
      "    Found existing installation: mazemdp 0.1.dev145+gb96b76a\n",
      "    Uninstalling mazemdp-0.1.dev145+gb96b76a:\n",
      "      Successfully uninstalled mazemdp-0.1.dev145+gb96b76a\n",
      "Successfully installed mazemdp-0.1.dev146+g7bf393d\n",
      "Note: you may need to restart the kernel to use updated packages.\n"
     ]
    }
   ],
   "source": [
    "%pip install git+https://github.com/patrolSU2019/bbrl_gym.git"
   ]
  },
  {
   "cell_type": "code",
   "execution_count": 5,
   "metadata": {},
   "outputs": [
    {
     "data": {
      "application/vnd.jupyter.widget-view+json": {
       "model_id": "dcc15948e76c4183b932ac479051f545",
       "version_major": 2,
       "version_minor": 0
      },
      "text/plain": [
       "Output()"
      ]
     },
     "metadata": {},
     "output_type": "display_data"
    }
   ],
   "source": [
    "import os\n",
    "from typing import Tuple, List\n",
    "\n",
    "import numpy as np\n",
    "import matplotlib.pyplot as plt\n",
    "from tqdm.notebook import tqdm\n",
    "\n",
    "from mazemdp.toolbox import egreedy, egreedy_loc, softmax, sample_categorical\n",
    "from mazemdp.maze_plotter import show_videos\n",
    "from mazemdp.mdp import Mdp\n",
    "from bbrl_gym.envs.maze_mdp import MazeMDPEnv\n",
    "\n",
    "# For visualization\n",
    "os.environ[\"VIDEO_FPS\"] = \"5\"\n",
    "if not os.path.isdir(\"./videos\"):\n",
    "    os.mkdir(\"./videos\")\n",
    "\n",
    "from IPython.display import Video\n",
    "\n",
    "# Settings\n",
    "NB_EPISODES = 50\n",
    "TIMEOUT = 25\n",
    "\n",
    "\n",
    "import gym\n",
    "import bbrl_gym\n",
    "\n",
    "\n",
    "env = gym.make(\"MazeMDP-v0\", kwargs={\"width\": 3, \"height\": 3, \"ratio\": 0.2})\n",
    "env.reset()\n",
    "\n",
    "# set this False to render correctly in pycharm\n",
    "# env.mdp.plotter.using_notebook = False\n",
    "\n",
    "# in dynamic programming, there is no agent moving in the environment\n",
    "env.init_draw(\"The maze\")"
   ]
  },
  {
   "cell_type": "code",
   "execution_count": 2,
   "metadata": {},
   "outputs": [],
   "source": [
    "# --------------------------- Q-Learning epsilon-greedy version -------------------------------#\n",
    "\n",
    "# Given an exploration rate epsilon, the QLearning algorithm computes the state action-value function\n",
    "# based on an epsilon-greedy policy\n",
    "# alpha is the learning rate\n",
    "\n",
    "def get_policy_from_q(q: np.ndarray) -> np.ndarray:\n",
    "    return np.argmax(q, axis=2)\n",
    "    \n",
    "def q_learning_eps(\n",
    "    mdp: MazeMDPEnv,\n",
    "    epsilon: float,\n",
    "    nb_episodes: int = 20,\n",
    "    timeout: int = 50,\n",
    "    alpha: float = 0.5,\n",
    "    render: bool = True,\n",
    ") -> Tuple[np.ndarray, List[float], List[int]]:\n",
    "    # Initialize the state-action value function\n",
    "    # alpha is the learning rate\n",
    "    q = np.zeros((mdp.nb_states, mdp.nb_states -1 ,mdp.action_space.n))\n",
    "    q_list = []\n",
    "    time_list = []\n",
    "\n",
    "    # Run learning cycle\n",
    "    mdp.set_timeout(timeout)  # episode length\n",
    "\n",
    "    \n",
    "\n",
    "    if render:\n",
    "        mdp.init_draw(f\"Q-learning e-greedy with goal\")\n",
    "    for goal in range(mdp.nb_states-1):\n",
    "        mdp.change_last_states([goal])\n",
    "        for _ in tqdm(range(nb_episodes)):\n",
    "            # Draw the first state of episode i using a uniform distribution over all the states\n",
    "            x = mdp.reset(uniform=True)\n",
    "            done = False\n",
    "        \n",
    "            while not done:\n",
    "                if render:\n",
    "                    # Show the agent in the maze\n",
    "                    mdp.draw_v_pi(q[:, goal, : ], np.argmax(q[:, goal, :], axis=1))\n",
    "\n",
    "\n",
    "                # Draw an action using an epsilon-greedy policy\n",
    "                u = egreedy(q[:, goal, : ], x, epsilon)\n",
    "\n",
    "                # Perform a step of the MDP\n",
    "                [y, r, done, _] = mdp.step(u)\n",
    "\n",
    "                # Update the state-action value function\n",
    "                delta = r + mdp.gamma * np.max(q[y, goal]) - q[x,goal,u]\n",
    "                q[x,goal, u] = q[x,goal, u] + alpha * delta\n",
    "\n",
    "                # Update the agent position\n",
    "                x = y\n",
    "            q_list.append(np.linalg.norm(q))\n",
    "            time_list.append(mdp.mdp.timestep)\n",
    "\n",
    "    # if render:\n",
    "    #     # Show the final policy\n",
    "    #     mdp.current_state = 0\n",
    "    #     mdp.draw_v_pi(q, get_policy_from_q(q), title=\"Q-learning e-greedy\")\n",
    "    return q, q_list, time_list\n"
   ]
  },
  {
   "cell_type": "code",
   "execution_count": 6,
   "metadata": {},
   "outputs": [
    {
     "data": {
      "application/vnd.jupyter.widget-view+json": {
       "model_id": "9e6b60388eef43fa84519ec247ef96cd",
       "version_major": 2,
       "version_minor": 0
      },
      "text/plain": [
       "Output()"
      ]
     },
     "metadata": {},
     "output_type": "display_data"
    },
    {
     "data": {
      "application/vnd.jupyter.widget-view+json": {
       "model_id": "3eebf0fc453b425394d7ab1546b744ca",
       "version_major": 2,
       "version_minor": 0
      },
      "text/plain": [
       "  0%|          | 0/20 [00:00<?, ?it/s]"
      ]
     },
     "metadata": {},
     "output_type": "display_data"
    },
    {
     "data": {
      "application/vnd.jupyter.widget-view+json": {
       "model_id": "1fe6e4055f0e4942b2e3741d1c47628b",
       "version_major": 2,
       "version_minor": 0
      },
      "text/plain": [
       "  0%|          | 0/20 [00:00<?, ?it/s]"
      ]
     },
     "metadata": {},
     "output_type": "display_data"
    },
    {
     "data": {
      "application/vnd.jupyter.widget-view+json": {
       "model_id": "f35a708c9e4e475ca68d975d459b4cfa",
       "version_major": 2,
       "version_minor": 0
      },
      "text/plain": [
       "  0%|          | 0/20 [00:00<?, ?it/s]"
      ]
     },
     "metadata": {},
     "output_type": "display_data"
    },
    {
     "data": {
      "application/vnd.jupyter.widget-view+json": {
       "model_id": "b5656b41951f4df5a069a4ceee4a8170",
       "version_major": 2,
       "version_minor": 0
      },
      "text/plain": [
       "  0%|          | 0/20 [00:00<?, ?it/s]"
      ]
     },
     "metadata": {},
     "output_type": "display_data"
    },
    {
     "data": {
      "application/vnd.jupyter.widget-view+json": {
       "model_id": "bf552edeac0a45d88c40f0802df9139e",
       "version_major": 2,
       "version_minor": 0
      },
      "text/plain": [
       "  0%|          | 0/20 [00:00<?, ?it/s]"
      ]
     },
     "metadata": {},
     "output_type": "display_data"
    },
    {
     "data": {
      "application/vnd.jupyter.widget-view+json": {
       "model_id": "20e3a0bedf2c4e52bb1d85caaded7f6b",
       "version_major": 2,
       "version_minor": 0
      },
      "text/plain": [
       "  0%|          | 0/20 [00:00<?, ?it/s]"
      ]
     },
     "metadata": {},
     "output_type": "display_data"
    },
    {
     "data": {
      "application/vnd.jupyter.widget-view+json": {
       "model_id": "5d6876bf9c68480f82c6c7a90c44fc5f",
       "version_major": 2,
       "version_minor": 0
      },
      "text/plain": [
       "  0%|          | 0/20 [00:00<?, ?it/s]"
      ]
     },
     "metadata": {},
     "output_type": "display_data"
    }
   ],
   "source": [
    "q , q_list, time_list = q_learning_eps(env, 0.1, 20, 20, 0.5, True)"
   ]
  }
 ],
 "metadata": {
  "kernelspec": {
   "display_name": "MAPSI",
   "language": "python",
   "name": "python3"
  },
  "language_info": {
   "codemirror_mode": {
    "name": "ipython",
    "version": 3
   },
   "file_extension": ".py",
   "mimetype": "text/x-python",
   "name": "python",
   "nbconvert_exporter": "python",
   "pygments_lexer": "ipython3",
   "version": "3.10.8"
  },
  "orig_nbformat": 4,
  "vscode": {
   "interpreter": {
    "hash": "6cd79503748b5223e5db4f7a1bfb24a442e426267ae75455059d26da2b218ee8"
   }
  }
 },
 "nbformat": 4,
 "nbformat_minor": 2
}
