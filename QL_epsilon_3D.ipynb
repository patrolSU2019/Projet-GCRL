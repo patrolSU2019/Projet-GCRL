{
  "nbformat": 4,
  "nbformat_minor": 0,
  "metadata": {
    "colab": {
      "provenance": [],
      "collapsed_sections": [
        "Z4uJZciqIfB1",
        "htrWFI-GIiol"
      ]
    },
    "kernelspec": {
      "name": "python3",
      "display_name": "Python 3"
    },
    "language_info": {
      "name": "python"
    },
    "widgets": {
      "application/vnd.jupyter.widget-state+json": {
        "43c94faece9f4b2b90264aca90b1679e": {
          "model_module": "@jupyter-widgets/output",
          "model_name": "OutputModel",
          "model_module_version": "1.0.0",
          "state": {
            "_dom_classes": [],
            "_model_module": "@jupyter-widgets/output",
            "_model_module_version": "1.0.0",
            "_model_name": "OutputModel",
            "_view_count": null,
            "_view_module": "@jupyter-widgets/output",
            "_view_module_version": "1.0.0",
            "_view_name": "OutputView",
            "layout": "IPY_MODEL_20f83d31430346b29ee333cf3785cf2c",
            "msg_id": "",
            "outputs": [
              {
                "output_type": "display_data",
                "data": {
                  "image/png": "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\n",
                  "text/plain": "<IPython.core.display.Image object>"
                },
                "metadata": {}
              }
            ]
          }
        },
        "20f83d31430346b29ee333cf3785cf2c": {
          "model_module": "@jupyter-widgets/base",
          "model_name": "LayoutModel",
          "model_module_version": "1.2.0",
          "state": {
            "_model_module": "@jupyter-widgets/base",
            "_model_module_version": "1.2.0",
            "_model_name": "LayoutModel",
            "_view_count": null,
            "_view_module": "@jupyter-widgets/base",
            "_view_module_version": "1.2.0",
            "_view_name": "LayoutView",
            "align_content": null,
            "align_items": null,
            "align_self": null,
            "border": null,
            "bottom": null,
            "display": null,
            "flex": null,
            "flex_flow": null,
            "grid_area": null,
            "grid_auto_columns": null,
            "grid_auto_flow": null,
            "grid_auto_rows": null,
            "grid_column": null,
            "grid_gap": null,
            "grid_row": null,
            "grid_template_areas": null,
            "grid_template_columns": null,
            "grid_template_rows": null,
            "height": null,
            "justify_content": null,
            "justify_items": null,
            "left": null,
            "margin": null,
            "max_height": null,
            "max_width": null,
            "min_height": null,
            "min_width": null,
            "object_fit": null,
            "object_position": null,
            "order": null,
            "overflow": null,
            "overflow_x": null,
            "overflow_y": null,
            "padding": null,
            "right": null,
            "top": null,
            "visibility": null,
            "width": null
          }
        },
        "b98ca632e71440dcb6600d983d01c4f2": {
          "model_module": "@jupyter-widgets/controls",
          "model_name": "HBoxModel",
          "model_module_version": "1.5.0",
          "state": {
            "_dom_classes": [],
            "_model_module": "@jupyter-widgets/controls",
            "_model_module_version": "1.5.0",
            "_model_name": "HBoxModel",
            "_view_count": null,
            "_view_module": "@jupyter-widgets/controls",
            "_view_module_version": "1.5.0",
            "_view_name": "HBoxView",
            "box_style": "",
            "children": [
              "IPY_MODEL_7b5a89050c7d489abb8440c6230375f6",
              "IPY_MODEL_ff02da5f5af244daa122413de247bbaa",
              "IPY_MODEL_b5c0f00a769f48d5b20fcc12b3f220a1"
            ],
            "layout": "IPY_MODEL_a66a87577e214897a3353539cc6f948d"
          }
        },
        "7b5a89050c7d489abb8440c6230375f6": {
          "model_module": "@jupyter-widgets/controls",
          "model_name": "HTMLModel",
          "model_module_version": "1.5.0",
          "state": {
            "_dom_classes": [],
            "_model_module": "@jupyter-widgets/controls",
            "_model_module_version": "1.5.0",
            "_model_name": "HTMLModel",
            "_view_count": null,
            "_view_module": "@jupyter-widgets/controls",
            "_view_module_version": "1.5.0",
            "_view_name": "HTMLView",
            "description": "",
            "description_tooltip": null,
            "layout": "IPY_MODEL_7750007684294b62baa9ce15fa541a32",
            "placeholder": "​",
            "style": "IPY_MODEL_2720ce0c5f374a75b9eb5228752408a6",
            "value": "100%"
          }
        },
        "ff02da5f5af244daa122413de247bbaa": {
          "model_module": "@jupyter-widgets/controls",
          "model_name": "FloatProgressModel",
          "model_module_version": "1.5.0",
          "state": {
            "_dom_classes": [],
            "_model_module": "@jupyter-widgets/controls",
            "_model_module_version": "1.5.0",
            "_model_name": "FloatProgressModel",
            "_view_count": null,
            "_view_module": "@jupyter-widgets/controls",
            "_view_module_version": "1.5.0",
            "_view_name": "ProgressView",
            "bar_style": "success",
            "description": "",
            "description_tooltip": null,
            "layout": "IPY_MODEL_2714b015f8904a9ca784817382a7b007",
            "max": 20,
            "min": 0,
            "orientation": "horizontal",
            "style": "IPY_MODEL_1a312f6275af42648347085abc3f2098",
            "value": 20
          }
        },
        "b5c0f00a769f48d5b20fcc12b3f220a1": {
          "model_module": "@jupyter-widgets/controls",
          "model_name": "HTMLModel",
          "model_module_version": "1.5.0",
          "state": {
            "_dom_classes": [],
            "_model_module": "@jupyter-widgets/controls",
            "_model_module_version": "1.5.0",
            "_model_name": "HTMLModel",
            "_view_count": null,
            "_view_module": "@jupyter-widgets/controls",
            "_view_module_version": "1.5.0",
            "_view_name": "HTMLView",
            "description": "",
            "description_tooltip": null,
            "layout": "IPY_MODEL_cfec7df356444ca58170ba2e6416b08a",
            "placeholder": "​",
            "style": "IPY_MODEL_829907529ab44bd9ad3f1c0bdf12c06e",
            "value": " 20/20 [00:57&lt;00:00,  3.62s/it]"
          }
        },
        "a66a87577e214897a3353539cc6f948d": {
          "model_module": "@jupyter-widgets/base",
          "model_name": "LayoutModel",
          "model_module_version": "1.2.0",
          "state": {
            "_model_module": "@jupyter-widgets/base",
            "_model_module_version": "1.2.0",
            "_model_name": "LayoutModel",
            "_view_count": null,
            "_view_module": "@jupyter-widgets/base",
            "_view_module_version": "1.2.0",
            "_view_name": "LayoutView",
            "align_content": null,
            "align_items": null,
            "align_self": null,
            "border": null,
            "bottom": null,
            "display": null,
            "flex": null,
            "flex_flow": null,
            "grid_area": null,
            "grid_auto_columns": null,
            "grid_auto_flow": null,
            "grid_auto_rows": null,
            "grid_column": null,
            "grid_gap": null,
            "grid_row": null,
            "grid_template_areas": null,
            "grid_template_columns": null,
            "grid_template_rows": null,
            "height": null,
            "justify_content": null,
            "justify_items": null,
            "left": null,
            "margin": null,
            "max_height": null,
            "max_width": null,
            "min_height": null,
            "min_width": null,
            "object_fit": null,
            "object_position": null,
            "order": null,
            "overflow": null,
            "overflow_x": null,
            "overflow_y": null,
            "padding": null,
            "right": null,
            "top": null,
            "visibility": null,
            "width": null
          }
        },
        "7750007684294b62baa9ce15fa541a32": {
          "model_module": "@jupyter-widgets/base",
          "model_name": "LayoutModel",
          "model_module_version": "1.2.0",
          "state": {
            "_model_module": "@jupyter-widgets/base",
            "_model_module_version": "1.2.0",
            "_model_name": "LayoutModel",
            "_view_count": null,
            "_view_module": "@jupyter-widgets/base",
            "_view_module_version": "1.2.0",
            "_view_name": "LayoutView",
            "align_content": null,
            "align_items": null,
            "align_self": null,
            "border": null,
            "bottom": null,
            "display": null,
            "flex": null,
            "flex_flow": null,
            "grid_area": null,
            "grid_auto_columns": null,
            "grid_auto_flow": null,
            "grid_auto_rows": null,
            "grid_column": null,
            "grid_gap": null,
            "grid_row": null,
            "grid_template_areas": null,
            "grid_template_columns": null,
            "grid_template_rows": null,
            "height": null,
            "justify_content": null,
            "justify_items": null,
            "left": null,
            "margin": null,
            "max_height": null,
            "max_width": null,
            "min_height": null,
            "min_width": null,
            "object_fit": null,
            "object_position": null,
            "order": null,
            "overflow": null,
            "overflow_x": null,
            "overflow_y": null,
            "padding": null,
            "right": null,
            "top": null,
            "visibility": null,
            "width": null
          }
        },
        "2720ce0c5f374a75b9eb5228752408a6": {
          "model_module": "@jupyter-widgets/controls",
          "model_name": "DescriptionStyleModel",
          "model_module_version": "1.5.0",
          "state": {
            "_model_module": "@jupyter-widgets/controls",
            "_model_module_version": "1.5.0",
            "_model_name": "DescriptionStyleModel",
            "_view_count": null,
            "_view_module": "@jupyter-widgets/base",
            "_view_module_version": "1.2.0",
            "_view_name": "StyleView",
            "description_width": ""
          }
        },
        "2714b015f8904a9ca784817382a7b007": {
          "model_module": "@jupyter-widgets/base",
          "model_name": "LayoutModel",
          "model_module_version": "1.2.0",
          "state": {
            "_model_module": "@jupyter-widgets/base",
            "_model_module_version": "1.2.0",
            "_model_name": "LayoutModel",
            "_view_count": null,
            "_view_module": "@jupyter-widgets/base",
            "_view_module_version": "1.2.0",
            "_view_name": "LayoutView",
            "align_content": null,
            "align_items": null,
            "align_self": null,
            "border": null,
            "bottom": null,
            "display": null,
            "flex": null,
            "flex_flow": null,
            "grid_area": null,
            "grid_auto_columns": null,
            "grid_auto_flow": null,
            "grid_auto_rows": null,
            "grid_column": null,
            "grid_gap": null,
            "grid_row": null,
            "grid_template_areas": null,
            "grid_template_columns": null,
            "grid_template_rows": null,
            "height": null,
            "justify_content": null,
            "justify_items": null,
            "left": null,
            "margin": null,
            "max_height": null,
            "max_width": null,
            "min_height": null,
            "min_width": null,
            "object_fit": null,
            "object_position": null,
            "order": null,
            "overflow": null,
            "overflow_x": null,
            "overflow_y": null,
            "padding": null,
            "right": null,
            "top": null,
            "visibility": null,
            "width": null
          }
        },
        "1a312f6275af42648347085abc3f2098": {
          "model_module": "@jupyter-widgets/controls",
          "model_name": "ProgressStyleModel",
          "model_module_version": "1.5.0",
          "state": {
            "_model_module": "@jupyter-widgets/controls",
            "_model_module_version": "1.5.0",
            "_model_name": "ProgressStyleModel",
            "_view_count": null,
            "_view_module": "@jupyter-widgets/base",
            "_view_module_version": "1.2.0",
            "_view_name": "StyleView",
            "bar_color": null,
            "description_width": ""
          }
        },
        "cfec7df356444ca58170ba2e6416b08a": {
          "model_module": "@jupyter-widgets/base",
          "model_name": "LayoutModel",
          "model_module_version": "1.2.0",
          "state": {
            "_model_module": "@jupyter-widgets/base",
            "_model_module_version": "1.2.0",
            "_model_name": "LayoutModel",
            "_view_count": null,
            "_view_module": "@jupyter-widgets/base",
            "_view_module_version": "1.2.0",
            "_view_name": "LayoutView",
            "align_content": null,
            "align_items": null,
            "align_self": null,
            "border": null,
            "bottom": null,
            "display": null,
            "flex": null,
            "flex_flow": null,
            "grid_area": null,
            "grid_auto_columns": null,
            "grid_auto_flow": null,
            "grid_auto_rows": null,
            "grid_column": null,
            "grid_gap": null,
            "grid_row": null,
            "grid_template_areas": null,
            "grid_template_columns": null,
            "grid_template_rows": null,
            "height": null,
            "justify_content": null,
            "justify_items": null,
            "left": null,
            "margin": null,
            "max_height": null,
            "max_width": null,
            "min_height": null,
            "min_width": null,
            "object_fit": null,
            "object_position": null,
            "order": null,
            "overflow": null,
            "overflow_x": null,
            "overflow_y": null,
            "padding": null,
            "right": null,
            "top": null,
            "visibility": null,
            "width": null
          }
        },
        "829907529ab44bd9ad3f1c0bdf12c06e": {
          "model_module": "@jupyter-widgets/controls",
          "model_name": "DescriptionStyleModel",
          "model_module_version": "1.5.0",
          "state": {
            "_model_module": "@jupyter-widgets/controls",
            "_model_module_version": "1.5.0",
            "_model_name": "DescriptionStyleModel",
            "_view_count": null,
            "_view_module": "@jupyter-widgets/base",
            "_view_module_version": "1.2.0",
            "_view_name": "StyleView",
            "description_width": ""
          }
        },
        "8a773334e66c4b0d88a7c48ac05e502c": {
          "model_module": "@jupyter-widgets/output",
          "model_name": "OutputModel",
          "model_module_version": "1.0.0",
          "state": {
            "_dom_classes": [],
            "_model_module": "@jupyter-widgets/output",
            "_model_module_version": "1.0.0",
            "_model_name": "OutputModel",
            "_view_count": null,
            "_view_module": "@jupyter-widgets/output",
            "_view_module_version": "1.0.0",
            "_view_name": "OutputView",
            "layout": "IPY_MODEL_43524a12ef864fedbbdfcb748ce18189",
            "msg_id": "",
            "outputs": [
              {
                "output_type": "display_data",
                "data": {
                  "image/png": "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\n",
                  "text/plain": "<IPython.core.display.Image object>"
                },
                "metadata": {}
              }
            ]
          }
        },
        "43524a12ef864fedbbdfcb748ce18189": {
          "model_module": "@jupyter-widgets/base",
          "model_name": "LayoutModel",
          "model_module_version": "1.2.0",
          "state": {
            "_model_module": "@jupyter-widgets/base",
            "_model_module_version": "1.2.0",
            "_model_name": "LayoutModel",
            "_view_count": null,
            "_view_module": "@jupyter-widgets/base",
            "_view_module_version": "1.2.0",
            "_view_name": "LayoutView",
            "align_content": null,
            "align_items": null,
            "align_self": null,
            "border": null,
            "bottom": null,
            "display": null,
            "flex": null,
            "flex_flow": null,
            "grid_area": null,
            "grid_auto_columns": null,
            "grid_auto_flow": null,
            "grid_auto_rows": null,
            "grid_column": null,
            "grid_gap": null,
            "grid_row": null,
            "grid_template_areas": null,
            "grid_template_columns": null,
            "grid_template_rows": null,
            "height": null,
            "justify_content": null,
            "justify_items": null,
            "left": null,
            "margin": null,
            "max_height": null,
            "max_width": null,
            "min_height": null,
            "min_width": null,
            "object_fit": null,
            "object_position": null,
            "order": null,
            "overflow": null,
            "overflow_x": null,
            "overflow_y": null,
            "padding": null,
            "right": null,
            "top": null,
            "visibility": null,
            "width": null
          }
        },
        "95e3ecb39d954164b0137f65b454bc8a": {
          "model_module": "@jupyter-widgets/controls",
          "model_name": "HBoxModel",
          "model_module_version": "1.5.0",
          "state": {
            "_dom_classes": [],
            "_model_module": "@jupyter-widgets/controls",
            "_model_module_version": "1.5.0",
            "_model_name": "HBoxModel",
            "_view_count": null,
            "_view_module": "@jupyter-widgets/controls",
            "_view_module_version": "1.5.0",
            "_view_name": "HBoxView",
            "box_style": "",
            "children": [
              "IPY_MODEL_b29625ad20cf486aadccfd651f15f9a0",
              "IPY_MODEL_dbf10359b6254faa90b9fb662ff7adf2",
              "IPY_MODEL_44406b2985dd414fa853bd7e2aaaad0f"
            ],
            "layout": "IPY_MODEL_2adba8a73d174589865e59e22070a36a"
          }
        },
        "b29625ad20cf486aadccfd651f15f9a0": {
          "model_module": "@jupyter-widgets/controls",
          "model_name": "HTMLModel",
          "model_module_version": "1.5.0",
          "state": {
            "_dom_classes": [],
            "_model_module": "@jupyter-widgets/controls",
            "_model_module_version": "1.5.0",
            "_model_name": "HTMLModel",
            "_view_count": null,
            "_view_module": "@jupyter-widgets/controls",
            "_view_module_version": "1.5.0",
            "_view_name": "HTMLView",
            "description": "",
            "description_tooltip": null,
            "layout": "IPY_MODEL_8a325f31a54d423682650f1ca4135426",
            "placeholder": "​",
            "style": "IPY_MODEL_d2ce2b4989c4462396576b17d1058f23",
            "value": "100%"
          }
        },
        "dbf10359b6254faa90b9fb662ff7adf2": {
          "model_module": "@jupyter-widgets/controls",
          "model_name": "FloatProgressModel",
          "model_module_version": "1.5.0",
          "state": {
            "_dom_classes": [],
            "_model_module": "@jupyter-widgets/controls",
            "_model_module_version": "1.5.0",
            "_model_name": "FloatProgressModel",
            "_view_count": null,
            "_view_module": "@jupyter-widgets/controls",
            "_view_module_version": "1.5.0",
            "_view_name": "ProgressView",
            "bar_style": "success",
            "description": "",
            "description_tooltip": null,
            "layout": "IPY_MODEL_b90b80321ec54667bf88143526928b9a",
            "max": 10,
            "min": 0,
            "orientation": "horizontal",
            "style": "IPY_MODEL_b07fe52e324745c48527afe2a7eafd77",
            "value": 10
          }
        },
        "44406b2985dd414fa853bd7e2aaaad0f": {
          "model_module": "@jupyter-widgets/controls",
          "model_name": "HTMLModel",
          "model_module_version": "1.5.0",
          "state": {
            "_dom_classes": [],
            "_model_module": "@jupyter-widgets/controls",
            "_model_module_version": "1.5.0",
            "_model_name": "HTMLModel",
            "_view_count": null,
            "_view_module": "@jupyter-widgets/controls",
            "_view_module_version": "1.5.0",
            "_view_name": "HTMLView",
            "description": "",
            "description_tooltip": null,
            "layout": "IPY_MODEL_8627685a84094475aa6ec47841066dd1",
            "placeholder": "​",
            "style": "IPY_MODEL_d1ec0985dd9c41488be6632b384a952f",
            "value": " 10/10 [00:01&lt;00:00,  6.66it/s]"
          }
        },
        "2adba8a73d174589865e59e22070a36a": {
          "model_module": "@jupyter-widgets/base",
          "model_name": "LayoutModel",
          "model_module_version": "1.2.0",
          "state": {
            "_model_module": "@jupyter-widgets/base",
            "_model_module_version": "1.2.0",
            "_model_name": "LayoutModel",
            "_view_count": null,
            "_view_module": "@jupyter-widgets/base",
            "_view_module_version": "1.2.0",
            "_view_name": "LayoutView",
            "align_content": null,
            "align_items": null,
            "align_self": null,
            "border": null,
            "bottom": null,
            "display": null,
            "flex": null,
            "flex_flow": null,
            "grid_area": null,
            "grid_auto_columns": null,
            "grid_auto_flow": null,
            "grid_auto_rows": null,
            "grid_column": null,
            "grid_gap": null,
            "grid_row": null,
            "grid_template_areas": null,
            "grid_template_columns": null,
            "grid_template_rows": null,
            "height": null,
            "justify_content": null,
            "justify_items": null,
            "left": null,
            "margin": null,
            "max_height": null,
            "max_width": null,
            "min_height": null,
            "min_width": null,
            "object_fit": null,
            "object_position": null,
            "order": null,
            "overflow": null,
            "overflow_x": null,
            "overflow_y": null,
            "padding": null,
            "right": null,
            "top": null,
            "visibility": null,
            "width": null
          }
        },
        "8a325f31a54d423682650f1ca4135426": {
          "model_module": "@jupyter-widgets/base",
          "model_name": "LayoutModel",
          "model_module_version": "1.2.0",
          "state": {
            "_model_module": "@jupyter-widgets/base",
            "_model_module_version": "1.2.0",
            "_model_name": "LayoutModel",
            "_view_count": null,
            "_view_module": "@jupyter-widgets/base",
            "_view_module_version": "1.2.0",
            "_view_name": "LayoutView",
            "align_content": null,
            "align_items": null,
            "align_self": null,
            "border": null,
            "bottom": null,
            "display": null,
            "flex": null,
            "flex_flow": null,
            "grid_area": null,
            "grid_auto_columns": null,
            "grid_auto_flow": null,
            "grid_auto_rows": null,
            "grid_column": null,
            "grid_gap": null,
            "grid_row": null,
            "grid_template_areas": null,
            "grid_template_columns": null,
            "grid_template_rows": null,
            "height": null,
            "justify_content": null,
            "justify_items": null,
            "left": null,
            "margin": null,
            "max_height": null,
            "max_width": null,
            "min_height": null,
            "min_width": null,
            "object_fit": null,
            "object_position": null,
            "order": null,
            "overflow": null,
            "overflow_x": null,
            "overflow_y": null,
            "padding": null,
            "right": null,
            "top": null,
            "visibility": null,
            "width": null
          }
        },
        "d2ce2b4989c4462396576b17d1058f23": {
          "model_module": "@jupyter-widgets/controls",
          "model_name": "DescriptionStyleModel",
          "model_module_version": "1.5.0",
          "state": {
            "_model_module": "@jupyter-widgets/controls",
            "_model_module_version": "1.5.0",
            "_model_name": "DescriptionStyleModel",
            "_view_count": null,
            "_view_module": "@jupyter-widgets/base",
            "_view_module_version": "1.2.0",
            "_view_name": "StyleView",
            "description_width": ""
          }
        },
        "b90b80321ec54667bf88143526928b9a": {
          "model_module": "@jupyter-widgets/base",
          "model_name": "LayoutModel",
          "model_module_version": "1.2.0",
          "state": {
            "_model_module": "@jupyter-widgets/base",
            "_model_module_version": "1.2.0",
            "_model_name": "LayoutModel",
            "_view_count": null,
            "_view_module": "@jupyter-widgets/base",
            "_view_module_version": "1.2.0",
            "_view_name": "LayoutView",
            "align_content": null,
            "align_items": null,
            "align_self": null,
            "border": null,
            "bottom": null,
            "display": null,
            "flex": null,
            "flex_flow": null,
            "grid_area": null,
            "grid_auto_columns": null,
            "grid_auto_flow": null,
            "grid_auto_rows": null,
            "grid_column": null,
            "grid_gap": null,
            "grid_row": null,
            "grid_template_areas": null,
            "grid_template_columns": null,
            "grid_template_rows": null,
            "height": null,
            "justify_content": null,
            "justify_items": null,
            "left": null,
            "margin": null,
            "max_height": null,
            "max_width": null,
            "min_height": null,
            "min_width": null,
            "object_fit": null,
            "object_position": null,
            "order": null,
            "overflow": null,
            "overflow_x": null,
            "overflow_y": null,
            "padding": null,
            "right": null,
            "top": null,
            "visibility": null,
            "width": null
          }
        },
        "b07fe52e324745c48527afe2a7eafd77": {
          "model_module": "@jupyter-widgets/controls",
          "model_name": "ProgressStyleModel",
          "model_module_version": "1.5.0",
          "state": {
            "_model_module": "@jupyter-widgets/controls",
            "_model_module_version": "1.5.0",
            "_model_name": "ProgressStyleModel",
            "_view_count": null,
            "_view_module": "@jupyter-widgets/base",
            "_view_module_version": "1.2.0",
            "_view_name": "StyleView",
            "bar_color": null,
            "description_width": ""
          }
        },
        "8627685a84094475aa6ec47841066dd1": {
          "model_module": "@jupyter-widgets/base",
          "model_name": "LayoutModel",
          "model_module_version": "1.2.0",
          "state": {
            "_model_module": "@jupyter-widgets/base",
            "_model_module_version": "1.2.0",
            "_model_name": "LayoutModel",
            "_view_count": null,
            "_view_module": "@jupyter-widgets/base",
            "_view_module_version": "1.2.0",
            "_view_name": "LayoutView",
            "align_content": null,
            "align_items": null,
            "align_self": null,
            "border": null,
            "bottom": null,
            "display": null,
            "flex": null,
            "flex_flow": null,
            "grid_area": null,
            "grid_auto_columns": null,
            "grid_auto_flow": null,
            "grid_auto_rows": null,
            "grid_column": null,
            "grid_gap": null,
            "grid_row": null,
            "grid_template_areas": null,
            "grid_template_columns": null,
            "grid_template_rows": null,
            "height": null,
            "justify_content": null,
            "justify_items": null,
            "left": null,
            "margin": null,
            "max_height": null,
            "max_width": null,
            "min_height": null,
            "min_width": null,
            "object_fit": null,
            "object_position": null,
            "order": null,
            "overflow": null,
            "overflow_x": null,
            "overflow_y": null,
            "padding": null,
            "right": null,
            "top": null,
            "visibility": null,
            "width": null
          }
        },
        "d1ec0985dd9c41488be6632b384a952f": {
          "model_module": "@jupyter-widgets/controls",
          "model_name": "DescriptionStyleModel",
          "model_module_version": "1.5.0",
          "state": {
            "_model_module": "@jupyter-widgets/controls",
            "_model_module_version": "1.5.0",
            "_model_name": "DescriptionStyleModel",
            "_view_count": null,
            "_view_module": "@jupyter-widgets/base",
            "_view_module_version": "1.2.0",
            "_view_name": "StyleView",
            "description_width": ""
          }
        }
      }
    }
  },
  "cells": [
    {
      "cell_type": "markdown",
      "source": [
        "# Installations / Préparations"
      ],
      "metadata": {
        "id": "0BmvrDWZIQZr"
      }
    },
    {
      "cell_type": "markdown",
      "source": [
        "## install"
      ],
      "metadata": {
        "id": "Z4uJZciqIfB1"
      }
    },
    {
      "cell_type": "code",
      "execution_count": null,
      "metadata": {
        "colab": {
          "base_uri": "https://localhost:8080/"
        },
        "id": "04GMX7rWICyf",
        "outputId": "52eab253-796e-43c2-f91e-5acb9b7c287f"
      },
      "outputs": [
        {
          "output_type": "stream",
          "name": "stdout",
          "text": [
            "Looking in indexes: https://pypi.org/simple, https://us-python.pkg.dev/colab-wheels/public/simple/\n",
            "Collecting importlib-metadata==4.13.0\n",
            "  Downloading importlib_metadata-4.13.0-py3-none-any.whl (23 kB)\n",
            "Requirement already satisfied: zipp>=0.5 in /usr/local/lib/python3.8/dist-packages (from importlib-metadata==4.13.0) (3.12.1)\n",
            "Installing collected packages: importlib-metadata\n",
            "  Attempting uninstall: importlib-metadata\n",
            "    Found existing installation: importlib-metadata 6.0.0\n",
            "    Uninstalling importlib-metadata-6.0.0:\n",
            "      Successfully uninstalled importlib-metadata-6.0.0\n",
            "Successfully installed importlib-metadata-4.13.0\n"
          ]
        }
      ],
      "source": [
        "!pip install importlib-metadata==4.13.0"
      ]
    },
    {
      "cell_type": "code",
      "source": [
        "!pip install git+https://github.com/osigaud/bbrl_gym"
      ],
      "metadata": {
        "colab": {
          "base_uri": "https://localhost:8080/"
        },
        "id": "PCvODGF5IGv3",
        "outputId": "bd43ac77-852d-4010-dbd2-765014f5f5be"
      },
      "execution_count": null,
      "outputs": [
        {
          "output_type": "stream",
          "name": "stdout",
          "text": [
            "Looking in indexes: https://pypi.org/simple, https://us-python.pkg.dev/colab-wheels/public/simple/\n",
            "Collecting git+https://github.com/osigaud/bbrl_gym\n",
            "  Cloning https://github.com/osigaud/bbrl_gym to /tmp/pip-req-build-to0piqc7\n",
            "  Running command git clone --filter=blob:none --quiet https://github.com/osigaud/bbrl_gym /tmp/pip-req-build-to0piqc7\n",
            "  Resolved https://github.com/osigaud/bbrl_gym to commit 5557075ecd7d4171ac0c21be3c69a94bcae655a9\n",
            "  Installing build dependencies ... \u001b[?25l\u001b[?25hdone\n",
            "  Getting requirements to build wheel ... \u001b[?25l\u001b[?25hdone\n",
            "  Installing backend dependencies ... \u001b[?25l\u001b[?25hdone\n",
            "  Preparing metadata (pyproject.toml) ... \u001b[?25l\u001b[?25hdone\n",
            "Collecting mazemdp>=0.7.3\n",
            "  Downloading mazemdp-0.7.3-py3-none-any.whl (15 kB)\n",
            "Collecting swig\n",
            "  Downloading swig-4.1.1-py2.py3-none-manylinux_2_5_x86_64.manylinux1_x86_64.whl (1.8 MB)\n",
            "\u001b[2K     \u001b[90m━━━━━━━━━━━━━━━━━━━━━━━━━━━━━━━━━━━━━━━━\u001b[0m \u001b[32m1.8/1.8 MB\u001b[0m \u001b[31m37.5 MB/s\u001b[0m eta \u001b[36m0:00:00\u001b[0m\n",
            "\u001b[?25hRequirement already satisfied: numpy>=1.19.1 in /usr/local/lib/python3.8/dist-packages (from bbrl-gym==1.2.5) (1.21.6)\n",
            "Collecting gym==0.21.0\n",
            "  Downloading gym-0.21.0.tar.gz (1.5 MB)\n",
            "\u001b[2K     \u001b[90m━━━━━━━━━━━━━━━━━━━━━━━━━━━━━━━━━━━━━━━━\u001b[0m \u001b[32m1.5/1.5 MB\u001b[0m \u001b[31m81.8 MB/s\u001b[0m eta \u001b[36m0:00:00\u001b[0m\n",
            "\u001b[?25h  Preparing metadata (setup.py) ... \u001b[?25l\u001b[?25hdone\n",
            "Collecting box2d-py\n",
            "  Downloading box2d-py-2.3.8.tar.gz (374 kB)\n",
            "\u001b[2K     \u001b[90m━━━━━━━━━━━━━━━━━━━━━━━━━━━━━━━━━━━━━━\u001b[0m \u001b[32m374.5/374.5 KB\u001b[0m \u001b[31m43.0 MB/s\u001b[0m eta \u001b[36m0:00:00\u001b[0m\n",
            "\u001b[?25h  Preparing metadata (setup.py) ... \u001b[?25l\u001b[?25hdone\n",
            "Requirement already satisfied: cloudpickle>=1.2.0 in /usr/local/lib/python3.8/dist-packages (from gym==0.21.0->bbrl-gym==1.2.5) (2.2.1)\n",
            "Requirement already satisfied: matplotlib in /usr/local/lib/python3.8/dist-packages (from mazemdp>=0.7.3->bbrl-gym==1.2.5) (3.2.2)\n",
            "Requirement already satisfied: python-dateutil>=2.1 in /usr/local/lib/python3.8/dist-packages (from matplotlib->mazemdp>=0.7.3->bbrl-gym==1.2.5) (2.8.2)\n",
            "Requirement already satisfied: cycler>=0.10 in /usr/local/lib/python3.8/dist-packages (from matplotlib->mazemdp>=0.7.3->bbrl-gym==1.2.5) (0.11.0)\n",
            "Requirement already satisfied: pyparsing!=2.0.4,!=2.1.2,!=2.1.6,>=2.0.1 in /usr/local/lib/python3.8/dist-packages (from matplotlib->mazemdp>=0.7.3->bbrl-gym==1.2.5) (3.0.9)\n",
            "Requirement already satisfied: kiwisolver>=1.0.1 in /usr/local/lib/python3.8/dist-packages (from matplotlib->mazemdp>=0.7.3->bbrl-gym==1.2.5) (1.4.4)\n",
            "Requirement already satisfied: six>=1.5 in /usr/local/lib/python3.8/dist-packages (from python-dateutil>=2.1->matplotlib->mazemdp>=0.7.3->bbrl-gym==1.2.5) (1.15.0)\n",
            "Building wheels for collected packages: bbrl-gym, gym, box2d-py\n",
            "  Building wheel for bbrl-gym (pyproject.toml) ... \u001b[?25l\u001b[?25hdone\n",
            "  Created wheel for bbrl-gym: filename=bbrl_gym-1.2.5-py3-none-any.whl size=17599 sha256=6f7a365b1a9e0c1eee6dacada917f43686e118f94b0aaad799a4031917bd68bc\n",
            "  Stored in directory: /tmp/pip-ephem-wheel-cache-0ecyfdy_/wheels/02/a5/fb/5c3661a0a660b77ec8a0dc817069457f0cc83f42b37daa0cb1\n",
            "  Building wheel for gym (setup.py) ... \u001b[?25l\u001b[?25hdone\n",
            "  Created wheel for gym: filename=gym-0.21.0-py3-none-any.whl size=1616821 sha256=ead27a4676acc3a89e72d70061496dd3bbe6851151db8f6a44756cf9743a220c\n",
            "  Stored in directory: /root/.cache/pip/wheels/27/6d/b3/a3a6e10704795c9b9000f1ab2dc480dfe7bed42f5972806e73\n",
            "  \u001b[1;31merror\u001b[0m: \u001b[1msubprocess-exited-with-error\u001b[0m\n",
            "  \n",
            "  \u001b[31m×\u001b[0m \u001b[32mpython setup.py bdist_wheel\u001b[0m did not run successfully.\n",
            "  \u001b[31m│\u001b[0m exit code: \u001b[1;36m1\u001b[0m\n",
            "  \u001b[31m╰─>\u001b[0m See above for output.\n",
            "  \n",
            "  \u001b[1;35mnote\u001b[0m: This error originates from a subprocess, and is likely not a problem with pip.\n",
            "  Building wheel for box2d-py (setup.py) ... \u001b[?25lerror\n",
            "\u001b[31m  ERROR: Failed building wheel for box2d-py\u001b[0m\u001b[31m\n",
            "\u001b[0m\u001b[?25h  Running setup.py clean for box2d-py\n",
            "Successfully built bbrl-gym gym\n",
            "Failed to build box2d-py\n",
            "Installing collected packages: swig, box2d-py, gym, mazemdp, bbrl-gym\n",
            "  Running setup.py install for box2d-py ... \u001b[?25l\u001b[?25hdone\n",
            "\u001b[33m  DEPRECATION: box2d-py was installed using the legacy 'setup.py install' method, because a wheel could not be built for it. A possible replacement is to fix the wheel build issue reported above. Discussion can be found at https://github.com/pypa/pip/issues/8368\u001b[0m\u001b[33m\n",
            "\u001b[0m  Attempting uninstall: gym\n",
            "    Found existing installation: gym 0.25.2\n",
            "    Uninstalling gym-0.25.2:\n",
            "      Successfully uninstalled gym-0.25.2\n",
            "Successfully installed bbrl-gym-1.2.5 box2d-py-2.3.8 gym-0.21.0 mazemdp-0.7.3 swig-4.1.1\n"
          ]
        }
      ]
    },
    {
      "cell_type": "code",
      "source": [
        "!pip install git+https://github.com/osigaud/SimpleMazeMDP"
      ],
      "metadata": {
        "colab": {
          "base_uri": "https://localhost:8080/"
        },
        "id": "R9DFdqUt2R04",
        "outputId": "cc4cd236-ff48-48e9-b3ff-5ca284379cf3"
      },
      "execution_count": null,
      "outputs": [
        {
          "output_type": "stream",
          "name": "stdout",
          "text": [
            "Looking in indexes: https://pypi.org/simple, https://us-python.pkg.dev/colab-wheels/public/simple/\n",
            "Collecting git+https://github.com/osigaud/SimpleMazeMDP\n",
            "  Cloning https://github.com/osigaud/SimpleMazeMDP to /tmp/pip-req-build-436fyc2s\n",
            "  Running command git clone --filter=blob:none --quiet https://github.com/osigaud/SimpleMazeMDP /tmp/pip-req-build-436fyc2s\n",
            "  Resolved https://github.com/osigaud/SimpleMazeMDP to commit 34dee7221967fbfb31be99ae89f04f19c92bd1b2\n",
            "  Installing build dependencies ... \u001b[?25l\u001b[?25hdone\n",
            "\u001b[33m  WARNING: Missing build requirements in pyproject.toml for git+https://github.com/osigaud/SimpleMazeMDP.\u001b[0m\u001b[33m\n",
            "\u001b[0m\u001b[33m  WARNING: The project does not specify a build backend, and pip cannot fall back to setuptools without 'wheel'.\u001b[0m\u001b[33m\n",
            "\u001b[0m  Getting requirements to build wheel ... \u001b[?25l\u001b[?25hdone\n",
            "  Installing backend dependencies ... \u001b[?25l\u001b[?25hdone\n",
            "  Preparing metadata (pyproject.toml) ... \u001b[?25l\u001b[?25hdone\n",
            "Requirement already satisfied: numpy in /usr/local/lib/python3.8/dist-packages (from mazemdp==0.7.4.dev1+g34dee72) (1.21.6)\n",
            "Requirement already satisfied: matplotlib in /usr/local/lib/python3.8/dist-packages (from mazemdp==0.7.4.dev1+g34dee72) (3.2.2)\n",
            "Requirement already satisfied: pyparsing!=2.0.4,!=2.1.2,!=2.1.6,>=2.0.1 in /usr/local/lib/python3.8/dist-packages (from matplotlib->mazemdp==0.7.4.dev1+g34dee72) (3.0.9)\n",
            "Requirement already satisfied: python-dateutil>=2.1 in /usr/local/lib/python3.8/dist-packages (from matplotlib->mazemdp==0.7.4.dev1+g34dee72) (2.8.2)\n",
            "Requirement already satisfied: cycler>=0.10 in /usr/local/lib/python3.8/dist-packages (from matplotlib->mazemdp==0.7.4.dev1+g34dee72) (0.11.0)\n",
            "Requirement already satisfied: kiwisolver>=1.0.1 in /usr/local/lib/python3.8/dist-packages (from matplotlib->mazemdp==0.7.4.dev1+g34dee72) (1.4.4)\n",
            "Requirement already satisfied: six>=1.5 in /usr/local/lib/python3.8/dist-packages (from python-dateutil>=2.1->matplotlib->mazemdp==0.7.4.dev1+g34dee72) (1.15.0)\n",
            "Building wheels for collected packages: mazemdp\n",
            "  Building wheel for mazemdp (pyproject.toml) ... \u001b[?25l\u001b[?25hdone\n",
            "  Created wheel for mazemdp: filename=mazemdp-0.7.4.dev1+g34dee72-py3-none-any.whl size=15533 sha256=eacf030de2deb4e5806ddc28e905ccd72eacb5a841e613320daba5cc723cd797\n",
            "  Stored in directory: /tmp/pip-ephem-wheel-cache-1q8x8c_x/wheels/44/ba/1a/a6c41c73518dc39bde87760fd14794d6efacffc555f0c19da4\n",
            "Successfully built mazemdp\n",
            "Installing collected packages: mazemdp\n",
            "  Attempting uninstall: mazemdp\n",
            "    Found existing installation: mazemdp 0.7.3\n",
            "    Uninstalling mazemdp-0.7.3:\n",
            "      Successfully uninstalled mazemdp-0.7.3\n",
            "Successfully installed mazemdp-0.7.4.dev1+g34dee72\n"
          ]
        }
      ]
    },
    {
      "cell_type": "markdown",
      "source": [
        "## import"
      ],
      "metadata": {
        "id": "htrWFI-GIiol"
      }
    },
    {
      "cell_type": "code",
      "source": [
        "import os\n",
        "from typing import Tuple, List\n",
        "\n",
        "import numpy as np\n",
        "import matplotlib.pyplot as plt\n",
        "from tqdm.notebook import tqdm\n",
        "\n",
        "from mazemdp.toolbox import egreedy, egreedy_loc, softmax, sample_categorical\n",
        "from mazemdp.maze_plotter import show_videos\n",
        "from mazemdp.mdp import Mdp\n",
        "from bbrl_gym.envs.maze_mdp import MazeMDPEnv\n",
        "\n",
        "# For visualization\n",
        "os.environ[\"VIDEO_FPS\"] = \"5\"\n",
        "if not os.path.isdir(\"./videos\"):\n",
        "    os.mkdir(\"./videos\")\n",
        "\n",
        "from IPython.display import Video\n",
        "\n",
        "import gym\n",
        "import bbrl_gym"
      ],
      "metadata": {
        "id": "6oSCIYhUIN5f",
        "colab": {
          "base_uri": "https://localhost:8080/"
        },
        "outputId": "0097d5dd-a286-4fb7-a4f5-27bb5c674937"
      },
      "execution_count": null,
      "outputs": [
        {
          "output_type": "stream",
          "name": "stdout",
          "text": [
            "Matplotlib backend: module://ipykernel.pylab.backend_inline\n"
          ]
        }
      ]
    },
    {
      "cell_type": "markdown",
      "source": [
        "## settings"
      ],
      "metadata": {
        "id": "cTff1Xo-IlXg"
      }
    },
    {
      "cell_type": "code",
      "source": [
        "# Settings\n",
        "NB_EPISODES = 20\n",
        "TIMEOUT = 50\n",
        "MAZE_LARGEUR = 4\n",
        "MAZE_HAUTEUR = 3\n",
        "EPSILON = 0.02\n",
        "TAU = 0.1"
      ],
      "metadata": {
        "id": "Bk765qU4InoF"
      },
      "execution_count": null,
      "outputs": []
    },
    {
      "cell_type": "markdown",
      "source": [
        "## création du maze"
      ],
      "metadata": {
        "id": "0F1MiufbJMR0"
      }
    },
    {
      "cell_type": "code",
      "source": [
        "env = gym.make(\"MazeMDP-v0\", kwargs={\"width\": MAZE_LARGEUR, \"height\": MAZE_HAUTEUR, \"ratio\": 0.2})\n",
        "env.reset()\n",
        "\n",
        "# in dynamic programming, there is no agent moving in the environment\n",
        "env.init_draw(\"The maze\")"
      ],
      "metadata": {
        "colab": {
          "base_uri": "https://localhost:8080/",
          "height": 233,
          "referenced_widgets": [
            "43c94faece9f4b2b90264aca90b1679e",
            "20f83d31430346b29ee333cf3785cf2c"
          ]
        },
        "id": "T2HR--A4JQIj",
        "outputId": "df576c73-2ce7-48ba-cef3-5f83b720540f"
      },
      "execution_count": null,
      "outputs": [
        {
          "output_type": "display_data",
          "data": {
            "text/plain": [
              "Output()"
            ],
            "application/vnd.jupyter.widget-view+json": {
              "version_major": 2,
              "version_minor": 0,
              "model_id": "43c94faece9f4b2b90264aca90b1679e"
            }
          },
          "metadata": {}
        }
      ]
    },
    {
      "cell_type": "markdown",
      "source": [
        "# Q-Learning 3D"
      ],
      "metadata": {
        "id": "YkYXUjqyJiTz"
      }
    },
    {
      "cell_type": "markdown",
      "source": [
        "## epsilon-greedy"
      ],
      "metadata": {
        "id": "NCvwPH0RKLFK"
      }
    },
    {
      "cell_type": "code",
      "source": [
        "def calcul_transition(mdp: MazeMDPEnv, but):\n",
        "    transition_matrix = np.zeros( (mdp.nb_states, mdp.action_space.n, mdp.nb_states) )\n",
        "\n",
        "    for s in range(mdp.nb_states-1):\n",
        "        x = mdp.coord_x[s]\n",
        "        y = mdp.coord_y[s]\n",
        "\n",
        "        # NORD #\n",
        "        # si case tout au nord, pas de changement d'état possible dans cette direction\n",
        "        if x == 0 :\n",
        "            transition_matrix[s][0][s] = 1.0\n",
        "        # SUD #\n",
        "        # si case tout au sud, pas de changement d'état possible dans cette direction\n",
        "        if x == MAZE_HAUTEUR-1 :\n",
        "            transition_matrix[s][1][s] = 1.0\n",
        "        # EST #\n",
        "        # si case tout à l'est, pas de changement d'état possible dans cette direction\n",
        "        if y == MAZE_LARGEUR-1 :\n",
        "            transition_matrix[s][2][s] = 1.0\n",
        "        # OUEST\n",
        "        # si case tout à l'ouest, pas de changement d'état possible dans cette direction\n",
        "        if y == 0 :\n",
        "            transition_matrix[s][3][s] = 1.0\n",
        "\n",
        "        for s_prime in range(mdp.nb_states-1):\n",
        "            # Regarde les relations entre s et les autres états\n",
        "            if (s != s_prime):\n",
        "                x_prime = mdp.coord_x[s_prime]\n",
        "                y_prime = mdp.coord_y[s_prime]\n",
        "                # NORD #\n",
        "                if (x_prime == x-1) and (y_prime == y):\n",
        "                    transition_matrix[s][0][s_prime] = 1.0\n",
        "                # SUD #\n",
        "                if (x_prime == x+1) and (y_prime == y):\n",
        "                    transition_matrix[s][1][s_prime] = 1.0\n",
        "                # EST #\n",
        "                if (x_prime == x) and (y_prime == y+1):\n",
        "                    transition_matrix[s][2][s_prime] = 1.0\n",
        "                # OUEST #\n",
        "                if (x_prime == x) and (y_prime == y-1):\n",
        "                    transition_matrix[s][3][s_prime] = 1.0\n",
        "\n",
        "        # Si une action n'a aucune transition, alors on boucle sur le même état\n",
        "        for a in range(mdp.action_space.n):\n",
        "            if all(transition_matrix[s,a] == 0):\n",
        "                transition_matrix[s,a,s] = 1.0\n",
        "\n",
        "    # Transition Matrix of terminal states\n",
        "    transition_matrix[but, :, :] = 0\n",
        "    transition_matrix[but, :, -1] = 1\n",
        "\n",
        "    return transition_matrix"
      ],
      "metadata": {
        "id": "M8CNv_3hE79p"
      },
      "execution_count": null,
      "outputs": []
    },
    {
      "cell_type": "code",
      "source": [
        "def get_policy_from_q(Q: np.ndarray, but: int) -> np.ndarray:\n",
        "    # Outputs a policy given the action values\n",
        "    policy = np.argmax(Q[:, but, :], axis=1)\n",
        "    return policy"
      ],
      "metadata": {
        "id": "-v0kkqzxKUY_"
      },
      "execution_count": null,
      "outputs": []
    },
    {
      "cell_type": "code",
      "source": [
        "# calcul et stocke les matrices de récompense et de transition pour chaque but\n",
        "def calcul_goal(mdp: MazeMDPEnv, but: int):\n",
        "    # calcul du nouveau point d'origine des récompenses\n",
        "    new_r = np.zeros((mdp.nb_states, mdp.action_space.n))\n",
        "    new_r[but] = np.ones(mdp.action_space.n)\n",
        "\n",
        "    # calcul de la nouvelle matrice de transition\n",
        "    new_P = calcul_transition(mdp, but)\n",
        "\n",
        "    return new_r, new_P"
      ],
      "metadata": {
        "id": "6UV6Ne01_rac"
      },
      "execution_count": null,
      "outputs": []
    },
    {
      "cell_type": "code",
      "source": [
        "# modifie la MDP en fonction du goal\n",
        "def maj_goal(mdp: MazeMDPEnv, but, r_list, P_list):\n",
        "    # modification de l'état but\n",
        "    mdp.mdp.r = r_list[but]\n",
        "    mdp.P = P_list[but]\n",
        "    mdp.mdp.P = P_list[but]"
      ],
      "metadata": {
        "id": "GgYX_VATMx1F"
      },
      "execution_count": null,
      "outputs": []
    },
    {
      "cell_type": "code",
      "source": [
        "# --------------------------- Q-Learning epsilon-greedy version -------------------------------#\n",
        "\n",
        "# Given an exploration rate epsilon, the QLearning algorithm computes the state action-value function\n",
        "# based on an epsilon-greedy policy\n",
        "# alpha is the learning rate\n",
        "\n",
        "\n",
        "def q_learning_eps(\n",
        "    mdp: MazeMDPEnv,\n",
        "    epsilon: float,\n",
        "    nb_episodes: int = 20,\n",
        "    timeout: int = 50,\n",
        "    alpha: float = 0.5,\n",
        "    render: bool = True,\n",
        ") -> Tuple[np.ndarray, List[float]]:\n",
        "    # Initialize the state-goal-action value function\n",
        "    # 3D : états / buts / actions\n",
        "    Q = np.zeros((mdp.nb_states, mdp.nb_states, mdp.action_space.n))\n",
        "    r_list = []   # récompenses selon les buts\n",
        "    P_list = []   # transition selon les buts\n",
        "\n",
        "    # calcul initial des matrices pour chacun des buts\n",
        "    for s in range(mdp.nb_states-1):\n",
        "        new_r, new_P = calcul_goal(mdp, s)\n",
        "        r_list.append(new_r)\n",
        "        P_list.append(new_P)\n",
        "  \n",
        "    # Run learning cycle\n",
        "    mdp.set_timeout(timeout)  # episode length\n",
        "\n",
        "    for _ in tqdm(range(nb_episodes)):\n",
        "        # Draw the first state of episode i using a uniform distribution over all the states\n",
        "        s = mdp.reset(uniform=True)\n",
        "        but = np.random.randint(mdp.nb_states-1)   # tirage de l'état but\n",
        "        print(\"but : \", but)\n",
        "\n",
        "        maj_goal(mdp, but, r_list, P_list)    # modification des matrices correspondante à ce but\n",
        "\n",
        "        if render:\n",
        "            mdp.init_draw(\"Q-learning e-greedy\"+str(but))\n",
        "\n",
        "        done = mdp.mdp.done()\n",
        "\n",
        "        while not done:\n",
        "            if render:\n",
        "                # Show the agent in the maze\n",
        "                mdp.draw_v_pi(Q[:,but,:], get_policy_from_q(Q, but))\n",
        "\n",
        "            # Draw an action using an epsilon-greedy policy\n",
        "            a = egreedy(Q[:, but, :], s, epsilon)\n",
        "\n",
        "            # Perform a step of the MDP\n",
        "            [s_prime, r, done, _] = mdp.step(a)\n",
        "\n",
        "            # Calculs en fonction du but de l'épisode\n",
        "            delta = r + mdp.gamma * np.max(Q[s_prime, but]) - Q[s, but, a]\n",
        "\n",
        "            Q[s, but, a] += alpha * delta\n",
        "\n",
        "            # Update the agent position\n",
        "            s = s_prime\n",
        "\n",
        "\n",
        "    if render:\n",
        "        # Show the final policy\n",
        "        for but in tqdm(range(mdp.nb_states-1)):\n",
        "            mdp.current_state = 0\n",
        "            mdp.terminal_states = [but]\n",
        "            mdp.draw_v_pi(Q[:,but,:], get_policy_from_q(Q, but), title=\"Q-learning e-greedy\"+str(but))\n",
        "    return Q, r_list"
      ],
      "metadata": {
        "id": "A8r7A0YQJk9-"
      },
      "execution_count": null,
      "outputs": []
    },
    {
      "cell_type": "code",
      "source": [
        "Q, r_list = q_learning_eps(env, EPSILON, NB_EPISODES, TIMEOUT)"
      ],
      "metadata": {
        "colab": {
          "base_uri": "https://localhost:8080/",
          "height": 644,
          "referenced_widgets": [
            "b98ca632e71440dcb6600d983d01c4f2",
            "7b5a89050c7d489abb8440c6230375f6",
            "ff02da5f5af244daa122413de247bbaa",
            "b5c0f00a769f48d5b20fcc12b3f220a1",
            "a66a87577e214897a3353539cc6f948d",
            "7750007684294b62baa9ce15fa541a32",
            "2720ce0c5f374a75b9eb5228752408a6",
            "2714b015f8904a9ca784817382a7b007",
            "1a312f6275af42648347085abc3f2098",
            "cfec7df356444ca58170ba2e6416b08a",
            "829907529ab44bd9ad3f1c0bdf12c06e",
            "8a773334e66c4b0d88a7c48ac05e502c",
            "43524a12ef864fedbbdfcb748ce18189",
            "95e3ecb39d954164b0137f65b454bc8a",
            "b29625ad20cf486aadccfd651f15f9a0",
            "dbf10359b6254faa90b9fb662ff7adf2",
            "44406b2985dd414fa853bd7e2aaaad0f",
            "2adba8a73d174589865e59e22070a36a",
            "8a325f31a54d423682650f1ca4135426",
            "d2ce2b4989c4462396576b17d1058f23",
            "b90b80321ec54667bf88143526928b9a",
            "b07fe52e324745c48527afe2a7eafd77",
            "8627685a84094475aa6ec47841066dd1",
            "d1ec0985dd9c41488be6632b384a952f"
          ]
        },
        "id": "Tf9ralJePXvE",
        "outputId": "a730d25f-941b-4abe-f792-726f2802765f"
      },
      "execution_count": null,
      "outputs": [
        {
          "output_type": "display_data",
          "data": {
            "text/plain": [
              "  0%|          | 0/20 [00:00<?, ?it/s]"
            ],
            "application/vnd.jupyter.widget-view+json": {
              "version_major": 2,
              "version_minor": 0,
              "model_id": "b98ca632e71440dcb6600d983d01c4f2"
            }
          },
          "metadata": {}
        },
        {
          "output_type": "stream",
          "name": "stdout",
          "text": [
            "but :  2\n"
          ]
        },
        {
          "output_type": "display_data",
          "data": {
            "text/plain": [
              "Output()"
            ],
            "application/vnd.jupyter.widget-view+json": {
              "version_major": 2,
              "version_minor": 0,
              "model_id": "8a773334e66c4b0d88a7c48ac05e502c"
            }
          },
          "metadata": {}
        },
        {
          "output_type": "stream",
          "name": "stdout",
          "text": [
            "but :  7\n",
            "but :  3\n",
            "but :  8\n",
            "but :  7\n",
            "but :  6\n",
            "but :  4\n",
            "but :  9\n",
            "but :  7\n",
            "but :  4\n",
            "but :  7\n",
            "but :  1\n",
            "but :  2\n",
            "but :  3\n",
            "but :  7\n",
            "but :  0\n",
            "but :  7\n",
            "but :  2\n",
            "but :  4\n",
            "but :  1\n"
          ]
        },
        {
          "output_type": "display_data",
          "data": {
            "text/plain": [
              "  0%|          | 0/10 [00:00<?, ?it/s]"
            ],
            "application/vnd.jupyter.widget-view+json": {
              "version_major": 2,
              "version_minor": 0,
              "model_id": "95e3ecb39d954164b0137f65b454bc8a"
            }
          },
          "metadata": {}
        }
      ]
    },
    {
      "cell_type": "code",
      "source": [
        "but_test = 4\n",
        "print(get_policy_from_q(Q, but_test))\n",
        "show_videos(\"videos/\", \"Q-learninge-greedy\"+str(but_test))\n",
        "print(Q[:,but_test,:])"
      ],
      "metadata": {
        "id": "v1VNzQXhSneU",
        "colab": {
          "base_uri": "https://localhost:8080/",
          "height": 647
        },
        "outputId": "caea5835-8c9d-4d4d-d7f5-3b590b24bd85"
      },
      "execution_count": null,
      "outputs": [
        {
          "output_type": "stream",
          "name": "stdout",
          "text": [
            "[0 0 2 0 2 0 0 3 0 0 0]\n",
            "Converting videos/Q-learninge-greedy4.avi\n"
          ]
        },
        {
          "output_type": "display_data",
          "data": {
            "text/plain": [
              "<IPython.core.display.HTML object>"
            ],
            "text/html": [
              "<video alt=\"videos/Q-learninge-greedy4.mp4\" autoplay\n",
              "                    loop controls style=\"height: 400px;\">\n",
              "                    <source src=\"data:video/mp4;base64,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\" type=\"video/mp4\" />\n",
              "                </video>"
            ]
          },
          "metadata": {}
        },
        {
          "output_type": "stream",
          "name": "stdout",
          "text": [
            "[[0.     0.     0.     0.    ]\n",
            " [0.     0.     0.     0.    ]\n",
            " [0.     0.     0.225  0.    ]\n",
            " [0.     0.     0.     0.    ]\n",
            " [0.     0.     0.875  0.    ]\n",
            " [0.     0.     0.     0.    ]\n",
            " [0.     0.     0.     0.    ]\n",
            " [0.     0.     0.     0.3375]\n",
            " [0.     0.     0.     0.    ]\n",
            " [0.     0.     0.     0.    ]\n",
            " [0.     0.     0.     0.    ]]\n"
          ]
        }
      ]
    }
  ]
}