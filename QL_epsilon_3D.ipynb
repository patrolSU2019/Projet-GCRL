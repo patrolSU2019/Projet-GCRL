{
  "nbformat": 4,
  "nbformat_minor": 0,
  "metadata": {
    "colab": {
      "provenance": [],
      "collapsed_sections": [
        "Z4uJZciqIfB1",
        "htrWFI-GIiol"
      ]
    },
    "kernelspec": {
      "name": "python3",
      "display_name": "Python 3"
    },
    "language_info": {
      "name": "python"
    },
    "widgets": {
      "application/vnd.jupyter.widget-state+json": {
        "d166a189244942c9937fe8dffae983d0": {
          "model_module": "@jupyter-widgets/controls",
          "model_name": "HBoxModel",
          "model_module_version": "1.5.0",
          "state": {
            "_dom_classes": [],
            "_model_module": "@jupyter-widgets/controls",
            "_model_module_version": "1.5.0",
            "_model_name": "HBoxModel",
            "_view_count": null,
            "_view_module": "@jupyter-widgets/controls",
            "_view_module_version": "1.5.0",
            "_view_name": "HBoxView",
            "box_style": "",
            "children": [
              "IPY_MODEL_a8338bdabb854d4b8035e4d501687602",
              "IPY_MODEL_8e3206afd33e46b5989e1859e5f60ad0",
              "IPY_MODEL_447b79b3b6114182bfb721d465722f4a"
            ],
            "layout": "IPY_MODEL_47844c5fd1db4db6bbc6c5e275c0128d"
          }
        },
        "a8338bdabb854d4b8035e4d501687602": {
          "model_module": "@jupyter-widgets/controls",
          "model_name": "HTMLModel",
          "model_module_version": "1.5.0",
          "state": {
            "_dom_classes": [],
            "_model_module": "@jupyter-widgets/controls",
            "_model_module_version": "1.5.0",
            "_model_name": "HTMLModel",
            "_view_count": null,
            "_view_module": "@jupyter-widgets/controls",
            "_view_module_version": "1.5.0",
            "_view_name": "HTMLView",
            "description": "",
            "description_tooltip": null,
            "layout": "IPY_MODEL_c36e2aacac6b4f85aa13aaeaf980252b",
            "placeholder": "​",
            "style": "IPY_MODEL_73c6a806efd74866b68f50b9af39d10a",
            "value": "100%"
          }
        },
        "8e3206afd33e46b5989e1859e5f60ad0": {
          "model_module": "@jupyter-widgets/controls",
          "model_name": "FloatProgressModel",
          "model_module_version": "1.5.0",
          "state": {
            "_dom_classes": [],
            "_model_module": "@jupyter-widgets/controls",
            "_model_module_version": "1.5.0",
            "_model_name": "FloatProgressModel",
            "_view_count": null,
            "_view_module": "@jupyter-widgets/controls",
            "_view_module_version": "1.5.0",
            "_view_name": "ProgressView",
            "bar_style": "success",
            "description": "",
            "description_tooltip": null,
            "layout": "IPY_MODEL_22e95c7086d1483883e6473f640ee7b1",
            "max": 100,
            "min": 0,
            "orientation": "horizontal",
            "style": "IPY_MODEL_34521cab3e2c4668a21c78314790ecd2",
            "value": 100
          }
        },
        "447b79b3b6114182bfb721d465722f4a": {
          "model_module": "@jupyter-widgets/controls",
          "model_name": "HTMLModel",
          "model_module_version": "1.5.0",
          "state": {
            "_dom_classes": [],
            "_model_module": "@jupyter-widgets/controls",
            "_model_module_version": "1.5.0",
            "_model_name": "HTMLModel",
            "_view_count": null,
            "_view_module": "@jupyter-widgets/controls",
            "_view_module_version": "1.5.0",
            "_view_name": "HTMLView",
            "description": "",
            "description_tooltip": null,
            "layout": "IPY_MODEL_f8837c518fe74ef8beaeae3a8dfa5b0b",
            "placeholder": "​",
            "style": "IPY_MODEL_e01242426d574cc28d1f0b9749eceb71",
            "value": " 100/100 [00:00&lt;00:00, 445.61it/s]"
          }
        },
        "47844c5fd1db4db6bbc6c5e275c0128d": {
          "model_module": "@jupyter-widgets/base",
          "model_name": "LayoutModel",
          "model_module_version": "1.2.0",
          "state": {
            "_model_module": "@jupyter-widgets/base",
            "_model_module_version": "1.2.0",
            "_model_name": "LayoutModel",
            "_view_count": null,
            "_view_module": "@jupyter-widgets/base",
            "_view_module_version": "1.2.0",
            "_view_name": "LayoutView",
            "align_content": null,
            "align_items": null,
            "align_self": null,
            "border": null,
            "bottom": null,
            "display": null,
            "flex": null,
            "flex_flow": null,
            "grid_area": null,
            "grid_auto_columns": null,
            "grid_auto_flow": null,
            "grid_auto_rows": null,
            "grid_column": null,
            "grid_gap": null,
            "grid_row": null,
            "grid_template_areas": null,
            "grid_template_columns": null,
            "grid_template_rows": null,
            "height": null,
            "justify_content": null,
            "justify_items": null,
            "left": null,
            "margin": null,
            "max_height": null,
            "max_width": null,
            "min_height": null,
            "min_width": null,
            "object_fit": null,
            "object_position": null,
            "order": null,
            "overflow": null,
            "overflow_x": null,
            "overflow_y": null,
            "padding": null,
            "right": null,
            "top": null,
            "visibility": null,
            "width": null
          }
        },
        "c36e2aacac6b4f85aa13aaeaf980252b": {
          "model_module": "@jupyter-widgets/base",
          "model_name": "LayoutModel",
          "model_module_version": "1.2.0",
          "state": {
            "_model_module": "@jupyter-widgets/base",
            "_model_module_version": "1.2.0",
            "_model_name": "LayoutModel",
            "_view_count": null,
            "_view_module": "@jupyter-widgets/base",
            "_view_module_version": "1.2.0",
            "_view_name": "LayoutView",
            "align_content": null,
            "align_items": null,
            "align_self": null,
            "border": null,
            "bottom": null,
            "display": null,
            "flex": null,
            "flex_flow": null,
            "grid_area": null,
            "grid_auto_columns": null,
            "grid_auto_flow": null,
            "grid_auto_rows": null,
            "grid_column": null,
            "grid_gap": null,
            "grid_row": null,
            "grid_template_areas": null,
            "grid_template_columns": null,
            "grid_template_rows": null,
            "height": null,
            "justify_content": null,
            "justify_items": null,
            "left": null,
            "margin": null,
            "max_height": null,
            "max_width": null,
            "min_height": null,
            "min_width": null,
            "object_fit": null,
            "object_position": null,
            "order": null,
            "overflow": null,
            "overflow_x": null,
            "overflow_y": null,
            "padding": null,
            "right": null,
            "top": null,
            "visibility": null,
            "width": null
          }
        },
        "73c6a806efd74866b68f50b9af39d10a": {
          "model_module": "@jupyter-widgets/controls",
          "model_name": "DescriptionStyleModel",
          "model_module_version": "1.5.0",
          "state": {
            "_model_module": "@jupyter-widgets/controls",
            "_model_module_version": "1.5.0",
            "_model_name": "DescriptionStyleModel",
            "_view_count": null,
            "_view_module": "@jupyter-widgets/base",
            "_view_module_version": "1.2.0",
            "_view_name": "StyleView",
            "description_width": ""
          }
        },
        "22e95c7086d1483883e6473f640ee7b1": {
          "model_module": "@jupyter-widgets/base",
          "model_name": "LayoutModel",
          "model_module_version": "1.2.0",
          "state": {
            "_model_module": "@jupyter-widgets/base",
            "_model_module_version": "1.2.0",
            "_model_name": "LayoutModel",
            "_view_count": null,
            "_view_module": "@jupyter-widgets/base",
            "_view_module_version": "1.2.0",
            "_view_name": "LayoutView",
            "align_content": null,
            "align_items": null,
            "align_self": null,
            "border": null,
            "bottom": null,
            "display": null,
            "flex": null,
            "flex_flow": null,
            "grid_area": null,
            "grid_auto_columns": null,
            "grid_auto_flow": null,
            "grid_auto_rows": null,
            "grid_column": null,
            "grid_gap": null,
            "grid_row": null,
            "grid_template_areas": null,
            "grid_template_columns": null,
            "grid_template_rows": null,
            "height": null,
            "justify_content": null,
            "justify_items": null,
            "left": null,
            "margin": null,
            "max_height": null,
            "max_width": null,
            "min_height": null,
            "min_width": null,
            "object_fit": null,
            "object_position": null,
            "order": null,
            "overflow": null,
            "overflow_x": null,
            "overflow_y": null,
            "padding": null,
            "right": null,
            "top": null,
            "visibility": null,
            "width": null
          }
        },
        "34521cab3e2c4668a21c78314790ecd2": {
          "model_module": "@jupyter-widgets/controls",
          "model_name": "ProgressStyleModel",
          "model_module_version": "1.5.0",
          "state": {
            "_model_module": "@jupyter-widgets/controls",
            "_model_module_version": "1.5.0",
            "_model_name": "ProgressStyleModel",
            "_view_count": null,
            "_view_module": "@jupyter-widgets/base",
            "_view_module_version": "1.2.0",
            "_view_name": "StyleView",
            "bar_color": null,
            "description_width": ""
          }
        },
        "f8837c518fe74ef8beaeae3a8dfa5b0b": {
          "model_module": "@jupyter-widgets/base",
          "model_name": "LayoutModel",
          "model_module_version": "1.2.0",
          "state": {
            "_model_module": "@jupyter-widgets/base",
            "_model_module_version": "1.2.0",
            "_model_name": "LayoutModel",
            "_view_count": null,
            "_view_module": "@jupyter-widgets/base",
            "_view_module_version": "1.2.0",
            "_view_name": "LayoutView",
            "align_content": null,
            "align_items": null,
            "align_self": null,
            "border": null,
            "bottom": null,
            "display": null,
            "flex": null,
            "flex_flow": null,
            "grid_area": null,
            "grid_auto_columns": null,
            "grid_auto_flow": null,
            "grid_auto_rows": null,
            "grid_column": null,
            "grid_gap": null,
            "grid_row": null,
            "grid_template_areas": null,
            "grid_template_columns": null,
            "grid_template_rows": null,
            "height": null,
            "justify_content": null,
            "justify_items": null,
            "left": null,
            "margin": null,
            "max_height": null,
            "max_width": null,
            "min_height": null,
            "min_width": null,
            "object_fit": null,
            "object_position": null,
            "order": null,
            "overflow": null,
            "overflow_x": null,
            "overflow_y": null,
            "padding": null,
            "right": null,
            "top": null,
            "visibility": null,
            "width": null
          }
        },
        "e01242426d574cc28d1f0b9749eceb71": {
          "model_module": "@jupyter-widgets/controls",
          "model_name": "DescriptionStyleModel",
          "model_module_version": "1.5.0",
          "state": {
            "_model_module": "@jupyter-widgets/controls",
            "_model_module_version": "1.5.0",
            "_model_name": "DescriptionStyleModel",
            "_view_count": null,
            "_view_module": "@jupyter-widgets/base",
            "_view_module_version": "1.2.0",
            "_view_name": "StyleView",
            "description_width": ""
          }
        },
        "49a0bb6af17748aca4893a47c3a03b8b": {
          "model_module": "@jupyter-widgets/controls",
          "model_name": "HBoxModel",
          "model_module_version": "1.5.0",
          "state": {
            "_dom_classes": [],
            "_model_module": "@jupyter-widgets/controls",
            "_model_module_version": "1.5.0",
            "_model_name": "HBoxModel",
            "_view_count": null,
            "_view_module": "@jupyter-widgets/controls",
            "_view_module_version": "1.5.0",
            "_view_name": "HBoxView",
            "box_style": "",
            "children": [
              "IPY_MODEL_a418ebdabb4143c3afa013c6a70d4b72",
              "IPY_MODEL_a8c7c09f1d1d449486547155dd2b5696",
              "IPY_MODEL_d7184fe402c645bea1ca221aac6dace3"
            ],
            "layout": "IPY_MODEL_3dcf62328f2b4e489185df155b2a466c"
          }
        },
        "a418ebdabb4143c3afa013c6a70d4b72": {
          "model_module": "@jupyter-widgets/controls",
          "model_name": "HTMLModel",
          "model_module_version": "1.5.0",
          "state": {
            "_dom_classes": [],
            "_model_module": "@jupyter-widgets/controls",
            "_model_module_version": "1.5.0",
            "_model_name": "HTMLModel",
            "_view_count": null,
            "_view_module": "@jupyter-widgets/controls",
            "_view_module_version": "1.5.0",
            "_view_name": "HTMLView",
            "description": "",
            "description_tooltip": null,
            "layout": "IPY_MODEL_ad6f847083704ed9b6443f58b4590027",
            "placeholder": "​",
            "style": "IPY_MODEL_2aa2c313d2e04f34a64d8da8b6da8d53",
            "value": "100%"
          }
        },
        "a8c7c09f1d1d449486547155dd2b5696": {
          "model_module": "@jupyter-widgets/controls",
          "model_name": "FloatProgressModel",
          "model_module_version": "1.5.0",
          "state": {
            "_dom_classes": [],
            "_model_module": "@jupyter-widgets/controls",
            "_model_module_version": "1.5.0",
            "_model_name": "FloatProgressModel",
            "_view_count": null,
            "_view_module": "@jupyter-widgets/controls",
            "_view_module_version": "1.5.0",
            "_view_name": "ProgressView",
            "bar_style": "success",
            "description": "",
            "description_tooltip": null,
            "layout": "IPY_MODEL_751f2f0d41ac4fd787b0bfc5df4b3d41",
            "max": 9,
            "min": 0,
            "orientation": "horizontal",
            "style": "IPY_MODEL_8c69f956ced149e096025586077a9045",
            "value": 9
          }
        },
        "d7184fe402c645bea1ca221aac6dace3": {
          "model_module": "@jupyter-widgets/controls",
          "model_name": "HTMLModel",
          "model_module_version": "1.5.0",
          "state": {
            "_dom_classes": [],
            "_model_module": "@jupyter-widgets/controls",
            "_model_module_version": "1.5.0",
            "_model_name": "HTMLModel",
            "_view_count": null,
            "_view_module": "@jupyter-widgets/controls",
            "_view_module_version": "1.5.0",
            "_view_name": "HTMLView",
            "description": "",
            "description_tooltip": null,
            "layout": "IPY_MODEL_82f18a922b234ac1b5fca4b3479b76fe",
            "placeholder": "​",
            "style": "IPY_MODEL_c41deea785b84ae88890a95cb1983499",
            "value": " 9/9 [00:03&lt;00:00,  2.53it/s]"
          }
        },
        "3dcf62328f2b4e489185df155b2a466c": {
          "model_module": "@jupyter-widgets/base",
          "model_name": "LayoutModel",
          "model_module_version": "1.2.0",
          "state": {
            "_model_module": "@jupyter-widgets/base",
            "_model_module_version": "1.2.0",
            "_model_name": "LayoutModel",
            "_view_count": null,
            "_view_module": "@jupyter-widgets/base",
            "_view_module_version": "1.2.0",
            "_view_name": "LayoutView",
            "align_content": null,
            "align_items": null,
            "align_self": null,
            "border": null,
            "bottom": null,
            "display": null,
            "flex": null,
            "flex_flow": null,
            "grid_area": null,
            "grid_auto_columns": null,
            "grid_auto_flow": null,
            "grid_auto_rows": null,
            "grid_column": null,
            "grid_gap": null,
            "grid_row": null,
            "grid_template_areas": null,
            "grid_template_columns": null,
            "grid_template_rows": null,
            "height": null,
            "justify_content": null,
            "justify_items": null,
            "left": null,
            "margin": null,
            "max_height": null,
            "max_width": null,
            "min_height": null,
            "min_width": null,
            "object_fit": null,
            "object_position": null,
            "order": null,
            "overflow": null,
            "overflow_x": null,
            "overflow_y": null,
            "padding": null,
            "right": null,
            "top": null,
            "visibility": null,
            "width": null
          }
        },
        "ad6f847083704ed9b6443f58b4590027": {
          "model_module": "@jupyter-widgets/base",
          "model_name": "LayoutModel",
          "model_module_version": "1.2.0",
          "state": {
            "_model_module": "@jupyter-widgets/base",
            "_model_module_version": "1.2.0",
            "_model_name": "LayoutModel",
            "_view_count": null,
            "_view_module": "@jupyter-widgets/base",
            "_view_module_version": "1.2.0",
            "_view_name": "LayoutView",
            "align_content": null,
            "align_items": null,
            "align_self": null,
            "border": null,
            "bottom": null,
            "display": null,
            "flex": null,
            "flex_flow": null,
            "grid_area": null,
            "grid_auto_columns": null,
            "grid_auto_flow": null,
            "grid_auto_rows": null,
            "grid_column": null,
            "grid_gap": null,
            "grid_row": null,
            "grid_template_areas": null,
            "grid_template_columns": null,
            "grid_template_rows": null,
            "height": null,
            "justify_content": null,
            "justify_items": null,
            "left": null,
            "margin": null,
            "max_height": null,
            "max_width": null,
            "min_height": null,
            "min_width": null,
            "object_fit": null,
            "object_position": null,
            "order": null,
            "overflow": null,
            "overflow_x": null,
            "overflow_y": null,
            "padding": null,
            "right": null,
            "top": null,
            "visibility": null,
            "width": null
          }
        },
        "2aa2c313d2e04f34a64d8da8b6da8d53": {
          "model_module": "@jupyter-widgets/controls",
          "model_name": "DescriptionStyleModel",
          "model_module_version": "1.5.0",
          "state": {
            "_model_module": "@jupyter-widgets/controls",
            "_model_module_version": "1.5.0",
            "_model_name": "DescriptionStyleModel",
            "_view_count": null,
            "_view_module": "@jupyter-widgets/base",
            "_view_module_version": "1.2.0",
            "_view_name": "StyleView",
            "description_width": ""
          }
        },
        "751f2f0d41ac4fd787b0bfc5df4b3d41": {
          "model_module": "@jupyter-widgets/base",
          "model_name": "LayoutModel",
          "model_module_version": "1.2.0",
          "state": {
            "_model_module": "@jupyter-widgets/base",
            "_model_module_version": "1.2.0",
            "_model_name": "LayoutModel",
            "_view_count": null,
            "_view_module": "@jupyter-widgets/base",
            "_view_module_version": "1.2.0",
            "_view_name": "LayoutView",
            "align_content": null,
            "align_items": null,
            "align_self": null,
            "border": null,
            "bottom": null,
            "display": null,
            "flex": null,
            "flex_flow": null,
            "grid_area": null,
            "grid_auto_columns": null,
            "grid_auto_flow": null,
            "grid_auto_rows": null,
            "grid_column": null,
            "grid_gap": null,
            "grid_row": null,
            "grid_template_areas": null,
            "grid_template_columns": null,
            "grid_template_rows": null,
            "height": null,
            "justify_content": null,
            "justify_items": null,
            "left": null,
            "margin": null,
            "max_height": null,
            "max_width": null,
            "min_height": null,
            "min_width": null,
            "object_fit": null,
            "object_position": null,
            "order": null,
            "overflow": null,
            "overflow_x": null,
            "overflow_y": null,
            "padding": null,
            "right": null,
            "top": null,
            "visibility": null,
            "width": null
          }
        },
        "8c69f956ced149e096025586077a9045": {
          "model_module": "@jupyter-widgets/controls",
          "model_name": "ProgressStyleModel",
          "model_module_version": "1.5.0",
          "state": {
            "_model_module": "@jupyter-widgets/controls",
            "_model_module_version": "1.5.0",
            "_model_name": "ProgressStyleModel",
            "_view_count": null,
            "_view_module": "@jupyter-widgets/base",
            "_view_module_version": "1.2.0",
            "_view_name": "StyleView",
            "bar_color": null,
            "description_width": ""
          }
        },
        "82f18a922b234ac1b5fca4b3479b76fe": {
          "model_module": "@jupyter-widgets/base",
          "model_name": "LayoutModel",
          "model_module_version": "1.2.0",
          "state": {
            "_model_module": "@jupyter-widgets/base",
            "_model_module_version": "1.2.0",
            "_model_name": "LayoutModel",
            "_view_count": null,
            "_view_module": "@jupyter-widgets/base",
            "_view_module_version": "1.2.0",
            "_view_name": "LayoutView",
            "align_content": null,
            "align_items": null,
            "align_self": null,
            "border": null,
            "bottom": null,
            "display": null,
            "flex": null,
            "flex_flow": null,
            "grid_area": null,
            "grid_auto_columns": null,
            "grid_auto_flow": null,
            "grid_auto_rows": null,
            "grid_column": null,
            "grid_gap": null,
            "grid_row": null,
            "grid_template_areas": null,
            "grid_template_columns": null,
            "grid_template_rows": null,
            "height": null,
            "justify_content": null,
            "justify_items": null,
            "left": null,
            "margin": null,
            "max_height": null,
            "max_width": null,
            "min_height": null,
            "min_width": null,
            "object_fit": null,
            "object_position": null,
            "order": null,
            "overflow": null,
            "overflow_x": null,
            "overflow_y": null,
            "padding": null,
            "right": null,
            "top": null,
            "visibility": null,
            "width": null
          }
        },
        "c41deea785b84ae88890a95cb1983499": {
          "model_module": "@jupyter-widgets/controls",
          "model_name": "DescriptionStyleModel",
          "model_module_version": "1.5.0",
          "state": {
            "_model_module": "@jupyter-widgets/controls",
            "_model_module_version": "1.5.0",
            "_model_name": "DescriptionStyleModel",
            "_view_count": null,
            "_view_module": "@jupyter-widgets/base",
            "_view_module_version": "1.2.0",
            "_view_name": "StyleView",
            "description_width": ""
          }
        }
      }
    }
  },
  "cells": [
    {
      "cell_type": "markdown",
      "source": [
        "# Installations / Préparations"
      ],
      "metadata": {
        "id": "0BmvrDWZIQZr"
      }
    },
    {
      "cell_type": "markdown",
      "source": [
        "## install"
      ],
      "metadata": {
        "id": "Z4uJZciqIfB1"
      }
    },
    {
      "cell_type": "code",
      "execution_count": 21,
      "metadata": {
        "colab": {
          "base_uri": "https://localhost:8080/"
        },
        "id": "04GMX7rWICyf",
        "outputId": "4c7c13ee-6116-417f-a418-89ba6074da53"
      },
      "outputs": [
        {
          "output_type": "stream",
          "name": "stdout",
          "text": [
            "Looking in indexes: https://pypi.org/simple, https://us-python.pkg.dev/colab-wheels/public/simple/\n",
            "Requirement already satisfied: importlib-metadata==4.13.0 in /usr/local/lib/python3.8/dist-packages (4.13.0)\n",
            "Requirement already satisfied: zipp>=0.5 in /usr/local/lib/python3.8/dist-packages (from importlib-metadata==4.13.0) (3.12.1)\n"
          ]
        }
      ],
      "source": [
        "!pip install importlib-metadata==4.13.0"
      ]
    },
    {
      "cell_type": "code",
      "source": [
        "!pip install git+https://github.com/osigaud/bbrl_gym"
      ],
      "metadata": {
        "colab": {
          "base_uri": "https://localhost:8080/"
        },
        "id": "PCvODGF5IGv3",
        "outputId": "6956ce11-686c-4ce6-d22a-5f6adef8deeb"
      },
      "execution_count": 22,
      "outputs": [
        {
          "output_type": "stream",
          "name": "stdout",
          "text": [
            "Looking in indexes: https://pypi.org/simple, https://us-python.pkg.dev/colab-wheels/public/simple/\n",
            "Collecting git+https://github.com/osigaud/bbrl_gym\n",
            "  Cloning https://github.com/osigaud/bbrl_gym to /tmp/pip-req-build-7xex1nq5\n",
            "  Running command git clone --filter=blob:none --quiet https://github.com/osigaud/bbrl_gym /tmp/pip-req-build-7xex1nq5\n",
            "  Resolved https://github.com/osigaud/bbrl_gym to commit 5557075ecd7d4171ac0c21be3c69a94bcae655a9\n",
            "  Installing build dependencies ... \u001b[?25l\u001b[?25hdone\n",
            "  Getting requirements to build wheel ... \u001b[?25l\u001b[?25hdone\n",
            "  Installing backend dependencies ... \u001b[?25l\u001b[?25hdone\n",
            "  Preparing metadata (pyproject.toml) ... \u001b[?25l\u001b[?25hdone\n",
            "Requirement already satisfied: mazemdp>=0.7.3 in /usr/local/lib/python3.8/dist-packages (from bbrl-gym==1.2.5) (0.7.3)\n",
            "Requirement already satisfied: box2d-py in /usr/local/lib/python3.8/dist-packages (from bbrl-gym==1.2.5) (2.3.8)\n",
            "Requirement already satisfied: numpy>=1.19.1 in /usr/local/lib/python3.8/dist-packages (from bbrl-gym==1.2.5) (1.21.6)\n",
            "Requirement already satisfied: swig in /usr/local/lib/python3.8/dist-packages (from bbrl-gym==1.2.5) (4.1.1)\n",
            "Requirement already satisfied: gym==0.21.0 in /usr/local/lib/python3.8/dist-packages (from bbrl-gym==1.2.5) (0.21.0)\n",
            "Requirement already satisfied: cloudpickle>=1.2.0 in /usr/local/lib/python3.8/dist-packages (from gym==0.21.0->bbrl-gym==1.2.5) (2.2.1)\n",
            "Requirement already satisfied: matplotlib in /usr/local/lib/python3.8/dist-packages (from mazemdp>=0.7.3->bbrl-gym==1.2.5) (3.2.2)\n",
            "Requirement already satisfied: pyparsing!=2.0.4,!=2.1.2,!=2.1.6,>=2.0.1 in /usr/local/lib/python3.8/dist-packages (from matplotlib->mazemdp>=0.7.3->bbrl-gym==1.2.5) (3.0.9)\n",
            "Requirement already satisfied: kiwisolver>=1.0.1 in /usr/local/lib/python3.8/dist-packages (from matplotlib->mazemdp>=0.7.3->bbrl-gym==1.2.5) (1.4.4)\n",
            "Requirement already satisfied: python-dateutil>=2.1 in /usr/local/lib/python3.8/dist-packages (from matplotlib->mazemdp>=0.7.3->bbrl-gym==1.2.5) (2.8.2)\n",
            "Requirement already satisfied: cycler>=0.10 in /usr/local/lib/python3.8/dist-packages (from matplotlib->mazemdp>=0.7.3->bbrl-gym==1.2.5) (0.11.0)\n",
            "Requirement already satisfied: six>=1.5 in /usr/local/lib/python3.8/dist-packages (from python-dateutil>=2.1->matplotlib->mazemdp>=0.7.3->bbrl-gym==1.2.5) (1.15.0)\n"
          ]
        }
      ]
    },
    {
      "cell_type": "markdown",
      "source": [
        "## import"
      ],
      "metadata": {
        "id": "htrWFI-GIiol"
      }
    },
    {
      "cell_type": "code",
      "source": [
        "import os\n",
        "from typing import Tuple, List\n",
        "\n",
        "import numpy as np\n",
        "import matplotlib.pyplot as plt\n",
        "from tqdm.notebook import tqdm\n",
        "\n",
        "from mazemdp.toolbox import egreedy, egreedy_loc\n",
        "from mazemdp.maze_plotter import show_videos\n",
        "from mazemdp.mdp import Mdp\n",
        "from bbrl_gym.envs.maze_mdp import MazeMDPEnv\n",
        "\n",
        "# For visualization\n",
        "os.environ[\"VIDEO_FPS\"] = \"5\"\n",
        "if not os.path.isdir(\"./videos\"):\n",
        "    os.mkdir(\"./videos\")\n",
        "\n",
        "from IPython.display import Video\n",
        "\n",
        "import gym\n",
        "import bbrl_gym"
      ],
      "metadata": {
        "id": "6oSCIYhUIN5f"
      },
      "execution_count": 23,
      "outputs": []
    },
    {
      "cell_type": "markdown",
      "source": [
        "## settings"
      ],
      "metadata": {
        "id": "cTff1Xo-IlXg"
      }
    },
    {
      "cell_type": "code",
      "source": [
        "# Settings\n",
        "NB_EPISODES = 100\n",
        "TIMEOUT = 100\n",
        "MAZE_LARGEUR = 4\n",
        "MAZE_HAUTEUR = 3\n",
        "EPSILON = 0.02"
      ],
      "metadata": {
        "id": "Bk765qU4InoF"
      },
      "execution_count": 54,
      "outputs": []
    },
    {
      "cell_type": "markdown",
      "source": [
        "## création du maze"
      ],
      "metadata": {
        "id": "0F1MiufbJMR0"
      }
    },
    {
      "cell_type": "code",
      "source": [
        "env = gym.make(\"MazeMDP-v0\", kwargs={\"width\": MAZE_LARGEUR, \"height\": MAZE_HAUTEUR, \"ratio\": 0.25})\n",
        "env.reset()\n",
        "\n",
        "# in dynamic programming, there is no agent moving in the environment\n",
        "env.init_draw(\"The maze\")"
      ],
      "metadata": {
        "colab": {
          "base_uri": "https://localhost:8080/",
          "height": 248
        },
        "id": "T2HR--A4JQIj",
        "outputId": "fe955bd7-311c-4335-ebfb-7a6981e13ba8"
      },
      "execution_count": 41,
      "outputs": [
        {
          "output_type": "display_data",
          "data": {
            "text/plain": [
              "<Figure size 432x288 with 1 Axes>"
            ],
            "image/png": "[encoded data removed]"
          },
          "metadata": {
            "needs_background": "light"
          }
        }
      ]
    },
    {
      "cell_type": "markdown",
      "source": [
        "# Q-Learning 3D"
      ],
      "metadata": {
        "id": "YkYXUjqyJiTz"
      }
    },
    {
      "cell_type": "markdown",
      "source": [
        "## utils"
      ],
      "metadata": {
        "id": "NCvwPH0RKLFK"
      }
    },
    {
      "cell_type": "code",
      "source": [
        "def calcul_transition(mdp: MazeMDPEnv, but):\n",
        "    transition_matrix = np.zeros( (mdp.nb_states, mdp.action_space.n, mdp.nb_states) )\n",
        "\n",
        "    for s in range(mdp.nb_states-1):\n",
        "        x = mdp.coord_x[s]\n",
        "        y = mdp.coord_y[s]\n",
        "\n",
        "        # NORD #\n",
        "        # si case tout au nord, pas de changement d'état possible dans cette direction\n",
        "        if x == 0 :\n",
        "            transition_matrix[s][0][s] = 1.0\n",
        "        # SUD #\n",
        "        # si case tout au sud, pas de changement d'état possible dans cette direction\n",
        "        if x == MAZE_HAUTEUR-1 :\n",
        "            transition_matrix[s][1][s] = 1.0\n",
        "        # EST #\n",
        "        # si case tout à l'est, pas de changement d'état possible dans cette direction\n",
        "        if y == MAZE_LARGEUR-1 :\n",
        "            transition_matrix[s][2][s] = 1.0\n",
        "        # OUEST\n",
        "        # si case tout à l'ouest, pas de changement d'état possible dans cette direction\n",
        "        if y == 0 :\n",
        "            transition_matrix[s][3][s] = 1.0\n",
        "\n",
        "        for s_prime in range(mdp.nb_states-1):\n",
        "            # Regarde les relations entre s et les autres états\n",
        "            if (s != s_prime):\n",
        "                x_prime = mdp.coord_x[s_prime]\n",
        "                y_prime = mdp.coord_y[s_prime]\n",
        "                # NORD #\n",
        "                if (x_prime == x-1) and (y_prime == y):\n",
        "                    transition_matrix[s][0][s_prime] = 1.0\n",
        "                # SUD #\n",
        "                if (x_prime == x+1) and (y_prime == y):\n",
        "                    transition_matrix[s][1][s_prime] = 1.0\n",
        "                # EST #\n",
        "                if (x_prime == x) and (y_prime == y+1):\n",
        "                    transition_matrix[s][2][s_prime] = 1.0\n",
        "                # OUEST #\n",
        "                if (x_prime == x) and (y_prime == y-1):\n",
        "                    transition_matrix[s][3][s_prime] = 1.0\n",
        "\n",
        "        # Si une action n'a aucune transition, alors on boucle sur le même état\n",
        "        for a in range(mdp.action_space.n):\n",
        "            if all(transition_matrix[s,a] == 0):\n",
        "                transition_matrix[s,a,s] = 1.0\n",
        "\n",
        "    # Transition Matrix of terminal states\n",
        "    transition_matrix[but, :, :] = 0\n",
        "    transition_matrix[but, :, -1] = 1\n",
        "\n",
        "    return transition_matrix"
      ],
      "metadata": {
        "id": "M8CNv_3hE79p"
      },
      "execution_count": 42,
      "outputs": []
    },
    {
      "cell_type": "code",
      "source": [
        "def get_policy_from_q(Q: np.ndarray, but: int) -> np.ndarray:\n",
        "    # Outputs a policy given the action values\n",
        "    policy = np.argmax(Q[:, but, :], axis=1)\n",
        "    return policy"
      ],
      "metadata": {
        "id": "-v0kkqzxKUY_"
      },
      "execution_count": 43,
      "outputs": []
    },
    {
      "cell_type": "code",
      "source": [
        "# calcul et stocke les matrices de récompense et de transition pour un but\n",
        "def calcul_goal(mdp: MazeMDPEnv, but: int):\n",
        "    # calcul du nouveau point d'origine des récompenses\n",
        "    new_r = np.zeros((mdp.nb_states, mdp.action_space.n))\n",
        "    new_r[but] = np.ones(mdp.action_space.n)\n",
        "    new_r[but] = np.ones(mdp.action_space.n)\n",
        "\n",
        "    # calcul de la nouvelle matrice de transition\n",
        "    new_P = calcul_transition(mdp, but)\n",
        "\n",
        "    return new_r, new_P"
      ],
      "metadata": {
        "id": "6UV6Ne01_rac"
      },
      "execution_count": 44,
      "outputs": []
    },
    {
      "cell_type": "code",
      "source": [
        "# modifie la MDP en fonction du goal\n",
        "def maj_goal(mdp: MazeMDPEnv, but, r_list, P_list):\n",
        "    # modification de l'état but\n",
        "    mdp.mdp.r = r_list[but]\n",
        "    mdp.P = P_list[but]\n",
        "    mdp.mdp.P = P_list[but]"
      ],
      "metadata": {
        "id": "GgYX_VATMx1F"
      },
      "execution_count": 45,
      "outputs": []
    },
    {
      "cell_type": "markdown",
      "source": [
        "## epsilon-greedy"
      ],
      "metadata": {
        "id": "u1n7OedOUBi3"
      }
    },
    {
      "cell_type": "code",
      "source": [
        "# --------------------------- Q-Learning epsilon-greedy version -------------------------------#\n",
        "\n",
        "# Given an exploration rate epsilon, the QLearning algorithm computes the state action-value function\n",
        "# based on an epsilon-greedy policy\n",
        "# alpha is the learning rate\n",
        "\n",
        "\n",
        "def q_learning_eps(\n",
        "    mdp: MazeMDPEnv,\n",
        "    epsilon: float,\n",
        "    nb_episodes: int = 20,\n",
        "    timeout: int = 50,\n",
        "    alpha: float = 0.5,\n",
        "    render: bool = True,\n",
        ") -> Tuple[np.ndarray]:\n",
        "    # Initialize the state-goal-action value function\n",
        "    # 3D : états / buts / actions\n",
        "    Q = np.zeros((mdp.nb_states, mdp.nb_states, mdp.action_space.n))\n",
        "    r_list = []   # récompenses selon les buts\n",
        "    P_list = []   # transition selon les buts\n",
        "\n",
        "    # calcul initial des matrices pour chacun des buts\n",
        "    for s in range(mdp.nb_states-1):\n",
        "        new_r, new_P = calcul_goal(mdp, s)\n",
        "        r_list.append(new_r)\n",
        "        P_list.append(new_P)\n",
        "  \n",
        "    # Run learning cycle\n",
        "    mdp.set_timeout(timeout)  # episode length\n",
        "\n",
        "    for _ in tqdm(range(nb_episodes)):\n",
        "        # Draw the first state of episode i using a uniform distribution over all the states\n",
        "        s = mdp.reset(uniform=True)\n",
        "        but = np.random.randint(mdp.nb_states-1)   # tirage de l'état but (hors état puit)\n",
        "        #print(\"but : \", but)      # aide visualisation\n",
        "\n",
        "        maj_goal(mdp, but, r_list, P_list)    # modification des matrices correspondante à ce but\n",
        "\n",
        "        if render:\n",
        "            mdp.init_draw(\"Q-learning e-greedy\"+str(but))\n",
        "\n",
        "        done = mdp.mdp.done()\n",
        "\n",
        "        while not done:\n",
        "            if render:\n",
        "                # Show the agent in the maze\n",
        "                mdp.mdp.plotter.terminal_states = [but]\n",
        "                mdp.draw_v_pi(Q[:,but,:], get_policy_from_q(Q, but))\n",
        "\n",
        "            # Draw an action using an epsilon-greedy policy\n",
        "            a = egreedy(Q[:, but, :], s, epsilon)\n",
        "\n",
        "            # Perform a step of the MDP\n",
        "            [s_prime, r, done, _] = mdp.step(a)\n",
        "\n",
        "            # Calculs en fonction du but de l'épisode\n",
        "            delta = r + mdp.gamma * np.max(Q[s_prime, but]) - Q[s, but, a]\n",
        "\n",
        "            Q[s, but, a] += alpha * delta\n",
        "\n",
        "            # Update the agent position\n",
        "            s = s_prime\n",
        "\n",
        "\n",
        "    if render:\n",
        "        # Show the final policy\n",
        "        for but in tqdm(range(mdp.nb_states-1)):\n",
        "            mdp.mdp.plotter.terminal_states = [but]   # modifie le plotter\n",
        "            mdp.draw_v_pi(Q[:,but,:], get_policy_from_q(Q, but), title=\"Q-learning e-greedy\"+str(but))\n",
        "\n",
        "    return Q"
      ],
      "metadata": {
        "id": "A8r7A0YQJk9-"
      },
      "execution_count": 59,
      "outputs": []
    },
    {
      "cell_type": "code",
      "source": [
        "Q = q_learning_eps(env, EPSILON, NB_EPISODES, TIMEOUT, render=False)"
      ],
      "metadata": {
        "colab": {
          "base_uri": "https://localhost:8080/",
          "height": 49,
          "referenced_widgets": [
            "d166a189244942c9937fe8dffae983d0",
            "a8338bdabb854d4b8035e4d501687602",
            "8e3206afd33e46b5989e1859e5f60ad0",
            "447b79b3b6114182bfb721d465722f4a",
            "47844c5fd1db4db6bbc6c5e275c0128d",
            "c36e2aacac6b4f85aa13aaeaf980252b",
            "73c6a806efd74866b68f50b9af39d10a",
            "22e95c7086d1483883e6473f640ee7b1",
            "34521cab3e2c4668a21c78314790ecd2",
            "f8837c518fe74ef8beaeae3a8dfa5b0b",
            "e01242426d574cc28d1f0b9749eceb71"
          ]
        },
        "id": "Tf9ralJePXvE",
        "outputId": "8d73d1a3-e5b7-4a9a-a8fd-73e9e94b54e6"
      },
      "execution_count": 62,
      "outputs": [
        {
          "output_type": "display_data",
          "data": {
            "text/plain": [
              "  0%|          | 0/100 [00:00<?, ?it/s]"
            ],
            "application/vnd.jupyter.widget-view+json": {
              "version_major": 2,
              "version_minor": 0,
              "model_id": "d166a189244942c9937fe8dffae983d0"
            }
          },
          "metadata": {}
        }
      ]
    },
    {
      "cell_type": "code",
      "source": [
        "# visualisation (PROBLEME AVEC AFFICHAGE DE POLICY DU BUT)\n",
        "for but in tqdm(range(env.nb_states-1)):\n",
        "    print(\"état but : \", but)\n",
        "    env.mdp.plotter.terminal_states = [but]\n",
        "    env.draw_v_pi(Q[:,but,:], get_policy_from_q(Q, but), title=\"Q-learning e-greedy\"+str(but))"
      ],
      "metadata": {
        "colab": {
          "base_uri": "https://localhost:8080/",
          "height": 1000,
          "referenced_widgets": [
            "49a0bb6af17748aca4893a47c3a03b8b",
            "a418ebdabb4143c3afa013c6a70d4b72",
            "a8c7c09f1d1d449486547155dd2b5696",
            "d7184fe402c645bea1ca221aac6dace3",
            "3dcf62328f2b4e489185df155b2a466c",
            "ad6f847083704ed9b6443f58b4590027",
            "2aa2c313d2e04f34a64d8da8b6da8d53",
            "751f2f0d41ac4fd787b0bfc5df4b3d41",
            "8c69f956ced149e096025586077a9045",
            "82f18a922b234ac1b5fca4b3479b76fe",
            "c41deea785b84ae88890a95cb1983499"
          ]
        },
        "id": "nbz4PvWufCA0",
        "outputId": "15f6a704-a6c3-45b7-c27e-ea81ff2897a7"
      },
      "execution_count": 63,
      "outputs": [
        {
          "output_type": "display_data",
          "data": {
            "text/plain": [
              "  0%|          | 0/9 [00:00<?, ?it/s]"
            ],
            "application/vnd.jupyter.widget-view+json": {
              "version_major": 2,
              "version_minor": 0,
              "model_id": "49a0bb6af17748aca4893a47c3a03b8b"
            }
          },
          "metadata": {}
        },
        {
          "output_type": "stream",
          "name": "stdout",
          "text": [
            "état but :  0\n"
          ]
        },
        {
          "output_type": "display_data",
          "data": {
            "text/plain": [
              "<Figure size 432x288 with 1 Axes>"
            ],
            "image/png": "[encoded data removed]"
          },
          "metadata": {
            "needs_background": "light"
          }
        },
        {
          "output_type": "stream",
          "name": "stdout",
          "text": [
            "état but :  1\n"
          ]
        },
        {
          "output_type": "display_data",
          "data": {
            "text/plain": [
              "<Figure size 432x288 with 1 Axes>"
            ],
            "image/png": "[encoded data removed]"
          },
          "metadata": {
            "needs_background": "light"
          }
        },
        {
          "output_type": "stream",
          "name": "stdout",
          "text": [
            "état but :  2\n"
          ]
        },
        {
          "output_type": "display_data",
          "data": {
            "text/plain": [
              "<Figure size 432x288 with 1 Axes>"
            ],
            "image/png": "[encoded data removed]"
          },
          "metadata": {
            "needs_background": "light"
          }
        },
        {
          "output_type": "stream",
          "name": "stdout",
          "text": [
            "état but :  3\n"
          ]
        },
        {
          "output_type": "display_data",
          "data": {
            "text/plain": [
              "<Figure size 432x288 with 1 Axes>"
            ],
            "image/png": "[encoded data removed]"
          },
          "metadata": {
            "needs_background": "light"
          }
        },
        {
          "output_type": "stream",
          "name": "stdout",
          "text": [
            "état but :  4\n"
          ]
        },
        {
          "output_type": "display_data",
          "data": {
            "text/plain": [
              "<Figure size 432x288 with 1 Axes>"
            ],
            "image/png": "[encoded data removed]"
          },
          "metadata": {
            "needs_background": "light"
          }
        },
        {
          "output_type": "stream",
          "name": "stdout",
          "text": [
            "état but :  5\n"
          ]
        },
        {
          "output_type": "display_data",
          "data": {
            "text/plain": [
              "<Figure size 432x288 with 1 Axes>"
            ],
            "image/png": "[encoded data removed]"
          },
          "metadata": {
            "needs_background": "light"
          }
        },
        {
          "output_type": "stream",
          "name": "stdout",
          "text": [
            "état but :  6\n"
          ]
        },
        {
          "output_type": "display_data",
          "data": {
            "text/plain": [
              "<Figure size 432x288 with 1 Axes>"
            ],
            "image/png": "[encoded data removed]"
          },
          "metadata": {
            "needs_background": "light"
          }
        },
        {
          "output_type": "stream",
          "name": "stdout",
          "text": [
            "état but :  7\n"
          ]
        },
        {
          "output_type": "display_data",
          "data": {
            "text/plain": [
              "<Figure size 432x288 with 1 Axes>"
            ],
            "image/png": "[encoded data removed]"
          },
          "metadata": {
            "needs_background": "light"
          }
        },
        {
          "output_type": "stream",
          "name": "stdout",
          "text": [
            "état but :  8\n"
          ]
        },
        {
          "output_type": "display_data",
          "data": {
            "text/plain": [
              "<Figure size 432x288 with 1 Axes>"
            ],
            "image/png": "[encoded data removed]"
          },
          "metadata": {
            "needs_background": "light"
          }
        }
      ]
    }
  ]
}